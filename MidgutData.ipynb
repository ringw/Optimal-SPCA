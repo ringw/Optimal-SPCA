{
 "cells": [
  {
   "cell_type": "code",
   "execution_count": 1,
   "metadata": {},
   "outputs": [
    {
     "data": {
      "text/plain": [
       "adjVarExplained (generic function with 1 method)"
      ]
     },
     "metadata": {},
     "output_type": "display_data"
    }
   ],
   "source": [
    "include(\"Algorithm/utilities.jl\")\n",
    "include(\"Algorithm/branchAndBound.jl\")\n",
    "include(\"Algorithm/multiComponents.jl\")"
   ]
  },
  {
   "cell_type": "code",
   "execution_count": 2,
   "metadata": {},
   "outputs": [
    {
     "data": {
      "text/plain": [
       "multiOptimalSPCA (generic function with 1 method)"
      ]
     },
     "metadata": {},
     "output_type": "display_data"
    }
   ],
   "source": [
    "function multiOptimalSPCA(prob, k, ncomp)\n",
    "\tmyprob = problem(copy(prob.data),copy(prob.Sigma))\n",
    "\tst = time()\n",
    "\tall_x = zeros(ncomp, size(myprob.Sigma,1))\n",
    "\n",
    "\tfor rnd = 1:ncomp\n",
    "\t\t~, xVal, ~, ~, ~, ~, ~ = branchAndBound(myprob, k, outputFlag=0, timeCap = 30) ;\n",
    "\t\tall_x[rnd,:] = xVal\n",
    "\n",
    "\t\tmyprob.Sigma = projectMatrix(myprob.Sigma, xVal)\n",
    "\tend\n",
    "\n",
    "\treturn all_x, time()-st\n",
    "end"
   ]
  },
  {
   "cell_type": "code",
   "execution_count": 3,
   "metadata": {},
   "outputs": [],
   "source": [
    "using CSV, Tables"
   ]
  },
  {
   "cell_type": "code",
   "execution_count": 4,
   "metadata": {},
   "outputs": [
    {
     "data": {
      "text/plain": [
       "572×572 Array{Float64,2}:\n",
       "  40.9534    31.2565    34.6469    …  -2.03527   -0.713705    0.512494\n",
       "  31.2565    32.4242    27.571        -1.56825   -0.549184    0.378342\n",
       "  34.6469    27.571     31.5218       -1.84138   -0.436755    0.464107\n",
       "  25.0434    26.7318    21.823        -1.34242   -0.547675    0.404733\n",
       "  29.4154    22.5718    24.8996       -1.47321   -0.534021    0.677562\n",
       "  -3.69799   -2.92796   -3.39221   …  -0.644177  -0.154674   -0.350434\n",
       "  -3.50239   -3.87881   -1.98859      -0.953661   3.01733     0.515291\n",
       "  28.8281    21.7605    25.0788       -1.58255   -0.236495    0.514843\n",
       "  18.0784    19.2948    16.7394       -1.27494    0.0576934   0.0233051\n",
       " -10.9423    -8.40576   -9.79229       2.22265   -1.16009    -0.75856\n",
       "   ⋮                               ⋱              ⋮          \n",
       "  -0.544455  -1.03348   -0.506621     -0.170261  -0.10296     0.0498131\n",
       "  -0.185831  -0.311415  -0.206015     -0.294287   0.0111389   0.0384985\n",
       "   2.64305    0.450456   2.42567   …  -0.322882   0.0212045   0.328356\n",
       "   1.11872    1.11807    0.977391     -0.302124   0.149353    0.948206\n",
       "  -1.77552   -1.37358   -1.65033       0.371005  -0.217003   -0.117568\n",
       "  -0.518291  -0.315707  -0.369126     -0.376196   0.408042    0.0939943\n",
       "  -2.03527   -1.56825   -1.84138       2.21557   -0.232299   -0.163372\n",
       "  -0.713705  -0.549184  -0.436755  …  -0.232299   2.23242     0.243309\n",
       "   0.512494   0.378342   0.464107     -0.163372   0.243309    2.22752"
      ]
     },
     "metadata": {},
     "output_type": "display_data"
    }
   ],
   "source": [
    "Sigma = CSV.File(\"Data/Midgut-Cov.csv\") |> Tables.matrix\n",
    "genes = Sigma[:, 1]\n",
    "Sigma = Matrix{Float64}(Sigma[:, 2:end])"
   ]
  },
  {
   "cell_type": "code",
   "execution_count": 5,
   "metadata": {},
   "outputs": [
    {
     "name": "stdout",
     "output_type": "stream",
     "text": [
      " Nodes,   Left,  Objective,  Incumbent,       Gap(%),   Runtime(s)\n"
     ]
    },
    {
     "name": "stdout",
     "output_type": "stream",
     "text": [
      " Nodes,   Left,  Objective,  Incumbent,       Gap(%),   Runtime(s)\n"
     ]
    },
    {
     "name": "stdout",
     "output_type": "stream",
     "text": [
      " Nodes,   Left,  Objective,  Incumbent,       Gap(%),   Runtime(s)\n"
     ]
    },
    {
     "name": "stdout",
     "output_type": "stream",
     "text": [
      " Nodes,   Left,  Objective,  Incumbent,       Gap(%),   Runtime(s)\n"
     ]
    },
    {
     "name": "stdout",
     "output_type": "stream",
     "text": [
      " Nodes,   Left,  Objective,  Incumbent,       Gap(%),   Runtime(s)\n"
     ]
    },
    {
     "name": "stdout",
     "output_type": "stream",
     "text": [
      " Nodes,   Left,  Objective,  Incumbent,       Gap(%),   Runtime(s)\n"
     ]
    },
    {
     "name": "stdout",
     "output_type": "stream",
     "text": [
      " Nodes,   Left,  Objective,  Incumbent,       Gap(%),   Runtime(s)\n"
     ]
    },
    {
     "name": "stdout",
     "output_type": "stream",
     "text": [
      " Nodes,   Left,  Objective,  Incumbent,       Gap(%),   Runtime(s)\n"
     ]
    },
    {
     "name": "stdout",
     "output_type": "stream",
     "text": [
      " Nodes,   Left,  Objective,  Incumbent,       Gap(%),   Runtime(s)\n"
     ]
    },
    {
     "name": "stdout",
     "output_type": "stream",
     "text": [
      " Nodes,   Left,  Objective,  Incumbent,       Gap(%),   Runtime(s)\n"
     ]
    },
    {
     "name": "stdout",
     "output_type": "stream",
     "text": [
      " Nodes,   Left,  Objective,  Incumbent,       Gap(%),   Runtime(s)\n"
     ]
    },
    {
     "name": "stdout",
     "output_type": "stream",
     "text": [
      " Nodes,   Left,  Objective,  Incumbent,       Gap(%),   Runtime(s)\n"
     ]
    },
    {
     "name": "stdout",
     "output_type": "stream",
     "text": [
      " Nodes,   Left,  Objective,  Incumbent,       Gap(%),   Runtime(s)\n"
     ]
    },
    {
     "name": "stdout",
     "output_type": "stream",
     "text": [
      " Nodes,   Left,  Objective,  Incumbent,       Gap(%),   Runtime(s)\n"
     ]
    },
    {
     "name": "stdout",
     "output_type": "stream",
     "text": [
      " Nodes,   Left,  Objective,  Incumbent,       Gap(%),   Runtime(s)\n"
     ]
    },
    {
     "name": "stdout",
     "output_type": "stream",
     "text": [
      " Nodes,   Left,  Objective,  Incumbent,       Gap(%),   Runtime(s)\n"
     ]
    },
    {
     "name": "stdout",
     "output_type": "stream",
     "text": [
      " Nodes,   Left,  Objective,  Incumbent,       Gap(%),   Runtime(s)\n"
     ]
    },
    {
     "name": "stdout",
     "output_type": "stream",
     "text": [
      " Nodes,   Left,  Objective,  Incumbent,       Gap(%),   Runtime(s)\n"
     ]
    },
    {
     "name": "stdout",
     "output_type": "stream",
     "text": [
      " Nodes,   Left,  Objective,  Incumbent,       Gap(%),   Runtime(s)\n"
     ]
    },
    {
     "name": "stdout",
     "output_type": "stream",
     "text": [
      " Nodes,   Left,  Objective,  Incumbent,       Gap(%),   Runtime(s)\n"
     ]
    },
    {
     "data": {
      "text/plain": [
       "([-0.4200738924718402 -0.35485635801533183 … 0.0 0.0; 0.0 0.0 … 0.0 0.0; … ; 0.0 0.0 … 0.0 0.0; 0.0 0.0 … 0.0 0.0], 560.1727540493011)"
      ]
     },
     "metadata": {},
     "output_type": "display_data"
    }
   ],
   "source": [
    "x, elapsed = multiOptimalSPCA(problem(sqrt(Sigma), Sigma), 10, 20)"
   ]
  },
  {
   "cell_type": "code",
   "execution_count": 9,
   "metadata": {},
   "outputs": [
    {
     "data": {
      "text/plain": [
       "1-element Array{Int64,1}:\n",
       " 96"
      ]
     },
     "metadata": {},
     "output_type": "display_data"
    }
   ],
   "source": [
    "findall(genes .== \"Dl\")"
   ]
  },
  {
   "cell_type": "code",
   "execution_count": 11,
   "metadata": {},
   "outputs": [
    {
     "data": {
      "text/plain": [
       "20-element Array{Float64,1}:\n",
       " 0.0\n",
       " 0.0\n",
       " 0.0\n",
       " 0.0\n",
       " 0.0\n",
       " 0.0\n",
       " 0.0\n",
       " 0.0\n",
       " 0.0\n",
       " 0.0\n",
       " 0.0\n",
       " 0.0\n",
       " 0.0\n",
       " 0.0\n",
       " 0.0\n",
       " 0.0\n",
       " 0.330273565874336\n",
       " 0.0\n",
       " 0.0\n",
       " 0.0"
      ]
     },
     "metadata": {},
     "output_type": "display_data"
    }
   ],
   "source": [
    "x[:, 96]"
   ]
  },
  {
   "cell_type": "code",
   "execution_count": 17,
   "metadata": {},
   "outputs": [
    {
     "data": {
      "text/plain": [
       "10-element Array{Any,1}:\n",
       " \"lncRNA:CR34335\"\n",
       " \"Ubx\"\n",
       " \"hdly\"\n",
       " \"Dl\"\n",
       " \"CG9021\"\n",
       " \"lncRNA:alphagamma-element:CR32865\"\n",
       " \"CG45060\"\n",
       " \"hdc\"\n",
       " \"Tet\"\n",
       " \"robo2\""
      ]
     },
     "metadata": {},
     "output_type": "display_data"
    }
   ],
   "source": [
    "genes[findall(x[17, :] .!= 0)]"
   ]
  },
  {
   "cell_type": "code",
   "execution_count": 22,
   "metadata": {},
   "outputs": [
    {
     "data": {
      "text/plain": [
       "\"Midgut-K10-N20.csv\""
      ]
     },
     "metadata": {},
     "output_type": "display_data"
    }
   ],
   "source": [
    "Tables.table(x, header=genes) |> CSV.write(\"Midgut-K10-N20.csv\")"
   ]
  },
  {
   "cell_type": "code",
   "execution_count": null,
   "metadata": {},
   "outputs": [],
   "source": []
  }
 ],
 "metadata": {
  "kernelspec": {
   "display_name": "Julia 1.4.1",
   "language": "julia",
   "name": "julia-1.4"
  },
  "language_info": {
   "file_extension": ".jl",
   "mimetype": "application/julia",
   "name": "julia",
   "version": "1.4.1"
  },
  "orig_nbformat": 4
 },
 "nbformat": 4,
 "nbformat_minor": 2
}
