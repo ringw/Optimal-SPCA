{
 "cells": [
  {
   "cell_type": "code",
   "execution_count": 1,
   "id": "245d24ec-fd0e-4ccc-9f9b-22463aa7f942",
   "metadata": {},
   "outputs": [
    {
     "data": {
      "text/plain": [
       "branchAndBound (generic function with 1 method)"
      ]
     },
     "execution_count": 1,
     "metadata": {},
     "output_type": "execute_result"
    }
   ],
   "source": [
    "import DataFrames: subset\n",
    "include(\"Algorithm/utilities.jl\")\n",
    "include(\"Algorithm/branchAndBound.jl\")"
   ]
  },
  {
   "cell_type": "code",
   "execution_count": 2,
   "id": "835037ed-e2cf-4b89-91df-666d220d6339",
   "metadata": {},
   "outputs": [],
   "source": [
    "using JLD"
   ]
  },
  {
   "cell_type": "code",
   "execution_count": 3,
   "id": "8b47fc1d-5fb8-40bd-bee4-648e5e1e374f",
   "metadata": {},
   "outputs": [
    {
     "data": {
      "text/plain": [
       "Dict{String,Any} with 2 entries:\n",
       "  \"normCommunities\" => [1.0 -0.0461484 … 0.466352 0.367157; -0.0461484 1.0 … -0…\n",
       "  \"communities\"     => [0.0161051 -0.000958807 … 0.0142233 0.0108558; -0.000958…"
      ]
     },
     "execution_count": 3,
     "metadata": {},
     "output_type": "execute_result"
    }
   ],
   "source": [
    "co = load(\"Data/communities.jld\")"
   ]
  },
  {
   "cell_type": "code",
   "execution_count": 4,
   "id": "f8993660-d342-4ef7-b104-a7280d89dcd1",
   "metadata": {},
   "outputs": [
    {
     "data": {
      "text/plain": [
       "problem([0.4790992488364379 -0.017550988861969825 … 0.12715754213980085 0.06451162013328997; -0.017550988861969825 0.5575866342001611 … -0.03136297161679047 -0.00551720369323595; … ; 0.12715754213980085 -0.03136297161679047 … 0.9032994126421733 0.08129473223807368; 0.06451162013328997 -0.00551720369323595 … 0.08129473223807368 0.7271195468258385], [1.0 -0.04614840723762598 … 0.4663522938683093 0.3671573782735259; -0.04614840723762598 1.0 … -0.09436752238327721 -0.03492259533593246; … ; 0.4663522938683093 -0.09436752238327721 … 1.0 0.34862725802493033; 0.3671573782735259 -0.03492259533593246 … 0.34862725802493033 1.0])"
      ]
     },
     "execution_count": 4,
     "metadata": {},
     "output_type": "execute_result"
    }
   ],
   "source": [
    "prob = problem(sqrt(co[\"normCommunities\"]), co[\"normCommunities\"])"
   ]
  },
  {
   "cell_type": "code",
   "execution_count": 5,
   "id": "1a8858f1-ad62-42d8-8b34-d52bfb4872ae",
   "metadata": {},
   "outputs": [
    {
     "data": {
      "text/plain": [
       "(4.860548140097794, [0.0, 0.0, 0.0, 0.0, 0.0, 0.0, 0.0, 0.0, 0.0, 0.0  …  0.43608007963845924, 0.0, 0.0, 0.0, 0.0, 0.0, 0.0, 0.0, 0.0, 0.0], 4.3023841381073, 4.706171989440918, false, 62, [\"     1,      0,  25.579529,   4.860548,     80.998 %,      2.138 s \\n\", \"     0,     62,   0.000000,   4.860548, -4860548140097.794 %,      4.434 s \\n\"], 0.0)"
      ]
     },
     "execution_count": 5,
     "metadata": {},
     "output_type": "execute_result"
    }
   ],
   "source": [
    "branchAndBound(prob, 5, outputFlag = 1)"
   ]
  },
  {
   "cell_type": "code",
   "execution_count": 6,
   "id": "8fd0c6a8-c8b0-44b4-8c80-c86672bcbc85",
   "metadata": {},
   "outputs": [
    {
     "data": {
      "text/plain": [
       "benchBb (generic function with 1 method)"
      ]
     },
     "execution_count": 6,
     "metadata": {},
     "output_type": "execute_result"
    }
   ],
   "source": [
    "function benchBb()\n",
    "    n = 100\n",
    "    time_best = zeros(n)\n",
    "    time_certify = zeros(n)\n",
    "    for i = 1:n\n",
    "        obj, _, b, c, = branchAndBound(prob, 5, outputFlag = 1)\n",
    "        time_best[i] = b\n",
    "        time_certify[i] = c\n",
    "    end\n",
    "    return time_best, time_certify\n",
    "end"
   ]
  },
  {
   "cell_type": "code",
   "execution_count": 8,
   "id": "dd44088e-a2d5-49a2-bc14-f34b42d1606c",
   "metadata": {},
   "outputs": [
    {
     "name": "stdout",
     "output_type": "stream",
     "text": [
      "Condition: no eig at terminal node\n"
     ]
    },
    {
     "data": {
      "text/plain": [
       "(0.0748603343963623, 0.1718779683113098)"
      ]
     },
     "execution_count": 8,
     "metadata": {},
     "output_type": "execute_result"
    }
   ],
   "source": [
    "print(\"Condition: no eig at terminal node\\n\")\n",
    "map(mean, benchBb())"
   ]
  },
  {
   "cell_type": "code",
   "execution_count": 8,
   "id": "ad0ee0fa-0e9c-4960-aae5-099fa3b45f2f",
   "metadata": {},
   "outputs": [
    {
     "name": "stdout",
     "output_type": "stream",
     "text": [
      "Condition: use eig lower bound\n"
     ]
    },
    {
     "data": {
      "text/plain": [
       "(0.0690607213973999, 0.1599911308288574)"
      ]
     },
     "execution_count": 8,
     "metadata": {},
     "output_type": "execute_result"
    }
   ],
   "source": [
    "print(\"Condition: use eig lower bound\\n\")\n",
    "map(mean, benchBb())"
   ]
  },
  {
   "cell_type": "code",
   "execution_count": 7,
   "id": "56648cc4-bbf7-4af5-86fe-28abedf1ed2c",
   "metadata": {},
   "outputs": [
    {
     "name": "stdout",
     "output_type": "stream",
     "text": [
      "Condition: use eig lower bound (Hermitian impl)\n"
     ]
    },
    {
     "data": {
      "text/plain": [
       "(0.06892784595489503, 0.1571172547340393)"
      ]
     },
     "execution_count": 7,
     "metadata": {},
     "output_type": "execute_result"
    }
   ],
   "source": [
    "print(\"Condition: use eig lower bound (Hermitian impl)\\n\")\n",
    "map(mean, benchBb())"
   ]
  },
  {
   "cell_type": "code",
   "execution_count": null,
   "id": "f30dcac2-296a-478c-a5ad-db4bb95cd40d",
   "metadata": {},
   "outputs": [],
   "source": []
  }
 ],
 "metadata": {
  "kernelspec": {
   "display_name": "Julia 1.4.1",
   "language": "julia",
   "name": "julia-1.4"
  },
  "language_info": {
   "file_extension": ".jl",
   "mimetype": "application/julia",
   "name": "julia",
   "version": "1.4.1"
  }
 },
 "nbformat": 4,
 "nbformat_minor": 5
}
