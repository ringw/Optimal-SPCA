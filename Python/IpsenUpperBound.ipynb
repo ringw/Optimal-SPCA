{
 "cells": [
  {
   "cell_type": "code",
   "execution_count": 1,
   "metadata": {},
   "outputs": [],
   "source": [
    "import numpy as np\n",
    "np.set_printoptions(linewidth = 200, precision = 4, suppress = True)"
   ]
  },
  {
   "cell_type": "code",
   "execution_count": 2,
   "metadata": {},
   "outputs": [
    {
     "data": {
      "text/plain": [
       "array([[ 1.    , -0.0461,  0.2312, ...,  0.2704,  0.4664,  0.3672],\n",
       "       [-0.0461,  1.    , -0.0671, ..., -0.0515, -0.0944, -0.0349],\n",
       "       [ 0.2312, -0.0671,  1.    , ...,  0.147 ,  0.2608,  0.6313],\n",
       "       ...,\n",
       "       [ 0.2704, -0.0515,  0.147 , ...,  1.    ,  0.2066,  0.1538],\n",
       "       [ 0.4664, -0.0944,  0.2608, ...,  0.2066,  1.    ,  0.3486],\n",
       "       [ 0.3672, -0.0349,  0.6313, ...,  0.1538,  0.3486,  1.    ]])"
      ]
     },
     "execution_count": 2,
     "metadata": {},
     "output_type": "execute_result"
    }
   ],
   "source": [
    "data = np.loadtxt('../NC-Data.csv', delimiter=',', dtype=str)\n",
    "data = data[1:].astype(float)\n",
    "k = 7\n",
    "data"
   ]
  },
  {
   "cell_type": "code",
   "execution_count": 3,
   "metadata": {},
   "outputs": [],
   "source": [
    "nodes = np.loadtxt('../NC-K7-Trace-Nodes.csv', delimiter=',', dtype=str)\n",
    "nodes = nodes[1:].astype(float)\n",
    "bounds = np.loadtxt('../NC-K7-Trace-Bounds.csv', delimiter=',', dtype=str)\n",
    "bounds = bounds[1:].astype(float)"
   ]
  },
  {
   "cell_type": "code",
   "execution_count": 4,
   "metadata": {},
   "outputs": [
    {
     "data": {
      "text/plain": [
       "array([4.1355, 5.8707, 7.    ])"
      ]
     },
     "execution_count": 4,
     "metadata": {},
     "output_type": "execute_result"
    }
   ],
   "source": [
    "# One lower bound impl, and two upper bound impls\n",
    "i = 3\n",
    "selection = np.where((nodes == 1).sum(axis=0) == i)[0][0]\n",
    "bounds[:, selection]"
   ]
  },
  {
   "cell_type": "code",
   "execution_count": 5,
   "metadata": {},
   "outputs": [
    {
     "data": {
      "text/plain": [
       "True"
      ]
     },
     "execution_count": 5,
     "metadata": {},
     "output_type": "execute_result"
    }
   ],
   "source": [
    "raw_data = np.linalg.cholesky(data).T\n",
    "np.allclose(raw_data.T @ raw_data, data)"
   ]
  },
  {
   "cell_type": "code",
   "execution_count": 6,
   "metadata": {},
   "outputs": [],
   "source": [
    "U = np.linalg.svd(raw_data[:, nodes[:, selection] == 1])[0][:, 0:1]\n",
    "rank_one_vector = raw_data.T @ U\n",
    "residual_data = raw_data - U @ (U.T @ raw_data)"
   ]
  },
  {
   "cell_type": "code",
   "execution_count": 7,
   "metadata": {},
   "outputs": [
    {
     "data": {
      "text/plain": [
       "(101, 100)"
      ]
     },
     "execution_count": 7,
     "metadata": {},
     "output_type": "execute_result"
    }
   ],
   "source": [
    "np.linalg.matrix_rank(raw_data), np.linalg.matrix_rank(residual_data)"
   ]
  },
  {
   "cell_type": "code",
   "execution_count": 8,
   "metadata": {},
   "outputs": [
    {
     "data": {
      "text/plain": [
       "((1502501, 7, 7), (1502501, 4))"
      ]
     },
     "execution_count": 8,
     "metadata": {},
     "output_type": "execute_result"
    }
   ],
   "source": [
    "# Brute-Force Upper Bound. Exponential time complexity.\n",
    "import itertools\n",
    "import scipy.special\n",
    "selected_data = np.where(nodes[:, selection] == 1)[0]\n",
    "unselected_data = np.where(nodes[:, selection] == -1)[0]\n",
    "brute_force_data = np.zeros(\n",
    "    [\n",
    "        int(scipy.special.binom(len(unselected_data), k - i)),\n",
    "        k, k,\n",
    "    ],\n",
    "    np.float32)\n",
    "brute_force_data[:, 0:i, 0:i] = data[selected_data, :][:, selected_data]\n",
    "brute_force_inds = np.asarray(\n",
    "    list(itertools.combinations(unselected_data, k - i)),\n",
    "    np.int32)\n",
    "brute_force_data[:, i:, 0:i] = data[brute_force_inds][:, :, selected_data]\n",
    "brute_force_data[:, 0:i, i:] = np.transpose(\n",
    "    brute_force_data[:, i:, 0:i],\n",
    "    axes=[0, 2, 1])\n",
    "for index in range(k - i, k):\n",
    "    brute_force_data[:, index, i:] = (\n",
    "        data[brute_force_inds[:, index - i:index - i + 1],\n",
    "             brute_force_inds]\n",
    "    )\n",
    "brute_force_data.shape, brute_force_inds.shape"
   ]
  },
  {
   "cell_type": "code",
   "execution_count": 9,
   "metadata": {},
   "outputs": [
    {
     "data": {
      "text/plain": [
       "False"
      ]
     },
     "execution_count": 9,
     "metadata": {},
     "output_type": "execute_result"
    }
   ],
   "source": [
    "np.allclose(\n",
    "    brute_force_data[42][i:, i:],\n",
    "    data[:, brute_force_inds[42, :]][brute_force_inds[42, :], :])"
   ]
  },
  {
   "cell_type": "code",
   "execution_count": 10,
   "metadata": {},
   "outputs": [
    {
     "data": {
      "text/plain": [
       "array([[ 1.    ,  0.1267,  0.1259, -0.3008, -0.2359, -0.7944, -0.4545],\n",
       "       [ 0.1267,  1.    ,  0.9886, -0.0098,  0.168 , -0.3048,  0.1556],\n",
       "       [ 0.1259,  0.9886,  1.    , -0.0247,  0.1813, -0.2793,  0.123 ],\n",
       "       [-0.3008, -0.0098, -0.0247,  0.    ,  0.    ,  0.    ,  0.    ],\n",
       "       [-0.2359,  0.168 ,  0.1813, -0.0461,  1.    , -0.0671,  0.4161],\n",
       "       [-0.7944, -0.3048, -0.2793,  0.2312, -0.0671,  1.    , -0.0467],\n",
       "       [-0.4545,  0.1556,  0.123 ,  0.1816,  0.4161, -0.0467,  1.    ]], dtype=float32)"
      ]
     },
     "execution_count": 10,
     "metadata": {},
     "output_type": "execute_result"
    }
   ],
   "source": [
    "brute_force_data[42]"
   ]
  },
  {
   "cell_type": "code",
   "execution_count": 11,
   "metadata": {},
   "outputs": [
    {
     "data": {
      "text/plain": [
       "array([ 0,  1,  2, 61], dtype=int32)"
      ]
     },
     "execution_count": 11,
     "metadata": {},
     "output_type": "execute_result"
    }
   ],
   "source": [
    "brute_force_inds[42, :]"
   ]
  },
  {
   "cell_type": "code",
   "execution_count": 12,
   "metadata": {},
   "outputs": [
    {
     "data": {
      "text/plain": [
       "(array([ 3, 83, 85]), array([79, 80, 81, 84], dtype=int32), 5.5118036)"
      ]
     },
     "execution_count": 12,
     "metadata": {},
     "output_type": "execute_result"
    }
   ],
   "source": [
    "brute_force_eigs = np.linalg.eigvalsh(brute_force_data)\n",
    "opt_inds_loc = np.argmax(brute_force_eigs.max(axis=1))\n",
    "opt_inds = brute_force_inds[opt_inds_loc, :]\n",
    "opt_total_inds = np.r_[selected_data, opt_inds]\n",
    "selected_data, opt_inds, brute_force_eigs[opt_inds_loc, :].max()"
   ]
  },
  {
   "cell_type": "code",
   "execution_count": 13,
   "metadata": {},
   "outputs": [
    {
     "data": {
      "text/plain": [
       "5.804850445790672"
      ]
     },
     "execution_count": 13,
     "metadata": {},
     "output_type": "execute_result"
    }
   ],
   "source": [
    "# Gersh upper bound on the opt_inds eigvals.\n",
    "np.abs(data[:, opt_total_inds][opt_total_inds, :]).sum(axis=1).max()"
   ]
  },
  {
   "cell_type": "code",
   "execution_count": 14,
   "metadata": {},
   "outputs": [
    {
     "data": {
      "text/plain": [
       "5.267480676016403"
      ]
     },
     "execution_count": 14,
     "metadata": {},
     "output_type": "execute_result"
    }
   ],
   "source": [
    "# Rank-one greedy lower bound. This out-performed the\n",
    "# Yuan stochastic approach!\n",
    "(rank_one_vector[opt_total_inds] ** 2).sum()"
   ]
  },
  {
   "cell_type": "code",
   "execution_count": 15,
   "metadata": {},
   "outputs": [
    {
     "data": {
      "text/plain": [
       "5.807602843343167"
      ]
     },
     "execution_count": 15,
     "metadata": {},
     "output_type": "execute_result"
    }
   ],
   "source": [
    "# Ipsen upper bound on the opt_inds eigvals.\n",
    "((rank_one_vector[opt_total_inds] ** 2).sum()\n",
    "    + np.linalg.norm(\n",
    "        (residual_data[:, opt_total_inds].T @ residual_data[:, opt_total_inds]\n",
    "        @ rank_one_vector[opt_total_inds]))\n",
    "        / np.linalg.norm(rank_one_vector[opt_total_inds]))"
   ]
  },
  {
   "cell_type": "code",
   "execution_count": 16,
   "metadata": {},
   "outputs": [
    {
     "data": {
      "text/plain": [
       "(1502501, 7)"
      ]
     },
     "execution_count": 16,
     "metadata": {},
     "output_type": "execute_result"
    }
   ],
   "source": [
    "np.c_[np.tile(selected_data[None, :], [len(brute_force_inds), 1]), brute_force_inds].shape"
   ]
  },
  {
   "cell_type": "code",
   "execution_count": 17,
   "metadata": {},
   "outputs": [
    {
     "data": {
      "text/plain": [
       "5.807602843343167"
      ]
     },
     "execution_count": 17,
     "metadata": {},
     "output_type": "execute_result"
    }
   ],
   "source": [
    "# Ipsen upper bound (brute force).\n",
    "brute_force_ipsen = (\n",
    "    (rank_one_vector[selected_data] ** 2).sum()\n",
    "    + (rank_one_vector[brute_force_inds] ** 2).sum(axis=1))\n",
    "brute_force_total_inds = np.c_[\n",
    "    np.tile(selected_data[None, :], [len(brute_force_inds), 1]),\n",
    "    brute_force_inds]\n",
    "brute_force_ipsen_res = np.matmul(\n",
    "    np.transpose(residual_data[:, brute_force_total_inds], [1, 0, 2]),\n",
    "    rank_one_vector[brute_force_total_inds, :])\n",
    "brute_force_ipsen_res = np.matmul(\n",
    "    np.transpose(residual_data[:, brute_force_total_inds], [1, 2, 0]),\n",
    "    brute_force_ipsen_res)\n",
    "brute_force_ipsen += (\n",
    "    np.linalg.norm(brute_force_ipsen_res, axis=1)\n",
    "    / np.linalg.norm(rank_one_vector[brute_force_total_inds, :], axis=1))\n",
    "brute_force_ipsen.max()"
   ]
  },
  {
   "cell_type": "code",
   "execution_count": 18,
   "metadata": {},
   "outputs": [
    {
     "data": {
      "text/plain": [
       "6.458772642211089"
      ]
     },
     "execution_count": 18,
     "metadata": {},
     "output_type": "execute_result"
    }
   ],
   "source": [
    "# Ipsen upper bound (linearize). L1 norm.\n",
    "# TODO: How to actually use quadratic cone to tightly bound a\n",
    "# desirable value. This is a problem for other cones (absolute value)\n",
    "# if larger value is desirable. Often, smaller value for absolute\n",
    "# value cost would be minimized so using the cone does work there.\n",
    "brute_force_ipsen = (\n",
    "    (rank_one_vector[selected_data] ** 2).sum()\n",
    "    + (rank_one_vector[brute_force_inds] ** 2).sum(axis=1))\n",
    "brute_force_total_inds = np.c_[\n",
    "    np.tile(selected_data[None, :], [len(brute_force_inds), 1]),\n",
    "    brute_force_inds]\n",
    "residual_cov = (residual_data.T @ residual_data)\n",
    "x, y = np.meshgrid(range(k), range(k))\n",
    "brute_force_ipsen_res = np.matmul(\n",
    "    residual_cov[\n",
    "        brute_force_total_inds[:, x],\n",
    "        brute_force_total_inds[:, y],\n",
    "    ],\n",
    "    rank_one_vector[brute_force_total_inds, :])\n",
    "brute_force_ipsen_res /= np.linalg.norm(\n",
    "    rank_one_vector[brute_force_total_inds, :],\n",
    "    axis=1,\n",
    "    keepdims=True\n",
    ")\n",
    "brute_force_ipsen += np.linalg.norm(brute_force_ipsen_res, axis=1, ord=1)\n",
    "brute_force_ipsen.max()"
   ]
  },
  {
   "cell_type": "code",
   "execution_count": 19,
   "metadata": {},
   "outputs": [
    {
     "data": {
      "text/plain": [
       "5.958997686632654"
      ]
     },
     "execution_count": 19,
     "metadata": {},
     "output_type": "execute_result"
    }
   ],
   "source": [
    "# Ipsen upper bound (linearize). Absolute value, L2 norm.\n",
    "# TODO: How to actually use quadratic cone to tightly bound a\n",
    "# desirable value. This is a problem for other cones (absolute value)\n",
    "# if larger value is desirable. Often, smaller value for absolute\n",
    "# value cost would be minimized so using the cone does work there.\n",
    "brute_force_ipsen = (\n",
    "    (rank_one_vector[selected_data] ** 2).sum()\n",
    "    + (rank_one_vector[brute_force_inds] ** 2).sum(axis=1))\n",
    "brute_force_total_inds = np.c_[\n",
    "    np.tile(selected_data[None, :], [len(brute_force_inds), 1]),\n",
    "    brute_force_inds]\n",
    "residual_cov_abs = np.abs(residual_data.T @ residual_data)\n",
    "x, y = np.meshgrid(range(k), range(k))\n",
    "brute_force_ipsen_res = np.matmul(\n",
    "    residual_cov_abs[\n",
    "        brute_force_total_inds[:, x],\n",
    "        brute_force_total_inds[:, y],\n",
    "    ],\n",
    "    np.abs(rank_one_vector)[brute_force_total_inds, :])\n",
    "brute_force_ipsen_res /= np.linalg.norm(\n",
    "    np.abs(rank_one_vector)[brute_force_total_inds, :],\n",
    "    axis=1,\n",
    "    keepdims=True\n",
    ")\n",
    "brute_force_ipsen += np.linalg.norm(brute_force_ipsen_res, axis=1)\n",
    "brute_force_ipsen.max()"
   ]
  },
  {
   "attachments": {},
   "cell_type": "markdown",
   "metadata": {},
   "source": [
    "## Ipsen Upper Bound (PSD)\n",
    "\n",
    "It is not actually feasible to square the problem matrix in semidefinite programming (as part of calculating L2 norm). Instead, we may apply the actual matrix once, and must precompute a multiplier which bounds the action of the matrix (in lieu of multiplying by the matrix a second time)."
   ]
  },
  {
   "cell_type": "code",
   "execution_count": 20,
   "metadata": {},
   "outputs": [],
   "source": [
    "opt_total_inds = np.asarray(\n",
    "    [ 3, 83, 85, 79, 80, 81, 84]\n",
    ")"
   ]
  },
  {
   "cell_type": "code",
   "execution_count": 99,
   "metadata": {},
   "outputs": [
    {
     "data": {
      "text/plain": [
       "5.267480676016403"
      ]
     },
     "execution_count": 99,
     "metadata": {},
     "output_type": "execute_result"
    }
   ],
   "source": [
    "# Explanation of variance from the rank-one projection (next, analyze the residual data).\n",
    "(rank_one_vector[opt_total_inds] ** 2).sum()"
   ]
  },
  {
   "cell_type": "code",
   "execution_count": 21,
   "metadata": {},
   "outputs": [
    {
     "data": {
      "text/plain": [
       "0.5401221673267638"
      ]
     },
     "execution_count": 21,
     "metadata": {},
     "output_type": "execute_result"
    }
   ],
   "source": [
    "# Ipsen upper bound (residual part) (L2 norm, not linearized).\n",
    "(np.linalg.norm(\n",
    "        (residual_data[:, opt_total_inds].T @ residual_data[:, opt_total_inds]\n",
    "        @ rank_one_vector[opt_total_inds]))\n",
    "        / np.linalg.norm(rank_one_vector[opt_total_inds]))"
   ]
  },
  {
   "cell_type": "code",
   "execution_count": 83,
   "metadata": {},
   "outputs": [
    {
     "data": {
      "text/plain": [
       "0.5401221673267638"
      ]
     },
     "execution_count": 83,
     "metadata": {},
     "output_type": "execute_result"
    }
   ],
   "source": [
    "# Ipsen upper bound (residual part) (L2 norm, not linearized, using sparsify mat).\n",
    "where_opt_total_inds = np.asarray([\n",
    "        ind in opt_total_inds for ind in np.arange(len(rank_one_vector))\n",
    "    ],\n",
    "    float)\n",
    "sparsify_mat = where_opt_total_inds[:, None] * where_opt_total_inds[None, :]\n",
    "(np.linalg.norm(\n",
    "        ((residual_data.T @ residual_data) * sparsify_mat)\n",
    "        @ rank_one_vector)\n",
    "        / np.sqrt(np.trace((rank_one_vector @ rank_one_vector.T) * sparsify_mat)))"
   ]
  },
  {
   "cell_type": "code",
   "execution_count": 84,
   "metadata": {},
   "outputs": [
    {
     "data": {
      "text/plain": [
       "5.267480676016403"
      ]
     },
     "execution_count": 84,
     "metadata": {},
     "output_type": "execute_result"
    }
   ],
   "source": [
    "# Multiplication factor for sparsify_mat.\n",
    "eq_multiplier = np.trace((rank_one_vector @ rank_one_vector.T) * sparsify_mat)\n",
    "eq_multiplier"
   ]
  },
  {
   "cell_type": "code",
   "execution_count": 85,
   "metadata": {},
   "outputs": [
    {
     "data": {
      "text/plain": [
       "<matplotlib.colorbar.Colorbar at 0x7f9457abdb80>"
      ]
     },
     "execution_count": 85,
     "metadata": {},
     "output_type": "execute_result"
    },
    {
     "data": {
      "image/png": "[encoded data removed]",
      "text/plain": [
       "<Figure size 72x72 with 2 Axes>"
      ]
     },
     "metadata": {
      "needs_background": "light"
     },
     "output_type": "display_data"
    }
   ],
   "source": [
    "import matplotlib.pyplot as plt\n",
    "where_opt_total_inds = np.asarray([\n",
    "        ind in opt_total_inds for ind in np.arange(len(rank_one_vector))\n",
    "    ],\n",
    "    float)\n",
    "sparsify_mat = where_opt_total_inds[:, None] * where_opt_total_inds[None, :]\n",
    "sparsify_mat *= np.sqrt(np.trace((rank_one_vector @ rank_one_vector.T) * sparsify_mat))\n",
    "plt.figure(figsize=(1,1))\n",
    "plt.imshow(sparsify_mat)\n",
    "plt.colorbar()"
   ]
  },
  {
   "cell_type": "code",
   "execution_count": 86,
   "metadata": {},
   "outputs": [
    {
     "data": {
      "text/plain": [
       "0.5401221673267639"
      ]
     },
     "execution_count": 86,
     "metadata": {},
     "output_type": "execute_result"
    }
   ],
   "source": [
    "# matrix-vector multiplication\n",
    "np.linalg.norm(\n",
    "    (sparsify_mat * (residual_data.T @ residual_data)) @ rank_one_vector) / eq_multiplier"
   ]
  },
  {
   "cell_type": "code",
   "execution_count": 88,
   "metadata": {},
   "outputs": [
    {
     "data": {
      "text/plain": [
       "0.5401221673267637"
      ]
     },
     "execution_count": 88,
     "metadata": {},
     "output_type": "execute_result"
    }
   ],
   "source": [
    "# Squared matrix (still not linearized)\n",
    "np.sqrt(\n",
    "    (((sparsify_mat * (residual_data.T @ residual_data))\n",
    "            @ (sparsify_mat * (residual_data.T @ residual_data)))\n",
    "        * (rank_one_vector @ rank_one_vector.T)).sum()) / eq_multiplier"
   ]
  },
  {
   "cell_type": "code",
   "execution_count": 94,
   "metadata": {},
   "outputs": [
    {
     "data": {
      "text/plain": [
       "0.5981673464203345"
      ]
     },
     "execution_count": 94,
     "metadata": {},
     "output_type": "execute_result"
    }
   ],
   "source": [
    "# Is this a correct upper bound squaring -> applying a single sigma matrix?\n",
    "# The matrix which is squared (Hadamard product) has matrix norms which are\n",
    "# bounded by the residual_data cov matrix norms, and it is also multiplied\n",
    "# by the scalar sqrt(eq_multiplier).\n",
    "np.sqrt(\n",
    "    (sparsify_mat * (rank_one_vector @ rank_one_vector.T)\n",
    "        * (residual_data.T @ residual_data)).sum()\n",
    "        * np.abs(residual_data.T @ residual_data).max() * np.sqrt(eq_multiplier)) / eq_multiplier"
   ]
  },
  {
   "cell_type": "code",
   "execution_count": 105,
   "metadata": {},
   "outputs": [
    {
     "data": {
      "text/plain": [
       "5.865648022436737"
      ]
     },
     "execution_count": 105,
     "metadata": {},
     "output_type": "execute_result"
    }
   ],
   "source": [
    "# Actual objective function. We assert that this can be represented as\n",
    "# a conic program (convex optimization). \n",
    "# With more bounds on residual_data sparse PCA, then this bound would\n",
    "# perform better than simple Gershgorin circle theorem on the original\n",
    "# sparse PCA (here, the objective value is strikingly similar). Downside\n",
    "# not considered here: sparsify_mat may be any PSD matrix with appropriate\n",
    "# trace and box constraints, so some relaxed coefficients for selecting\n",
    "# variables (not an actual Sparse PCA solution) might perform better than\n",
    "# this integer programming objective value. However, the more variance that\n",
    "# the rank_one_vector (right singular vector) explains, then the more\n",
    "# k-sparse that the convex optimization will be (greedy).\n",
    "(rank_one_vector[opt_total_inds] ** 2).sum() + np.sqrt(\n",
    "    (sparsify_mat * (rank_one_vector @ rank_one_vector.T)\n",
    "        * (residual_data.T @ residual_data)).sum()\n",
    "        * np.abs(residual_data.T @ residual_data).max() * np.sqrt(eq_multiplier)) / eq_multiplier"
   ]
  },
  {
   "cell_type": "code",
   "execution_count": null,
   "metadata": {},
   "outputs": [],
   "source": []
  }
 ],
 "metadata": {
  "kernelspec": {
   "display_name": "base",
   "language": "python",
   "name": "python3"
  },
  "language_info": {
   "codemirror_mode": {
    "name": "ipython",
    "version": 3
   },
   "file_extension": ".py",
   "mimetype": "text/x-python",
   "name": "python",
   "nbconvert_exporter": "python",
   "pygments_lexer": "ipython3",
   "version": "3.9.12"
  },
  "orig_nbformat": 4,
  "vscode": {
   "interpreter": {
    "hash": "20051f6c8086d1042bd99e48871d8b32f1b2c40a561f00314a833f0cd45ad111"
   }
  }
 },
 "nbformat": 4,
 "nbformat_minor": 2
}
