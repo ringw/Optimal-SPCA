{
 "cells": [
  {
   "cell_type": "code",
   "execution_count": 25,
   "metadata": {},
   "outputs": [],
   "source": [
    "import numpy as np"
   ]
  },
  {
   "cell_type": "code",
   "execution_count": 26,
   "metadata": {},
   "outputs": [],
   "source": [
    "data = np.random.normal(size=[10, 20])\n",
    "cov = data.T @ data"
   ]
  },
  {
   "cell_type": "code",
   "execution_count": 27,
   "metadata": {},
   "outputs": [
    {
     "data": {
      "text/plain": [
       "(20, 1)"
      ]
     },
     "execution_count": 27,
     "metadata": {},
     "output_type": "execute_result"
    }
   ],
   "source": [
    "u = np.linalg.svd(data[:, 0:3])[0][:, 0:1]\n",
    "v = data.T @ u\n",
    "v.shape"
   ]
  },
  {
   "cell_type": "code",
   "execution_count": 28,
   "metadata": {},
   "outputs": [],
   "source": [
    "# Greedy: Assume that all variables were chosen. If we round (take top k),\n",
    "# then we can probably find a different subset that performs better.\n",
    "greedy_selection = v ** 2 + np.abs(data.T @ (np.eye(10) - u @ u.T) @ data @ v) / np.abs(v)"
   ]
  },
  {
   "cell_type": "code",
   "execution_count": 29,
   "metadata": {},
   "outputs": [
    {
     "data": {
      "text/plain": [
       "array([11, 19,  9])"
      ]
     },
     "execution_count": 29,
     "metadata": {},
     "output_type": "execute_result"
    }
   ],
   "source": [
    "selected = np.argsort(-np.squeeze(greedy_selection))[0:3]\n",
    "selected"
   ]
  },
  {
   "cell_type": "code",
   "execution_count": 30,
   "metadata": {},
   "outputs": [],
   "source": [
    "def ipsen_bound_update(selected):\n",
    "    return (\n",
    "        u.T @ data[:, selected] @ data[:, selected].T @ u\n",
    "        + np.linalg.norm(data[:, selected].T @ (np.eye(10) - u @ u.T) @ data[:, selected] @ v[selected, :])\n",
    "            / np.linalg.norm(v[selected, :]))"
   ]
  },
  {
   "cell_type": "code",
   "execution_count": 31,
   "metadata": {},
   "outputs": [
    {
     "data": {
      "text/plain": [
       "array([[21.1473]])"
      ]
     },
     "execution_count": 31,
     "metadata": {},
     "output_type": "execute_result"
    }
   ],
   "source": [
    "ipsen_bound_update(selected)"
   ]
  },
  {
   "cell_type": "code",
   "execution_count": null,
   "metadata": {},
   "outputs": [],
   "source": []
  },
  {
   "cell_type": "code",
   "execution_count": 32,
   "metadata": {},
   "outputs": [],
   "source": [
    "import numpy as np\n",
    "np.set_printoptions(linewidth = 200, precision = 4, suppress = True)"
   ]
  },
  {
   "cell_type": "code",
   "execution_count": 33,
   "metadata": {},
   "outputs": [
    {
     "data": {
      "text/plain": [
       "array([[ 1.    , -0.0461,  0.2312, ...,  0.2704,  0.4664,  0.3672],\n",
       "       [-0.0461,  1.    , -0.0671, ..., -0.0515, -0.0944, -0.0349],\n",
       "       [ 0.2312, -0.0671,  1.    , ...,  0.147 ,  0.2608,  0.6313],\n",
       "       ...,\n",
       "       [ 0.2704, -0.0515,  0.147 , ...,  1.    ,  0.2066,  0.1538],\n",
       "       [ 0.4664, -0.0944,  0.2608, ...,  0.2066,  1.    ,  0.3486],\n",
       "       [ 0.3672, -0.0349,  0.6313, ...,  0.1538,  0.3486,  1.    ]])"
      ]
     },
     "execution_count": 33,
     "metadata": {},
     "output_type": "execute_result"
    }
   ],
   "source": [
    "data = np.loadtxt('../NC-Data.csv', delimiter=',', dtype=str)\n",
    "data = data[1:].astype(float)\n",
    "k = 7\n",
    "data"
   ]
  },
  {
   "cell_type": "code",
   "execution_count": 34,
   "metadata": {},
   "outputs": [],
   "source": [
    "nodes = np.loadtxt('../NC-K7-Trace-Nodes.csv', delimiter=',', dtype=str)\n",
    "nodes = nodes[1:].astype(float)\n",
    "bounds = np.loadtxt('../NC-K7-Trace-Bounds.csv', delimiter=',', dtype=str)\n",
    "bounds = bounds[1:].astype(float)"
   ]
  },
  {
   "cell_type": "code",
   "execution_count": 35,
   "metadata": {},
   "outputs": [
    {
     "data": {
      "text/plain": [
       "array([4.1355, 5.8707, 7.    ])"
      ]
     },
     "execution_count": 35,
     "metadata": {},
     "output_type": "execute_result"
    }
   ],
   "source": [
    "# One lower bound impl, and two upper bound impls\n",
    "i = 3\n",
    "selection = np.where((nodes == 1).sum(axis=0) == i)[0][0]\n",
    "bounds[:, selection]"
   ]
  },
  {
   "cell_type": "code",
   "execution_count": 36,
   "metadata": {},
   "outputs": [
    {
     "data": {
      "text/plain": [
       "True"
      ]
     },
     "execution_count": 36,
     "metadata": {},
     "output_type": "execute_result"
    }
   ],
   "source": [
    "raw_data = np.linalg.cholesky(data).T\n",
    "np.allclose(raw_data.T @ raw_data, data)"
   ]
  },
  {
   "cell_type": "code",
   "execution_count": 37,
   "metadata": {},
   "outputs": [],
   "source": [
    "U = np.linalg.svd(raw_data[:, nodes[:, selection] == 1])[0][:, 0:1]\n",
    "rank_one_vector = raw_data.T @ U\n",
    "residual_data = raw_data - U @ (U.T @ raw_data)"
   ]
  },
  {
   "cell_type": "code",
   "execution_count": 38,
   "metadata": {},
   "outputs": [
    {
     "data": {
      "text/plain": [
       "(101, 100)"
      ]
     },
     "execution_count": 38,
     "metadata": {},
     "output_type": "execute_result"
    }
   ],
   "source": [
    "np.linalg.matrix_rank(raw_data), np.linalg.matrix_rank(residual_data)"
   ]
  },
  {
   "cell_type": "code",
   "execution_count": 39,
   "metadata": {},
   "outputs": [
    {
     "data": {
      "text/plain": [
       "((1502501, 7, 7), (1502501, 4))"
      ]
     },
     "execution_count": 39,
     "metadata": {},
     "output_type": "execute_result"
    }
   ],
   "source": [
    "# Brute-Force Upper Bound. Exponential time complexity.\n",
    "import itertools\n",
    "import scipy.special\n",
    "selected_data = np.where(nodes[:, selection] == 1)[0]\n",
    "unselected_data = np.where(nodes[:, selection] == -1)[0]\n",
    "brute_force_data = np.zeros(\n",
    "    [\n",
    "        int(scipy.special.binom(len(unselected_data), k - i)),\n",
    "        k, k,\n",
    "    ],\n",
    "    np.float32)\n",
    "brute_force_data[:, 0:i, 0:i] = data[selected_data, :][:, selected_data]\n",
    "brute_force_inds = np.asarray(\n",
    "    list(itertools.combinations(unselected_data, k - i)),\n",
    "    np.int32)\n",
    "brute_force_data[:, i:, 0:i] = data[brute_force_inds][:, :, selected_data]\n",
    "brute_force_data[:, 0:i, i:] = np.transpose(\n",
    "    brute_force_data[:, i:, 0:i],\n",
    "    axes=[0, 2, 1])\n",
    "for index in range(k - i, k):\n",
    "    brute_force_data[:, index, i:] = (\n",
    "        data[brute_force_inds[:, index - i:index - i + 1],\n",
    "             brute_force_inds]\n",
    "    )\n",
    "brute_force_data.shape, brute_force_inds.shape"
   ]
  },
  {
   "cell_type": "code",
   "execution_count": 40,
   "metadata": {},
   "outputs": [
    {
     "data": {
      "text/plain": [
       "False"
      ]
     },
     "execution_count": 40,
     "metadata": {},
     "output_type": "execute_result"
    }
   ],
   "source": [
    "np.allclose(\n",
    "    brute_force_data[42][i:, i:],\n",
    "    data[:, brute_force_inds[42, :]][brute_force_inds[42, :], :])"
   ]
  },
  {
   "cell_type": "code",
   "execution_count": 41,
   "metadata": {},
   "outputs": [
    {
     "data": {
      "text/plain": [
       "array([[ 1.    ,  0.1267,  0.1259, -0.3008, -0.2359, -0.7944, -0.4545],\n",
       "       [ 0.1267,  1.    ,  0.9886, -0.0098,  0.168 , -0.3048,  0.1556],\n",
       "       [ 0.1259,  0.9886,  1.    , -0.0247,  0.1813, -0.2793,  0.123 ],\n",
       "       [-0.3008, -0.0098, -0.0247,  0.    ,  0.    ,  0.    ,  0.    ],\n",
       "       [-0.2359,  0.168 ,  0.1813, -0.0461,  1.    , -0.0671,  0.4161],\n",
       "       [-0.7944, -0.3048, -0.2793,  0.2312, -0.0671,  1.    , -0.0467],\n",
       "       [-0.4545,  0.1556,  0.123 ,  0.1816,  0.4161, -0.0467,  1.    ]], dtype=float32)"
      ]
     },
     "execution_count": 41,
     "metadata": {},
     "output_type": "execute_result"
    }
   ],
   "source": [
    "brute_force_data[42]"
   ]
  },
  {
   "cell_type": "code",
   "execution_count": 42,
   "metadata": {},
   "outputs": [
    {
     "data": {
      "text/plain": [
       "array([ 0,  1,  2, 61], dtype=int32)"
      ]
     },
     "execution_count": 42,
     "metadata": {},
     "output_type": "execute_result"
    }
   ],
   "source": [
    "brute_force_inds[42, :]"
   ]
  },
  {
   "cell_type": "code",
   "execution_count": 43,
   "metadata": {},
   "outputs": [
    {
     "data": {
      "text/plain": [
       "(array([ 3, 83, 85]), array([79, 80, 81, 84], dtype=int32), 5.5118036)"
      ]
     },
     "execution_count": 43,
     "metadata": {},
     "output_type": "execute_result"
    }
   ],
   "source": [
    "brute_force_eigs = np.linalg.eigvalsh(brute_force_data)\n",
    "opt_inds_loc = np.argmax(brute_force_eigs.max(axis=1))\n",
    "opt_inds = brute_force_inds[opt_inds_loc, :]\n",
    "opt_total_inds = np.r_[selected_data, opt_inds]\n",
    "selected_data, opt_inds, brute_force_eigs[opt_inds_loc, :].max()"
   ]
  },
  {
   "cell_type": "code",
   "execution_count": 44,
   "metadata": {},
   "outputs": [
    {
     "data": {
      "text/plain": [
       "5.804850445790672"
      ]
     },
     "execution_count": 44,
     "metadata": {},
     "output_type": "execute_result"
    }
   ],
   "source": [
    "# Gersh upper bound on the opt_inds eigvals.\n",
    "np.abs(data[:, opt_total_inds][opt_total_inds, :]).sum(axis=1).max()"
   ]
  },
  {
   "cell_type": "code",
   "execution_count": 64,
   "metadata": {},
   "outputs": [
    {
     "data": {
      "text/plain": [
       "5.267480676016402"
      ]
     },
     "execution_count": 64,
     "metadata": {},
     "output_type": "execute_result"
    }
   ],
   "source": [
    "# Rank-one greedy lower bound. This out-performed the\n",
    "# Yuan stochastic approach!\n",
    "(rank_one_vector[opt_total_inds] ** 2).sum()"
   ]
  },
  {
   "cell_type": "code",
   "execution_count": 46,
   "metadata": {},
   "outputs": [
    {
     "data": {
      "text/plain": [
       "5.807602843343165"
      ]
     },
     "execution_count": 46,
     "metadata": {},
     "output_type": "execute_result"
    }
   ],
   "source": [
    "# Ipsen upper bound on the opt_inds eigvals.\n",
    "((rank_one_vector[opt_total_inds] ** 2).sum()\n",
    "    + np.linalg.norm(\n",
    "        (residual_data[:, opt_total_inds].T @ residual_data[:, opt_total_inds]\n",
    "        @ rank_one_vector[opt_total_inds]))\n",
    "        / np.linalg.norm(rank_one_vector[opt_total_inds]))"
   ]
  },
  {
   "cell_type": "code",
   "execution_count": 47,
   "metadata": {},
   "outputs": [
    {
     "data": {
      "text/plain": [
       "(1502501, 7)"
      ]
     },
     "execution_count": 47,
     "metadata": {},
     "output_type": "execute_result"
    }
   ],
   "source": [
    "np.c_[np.tile(selected_data[None, :], [len(brute_force_inds), 1]), brute_force_inds].shape"
   ]
  },
  {
   "cell_type": "code",
   "execution_count": 68,
   "metadata": {},
   "outputs": [
    {
     "data": {
      "text/plain": [
       "(1502501, 7, 101)"
      ]
     },
     "execution_count": 68,
     "metadata": {},
     "output_type": "execute_result"
    }
   ],
   "source": [
    "np.transpose(residual_data[:, brute_force_total_inds], [1, 2, 0]).shape"
   ]
  },
  {
   "cell_type": "code",
   "execution_count": 70,
   "metadata": {},
   "outputs": [
    {
     "data": {
      "text/plain": [
       "(1502501, 7, 1)"
      ]
     },
     "execution_count": 70,
     "metadata": {},
     "output_type": "execute_result"
    }
   ],
   "source": [
    "rank_one_vector[brute_force_total_inds, :].shape"
   ]
  },
  {
   "cell_type": "code",
   "execution_count": 71,
   "metadata": {},
   "outputs": [
    {
     "data": {
      "text/plain": [
       "5.807602843343166"
      ]
     },
     "execution_count": 71,
     "metadata": {},
     "output_type": "execute_result"
    }
   ],
   "source": [
    "# Ipsen upper bound (brute force).\n",
    "brute_force_ipsen = (\n",
    "    (rank_one_vector[selected_data] ** 2).sum()\n",
    "    + (rank_one_vector[brute_force_inds] ** 2).sum(axis=1))\n",
    "brute_force_total_inds = np.c_[\n",
    "    np.tile(selected_data[None, :], [len(brute_force_inds), 1]),\n",
    "    brute_force_inds]\n",
    "brute_force_ipsen_res = np.matmul(\n",
    "    np.transpose(residual_data[:, brute_force_total_inds], [1, 0, 2]),\n",
    "    rank_one_vector[brute_force_total_inds, :])\n",
    "brute_force_ipsen_res = np.matmul(\n",
    "    np.transpose(residual_data[:, brute_force_total_inds], [1, 2, 0]),\n",
    "    brute_force_ipsen_res)\n",
    "brute_force_ipsen += (\n",
    "    np.linalg.norm(brute_force_ipsen_res, axis=1)\n",
    "    / np.linalg.norm(rank_one_vector[brute_force_total_inds, :], axis=1))\n",
    "brute_force_ipsen.max()"
   ]
  },
  {
   "cell_type": "code",
   "execution_count": 67,
   "metadata": {},
   "outputs": [
    {
     "data": {
      "text/plain": [
       "7.018428247573138"
      ]
     },
     "execution_count": 67,
     "metadata": {},
     "output_type": "execute_result"
    }
   ],
   "source": [
    "# Ipsen upper bound (linearize). Absolute value and L1 norm.\n",
    "brute_force_ipsen = (\n",
    "    (rank_one_vector[selected_data] ** 2).sum()\n",
    "    + (rank_one_vector[brute_force_inds] ** 2).sum(axis=1))\n",
    "brute_force_total_inds = np.c_[\n",
    "    np.tile(selected_data[None, :], [len(brute_force_inds), 1]),\n",
    "    brute_force_inds]\n",
    "residual_cov_abs = np.abs(residual_data.T @ residual_data)\n",
    "x, y = np.meshgrid(range(k), range(k))\n",
    "brute_force_ipsen_res = np.matmul(\n",
    "    residual_cov_abs[\n",
    "        brute_force_total_inds[:, x],\n",
    "        brute_force_total_inds[:, y],\n",
    "    ],\n",
    "    np.abs(rank_one_vector)[brute_force_total_inds, :])\n",
    "brute_force_ipsen_res /= np.linalg.norm(\n",
    "    np.abs(rank_one_vector)[brute_force_total_inds, :],\n",
    "    axis=1,\n",
    "    keepdims=True\n",
    ")\n",
    "brute_force_ipsen += np.linalg.norm(brute_force_ipsen_res, axis=1, ord=1)\n",
    "brute_force_ipsen.max()"
   ]
  },
  {
   "cell_type": "code",
   "execution_count": 63,
   "metadata": {},
   "outputs": [
    {
     "data": {
      "text/plain": [
       "(1502501, 7, 7)"
      ]
     },
     "execution_count": 63,
     "metadata": {},
     "output_type": "execute_result"
    }
   ],
   "source": [
    "residual_cov_abs[\n",
    "        brute_force_total_inds[:, x],\n",
    "        brute_force_total_inds[:, y],\n",
    "    ].shape"
   ]
  },
  {
   "cell_type": "code",
   "execution_count": 51,
   "metadata": {},
   "outputs": [
    {
     "data": {
      "text/plain": [
       "(101, 1)"
      ]
     },
     "execution_count": 51,
     "metadata": {},
     "output_type": "execute_result"
    }
   ],
   "source": [
    "brute_force_ipsen_res.shape"
   ]
  },
  {
   "cell_type": "code",
   "execution_count": null,
   "metadata": {},
   "outputs": [],
   "source": []
  }
 ],
 "metadata": {
  "kernelspec": {
   "display_name": "tensorflow",
   "language": "python",
   "name": "python3"
  },
  "language_info": {
   "codemirror_mode": {
    "name": "ipython",
    "version": 3
   },
   "file_extension": ".py",
   "mimetype": "text/x-python",
   "name": "python",
   "nbconvert_exporter": "python",
   "pygments_lexer": "ipython3",
   "version": "3.10.6"
  },
  "orig_nbformat": 4,
  "vscode": {
   "interpreter": {
    "hash": "76395dc4225a3510e19f72ca6602e397fbce3a474a89e3d17074f82d2029a2fc"
   }
  }
 },
 "nbformat": 4,
 "nbformat_minor": 2
}
