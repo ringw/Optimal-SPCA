{
 "cells": [
  {
   "cell_type": "code",
   "execution_count": 1,
   "metadata": {},
   "outputs": [],
   "source": [
    "import numpy as np\n",
    "np.set_printoptions(linewidth = 150, precision = 4, suppress = True)"
   ]
  },
  {
   "cell_type": "code",
   "execution_count": 2,
   "metadata": {},
   "outputs": [
    {
     "data": {
      "text/plain": [
       "array([[ 1.    , -0.0461,  0.2312, ...,  0.2704,  0.4664,  0.3672],\n",
       "       [-0.0461,  1.    , -0.0671, ..., -0.0515, -0.0944, -0.0349],\n",
       "       [ 0.2312, -0.0671,  1.    , ...,  0.147 ,  0.2608,  0.6313],\n",
       "       ...,\n",
       "       [ 0.2704, -0.0515,  0.147 , ...,  1.    ,  0.2066,  0.1538],\n",
       "       [ 0.4664, -0.0944,  0.2608, ...,  0.2066,  1.    ,  0.3486],\n",
       "       [ 0.3672, -0.0349,  0.6313, ...,  0.1538,  0.3486,  1.    ]])"
      ]
     },
     "execution_count": 2,
     "metadata": {},
     "output_type": "execute_result"
    }
   ],
   "source": [
    "data = np.loadtxt('../NC-Data.csv', delimiter=',', dtype=str)\n",
    "data = data[1:].astype(float)\n",
    "# Synthesize columns holding observations, reproducing the cov matrix.\n",
    "raw_data = np.linalg.cholesky(data).T\n",
    "np.testing.assert_allclose(data, raw_data.T @ raw_data)\n",
    "data"
   ]
  },
  {
   "cell_type": "code",
   "execution_count": 3,
   "metadata": {},
   "outputs": [],
   "source": [
    "nodes = np.loadtxt('../NC-K7-Trace-Nodes.csv', delimiter=',', dtype=str)\n",
    "nodes = nodes[1:].astype(float)\n",
    "bounds = np.loadtxt('../NC-K7-Trace-Bounds.csv', delimiter=',', dtype=str)\n",
    "bounds = bounds[1:].astype(float)"
   ]
  },
  {
   "cell_type": "code",
   "execution_count": 4,
   "metadata": {},
   "outputs": [
    {
     "name": "stdout",
     "output_type": "stream",
     "text": [
      "[5.6132 6.5066 7.    ]\n"
     ]
    }
   ],
   "source": [
    "# Bounds corresponding to a column of nodes.\n",
    "print(bounds[:,-1])\n",
    "stoch_lb = bounds[0, :]\n",
    "gershgorin_ub = bounds[1, :]\n",
    "trace_ub = bounds[2, :]\n"
   ]
  },
  {
   "cell_type": "code",
   "execution_count": 5,
   "metadata": {},
   "outputs": [
    {
     "data": {
      "text/plain": [
       "17199613200"
      ]
     },
     "execution_count": 5,
     "metadata": {},
     "output_type": "execute_result"
    }
   ],
   "source": [
    "import scipy.special\n",
    "def ncr(n,k):\n",
    "    return int(scipy.special.binom(n,k))\n",
    "ncr(101,7)"
   ]
  },
  {
   "cell_type": "code",
   "execution_count": 6,
   "metadata": {},
   "outputs": [],
   "source": [
    "def combination(n, p, x):\n",
    "    result = [None for i in range(p)]\n",
    "    r = 0\n",
    "    k = 0\n",
    "    for i in range(p-1):\n",
    "        result[i] = result[i-1] if i>0 else 0\n",
    "        result[i] += 1\n",
    "        r = ncr(n-result[i], p-(i+1))\n",
    "        k += r\n",
    "        while k < x:\n",
    "            result[i] += 1\n",
    "            r = ncr(n-result[i], p-(i+1))\n",
    "            k += r\n",
    "        k -= r\n",
    "    result[p-1] = result[p-2] + x - k\n",
    "    return result"
   ]
  },
  {
   "cell_type": "code",
   "execution_count": 7,
   "metadata": {},
   "outputs": [],
   "source": [
    "import tensorflow as tf"
   ]
  },
  {
   "cell_type": "code",
   "execution_count": 8,
   "metadata": {},
   "outputs": [],
   "source": [
    "def pascal(n, max_k=None):\n",
    "    max_k = n if max_k is None else max_k\n",
    "    result = np.zeros([n,n], np.int64)\n",
    "    result[:, 0] = 1\n",
    "    for i in range(1, n):\n",
    "        for j in range(1, min(i+1, max_k)):\n",
    "            result[i, j] = result[i-1, j-1] + result[i-1, j]\n",
    "    return result"
   ]
  },
  {
   "cell_type": "code",
   "execution_count": 9,
   "metadata": {},
   "outputs": [],
   "source": [
    "ncr = tf.constant(pascal(102, 8))"
   ]
  },
  {
   "cell_type": "code",
   "execution_count": 10,
   "metadata": {},
   "outputs": [
    {
     "data": {
      "text/plain": [
       "17199613200"
      ]
     },
     "execution_count": 10,
     "metadata": {},
     "output_type": "execute_result"
    }
   ],
   "source": [
    "ncr.numpy().max()"
   ]
  },
  {
   "cell_type": "code",
   "execution_count": 11,
   "metadata": {},
   "outputs": [],
   "source": [
    "@tf.function(jit_compile=True)\n",
    "def combination(n, p, x):\n",
    "    result = tf.TensorArray(ncr.dtype, size=p)\n",
    "    r = tf.constant(0, ncr.dtype)\n",
    "    k = tf.constant(0, ncr.dtype)\n",
    "    next_value = tf.constant(0, ncr.dtype)\n",
    "    for i in tf.range(p-1):\n",
    "        next_value += 1\n",
    "        index = tf.cast(i, tf.int64)\n",
    "        r = ncr[n-next_value, p-(index+1)]\n",
    "        k += r\n",
    "        while k < x:\n",
    "            next_value += 1\n",
    "            r = ncr[n-next_value, p-(index+1)]\n",
    "            k += r\n",
    "        k -= r\n",
    "        result = result.write(i, next_value)\n",
    "    result = result.write(p-1, next_value + x - k)\n",
    "    return result.stack()"
   ]
  },
  {
   "cell_type": "code",
   "execution_count": 12,
   "metadata": {},
   "outputs": [],
   "source": [
    "@tf.function(jit_compile=True)\n",
    "def combinations_batch(n, k, start, limit):\n",
    "    return tf.map_fn(\n",
    "        lambda i: combination(n, k, i),\n",
    "        tf.range(start, limit),\n",
    "        dtype=tf.int64)"
   ]
  },
  {
   "cell_type": "code",
   "execution_count": 13,
   "metadata": {},
   "outputs": [],
   "source": [
    "data = tf.constant(data, tf.float32)\n",
    "raw_data = tf.constant(raw_data, tf.float32)"
   ]
  },
  {
   "cell_type": "code",
   "execution_count": 14,
   "metadata": {},
   "outputs": [],
   "source": [
    "# Selected: indicator is 1.\n",
    "# Free: indicator is 0.\n",
    "def brute_force_eigvalsh(k, selected, free):\n",
    "    choices = combinations_batch(free.shape[0], k - selected.shape[0], 1, 1+ncr[free.shape[0], k - selected.shape[0]]) - 1\n",
    "    choices = tf.gather(free, choices)\n",
    "    choices = tf.concat(\n",
    "        [\n",
    "            # Broadcast selected (repeat along the outer axis, N times)\n",
    "            selected[None, :] + 0 * choices[:, 0:1],\n",
    "            choices,\n",
    "        ],\n",
    "        axis=1,\n",
    "    )\n",
    "    eigvals = tf.linalg.eigvalsh(_simple_select_hermitian(data, choices))\n",
    "    which_max = tf.argmax(tf.reduce_max(eigvals, axis=-1))\n",
    "    return tf.reduce_max(eigvals[which_max, :]), choices[which_max]\n",
    "\n",
    "@tf.function(jit_compile=True)\n",
    "def _simple_select_hermitian(mat, choices):\n",
    "    choices = choices[:, None, :]\n",
    "    choices_lookup = tf.concat(\n",
    "        [\n",
    "            (choices + 0 * tf.transpose(choices, [0, 2, 1]))[:, :, :, None],\n",
    "            (tf.transpose(choices, [0, 2, 1]) + 0 * choices)[:, :, :, None],\n",
    "        ],\n",
    "        axis=3\n",
    "    )\n",
    "    return tf.gather_nd(mat, choices_lookup)"
   ]
  },
  {
   "cell_type": "code",
   "execution_count": 15,
   "metadata": {},
   "outputs": [],
   "source": [
    "# Selected: indicator is 1.\n",
    "# Free: indicator is 0.\n",
    "@tf.function(jit_compile=True)\n",
    "def upper_bound_sparse_pca_metric(choices, XU, sigma_residual):\n",
    "    linear_term = tf.reduce_sum(\n",
    "        tf.gather(tf.square(XU), choices),\n",
    "        axis=1,\n",
    "    )\n",
    "\n",
    "    sigma_indexing = tf.concat(\n",
    "        [\n",
    "            (choices[:, :, None] + 0 * choices[:, None, :])[:, :, :, None],\n",
    "            (choices[:, None, :] + 0 * choices[:, :, None])[:, :, :, None],\n",
    "        ],\n",
    "        axis=3,\n",
    "    )\n",
    "    sigma_residual = tf.gather_nd(sigma_residual, sigma_indexing)\n",
    "    v = tf.gather(tf.squeeze(XU, axis=1), choices)[:, :, None]\n",
    "    nonlinear_term = tf.linalg.norm(\n",
    "        tf.squeeze(tf.linalg.matmul(sigma_residual, v), axis=2),\n",
    "        axis=1,\n",
    "    ) / tf.linalg.norm(tf.squeeze(v, axis=2), axis=1)\n",
    "\n",
    "    return tf.squeeze(linear_term, axis=1) + nonlinear_term\n",
    "\n",
    "def upper_bound_sparse_pca(k, selected, free):\n",
    "    selected_raw_data = tf.transpose(\n",
    "        tf.gather(\n",
    "            tf.transpose(raw_data),\n",
    "            selected))\n",
    "    U = tf.linalg.svd(selected_raw_data)[1][:, 0]\n",
    "    XU = tf.linalg.matmul(raw_data, U[:, None], adjoint_a=True)\n",
    "    raw_data_residual = raw_data - U[:, None] * tf.transpose(XU)\n",
    "    sigma_residual = tf.linalg.matmul(raw_data_residual, raw_data_residual, adjoint_a=True)\n",
    "\n",
    "    choices = combinations_batch(free.shape[0], k - selected.shape[0], 1, 1+ncr[free.shape[0], k - selected.shape[0]]) - 1\n",
    "    choices = tf.gather(free, choices)\n",
    "    choices = tf.concat(\n",
    "        [\n",
    "            # Broadcast selected (repeat along the outer axis, N times)\n",
    "            selected[None, :] + 0 * choices[:, 0:1],\n",
    "            choices,\n",
    "        ],\n",
    "        axis=1,\n",
    "    )\n",
    "\n",
    "    ub = upper_bound_sparse_pca_metric(choices, XU, raw_data_residual)\n",
    "    which_max = tf.argmax(ub)\n",
    "    return ub[which_max], choices[which_max]"
   ]
  },
  {
   "cell_type": "code",
   "execution_count": 16,
   "metadata": {},
   "outputs": [
    {
     "name": "stdout",
     "output_type": "stream",
     "text": [
      "WARNING:tensorflow:From /home/ringwalt/.local/lib/python3.8/site-packages/tensorflow/python/autograph/pyct/static_analysis/liveness.py:83: Analyzer.lamba_check (from tensorflow.python.autograph.pyct.static_analysis.liveness) is deprecated and will be removed after 2023-09-23.\n",
      "Instructions for updating:\n",
      "Lambda fuctions will be no more assumed to be used in the statement where they are used, or at least in the same block. https://github.com/tensorflow/tensorflow/issues/56089\n",
      "WARNING:tensorflow:From /home/ringwalt/.local/lib/python3.8/site-packages/tensorflow/python/util/deprecation.py:629: calling map_fn_v2 (from tensorflow.python.ops.map_fn) with dtype is deprecated and will be removed in a future version.\n",
      "Instructions for updating:\n",
      "Use fn_output_signature instead\n",
      "WARNING:tensorflow:5 out of the last 9 calls to <function combinations_batch at 0x7f2bfc125430> triggered tf.function retracing. Tracing is expensive and the excessive number of tracings could be due to (1) creating @tf.function repeatedly in a loop, (2) passing tensors with different shapes, (3) passing Python objects instead of tensors. For (1), please define your @tf.function outside of the loop. For (2), @tf.function has reduce_retracing=True option that can avoid unnecessary retracing. For (3), please refer to https://www.tensorflow.org/guide/function#controlling_retracing and https://www.tensorflow.org/api_docs/python/tf/function for  more details.\n",
      "WARNING:tensorflow:5 out of the last 5 calls to <function _simple_select_hermitian at 0x7f2b977204c0> triggered tf.function retracing. Tracing is expensive and the excessive number of tracings could be due to (1) creating @tf.function repeatedly in a loop, (2) passing tensors with different shapes, (3) passing Python objects instead of tensors. For (1), please define your @tf.function outside of the loop. For (2), @tf.function has reduce_retracing=True option that can avoid unnecessary retracing. For (3), please refer to https://www.tensorflow.org/guide/function#controlling_retracing and https://www.tensorflow.org/api_docs/python/tf/function for  more details.\n",
      "WARNING:tensorflow:5 out of the last 5 calls to <function upper_bound_sparse_pca_metric at 0x7f2b97720700> triggered tf.function retracing. Tracing is expensive and the excessive number of tracings could be due to (1) creating @tf.function repeatedly in a loop, (2) passing tensors with different shapes, (3) passing Python objects instead of tensors. For (1), please define your @tf.function outside of the loop. For (2), @tf.function has reduce_retracing=True option that can avoid unnecessary retracing. For (3), please refer to https://www.tensorflow.org/guide/function#controlling_retracing and https://www.tensorflow.org/api_docs/python/tf/function for  more details.\n",
      "WARNING:tensorflow:6 out of the last 11 calls to <function combinations_batch at 0x7f2bfc125430> triggered tf.function retracing. Tracing is expensive and the excessive number of tracings could be due to (1) creating @tf.function repeatedly in a loop, (2) passing tensors with different shapes, (3) passing Python objects instead of tensors. For (1), please define your @tf.function outside of the loop. For (2), @tf.function has reduce_retracing=True option that can avoid unnecessary retracing. For (3), please refer to https://www.tensorflow.org/guide/function#controlling_retracing and https://www.tensorflow.org/api_docs/python/tf/function for  more details.\n",
      "WARNING:tensorflow:6 out of the last 6 calls to <function _simple_select_hermitian at 0x7f2b977204c0> triggered tf.function retracing. Tracing is expensive and the excessive number of tracings could be due to (1) creating @tf.function repeatedly in a loop, (2) passing tensors with different shapes, (3) passing Python objects instead of tensors. For (1), please define your @tf.function outside of the loop. For (2), @tf.function has reduce_retracing=True option that can avoid unnecessary retracing. For (3), please refer to https://www.tensorflow.org/guide/function#controlling_retracing and https://www.tensorflow.org/api_docs/python/tf/function for  more details.\n",
      "WARNING:tensorflow:6 out of the last 6 calls to <function upper_bound_sparse_pca_metric at 0x7f2b97720700> triggered tf.function retracing. Tracing is expensive and the excessive number of tracings could be due to (1) creating @tf.function repeatedly in a loop, (2) passing tensors with different shapes, (3) passing Python objects instead of tensors. For (1), please define your @tf.function outside of the loop. For (2), @tf.function has reduce_retracing=True option that can avoid unnecessary retracing. For (3), please refer to https://www.tensorflow.org/guide/function#controlling_retracing and https://www.tensorflow.org/api_docs/python/tf/function for  more details.\n"
     ]
    }
   ],
   "source": [
    "brute_force = np.full(stoch_lb.shape, np.nan)\n",
    "ipsen_brute_force_ub = np.full(stoch_lb.shape, np.nan)\n",
    "\n",
    "k = 7\n",
    "for i in range(nodes.shape[1]):\n",
    "    selected, = tf.constant(np.where(nodes[:, i] == 1))\n",
    "    free, = tf.constant(np.where(nodes[:, i] == -1))\n",
    "    k_remaining = k - len(selected)\n",
    "    if k_remaining == 0:\n",
    "        brute_force[i] = stoch_lb[i]\n",
    "        ipsen_brute_force_ub[i] = stoch_lb[i]\n",
    "    elif ncr[len(free), k_remaining] <= 20_000_000:\n",
    "        brute_force[i] = brute_force_eigvalsh(k, selected, free)[0]\n",
    "        ipsen_brute_force_ub[i] = upper_bound_sparse_pca(k, selected, free)[0]"
   ]
  },
  {
   "cell_type": "code",
   "execution_count": 20,
   "metadata": {},
   "outputs": [],
   "source": [
    "import matplotlib.pyplot as plt"
   ]
  },
  {
   "cell_type": "code",
   "execution_count": 21,
   "metadata": {},
   "outputs": [
    {
     "data": {
      "text/plain": [
       "[<matplotlib.lines.Line2D at 0x7f2aa00f9640>]"
      ]
     },
     "execution_count": 21,
     "metadata": {},
     "output_type": "execute_result"
    },
    {
     "data": {
      "image/png": "[encoded data removed]",
      "text/plain": [
       "<Figure size 432x288 with 1 Axes>"
      ]
     },
     "metadata": {
      "needs_background": "light"
     },
     "output_type": "display_data"
    }
   ],
   "source": [
    "plt.plot(brute_force[(nodes == 1).sum(axis=0) == 4], 'blue')\n",
    "plt.plot(ipsen_brute_force_ub[(nodes == 1).sum(axis=0) == 4], 'green')\n",
    "plt.plot(gershgorin_ub[(nodes == 1).sum(axis=0) == 4], 'red')"
   ]
  },
  {
   "cell_type": "code",
   "execution_count": 22,
   "metadata": {},
   "outputs": [
    {
     "data": {
      "text/plain": [
       "[<matplotlib.lines.Line2D at 0x7f2aa007ca90>]"
      ]
     },
     "execution_count": 22,
     "metadata": {},
     "output_type": "execute_result"
    },
    {
     "data": {
      "image/png": "[encoded data removed]",
      "text/plain": [
       "<Figure size 432x288 with 1 Axes>"
      ]
     },
     "metadata": {
      "needs_background": "light"
     },
     "output_type": "display_data"
    }
   ],
   "source": [
    "plt.plot(brute_force[(nodes == 1).sum(axis=0) == 3], 'blue')\n",
    "plt.plot(ipsen_brute_force_ub[(nodes == 1).sum(axis=0) == 3], 'green')\n",
    "plt.plot(gershgorin_ub[(nodes == 1).sum(axis=0) == 3], 'red')"
   ]
  },
  {
   "cell_type": "code",
   "execution_count": 24,
   "metadata": {},
   "outputs": [
    {
     "data": {
      "text/plain": [
       "array([ 44,  46, 132, 138, 216, 222, 282, 424, 426, 428, 430, 432, 434, 436, 438, 440, 442, 444, 446, 448, 450, 452, 454, 456, 458, 459, 461, 550])"
      ]
     },
     "execution_count": 24,
     "metadata": {},
     "output_type": "execute_result"
    }
   ],
   "source": [
    "np.where(ipsen_brute_force_ub < brute_force)[0]"
   ]
  },
  {
   "cell_type": "code",
   "execution_count": null,
   "metadata": {},
   "outputs": [],
   "source": []
  }
 ],
 "metadata": {
  "kernelspec": {
   "display_name": "Python 3",
   "language": "python",
   "name": "python3"
  },
  "language_info": {
   "codemirror_mode": {
    "name": "ipython",
    "version": 3
   },
   "file_extension": ".py",
   "mimetype": "text/x-python",
   "name": "python",
   "nbconvert_exporter": "python",
   "pygments_lexer": "ipython3",
   "version": "3.8.10"
  },
  "orig_nbformat": 4,
  "vscode": {
   "interpreter": {
    "hash": "916dbcbb3f70747c44a77c7bcd40155683ae19c65e1c03b4aa3499c5328201f1"
   }
  }
 },
 "nbformat": 4,
 "nbformat_minor": 2
}
