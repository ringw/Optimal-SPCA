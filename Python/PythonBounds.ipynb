{
 "cells": [
  {
   "cell_type": "code",
   "execution_count": 7,
   "metadata": {},
   "outputs": [],
   "source": [
    "import numpy as np\n",
    "np.set_printoptions(linewidth = 150, precision = 4, suppress = True)"
   ]
  },
  {
   "cell_type": "code",
   "execution_count": 8,
   "metadata": {},
   "outputs": [
    {
     "data": {
      "text/plain": [
       "array([[ 1.    , -0.0461,  0.2312, ...,  0.2704,  0.4664,  0.3672],\n",
       "       [-0.0461,  1.    , -0.0671, ..., -0.0515, -0.0944, -0.0349],\n",
       "       [ 0.2312, -0.0671,  1.    , ...,  0.147 ,  0.2608,  0.6313],\n",
       "       ...,\n",
       "       [ 0.2704, -0.0515,  0.147 , ...,  1.    ,  0.2066,  0.1538],\n",
       "       [ 0.4664, -0.0944,  0.2608, ...,  0.2066,  1.    ,  0.3486],\n",
       "       [ 0.3672, -0.0349,  0.6313, ...,  0.1538,  0.3486,  1.    ]])"
      ]
     },
     "execution_count": 8,
     "metadata": {},
     "output_type": "execute_result"
    }
   ],
   "source": [
    "data = np.loadtxt('../NC-Data.csv', delimiter=',', dtype=str)\n",
    "data = data[1:].astype(float)\n",
    "data"
   ]
  },
  {
   "cell_type": "code",
   "execution_count": 9,
   "metadata": {},
   "outputs": [],
   "source": [
    "nodes = np.loadtxt('../NC-K7-Trace-Nodes.csv', delimiter=',', dtype=str)\n",
    "nodes = nodes[1:].astype(float)\n",
    "bounds = np.loadtxt('../NC-K7-Trace-Bounds.csv', delimiter=',', dtype=str)\n",
    "bounds = bounds[1:].astype(float)"
   ]
  },
  {
   "cell_type": "code",
   "execution_count": 14,
   "metadata": {},
   "outputs": [
    {
     "data": {
      "text/plain": [
       "60"
      ]
     },
     "execution_count": 14,
     "metadata": {},
     "output_type": "execute_result"
    }
   ],
   "source": [
    "np.argmax((nodes == 1).sum(axis=0) == 5)"
   ]
  },
  {
   "cell_type": "code",
   "execution_count": 21,
   "metadata": {},
   "outputs": [
    {
     "data": {
      "text/plain": [
       "array([4.5265, 6.1343, 7.    ])"
      ]
     },
     "execution_count": 21,
     "metadata": {},
     "output_type": "execute_result"
    }
   ],
   "source": [
    "bounds[:, 60]"
   ]
  },
  {
   "cell_type": "code",
   "execution_count": 23,
   "metadata": {},
   "outputs": [
    {
     "data": {
      "text/plain": [
       "array([57, 82, 83, 84, 85])"
      ]
     },
     "execution_count": 23,
     "metadata": {},
     "output_type": "execute_result"
    }
   ],
   "source": [
    "selected = np.where(nodes[:, 60] == 1)[0]\n",
    "selected"
   ]
  },
  {
   "cell_type": "code",
   "execution_count": 25,
   "metadata": {},
   "outputs": [
    {
     "data": {
      "text/plain": [
       "array([0.008 , 0.0187, 0.0738, 0.8124, 4.087 ])"
      ]
     },
     "execution_count": 25,
     "metadata": {},
     "output_type": "execute_result"
    }
   ],
   "source": [
    "S, V = np.linalg.eigh(data[selected, :][:, selected])\n",
    "S"
   ]
  },
  {
   "cell_type": "code",
   "execution_count": 34,
   "metadata": {},
   "outputs": [],
   "source": [
    "def zd(arr):\n",
    "    arr = arr.copy()\n",
    "    np.fill_diagonal(arr, 0)\n",
    "    return arr"
   ]
  },
  {
   "cell_type": "code",
   "execution_count": 33,
   "metadata": {},
   "outputs": [
    {
     "data": {
      "text/plain": [
       "array([[ 0.004 ,  0.113 ],\n",
       "       [-0.0758,  0.1098],\n",
       "       [-0.026 , -0.1013],\n",
       "       [-0.2223, -0.2183],\n",
       "       [-0.0151, -0.1974]])"
      ]
     },
     "execution_count": 33,
     "metadata": {},
     "output_type": "execute_result"
    }
   ],
   "source": [
    "choose = np.asarray([0, 1])\n",
    "update_vec = V.T.dot(data[:, choose][selected, :]) / np.sqrt(S)[:, None]\n",
    "update_vec"
   ]
  },
  {
   "cell_type": "code",
   "execution_count": 92,
   "metadata": {},
   "outputs": [
    {
     "data": {
      "text/plain": [
       "array([0.0185, 0.0441, 0.1084, 1.2096, 4.5166])"
      ]
     },
     "execution_count": 92,
     "metadata": {},
     "output_type": "execute_result"
    }
   ],
   "source": [
    "np.sort(S + abs(update_vec).sum(axis=1) * np.sqrt(S))"
   ]
  },
  {
   "cell_type": "code",
   "execution_count": 91,
   "metadata": {},
   "outputs": [
    {
     "data": {
      "text/plain": [
       "array([0.0101, 0.0182, 0.0284, 0.2809, 0.4002])"
      ]
     },
     "execution_count": 91,
     "metadata": {},
     "output_type": "execute_result"
    }
   ],
   "source": [
    "np.linalg.norm(update_vec, axis=1) * np.sqrt(S)"
   ]
  },
  {
   "cell_type": "code",
   "execution_count": 89,
   "metadata": {},
   "outputs": [
    {
     "data": {
      "text/plain": [
       "array([0.0182, 0.0369, 0.1022, 1.0933, 4.4873])"
      ]
     },
     "execution_count": 89,
     "metadata": {},
     "output_type": "execute_result"
    }
   ],
   "source": [
    "np.sort(S + np.linalg.norm(update_vec, axis=1) * np.sqrt(S))"
   ]
  },
  {
   "cell_type": "code",
   "execution_count": 90,
   "metadata": {},
   "outputs": [
    {
     "data": {
      "text/plain": [
       "array([1.2924, 2.0135, 3.0226, 4.4034, 4.4682, 4.4685, 4.5028])"
      ]
     },
     "execution_count": 90,
     "metadata": {},
     "output_type": "execute_result"
    }
   ],
   "source": [
    "np.sort(\n",
    "    data[list(selected) + list(choose), list(selected) + list(choose)] + abs(zd(data[list(selected) + list(choose), :][:, list(selected) + list(choose)])).sum(axis=1)\n",
    ")"
   ]
  },
  {
   "cell_type": "code",
   "execution_count": 42,
   "metadata": {},
   "outputs": [
    {
     "data": {
      "text/plain": [
       "array([0.0079, 0.0184, 0.0728, 0.5835, 1.0217, 1.1576, 4.1382])"
      ]
     },
     "execution_count": 42,
     "metadata": {},
     "output_type": "execute_result"
    }
   ],
   "source": [
    "np.linalg.eigh(data[list(selected) + list(choose), :][:, list(selected) + list(choose)])[0]"
   ]
  },
  {
   "cell_type": "code",
   "execution_count": 45,
   "metadata": {},
   "outputs": [
    {
     "data": {
      "text/plain": [
       "0.8091120485444776"
      ]
     },
     "execution_count": 45,
     "metadata": {},
     "output_type": "execute_result"
    }
   ],
   "source": [
    "np.linalg.norm(update_vec[-1, :]) * S[-1]"
   ]
  },
  {
   "cell_type": "code",
   "execution_count": 46,
   "metadata": {},
   "outputs": [
    {
     "data": {
      "text/plain": [
       "0.17782819635707064"
      ]
     },
     "execution_count": 46,
     "metadata": {},
     "output_type": "execute_result"
    }
   ],
   "source": [
    "(np.linalg.norm(update_vec) ** 2 - (4.087 - 0.8124))"
   ]
  },
  {
   "cell_type": "code",
   "execution_count": 47,
   "metadata": {},
   "outputs": [
    {
     "data": {
      "text/plain": [
       "array([[ 0.004 ,  0.113 ],\n",
       "       [-0.0758,  0.1098],\n",
       "       [-0.026 , -0.1013],\n",
       "       [-0.2223, -0.2183],\n",
       "       [-0.0151, -0.1974]])"
      ]
     },
     "execution_count": 47,
     "metadata": {},
     "output_type": "execute_result"
    }
   ],
   "source": [
    "update_vec"
   ]
  },
  {
   "cell_type": "code",
   "execution_count": 74,
   "metadata": {},
   "outputs": [
    {
     "data": {
      "text/plain": [
       "4.08725825415881"
      ]
     },
     "execution_count": 74,
     "metadata": {},
     "output_type": "execute_result"
    }
   ],
   "source": [
    "# Lower bound\n",
    "np.linalg.eigh(data[list(selected), :][:, list(selected)])[0][-1] + \\\n",
    "(np.linalg.norm(update_vec[-2:, 0]) ** 2 - (4.087 - 0.8124) + np.sqrt(\n",
    "    ((4.087 - 0.8124) + np.linalg.norm(update_vec[-2:, 0]) ** 2) ** 2\n",
    "    - 4 * (4.087 - 0.8124) * update_vec[-2, 0] ** 2)\n",
    ") / 2."
   ]
  },
  {
   "cell_type": "code",
   "execution_count": 72,
   "metadata": {},
   "outputs": [
    {
     "data": {
      "text/plain": [
       "4.087355056859358"
      ]
     },
     "execution_count": 72,
     "metadata": {},
     "output_type": "execute_result"
    }
   ],
   "source": [
    "# Upper bound\n",
    "np.linalg.eigh(data[list(selected), :][:, list(selected)])[0][-1] + \\\n",
    "(1 - (4.087 - 0.8124) + np.sqrt(\n",
    "    ((4.087 - 0.8124) + 1) ** 2\n",
    "    - 4 * (4.087 - 0.8124) * (1 - update_vec[-1, 0] ** 2))\n",
    ") / 2."
   ]
  },
  {
   "cell_type": "code",
   "execution_count": 60,
   "metadata": {},
   "outputs": [
    {
     "data": {
      "text/plain": [
       "4.087329874374427"
      ]
     },
     "execution_count": 60,
     "metadata": {},
     "output_type": "execute_result"
    }
   ],
   "source": [
    "np.linalg.eigh(data[list(selected) + [0], :][:, list(selected) + [0]])[0][-1]"
   ]
  },
  {
   "cell_type": "code",
   "execution_count": 80,
   "metadata": {},
   "outputs": [],
   "source": [
    "all_upd = V.T.dot(data[selected, :]) / np.sqrt(S)[:, None]\n",
    "all_upd[:, selected] = 0"
   ]
  },
  {
   "cell_type": "code",
   "execution_count": 83,
   "metadata": {},
   "outputs": [
    {
     "data": {
      "text/plain": [
       "58"
      ]
     },
     "execution_count": 83,
     "metadata": {},
     "output_type": "execute_result"
    }
   ],
   "source": [
    "np.argmax(np.linalg.norm(all_upd, axis=0))"
   ]
  },
  {
   "cell_type": "code",
   "execution_count": 84,
   "metadata": {},
   "outputs": [
    {
     "data": {
      "text/plain": [
       "0.9934331791632108"
      ]
     },
     "execution_count": 84,
     "metadata": {},
     "output_type": "execute_result"
    }
   ],
   "source": [
    "data[57, 58]"
   ]
  },
  {
   "cell_type": "code",
   "execution_count": null,
   "metadata": {},
   "outputs": [],
   "source": []
  }
 ],
 "metadata": {
  "kernelspec": {
   "display_name": "Python 3.8.10 64-bit",
   "language": "python",
   "name": "python3"
  },
  "language_info": {
   "codemirror_mode": {
    "name": "ipython",
    "version": 3
   },
   "file_extension": ".py",
   "mimetype": "text/x-python",
   "name": "python",
   "nbconvert_exporter": "python",
   "pygments_lexer": "ipython3",
   "version": "3.8.10 (default, Jun 22 2022, 20:18:18) \n[GCC 9.4.0]"
  },
  "orig_nbformat": 4,
  "vscode": {
   "interpreter": {
    "hash": "916dbcbb3f70747c44a77c7bcd40155683ae19c65e1c03b4aa3499c5328201f1"
   }
  }
 },
 "nbformat": 4,
 "nbformat_minor": 2
}
