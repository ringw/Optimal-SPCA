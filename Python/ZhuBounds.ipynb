{
 "cells": [
  {
   "cell_type": "markdown",
   "metadata": {},
   "source": [
    "## Upper bound on multiple rank-one updates\n",
    "\n",
    "Zhu provides good bounds on the rank-one update eigenvalues with no diagonalization at all (and calculation of each eigenvalue is completely parallel). However, the experiment here, tracking only the top 2 eigenvalues, was not a success. If the upper bound on the third eigenvalue is not tight, then the upper bound on the second eigenvalue will not be tight on the next rank-one update (and so on).\n",
    "\n",
    "Also, the angle could change by 1/i (1/3 here) radians or so, if the new variable has a dramatically high loading in a principal component other than the dominant eigenvalue. In those cases, the dominant eigenvalue will fail to grow, so that particular path will probably not lead to the upper bound. However, we should max our candidate eigenvalue/eigenvector upper bounds/uncertainty bound independently. Now, in the cases where the dominant eigenvalue grew the most so the angle of uncertainty is small, then it is tainted with some cases where we explored and grew the other principal components but not the dominant one.\n",
    "\n",
    "Finally, on the next iteration, all inputs to Zhu will be some bounded unknowns. We haven't solved for critical points of this multivariate function yet. We solved for the gradient w.r.t. gap, and found the saddle point elegantly. We shouldn't proceed without solving for all gradients equal to 0, with a good closed-form. This would be a good explanation for the difficulty of bounding a general update to a matrix, if we cannot get a closed-form for all extrema in the original bounds to be tested."
   ]
  },
  {
   "cell_type": "code",
   "execution_count": 3,
   "metadata": {},
   "outputs": [],
   "source": [
    "import numpy as np\n",
    "np.set_printoptions(linewidth = 150, precision = 4, suppress = True)"
   ]
  },
  {
   "cell_type": "code",
   "execution_count": 4,
   "metadata": {},
   "outputs": [
    {
     "data": {
      "text/plain": [
       "array([[ 1.    , -0.0461,  0.2312, ...,  0.2704,  0.4664,  0.3672],\n",
       "       [-0.0461,  1.    , -0.0671, ..., -0.0515, -0.0944, -0.0349],\n",
       "       [ 0.2312, -0.0671,  1.    , ...,  0.147 ,  0.2608,  0.6313],\n",
       "       ...,\n",
       "       [ 0.2704, -0.0515,  0.147 , ...,  1.    ,  0.2066,  0.1538],\n",
       "       [ 0.4664, -0.0944,  0.2608, ...,  0.2066,  1.    ,  0.3486],\n",
       "       [ 0.3672, -0.0349,  0.6313, ...,  0.1538,  0.3486,  1.    ]])"
      ]
     },
     "execution_count": 4,
     "metadata": {},
     "output_type": "execute_result"
    }
   ],
   "source": [
    "data = np.loadtxt('../NC-Data.csv', delimiter=',', dtype=str)\n",
    "data = data[1:].astype(float)\n",
    "data"
   ]
  },
  {
   "cell_type": "code",
   "execution_count": 5,
   "metadata": {},
   "outputs": [],
   "source": [
    "nodes = np.loadtxt('../NC-K7-Trace-Nodes.csv', delimiter=',', dtype=str)\n",
    "nodes = nodes[1:].astype(float)\n",
    "bounds = np.loadtxt('../NC-K7-Trace-Bounds.csv', delimiter=',', dtype=str)\n",
    "bounds = bounds[1:].astype(float)"
   ]
  },
  {
   "cell_type": "code",
   "execution_count": 7,
   "metadata": {},
   "outputs": [
    {
     "data": {
      "text/plain": [
       "42"
      ]
     },
     "execution_count": 7,
     "metadata": {},
     "output_type": "execute_result"
    }
   ],
   "source": [
    "np.argmax((nodes == 1).sum(axis=0) == 3)"
   ]
  },
  {
   "cell_type": "code",
   "execution_count": 8,
   "metadata": {},
   "outputs": [
    {
     "data": {
      "text/plain": [
       "array([4.1355, 5.8707, 7.    ])"
      ]
     },
     "execution_count": 8,
     "metadata": {},
     "output_type": "execute_result"
    }
   ],
   "source": [
    "bounds[:, 42]"
   ]
  },
  {
   "cell_type": "code",
   "execution_count": 9,
   "metadata": {},
   "outputs": [
    {
     "data": {
      "text/plain": [
       "82"
      ]
     },
     "execution_count": 9,
     "metadata": {},
     "output_type": "execute_result"
    }
   ],
   "source": [
    "(nodes[:, 42] != 0).sum()"
   ]
  },
  {
   "cell_type": "code",
   "execution_count": 179,
   "metadata": {},
   "outputs": [
    {
     "data": {
      "text/plain": [
       "array([ 3, 83, 85])"
      ]
     },
     "execution_count": 179,
     "metadata": {},
     "output_type": "execute_result"
    }
   ],
   "source": [
    "selected = np.where(nodes[:, 42] == 1)[0]\n",
    "selected"
   ]
  },
  {
   "cell_type": "code",
   "execution_count": 68,
   "metadata": {},
   "outputs": [
    {
     "data": {
      "text/plain": [
       "array([0.0114, 0.9687, 2.0199])"
      ]
     },
     "execution_count": 68,
     "metadata": {},
     "output_type": "execute_result"
    }
   ],
   "source": [
    "S, V = np.linalg.eigh(data[selected, :][:, selected])\n",
    "S"
   ]
  },
  {
   "cell_type": "code",
   "execution_count": 82,
   "metadata": {},
   "outputs": [],
   "source": [
    "def zd(arr):\n",
    "    arr = arr.copy()\n",
    "    np.fill_diagonal(arr, 0)\n",
    "    return arr"
   ]
  },
  {
   "cell_type": "code",
   "execution_count": 195,
   "metadata": {},
   "outputs": [
    {
     "data": {
      "text/plain": [
       "(0, 31)"
      ]
     },
     "execution_count": 195,
     "metadata": {},
     "output_type": "execute_result"
    }
   ],
   "source": [
    "data_clr = data.copy()\n",
    "data_clr[selected, selected[0]] = 0\n",
    "data_clr[selected, selected[1]] = 0\n",
    "data_clr[selected, selected[2]] = 0\n",
    "np.fill_diagonal(data_clr, 0)\n",
    "np.divmod(np.argmin(abs(data_clr[selected, 4:83]).max(axis=0)), 101)"
   ]
  },
  {
   "cell_type": "code",
   "execution_count": 196,
   "metadata": {},
   "outputs": [
    {
     "data": {
      "text/plain": [
       "0.027496576592458615"
      ]
     },
     "execution_count": 196,
     "metadata": {},
     "output_type": "execute_result"
    }
   ],
   "source": [
    "data[3, 35]"
   ]
  },
  {
   "cell_type": "code",
   "execution_count": 183,
   "metadata": {},
   "outputs": [],
   "source": [
    "next_ind = 83"
   ]
  },
  {
   "cell_type": "code",
   "execution_count": 197,
   "metadata": {},
   "outputs": [],
   "source": [
    "next_ind = 35"
   ]
  },
  {
   "cell_type": "code",
   "execution_count": 229,
   "metadata": {},
   "outputs": [
    {
     "data": {
      "text/plain": [
       "0.8732683226024542"
      ]
     },
     "execution_count": 229,
     "metadata": {},
     "output_type": "execute_result"
    }
   ],
   "source": [
    "# Say that we were already tracking the third smallest eigenvalue by a cheap method (Gershgorin upper bound).\n",
    "np.linalg.eigh(data[selected[:2], :][:, selected[:2]])[0][0]"
   ]
  },
  {
   "cell_type": "code",
   "execution_count": 198,
   "metadata": {},
   "outputs": [
    {
     "data": {
      "text/plain": [
       "array([0.0113, 0.9471, 1.0207, 2.0209])"
      ]
     },
     "execution_count": 198,
     "metadata": {},
     "output_type": "execute_result"
    }
   ],
   "source": [
    "np.linalg.eigh(data[list(selected) + [next_ind], :][:, list(selected) + [next_ind]])[0]"
   ]
  },
  {
   "cell_type": "code",
   "execution_count": 199,
   "metadata": {},
   "outputs": [
    {
     "data": {
      "text/plain": [
       "array([0.0113, 0.9471, 1.0207, 2.0209])"
      ]
     },
     "execution_count": 199,
     "metadata": {},
     "output_type": "execute_result"
    }
   ],
   "source": [
    "import scipy.linalg\n",
    "w = data[selected, next_ind:next_ind + 1]\n",
    "w = np.r_[w, [[0.]]]\n",
    "# WRONG!\n",
    "# np.linalg.eigh(\n",
    "#     scipy.linalg.block_diag(data[selected, :][:, selected], np.zeros((1, 1)))\n",
    "#     + w.dot(w.T))[0]\n",
    "\n",
    "w = scipy.linalg.block_diag(V.T, np.ones((1, 1))).dot(w) / np.sqrt(list(S) + [1])[:, None]\n",
    "w[-1, 0] = np.sqrt(1. - np.linalg.norm(w[:-1, :]) ** 2)\n",
    "np.linalg.eigh(\n",
    "    np.diag(list(S) + [0.])\n",
    "    + w.dot(w.T)\n",
    ")[0]"
   ]
  },
  {
   "cell_type": "code",
   "execution_count": 200,
   "metadata": {},
   "outputs": [
    {
     "data": {
      "text/plain": [
       "array([[-0.1084],\n",
       "       [-0.0341],\n",
       "       [ 0.0225],\n",
       "       [ 0.9933]])"
      ]
     },
     "execution_count": 200,
     "metadata": {},
     "output_type": "execute_result"
    }
   ],
   "source": [
    "w"
   ]
  },
  {
   "cell_type": "code",
   "execution_count": 227,
   "metadata": {},
   "outputs": [],
   "source": [
    "def l1(w1, w2, gap):\n",
    "    return (w1 ** 2 + w2 ** 2 - gap + np.sqrt((gap + w1 ** 2 + w2 ** 2) ** 2 - 4 * gap * w2 ** 2)) / 2.\n",
    "def u1(w1, gap):\n",
    "    return (1. - gap + np.sqrt((gap + 1) ** 2 - 4 * gap * (1. - w1 ** 2))) / 2.\n",
    "def l2(w1, w2, gap):\n",
    "    return (gap + w1 ** 2 + w2 ** 2 - np.sqrt((gap + w1 ** 2 + w2 ** 2) ** 2 - 4 * gap * w2 ** 2)) / 2.\n",
    "def u2(w1, w2, eig_2):\n",
    "    # eig_3 is unknown. We could try to track eig_3 using Gershgorin\n",
    "    gap = np.linspace(eig_2 - 0.8733, eig_2, 1000)\n",
    "    # gap = np.linspace(0, eig_2, 1000)\n",
    "    values = (1. - w1 ** 2 - gap + np.sqrt((gap + 1 - w1 ** 2) ** 2 - 4 * gap * (1 - w1 ** 2 - w2 ** 2))) / 2.\n",
    "    return values.max()"
   ]
  },
  {
   "cell_type": "code",
   "execution_count": 202,
   "metadata": {},
   "outputs": [
    {
     "data": {
      "text/plain": [
       "(2.0203882918334886, 2.0287715881043322)"
      ]
     },
     "execution_count": 202,
     "metadata": {},
     "output_type": "execute_result"
    }
   ],
   "source": [
    "S[2] + l1(w[2, 0], w[1, 0], S[2] - S[1]), S[2] + u1(w[2, 0], S[2] - S[1])"
   ]
  },
  {
   "cell_type": "code",
   "execution_count": 230,
   "metadata": {},
   "outputs": [
    {
     "data": {
      "text/plain": [
       "(0.9698660362330068, 1.8729143835255053)"
      ]
     },
     "execution_count": 230,
     "metadata": {},
     "output_type": "execute_result"
    }
   ],
   "source": [
    "(S[1] + l2(w[2, 0], w[1, 0], S[2] - S[1]),\n",
    " S[1] + u2(w[2, 0], w[1, 0], S[1]))"
   ]
  },
  {
   "cell_type": "code",
   "execution_count": 231,
   "metadata": {},
   "outputs": [
    {
     "data": {
      "text/plain": [
       "(0.9814177270273432, 0.1930808639341894)"
      ]
     },
     "execution_count": 231,
     "metadata": {},
     "output_type": "execute_result"
    }
   ],
   "source": [
    "upper = (u1(V.T.dot(data[selected, next_ind:next_ind+1])[-1, 0] / np.sqrt(S[-1]), S[2] - S[1]))\n",
    "second = (S[1] - (S[2] + l1(w[2, 0], w[1, 0], S[2] - S[1])))\n",
    "upper, second\n",
    "z = 1. / np.r_[\n",
    "    S[0] - (S[2] + l1(w[2, 0], w[1, 0], S[2] - S[1])),\n",
    "    second,\n",
    "    upper,\n",
    "    -(S[2] + l1(w[2, 0], w[1, 0], S[2] - S[1])),\n",
    "][:, None] * w\n",
    "z /= np.linalg.norm(z)\n",
    "z[2, 0], np.arccos(np.abs(z[2, 0]))"
   ]
  },
  {
   "cell_type": "code",
   "execution_count": 232,
   "metadata": {},
   "outputs": [
    {
     "data": {
      "text/plain": [
       "1.1504706369062427"
      ]
     },
     "execution_count": 232,
     "metadata": {},
     "output_type": "execute_result"
    }
   ],
   "source": [
    "abs(w * w[-1, 0]).sum()"
   ]
  },
  {
   "cell_type": "code",
   "execution_count": null,
   "metadata": {},
   "outputs": [],
   "source": []
  }
 ],
 "metadata": {
  "kernelspec": {
   "display_name": "Python 3.8.10 64-bit",
   "language": "python",
   "name": "python3"
  },
  "language_info": {
   "codemirror_mode": {
    "name": "ipython",
    "version": 3
   },
   "file_extension": ".py",
   "mimetype": "text/x-python",
   "name": "python",
   "nbconvert_exporter": "python",
   "pygments_lexer": "ipython3",
   "version": "3.8.10"
  },
  "orig_nbformat": 4,
  "vscode": {
   "interpreter": {
    "hash": "916dbcbb3f70747c44a77c7bcd40155683ae19c65e1c03b4aa3499c5328201f1"
   }
  }
 },
 "nbformat": 4,
 "nbformat_minor": 2
}
