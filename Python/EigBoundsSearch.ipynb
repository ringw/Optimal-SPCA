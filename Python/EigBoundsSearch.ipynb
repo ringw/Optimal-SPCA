{
 "cells": [
  {
   "cell_type": "code",
   "execution_count": 2,
   "metadata": {},
   "outputs": [],
   "source": [
    "import dataclasses\n",
    "import numpy as np\n",
    "np.set_printoptions(linewidth = 150, precision = 4, suppress = True)"
   ]
  },
  {
   "cell_type": "code",
   "execution_count": null,
   "metadata": {},
   "outputs": [],
   "source": [
    "@dataclasses.dataclass\n",
    "class ESBounds:\n",
    "    \"\"\"Upper/lower parameter bounds on an eigensystem.\n",
    "\n",
    "    Number of dominant EV to be tracked will be specified, in case we optimize\n",
    "    the implementation later. If you will be adding k rank-one matrices to the\n",
    "    original matrix and then extracting one dominant EV, then this first\n",
    "    instance should be tracking k+1 EVs.\n",
    "    \"\"\"\n",
    "    \n",
    "    ev_lower: np.ndarray\n",
    "    ev_upper: np.ndarray\n",
    "    eigvec_estimate: np.ndarray\n",
    "    eigvec_angular_bound: np.ndarray\n",
    "    tracked_size: int\n",
    "\n",
    "    def create_update_vec(self, cov: np.ndarray, update_ind: int):\n",
    "        update_matrix_range = self.eigvec_estimate.T.dot(\n",
    "            cov[:, update_ind:update_ind + 1])\n",
    "        \n",
    "def singleton_ev(diag_entry: float, diag_loc: int, n_features: int, tracked_size: int):\n",
    "    eigvals = np.zeros([tracked_size])\n",
    "    eigvals[0] = diag_entry\n",
    "    eigvecs = np.zeros([n_features, 1])\n",
    "    eigvecs[diag_loc, 0] = 1.\n",
    "    return ESBounds(\n",
    "        eigvals,\n",
    "        eigvals,\n",
    "        eigvec_estimate=eigvecs,\n",
    "        eigvec_angular_bound=np.zeros([1]),\n",
    "        tracked_size=tracked_size,\n",
    "    )"
   ]
  }
 ],
 "metadata": {
  "kernelspec": {
   "display_name": "Python 3",
   "language": "python",
   "name": "python3"
  },
  "language_info": {
   "codemirror_mode": {
    "name": "ipython",
    "version": 3
   },
   "file_extension": ".py",
   "mimetype": "text/x-python",
   "name": "python",
   "nbconvert_exporter": "python",
   "pygments_lexer": "ipython3",
   "version": "3.8.10 (default, Jun 22 2022, 20:18:18) \n[GCC 9.4.0]"
  },
  "orig_nbformat": 4,
  "vscode": {
   "interpreter": {
    "hash": "916dbcbb3f70747c44a77c7bcd40155683ae19c65e1c03b4aa3499c5328201f1"
   }
  }
 },
 "nbformat": 4,
 "nbformat_minor": 2
}
