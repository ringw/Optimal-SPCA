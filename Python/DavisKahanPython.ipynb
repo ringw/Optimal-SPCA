{
 "cells": [
  {
   "cell_type": "code",
   "execution_count": 4,
   "metadata": {},
   "outputs": [],
   "source": [
    "import numpy as np\n",
    "import scipy.linalg\n",
    "np.set_printoptions(linewidth = 150, precision = 4, suppress = True)"
   ]
  },
  {
   "cell_type": "code",
   "execution_count": 5,
   "metadata": {},
   "outputs": [],
   "source": [
    "data = np.loadtxt('../NC-Data.csv', delimiter=',', dtype=str)\n",
    "data = data[1:].astype(np.float64)\n",
    "# Only take 10 columns for testing.\n",
    "# np.random.seed(4)\n",
    "def sample_hermitian(mat, choices):\n",
    "    return mat[:, choices][choices, :]\n",
    "# data = sample_hermitian(data, np.random.choice(data.shape[0], 10))\n",
    "# Synthesize columns holding observations, reproducing the cov matrix.\n",
    "raw_data = scipy.linalg.sqrtm(data)\n",
    "np.testing.assert_allclose(data, raw_data.T @ raw_data)"
   ]
  },
  {
   "cell_type": "code",
   "execution_count": 6,
   "metadata": {},
   "outputs": [
    {
     "data": {
      "text/plain": [
       "array([-1, -1, -1,  0, -1, -1, -1,  0, -1, -1, -1, -1,  1,  0, -1,  0, -1,  0, -1,  1,  0,  0, -1, -1, -1, -1,  0,  0,  0,  0,  0, -1,  0, -1, -1,\n",
       "       -1, -1,  0, -1, -1,  0,  0, -1,  0,  0,  0,  0, -1, -1,  0,  0,  0, -1, -1, -1,  0, -1,  0,  0,  0, -1,  0,  0, -1, -1, -1, -1,  0,  0,  0,\n",
       "       -1, -1, -1,  0, -1, -1, -1,  0, -1,  0,  0, -1,  1,  1,  1,  1, -1, -1, -1, -1, -1, -1, -1, -1, -1, -1, -1, -1, -1, -1,  0])"
      ]
     },
     "execution_count": 6,
     "metadata": {},
     "output_type": "execute_result"
    }
   ],
   "source": [
    "nodes = (\n",
    "    np.loadtxt('../NC-K7-Trace-Nodes.csv', delimiter=',', dtype=str)\n",
    ")[1:].astype(np.float64).astype(int)\n",
    "nodes[:, -1]"
   ]
  },
  {
   "cell_type": "code",
   "execution_count": 1,
   "metadata": {},
   "outputs": [],
   "source": [
    "import tensorflow as tf"
   ]
  },
  {
   "cell_type": "code",
   "execution_count": 24,
   "metadata": {},
   "outputs": [],
   "source": [
    "@tf.function\n",
    "def combination(n, p, x):\n",
    "    result = tf.TensorArray(ncr.dtype, size=p)\n",
    "    r = tf.constant(0, ncr.dtype)\n",
    "    k = tf.constant(0, ncr.dtype)\n",
    "    next_value = tf.constant(0, ncr.dtype)\n",
    "    for i in tf.range(p-1):\n",
    "        next_value += 1\n",
    "        index = tf.cast(i, tf.int64)\n",
    "        r = ncr[n-next_value, p-(index+1)]\n",
    "        k += r\n",
    "        while k < x:\n",
    "            next_value += 1\n",
    "            r = ncr[n-next_value, p-(index+1)]\n",
    "            k += r\n",
    "        k -= r\n",
    "        result = result.write(i, next_value)\n",
    "    result = result.write(p-1, next_value + x - k)\n",
    "    return result.stack()\n",
    "@tf.function\n",
    "def combinations_batch(n, k, start, limit):\n",
    "    return tf.map_fn(\n",
    "        lambda i: combination(n, k, i),\n",
    "        tf.range(start, limit),\n",
    "        dtype=tf.int64)\n",
    "@tf.function\n",
    "def select_hermitian(arr, inds):\n",
    "    # Select rows\n",
    "    arr = tf.gather(arr, inds)\n",
    "    # Select columns using transpose\n",
    "    return tf.gather(tf.transpose(arr), inds)\n",
    "@tf.function\n",
    "def select_columns(arr, col_inds):\n",
    "    return tf.transpose(\n",
    "        tf.gather(tf.transpose(arr), col_inds))"
   ]
  },
  {
   "cell_type": "code",
   "execution_count": 21,
   "metadata": {},
   "outputs": [
    {
     "data": {
      "text/plain": [
       "(array([20, 83, 85]), 3, 77)"
      ]
     },
     "execution_count": 21,
     "metadata": {},
     "output_type": "execute_result"
    }
   ],
   "source": [
    "np.random.seed(0)\n",
    "selected_node = np.random.choice(nodes.shape[1])\n",
    "selected_inds, = np.where(nodes[:, selected_node] == 1)\n",
    "allowed_inds, = np.where(nodes[:, selected_node] == -1)\n",
    "selected_inds, len(selected_inds), len(allowed_inds)"
   ]
  },
  {
   "cell_type": "code",
   "execution_count": 18,
   "metadata": {},
   "outputs": [],
   "source": [
    "import scipy.special"
   ]
  },
  {
   "cell_type": "code",
   "execution_count": 38,
   "metadata": {},
   "outputs": [],
   "source": [
    "u = tf.linalg.svd(\n",
    "    select_columns(raw_data, tf.constant(selected_inds))\n",
    ")[1][:, 0]\n",
    "# sigma (singular value which could be computed from svd)\n",
    "sigma = tf.linalg.norm(\n",
    "    tf.linalg.matmul(\n",
    "        select_columns(raw_data, tf.constant(selected_inds)),\n",
    "        u[:, None],\n",
    "        adjoint_a=True))"
   ]
  },
  {
   "cell_type": "code",
   "execution_count": 39,
   "metadata": {},
   "outputs": [],
   "source": [
    "# Spectral radius of the n x n, rank one matrix,\n",
    "# column * u' * u * column' for each column of raw_data.\n",
    "# We can take multiple columns of raw_data and take the\n",
    "# Gram matrix, instead of just one. Summing up A_op_norm\n",
    "# for the given columns is an argument that comes from\n",
    "# the trace of the resulting matrix and the fact that it\n",
    "# is rank-one.\n",
    "A_op_norm = tf.square(\n",
    "    tf.linalg.matmul(\n",
    "        raw_data,\n",
    "        u[:, None],\n",
    "        adjoint_a=True))"
   ]
  },
  {
   "cell_type": "code",
   "execution_count": null,
   "metadata": {},
   "outputs": [],
   "source": []
  }
 ],
 "metadata": {
  "kernelspec": {
   "display_name": "Python 3",
   "language": "python",
   "name": "python3"
  },
  "language_info": {
   "codemirror_mode": {
    "name": "ipython",
    "version": 3
   },
   "file_extension": ".py",
   "mimetype": "text/x-python",
   "name": "python",
   "nbconvert_exporter": "python",
   "pygments_lexer": "ipython3",
   "version": "3.8.10"
  },
  "orig_nbformat": 4,
  "vscode": {
   "interpreter": {
    "hash": "916dbcbb3f70747c44a77c7bcd40155683ae19c65e1c03b4aa3499c5328201f1"
   }
  }
 },
 "nbformat": 4,
 "nbformat_minor": 2
}
