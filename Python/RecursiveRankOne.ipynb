{
 "cells": [
  {
   "cell_type": "code",
   "execution_count": 2,
   "metadata": {},
   "outputs": [],
   "source": [
    "import numpy as np\n",
    "np.set_printoptions(linewidth = 200, precision = 4, suppress = True)"
   ]
  },
  {
   "cell_type": "code",
   "execution_count": 51,
   "metadata": {},
   "outputs": [
    {
     "data": {
      "text/plain": [
       "(101, 101)"
      ]
     },
     "execution_count": 51,
     "metadata": {},
     "output_type": "execute_result"
    }
   ],
   "source": [
    "data = np.loadtxt('../NC-Data.csv', delimiter=',', dtype=str)\n",
    "data = data[1:].astype(float)\n",
    "raw_data = np.linalg.cholesky(data).T\n",
    "data.shape"
   ]
  },
  {
   "cell_type": "code",
   "execution_count": 4,
   "metadata": {},
   "outputs": [
    {
     "data": {
      "text/plain": [
       "True"
      ]
     },
     "execution_count": 4,
     "metadata": {},
     "output_type": "execute_result"
    }
   ],
   "source": [
    "np.allclose(raw_data.T @ raw_data, data)"
   ]
  },
  {
   "cell_type": "code",
   "execution_count": 5,
   "metadata": {},
   "outputs": [
    {
     "data": {
      "text/plain": [
       "37.86214335491857"
      ]
     },
     "execution_count": 5,
     "metadata": {},
     "output_type": "execute_result"
    }
   ],
   "source": [
    "# Gershgorin upper bound on data dominant eigenvalue.\n",
    "def zd(mat):\n",
    "    mat = mat.copy()\n",
    "    np.fill_diagonal(mat, 0)\n",
    "    return mat\n",
    "max(np.abs(zd(data)).sum(axis=1))"
   ]
  },
  {
   "cell_type": "code",
   "execution_count": 6,
   "metadata": {},
   "outputs": [
    {
     "data": {
      "text/plain": [
       "25.582479205536025"
      ]
     },
     "execution_count": 6,
     "metadata": {},
     "output_type": "execute_result"
    }
   ],
   "source": [
    "max(np.linalg.eigvalsh(data))"
   ]
  },
  {
   "cell_type": "code",
   "execution_count": 7,
   "metadata": {},
   "outputs": [],
   "source": [
    "nodes = np.loadtxt('../NC-K7-Trace-Nodes.csv', delimiter=',', dtype=str)\n",
    "nodes = nodes[1:].astype(float)\n",
    "bounds = np.loadtxt('../NC-K7-Trace-Bounds.csv', delimiter=',', dtype=str)\n",
    "bounds = bounds[1:].astype(float)"
   ]
  },
  {
   "cell_type": "code",
   "execution_count": 8,
   "metadata": {},
   "outputs": [
    {
     "data": {
      "text/plain": [
       "(40, array([4.6441, 6.6205, 7.    ]), array([83, 85]))"
      ]
     },
     "execution_count": 8,
     "metadata": {},
     "output_type": "execute_result"
    }
   ],
   "source": [
    "# current = np.where((nodes == 1.).sum(axis=0) == 2)[0][0]\n",
    "current_state = 40\n",
    "selected = np.where(nodes[:, current_state] == 1.)[0]\n",
    "current_state, bounds[:, current_state], selected"
   ]
  },
  {
   "cell_type": "code",
   "execution_count": 9,
   "metadata": {},
   "outputs": [
    {
     "data": {
      "text/plain": [
       "19"
      ]
     },
     "execution_count": 9,
     "metadata": {},
     "output_type": "execute_result"
    }
   ],
   "source": [
    "# TODO: Treat properly before decomposition first zeroing out these other entries.\n",
    "np.sum(nodes[:, current_state] == 0)"
   ]
  },
  {
   "cell_type": "code",
   "execution_count": 10,
   "metadata": {},
   "outputs": [
    {
     "data": {
      "text/plain": [
       "True"
      ]
     },
     "execution_count": 10,
     "metadata": {},
     "output_type": "execute_result"
    }
   ],
   "source": [
    "np.allclose(raw_data[:, selected].T @ raw_data[:, selected], data[selected, :][:, selected])"
   ]
  },
  {
   "cell_type": "code",
   "execution_count": 11,
   "metadata": {},
   "outputs": [
    {
     "data": {
      "text/plain": [
       "array([1.4102, 0.1068])"
      ]
     },
     "execution_count": 11,
     "metadata": {},
     "output_type": "execute_result"
    }
   ],
   "source": [
    "rank_one_left_vector = np.linalg.svd(raw_data[:, selected])[0][:, 0:1]\n",
    "np.linalg.svd(raw_data[:, selected])[1]"
   ]
  },
  {
   "cell_type": "code",
   "execution_count": 34,
   "metadata": {},
   "outputs": [
    {
     "data": {
      "text/plain": [
       "array([[-0.0173,  0.1751, -0.2929,  0.1267,  0.5301,  0.0424, -0.3041, -0.2094, -0.2214, -0.2264,  0.0207,  0.3938,  0.5109, -0.1673, -0.3748, -0.0699,  0.627 ,  0.2888,  0.3845,  0.4127,  0.5586,\n",
       "        -0.1473,  0.5738,  0.5413, -0.1236, -0.0265, -0.5765,  0.5895, -0.4053,  0.0228, -0.3617, -0.3963,  0.1032, -0.1819, -0.0858, -0.0948,  0.1427, -0.0795, -0.0712, -0.0431, -0.0511,  0.3653,\n",
       "         0.3695,  0.3885,  0.3816, -0.2469,  0.1397, -0.0142,  0.0271,  0.2503,  0.287 ,  0.0239, -0.2841,  0.197 , -0.0882,  0.2573, -0.322 , -0.3081,  0.1181, -0.3215,  0.9014,  0.889 ,  0.8674,\n",
       "         0.9599,  0.9971,  0.9823,  0.9971,  0.0674,  0.6304,  0.0342, -0.0386,  0.0078,  0.4814, -0.4117,  0.0932, -0.0928, -0.1377, -0.0514,  0.2106,  0.3542, -0.0331, -0.2409]])"
      ]
     },
     "execution_count": 34,
     "metadata": {},
     "output_type": "execute_result"
    }
   ],
   "source": [
    "rank_one_updates = rank_one_left_vector.T @ raw_data[:, nodes[:, current_state] != 0]\n",
    "rank_one_updates"
   ]
  },
  {
   "cell_type": "code",
   "execution_count": 47,
   "metadata": {},
   "outputs": [
    {
     "data": {
      "text/plain": [
       "array([-0.    , -0.    , -0.    , -0.    , -0.    , -0.    , -0.    , -0.    , -0.    , -0.    , -0.    , -0.    , -0.    , -0.    , -0.    , -0.    , -0.    , -0.    , -0.    , -0.    , -0.    ,\n",
       "       -0.    , -0.    , -0.    , -0.    , -0.    , -0.    , -0.    , -0.    , -0.    , -0.    , -0.    , -0.    , -0.    , -0.    , -0.    , -0.    , -0.    , -0.    , -0.    , -0.    ,  0.    ,\n",
       "        0.    ,  0.    ,  0.    ,  0.    ,  0.    ,  0.    ,  0.    ,  0.    ,  0.    ,  0.    ,  0.    ,  0.    ,  0.    ,  0.    ,  0.    ,  0.    ,  0.    ,  0.    ,  0.    ,  0.    ,  0.    ,\n",
       "        0.    ,  0.    ,  0.    ,  0.    ,  0.    ,  0.    ,  0.    ,  0.    ,  0.    ,  0.    ,  0.    ,  0.    ,  0.    ,  0.    ,  0.    ,  0.    ,  0.    ,  0.    , 12.8443])"
      ]
     },
     "execution_count": 47,
     "metadata": {},
     "output_type": "execute_result"
    }
   ],
   "source": [
    "rank_one_proj_data = rank_one_updates.T @ rank_one_updates\n",
    "np.linalg.eigvalsh(rank_one_proj_data)"
   ]
  },
  {
   "cell_type": "code",
   "execution_count": 14,
   "metadata": {},
   "outputs": [
    {
     "data": {
      "text/plain": [
       "100"
      ]
     },
     "execution_count": 14,
     "metadata": {},
     "output_type": "execute_result"
    }
   ],
   "source": [
    "residual_data = raw_data - rank_one_left_vector @ rank_one_left_vector.T @ raw_data\n",
    "np.linalg.matrix_rank(residual_data)"
   ]
  },
  {
   "cell_type": "code",
   "execution_count": 15,
   "metadata": {},
   "outputs": [
    {
     "data": {
      "text/plain": [
       "array([[ 0.9997, -0.0431,  0.2261, ...,  0.2765,  0.4658,  0.363 ],\n",
       "       [-0.0431,  0.9693, -0.0158, ..., -0.1135, -0.0886,  0.0073],\n",
       "       [ 0.2261, -0.0158,  0.9142, ...,  0.2508,  0.2511,  0.5607],\n",
       "       ...,\n",
       "       [ 0.2765, -0.1135,  0.2508, ...,  0.8745,  0.2184,  0.2391],\n",
       "       [ 0.4658, -0.0886,  0.2511, ...,  0.2184,  0.9989,  0.3406],\n",
       "       [ 0.363 ,  0.0073,  0.5607, ...,  0.2391,  0.3406,  0.942 ]])"
      ]
     },
     "execution_count": 15,
     "metadata": {},
     "output_type": "execute_result"
    }
   ],
   "source": [
    "residual_data.T @ residual_data"
   ]
  },
  {
   "cell_type": "code",
   "execution_count": 16,
   "metadata": {},
   "outputs": [
    {
     "data": {
      "text/plain": [
       "array([4.4848, 3.0916, 2.8783, 2.4244, 2.0752, 1.9912, 1.76  , 1.5649, 1.3619, 1.2528, 1.223 , 1.1864, 1.0376, 0.98  , 0.9477, 0.9309, 0.8695, 0.8458, 0.8151, 0.7996, 0.7732, 0.7443, 0.7366, 0.716 ,\n",
       "       0.6974, 0.6836, 0.6762, 0.6554, 0.6336, 0.6175, 0.6142, 0.5951, 0.5794, 0.5478, 0.538 , 0.5337, 0.5157, 0.5002, 0.4949, 0.481 , 0.4701, 0.4586, 0.4501, 0.4386, 0.4246, 0.4064, 0.401 , 0.3767,\n",
       "       0.3757, 0.355 , 0.3379, 0.3297, 0.3253, 0.3171, 0.2994, 0.2866, 0.2782, 0.2714, 0.2636, 0.2582, 0.2529, 0.2489, 0.244 , 0.2271, 0.2242, 0.2184, 0.2132, 0.2044, 0.2007, 0.1951, 0.1888, 0.1835,\n",
       "       0.1784, 0.1773, 0.1674, 0.1603, 0.1549, 0.15  , 0.1463, 0.1419, 0.136 , 0.1332, 0.1312, 0.1245, 0.1161, 0.1084, 0.0967, 0.0916, 0.0773, 0.0766, 0.0721, 0.0641, 0.0616, 0.0522, 0.0451, 0.0421,\n",
       "       0.0361, 0.0333, 0.0284, 0.0251, 0.    ])"
      ]
     },
     "execution_count": 16,
     "metadata": {},
     "output_type": "execute_result"
    }
   ],
   "source": [
    "np.linalg.svd(residual_data)[1]"
   ]
  },
  {
   "cell_type": "code",
   "execution_count": 17,
   "metadata": {},
   "outputs": [
    {
     "data": {
      "text/plain": [
       "4.749309933185232"
      ]
     },
     "execution_count": 17,
     "metadata": {},
     "output_type": "execute_result"
    }
   ],
   "source": [
    "data_zd = np.abs(zd(data)[:, nodes[:, current_state] == -1])\n",
    "data_zd = np.sort(data_zd, axis=1)\n",
    "max(data_zd[:, -5:].sum(axis=1))"
   ]
  },
  {
   "cell_type": "code",
   "execution_count": 18,
   "metadata": {},
   "outputs": [
    {
     "data": {
      "text/plain": [
       "4.537432268659807"
      ]
     },
     "execution_count": 18,
     "metadata": {},
     "output_type": "execute_result"
    }
   ],
   "source": [
    "data_zd = np.abs(zd(residual_data.T @ residual_data)[:, nodes[:, current_state] == -1])\n",
    "data_zd = np.sort(data_zd, axis=1)\n",
    "max(data_zd[:, -5:].sum(axis=1))"
   ]
  },
  {
   "cell_type": "code",
   "execution_count": 19,
   "metadata": {},
   "outputs": [
    {
     "data": {
      "text/plain": [
       "array([[0.]])"
      ]
     },
     "execution_count": 19,
     "metadata": {},
     "output_type": "execute_result"
    }
   ],
   "source": [
    "np.linalg.svd(residual_data)[0][:, 0:1].T @ rank_one_left_vector"
   ]
  },
  {
   "cell_type": "code",
   "execution_count": 20,
   "metadata": {},
   "outputs": [
    {
     "data": {
      "text/plain": [
       "array([[0.2378]])"
      ]
     },
     "execution_count": 20,
     "metadata": {},
     "output_type": "execute_result"
    }
   ],
   "source": [
    "np.linalg.svd(residual_data)[2][0:1, :] @ np.linalg.svd(rank_one_left_vector @ rank_one_left_vector.T @ raw_data)[2][0:1, :].T"
   ]
  },
  {
   "cell_type": "code",
   "execution_count": 31,
   "metadata": {},
   "outputs": [
    {
     "data": {
      "text/plain": [
       "6.262943805388188"
      ]
     },
     "execution_count": 31,
     "metadata": {},
     "output_type": "execute_result"
    }
   ],
   "source": [
    "data_zd = np.abs(zd(data[nodes[:, current_state] != 0, :][:, nodes[:, current_state] != 0]))\n",
    "data_zd = np.sort(data_zd, axis=1)\n",
    "max(data_zd[:, -7:].sum(axis=1))"
   ]
  },
  {
   "cell_type": "code",
   "execution_count": 75,
   "metadata": {},
   "outputs": [
    {
     "data": {
      "text/plain": [
       "5.994257985010179"
      ]
     },
     "execution_count": 75,
     "metadata": {},
     "output_type": "execute_result"
    }
   ],
   "source": [
    "data_zd = np.abs(zd((residual_data.T @ residual_data)[nodes[:, current_state] != 0, :][:, nodes[:, current_state] != 0]))\n",
    "data_zd = np.sort(data_zd, axis=1)\n",
    "max(data_zd[:, -7:].sum(axis=1))"
   ]
  },
  {
   "attachments": {},
   "cell_type": "markdown",
   "metadata": {},
   "source": [
    "### Ipsen et. al's perturbation bound\n",
    "\n",
    "Start with the rank one matrix, and apply a perturbation (residuals). We can slice K rows and columns of the rank-one matrix, and easily compute the new eigenvector to be perturbed. The benefit is that we can multiply the perturbation matrix on the right by a normed eigenvector. However, we don't actually know which elements will be chosen, and only want to take those K elements from the eigenvector and norm that vector. Gershgorin code was adapted, however, we actually need to norm K elements of the vector after matrix multplication, which we did not do here. So the correct implementation might similarly perform worse than plain Gershgorin."
   ]
  },
  {
   "cell_type": "code",
   "execution_count": 49,
   "metadata": {},
   "outputs": [
    {
     "data": {
      "text/plain": [
       "array([[ 0.9997, -0.0431,  0.2261, ...,  0.2765,  0.4658,  0.363 ],\n",
       "       [-0.0431,  0.9693, -0.0158, ..., -0.1135, -0.0886,  0.0073],\n",
       "       [ 0.2261, -0.0158,  0.9142, ...,  0.2508,  0.2511,  0.5607],\n",
       "       ...,\n",
       "       [ 0.2765, -0.1135,  0.2508, ...,  0.8745,  0.2184,  0.2391],\n",
       "       [ 0.4658, -0.0886,  0.2511, ...,  0.2184,  0.9989,  0.3406],\n",
       "       [ 0.363 ,  0.0073,  0.5607, ...,  0.2391,  0.3406,  0.942 ]])"
      ]
     },
     "execution_count": 49,
     "metadata": {},
     "output_type": "execute_result"
    }
   ],
   "source": [
    "(residual_data.T @ residual_data)[nodes[:, current_state] != 0, :][:, nodes[:, current_state] != 0]"
   ]
  },
  {
   "cell_type": "code",
   "execution_count": 72,
   "metadata": {},
   "outputs": [
    {
     "data": {
      "text/plain": [
       "6.643969368018722"
      ]
     },
     "execution_count": 72,
     "metadata": {},
     "output_type": "execute_result"
    }
   ],
   "source": [
    "rank_one_updates_normalizer = 1. / np.linalg.norm(sorted(rank_one_updates[0, :])[0:7])\n",
    "data_zd = rank_one_updates_normalizer * np.abs(rank_one_updates * (residual_data.T @ residual_data)[nodes[:, current_state] != 0, :][:, nodes[:, current_state] != 0])\n",
    "data_zd += (rank_one_updates ** 2)\n",
    "data_zd = zd(data_zd)\n",
    "data_zd = np.sort(data_zd, axis=-1)\n",
    "max(data_zd[:, -7:].sum(axis=1))"
   ]
  },
  {
   "cell_type": "code",
   "execution_count": 111,
   "metadata": {},
   "outputs": [
    {
     "data": {
      "text/plain": [
       "71523144.0"
      ]
     },
     "execution_count": 111,
     "metadata": {},
     "output_type": "execute_result"
    }
   ],
   "source": [
    "# Can we brute-force Ipsen et. al until we have an analytic solution to optimize subset?\n",
    "import scipy.special\n",
    "scipy.special.binom(101 - 2, 5)"
   ]
  },
  {
   "cell_type": "code",
   "execution_count": 115,
   "metadata": {},
   "outputs": [],
   "source": [
    "ipsen_subset = np.zeros(101, bool)\n",
    "ipsen_subset[np.asarray(list(selected) + [0, 1, 2, 3, 4])] = 1"
   ]
  },
  {
   "cell_type": "code",
   "execution_count": 136,
   "metadata": {},
   "outputs": [
    {
     "data": {
      "text/plain": [
       "2.60530318106641"
      ]
     },
     "execution_count": 136,
     "metadata": {},
     "output_type": "execute_result"
    }
   ],
   "source": [
    "# Exact solution (can't do this combinatorially)\n",
    "np.linalg.eigvalsh(data[ipsen_subset, :][:, ipsen_subset]).max()"
   ]
  },
  {
   "cell_type": "code",
   "execution_count": 137,
   "metadata": {},
   "outputs": [
    {
     "data": {
      "text/plain": [
       "3.144985719959683"
      ]
     },
     "execution_count": 137,
     "metadata": {},
     "output_type": "execute_result"
    }
   ],
   "source": [
    "# Gershgorin solution (not a tight upper bound)\n",
    "abs(data[ipsen_subset, :][:, ipsen_subset]).sum(axis=1).max()"
   ]
  },
  {
   "cell_type": "code",
   "execution_count": 138,
   "metadata": {},
   "outputs": [
    {
     "data": {
      "text/plain": [
       "2.750902237607125"
      ]
     },
     "execution_count": 138,
     "metadata": {},
     "output_type": "execute_result"
    }
   ],
   "source": [
    "# Ipsen: L2 norm of general update mat * unperturbed eigenvector.\n",
    "# We are dealing with terms which are square rooted vs terms which are not, but\n",
    "# maybe we can select optimal subset without brute-force.\n",
    "rank_one_trace = (rank_one_updates ** 2)[0, ipsen_subset[nodes[:, current_state] != 0]].sum()\n",
    "ipsen_matrix = (residual_data.T @ residual_data)[ipsen_subset, :][:, ipsen_subset]\n",
    "ipsen_vec = rank_one_updates[:, ipsen_subset[nodes[:, current_state] != 0]].T\n",
    "ipsen_vec /= np.linalg.norm(ipsen_vec)\n",
    "rank_one_trace + np.linalg.norm(ipsen_matrix @ ipsen_vec)"
   ]
  },
  {
   "attachments": {},
   "cell_type": "markdown",
   "metadata": {},
   "source": [
    "### Zhu's rank-one update bounds\n",
    "\n",
    "These bounds require the neighboring eigenvalue, and not only the eigenvalue of interest. Smaller neighboring eigenvalue must be upper-bounded, because a smaller gap leads to more involvement in the update. Upper bound on the neighbor (using the trace) requires lower bound on the dominant eigenvalue.\n",
    "\n",
    "If the gap is 0, then the quality of the bound degrades to adding the trace of the rank-one matrix."
   ]
  },
  {
   "cell_type": "code",
   "execution_count": 102,
   "metadata": {},
   "outputs": [
    {
     "data": {
      "text/plain": [
       "(5.994257985010179, 3.138000398147341, -0.7239992037053176)"
      ]
     },
     "execution_count": 102,
     "metadata": {},
     "output_type": "execute_result"
    }
   ],
   "source": [
    "data_zd = np.abs(zd((residual_data.T @ residual_data)[nodes[:, current_state] != 0, :][:, nodes[:, current_state] != 0]))\n",
    "data_zd = np.sort(data_zd, axis=1)\n",
    "residual_data_gersh = max(data_zd[:, -7:].sum(axis=1))\n",
    "data_trunc = np.linalg.svd(residual_data)[2][0:1, :].T\n",
    "data_trunc[np.argsort(np.abs(data_trunc[:, 0]))[:-7]] = 0\n",
    "# data_trunc = residual_data.T @ residual_data @ data_trunc\n",
    "# data_trunc[np.argsort(np.abs(data_trunc[:, 0]))[:-7]] = 0\n",
    "data_trunc[data_trunc[:, 0] != 0, 0] = np.linalg.svd(residual_data[:, data_trunc[:, 0] != 0])[2][0, :]\n",
    "data_trunc /= np.linalg.norm(data_trunc)\n",
    "\n",
    "resid_trunc = residual_data.copy()\n",
    "resid_trunc[data_trunc[:, 0] == 0, :] = 0\n",
    "resid_trunc[:, data_trunc[:, 0] == 0] = 0\n",
    "resid_trunc_power = resid_trunc.T @ resid_trunc @ data_trunc\n",
    "residual_data_power = (data_trunc.T @ resid_trunc_power)[0, 0]\n",
    "zhu_gap = residual_data_power - (7. - residual_data_power)\n",
    "residual_data_gersh, residual_data_power, zhu_gap"
   ]
  },
  {
   "cell_type": "code",
   "execution_count": 106,
   "metadata": {},
   "outputs": [
    {
     "data": {
      "text/plain": [
       "9.408235196250924"
      ]
     },
     "execution_count": 106,
     "metadata": {},
     "output_type": "execute_result"
    }
   ],
   "source": [
    "# What if the gap is at least 1?\n",
    "# Also need to guess x_1 upper bound (cosine similarity of residual )\n",
    "# Guess 0.5 for now.\n",
    "residual_data_gersh + (np.linalg.norm(rank_one_updates) - 1. + np.sqrt(\n",
    "    (1. + np.linalg.norm(rank_one_updates)) ** 2\n",
    "    - 4 * 1. * (1. - 0.5 ** 2)\n",
    ")) / 2."
   ]
  },
  {
   "cell_type": "code",
   "execution_count": null,
   "metadata": {},
   "outputs": [],
   "source": []
  }
 ],
 "metadata": {
  "kernelspec": {
   "display_name": "Python 3",
   "language": "python",
   "name": "python3"
  },
  "language_info": {
   "codemirror_mode": {
    "name": "ipython",
    "version": 3
   },
   "file_extension": ".py",
   "mimetype": "text/x-python",
   "name": "python",
   "nbconvert_exporter": "python",
   "pygments_lexer": "ipython3",
   "version": "3.8.10"
  },
  "orig_nbformat": 4,
  "vscode": {
   "interpreter": {
    "hash": "916dbcbb3f70747c44a77c7bcd40155683ae19c65e1c03b4aa3499c5328201f1"
   }
  }
 },
 "nbformat": 4,
 "nbformat_minor": 2
}
