{
 "cells": [
  {
   "attachments": {},
   "cell_type": "markdown",
   "metadata": {},
   "source": [
    "### Test greediness of Ipsen perturbation bound Sparse PCA\n",
    "\n",
    "Guess the Sparse PCA solution, then multiply through by the original matrix of observations to create a \"pseudo left singular vector\" U. Now, if we had a change-of-basis of the observations, then the loading along the basis vector U should be the most important dimension to consider. First project the variables onto U (take a multiple of e_1 in the new basis). Then the Sparse PCA heuristic should be somewhat greedy about the squared magnitude. However, also zero out this first dimension and compute a new residual covariance matrix, which we still need (it is not a greedy algorithm). Use the spectral radius of Sigma_U (rank-one covariance matrix) and the matrix-vector multiplication of Sigma_residual (via Ipsen et al):\n",
    "\n",
    "|| Sigma_U || + || Sigma_residual * V ||\n",
    "\n",
    "Where V is a right-singular vector corresponding to the left-singular vector U.\n",
    "\n",
    "|| Sigma_U || should be the larger term if the initial heuristic was good. Variables are selected using a zero-one vector z: {0,1}^n\n",
    "\n",
    "sum_i z_i * <x_i, U>^2 + || Diag(z) Sigma_residual Diag(z) V || / || Diag(z) V ||\n",
    "\n",
    "In this notebook, we simply want to plot one of the optimal solutions which we found, and see whether <x_i, U> strongly influences whether the variable is optimal, or maybe whether variables can be discarded early."
   ]
  },
  {
   "cell_type": "code",
   "execution_count": 31,
   "metadata": {},
   "outputs": [],
   "source": [
    "import matplotlib.pyplot as plt\n",
    "import numpy as np\n",
    "np.set_printoptions(linewidth = 150, precision = 4, suppress = True)"
   ]
  },
  {
   "cell_type": "code",
   "execution_count": 32,
   "metadata": {},
   "outputs": [
    {
     "data": {
      "text/plain": [
       "array([[ 1.    , -0.0461,  0.2312, ...,  0.2704,  0.4664,  0.3672],\n",
       "       [-0.0461,  1.    , -0.0671, ..., -0.0515, -0.0944, -0.0349],\n",
       "       [ 0.2312, -0.0671,  1.    , ...,  0.147 ,  0.2608,  0.6313],\n",
       "       ...,\n",
       "       [ 0.2704, -0.0515,  0.147 , ...,  1.    ,  0.2066,  0.1538],\n",
       "       [ 0.4664, -0.0944,  0.2608, ...,  0.2066,  1.    ,  0.3486],\n",
       "       [ 0.3672, -0.0349,  0.6313, ...,  0.1538,  0.3486,  1.    ]])"
      ]
     },
     "execution_count": 32,
     "metadata": {},
     "output_type": "execute_result"
    }
   ],
   "source": [
    "\n",
    "# Covariance matrix.\n",
    "data = np.loadtxt('../NC-Data.csv', delimiter=',', dtype=str)\n",
    "data = data[1:].astype(float)\n",
    "# Synthesize columns holding observations, reproducing the cov matrix.\n",
    "raw_data = np.linalg.cholesky(data).T\n",
    "np.testing.assert_allclose(data, raw_data.T @ raw_data)\n",
    "data"
   ]
  },
  {
   "cell_type": "code",
   "execution_count": 34,
   "metadata": {},
   "outputs": [],
   "source": [
    "# Output traced from Julia program. The node is in {-1,0,1}^n\n",
    "# and we are particularly interested in selected 1 values (the\n",
    "# variable at index i must be included in the solution).\n",
    "nodes = np.loadtxt('../NC-K7-Trace-Nodes.csv', delimiter=',', dtype=str)\n",
    "nodes = nodes[1:].astype(float)"
   ]
  },
  {
   "cell_type": "code",
   "execution_count": 36,
   "metadata": {},
   "outputs": [
    {
     "data": {
      "text/plain": [
       "42"
      ]
     },
     "execution_count": 36,
     "metadata": {},
     "output_type": "execute_result"
    }
   ],
   "source": [
    "# Pick the first node visited where 3 variables have the indicator variable set to 1.\n",
    "np.argmax((nodes == 1).sum(axis=0) == 3)"
   ]
  },
  {
   "cell_type": "code",
   "execution_count": 37,
   "metadata": {},
   "outputs": [
    {
     "data": {
      "text/plain": [
       "array([ 3, 83, 85])"
      ]
     },
     "execution_count": 37,
     "metadata": {},
     "output_type": "execute_result"
    }
   ],
   "source": [
    "selected = np.where(nodes[:, 42] == 1)[0]\n",
    "selected"
   ]
  },
  {
   "cell_type": "code",
   "execution_count": 39,
   "metadata": {},
   "outputs": [],
   "source": [
    "# opt_inds determined in a separate brute-force script for the selected node.\n",
    "# Using selected and opt_inds is the Sparse PCA solution for k = 7.\n",
    "opt_inds = [79, 80, 81, 84]"
   ]
  },
  {
   "cell_type": "code",
   "execution_count": 40,
   "metadata": {},
   "outputs": [],
   "source": [
    "# Left singular vector with the greatest singular value. For this\n",
    "# demo, we will work with raw_data. The alternative is doing most\n",
    "# of the computations on the symmetric eigensystem (probably\n",
    "# preferable), and multiplying through by raw_data once, then\n",
    "# dividing by L2 norm, to calculate U.\n",
    "U = np.linalg.svd(raw_data[:, selected], full_matrices=0)[0][:, 0]\n",
    "# Inner products of the observations x with the left singular vector U.\n",
    "XU = raw_data.T @ U"
   ]
  },
  {
   "cell_type": "code",
   "execution_count": 41,
   "metadata": {},
   "outputs": [
    {
     "data": {
      "text/plain": [
       "[<matplotlib.lines.Line2D at 0x7f4df46575e0>]"
      ]
     },
     "execution_count": 41,
     "metadata": {},
     "output_type": "execute_result"
    },
    {
     "data": {
      "image/png": "[encoded data removed]",
      "text/plain": [
       "<Figure size 432x288 with 1 Axes>"
      ]
     },
     "metadata": {
      "needs_background": "light"
     },
     "output_type": "display_data"
    }
   ],
   "source": [
    "# Is U a good pseudo-singular vector? Do we have >>k variables\n",
    "# which all would have a large loading along the basis vector U,\n",
    "# so the k variables probably have good correlation with each\n",
    "# other? Note that the correlation between variables is not\n",
    "# captured by this plot. At 1.0, correlation would also be 1.0,\n",
    "# but maybe there are not k variables exactly at a value of 1.0\n",
    "# and we move down the list substantially to find k variables\n",
    "# all with strong correlation with each other.\n",
    "plt.plot(np.sort(XU ** 2))"
   ]
  },
  {
   "cell_type": "code",
   "execution_count": 42,
   "metadata": {},
   "outputs": [
    {
     "data": {
      "image/png": "[encoded data removed]",
      "text/plain": [
       "<Figure size 432x288 with 1 Axes>"
      ]
     },
     "metadata": {
      "needs_background": "light"
     },
     "output_type": "display_data"
    }
   ],
   "source": [
    "select_variables = np.argsort(XU ** 2)\n",
    "select_variables_inverse = np.argsort(select_variables)\n",
    "plt.plot(XU[select_variables] ** 2)\n",
    "for loc in selected:\n",
    "    loc = select_variables_inverse[loc]\n",
    "    plt.plot([loc, loc], [0, 1], 'blue')\n",
    "for loc in opt_inds:\n",
    "    loc = select_variables_inverse[loc]\n",
    "    plt.plot([loc, loc], [0, 1], 'red')"
   ]
  },
  {
   "cell_type": "code",
   "execution_count": null,
   "metadata": {},
   "outputs": [],
   "source": []
  }
 ],
 "metadata": {
  "kernelspec": {
   "display_name": "Python 3",
   "language": "python",
   "name": "python3"
  },
  "language_info": {
   "codemirror_mode": {
    "name": "ipython",
    "version": 3
   },
   "file_extension": ".py",
   "mimetype": "text/x-python",
   "name": "python",
   "nbconvert_exporter": "python",
   "pygments_lexer": "ipython3",
   "version": "3.8.10"
  },
  "orig_nbformat": 4,
  "vscode": {
   "interpreter": {
    "hash": "916dbcbb3f70747c44a77c7bcd40155683ae19c65e1c03b4aa3499c5328201f1"
   }
  }
 },
 "nbformat": 4,
 "nbformat_minor": 2
}
