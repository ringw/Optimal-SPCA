{
 "cells": [
  {
   "cell_type": "code",
   "execution_count": 27,
   "metadata": {},
   "outputs": [],
   "source": [
    "import numpy as np\n",
    "np.set_printoptions(linewidth = 150, precision = 4, suppress = True)"
   ]
  },
  {
   "cell_type": "code",
   "execution_count": 2,
   "metadata": {},
   "outputs": [
    {
     "data": {
      "text/plain": [
       "array([[ 1.    , -0.0461,  0.2312, ...,  0.2704,  0.4664,  0.3672],\n",
       "       [-0.0461,  1.    , -0.0671, ..., -0.0515, -0.0944, -0.0349],\n",
       "       [ 0.2312, -0.0671,  1.    , ...,  0.147 ,  0.2608,  0.6313],\n",
       "       ...,\n",
       "       [ 0.2704, -0.0515,  0.147 , ...,  1.    ,  0.2066,  0.1538],\n",
       "       [ 0.4664, -0.0944,  0.2608, ...,  0.2066,  1.    ,  0.3486],\n",
       "       [ 0.3672, -0.0349,  0.6313, ...,  0.1538,  0.3486,  1.    ]])"
      ]
     },
     "execution_count": 2,
     "metadata": {},
     "output_type": "execute_result"
    }
   ],
   "source": [
    "data = np.loadtxt('../NC-Data.csv', delimiter=',', dtype=str)\n",
    "data = data[1:].astype(float)\n",
    "data"
   ]
  },
  {
   "cell_type": "code",
   "execution_count": 3,
   "metadata": {},
   "outputs": [],
   "source": [
    "nodes = np.loadtxt('../NC-K7-Trace-Nodes.csv', delimiter=',', dtype=str)\n",
    "nodes = nodes[1:].astype(float)\n",
    "bounds = np.loadtxt('../NC-K7-Trace-Bounds.csv', delimiter=',', dtype=str)\n",
    "bounds = bounds[1:].astype(float)"
   ]
  },
  {
   "cell_type": "code",
   "execution_count": 4,
   "metadata": {},
   "outputs": [
    {
     "data": {
      "text/plain": [
       "42"
      ]
     },
     "execution_count": 4,
     "metadata": {},
     "output_type": "execute_result"
    }
   ],
   "source": [
    "np.argmax((nodes == 1).sum(axis=0) == 3)"
   ]
  },
  {
   "cell_type": "code",
   "execution_count": 5,
   "metadata": {},
   "outputs": [
    {
     "data": {
      "text/plain": [
       "array([4.1355, 5.8707, 7.    ])"
      ]
     },
     "execution_count": 5,
     "metadata": {},
     "output_type": "execute_result"
    }
   ],
   "source": [
    "bounds[:, 42]"
   ]
  },
  {
   "cell_type": "code",
   "execution_count": 6,
   "metadata": {},
   "outputs": [
    {
     "data": {
      "text/plain": [
       "array([ 3, 83, 85])"
      ]
     },
     "execution_count": 6,
     "metadata": {},
     "output_type": "execute_result"
    }
   ],
   "source": [
    "selected = np.where(nodes[:, 42] == 1)[0]\n",
    "selected"
   ]
  },
  {
   "cell_type": "code",
   "execution_count": 1,
   "metadata": {},
   "outputs": [
    {
     "data": {
      "text/plain": [
       "120"
      ]
     },
     "execution_count": 1,
     "metadata": {},
     "output_type": "execute_result"
    }
   ],
   "source": [
    "import scipy.special\n",
    "def ncr(n,k):\n",
    "    return int(scipy.special.binom(n,k))\n",
    "ncr(10,3)"
   ]
  },
  {
   "cell_type": "code",
   "execution_count": 18,
   "metadata": {},
   "outputs": [],
   "source": [
    "def combination(n, p, x):\n",
    "    result = [None for i in range(p)]\n",
    "    r = 0\n",
    "    k = 0\n",
    "    for i in range(p-1):\n",
    "        result[i] = result[i-1] if i>0 else 0\n",
    "        result[i] += 1\n",
    "        r = ncr(n-result[i], p-(i+1))\n",
    "        k += r\n",
    "        while k < x:\n",
    "            result[i] += 1\n",
    "            r = ncr(n-result[i], p-(i+1))\n",
    "            k += r\n",
    "        k -= r\n",
    "    result[p-1] = result[p-2] + x - k\n",
    "    return result"
   ]
  },
  {
   "cell_type": "code",
   "execution_count": 24,
   "metadata": {},
   "outputs": [],
   "source": [
    "import tensorflow as tf"
   ]
  },
  {
   "cell_type": "code",
   "execution_count": 63,
   "metadata": {},
   "outputs": [],
   "source": [
    "def pascal(n, max_k=None):\n",
    "    max_k = n if max_k is None else max_k\n",
    "    result = np.zeros([n,n], np.int64)\n",
    "    result[:, 0] = 1\n",
    "    for i in range(1, n):\n",
    "        for j in range(1, min(i+1, max_k)):\n",
    "            result[i, j] = result[i-1, j-1] + result[i-1, j]\n",
    "    return result"
   ]
  },
  {
   "cell_type": "code",
   "execution_count": 64,
   "metadata": {},
   "outputs": [],
   "source": [
    "ncr = tf.constant(pascal(101, 10))"
   ]
  },
  {
   "cell_type": "code",
   "execution_count": 66,
   "metadata": {},
   "outputs": [
    {
     "data": {
      "text/plain": [
       "1902231808400"
      ]
     },
     "execution_count": 66,
     "metadata": {},
     "output_type": "execute_result"
    }
   ],
   "source": [
    "ncr.numpy().max()"
   ]
  },
  {
   "cell_type": "code",
   "execution_count": 82,
   "metadata": {},
   "outputs": [],
   "source": [
    "@tf.function(jit_compile=True)\n",
    "def combination(n, p, x):\n",
    "    result = tf.TensorArray(ncr.dtype, size=p)\n",
    "    r = tf.constant(0, ncr.dtype)\n",
    "    k = tf.constant(0, ncr.dtype)\n",
    "    next_value = tf.constant(0, ncr.dtype)\n",
    "    for i in tf.range(p-1):\n",
    "        next_value += 1\n",
    "        index = tf.cast(i, tf.int64)\n",
    "        r = ncr[n-next_value, p-(index+1)]\n",
    "        k += r\n",
    "        while k < x:\n",
    "            next_value += 1\n",
    "            r = ncr[n-next_value, p-(index+1)]\n",
    "            k += r\n",
    "        k -= r\n",
    "        result = result.write(i, next_value)\n",
    "    result = result.write(p-1, next_value + x - k)\n",
    "    return result.stack()"
   ]
  },
  {
   "cell_type": "code",
   "execution_count": 77,
   "metadata": {},
   "outputs": [],
   "source": [
    "@tf.function(jit_compile=True)\n",
    "def combinations_batch(n, k, start, limit):\n",
    "    return tf.map_fn(\n",
    "        lambda i: combination(n, k, i),\n",
    "        tf.range(start, limit),\n",
    "        dtype=tf.int64)"
   ]
  },
  {
   "cell_type": "code",
   "execution_count": 50,
   "metadata": {},
   "outputs": [
    {
     "data": {
      "text/plain": [
       "<tf.Tensor: shape=(3,), dtype=int32, numpy=array([ 1,  3, 10], dtype=int32)>"
      ]
     },
     "execution_count": 50,
     "metadata": {},
     "output_type": "execute_result"
    }
   ],
   "source": [
    "combination(tf.constant(10), 3, tf.constant(15))"
   ]
  },
  {
   "cell_type": "code",
   "execution_count": 85,
   "metadata": {},
   "outputs": [
    {
     "data": {
      "text/plain": [
       "45.0"
      ]
     },
     "execution_count": 85,
     "metadata": {},
     "output_type": "execute_result"
    }
   ],
   "source": [
    "scipy.special.binom(10, 8)"
   ]
  },
  {
   "cell_type": "code",
   "execution_count": 86,
   "metadata": {},
   "outputs": [
    {
     "data": {
      "text/plain": [
       "<tf.Tensor: shape=(45, 8), dtype=int64, numpy=\n",
       "array([[ 1,  2,  3,  4,  5,  6,  7,  7],\n",
       "       [ 1,  2,  3,  4,  5,  6,  7,  8],\n",
       "       [ 1,  2,  3,  4,  5,  6,  7,  9],\n",
       "       [ 1,  2,  3,  4,  5,  6,  7, 10],\n",
       "       [ 1,  2,  3,  4,  5,  6,  8,  9],\n",
       "       [ 1,  2,  3,  4,  5,  6,  8, 10],\n",
       "       [ 1,  2,  3,  4,  5,  6,  9, 10],\n",
       "       [ 1,  2,  3,  4,  5,  7,  8,  9],\n",
       "       [ 1,  2,  3,  4,  5,  7,  8, 10],\n",
       "       [ 1,  2,  3,  4,  5,  7,  9, 10],\n",
       "       [ 1,  2,  3,  4,  5,  8,  9, 10],\n",
       "       [ 1,  2,  3,  4,  6,  7,  8,  9],\n",
       "       [ 1,  2,  3,  4,  6,  7,  8, 10],\n",
       "       [ 1,  2,  3,  4,  6,  7,  9, 10],\n",
       "       [ 1,  2,  3,  4,  6,  8,  9, 10],\n",
       "       [ 1,  2,  3,  4,  7,  8,  9, 10],\n",
       "       [ 1,  2,  3,  5,  6,  7,  8,  9],\n",
       "       [ 1,  2,  3,  5,  6,  7,  8, 10],\n",
       "       [ 1,  2,  3,  5,  6,  7,  9, 10],\n",
       "       [ 1,  2,  3,  5,  6,  8,  9, 10],\n",
       "       [ 1,  2,  3,  5,  7,  8,  9, 10],\n",
       "       [ 1,  2,  3,  6,  7,  8,  9, 10],\n",
       "       [ 1,  2,  4,  5,  6,  7,  8,  9],\n",
       "       [ 1,  2,  4,  5,  6,  7,  8, 10],\n",
       "       [ 1,  2,  4,  5,  6,  7,  9, 10],\n",
       "       [ 1,  2,  4,  5,  6,  8,  9, 10],\n",
       "       [ 1,  2,  4,  5,  7,  8,  9, 10],\n",
       "       [ 1,  2,  4,  6,  7,  8,  9, 10],\n",
       "       [ 1,  2,  5,  6,  7,  8,  9, 10],\n",
       "       [ 1,  3,  4,  5,  6,  7,  8,  9],\n",
       "       [ 1,  3,  4,  5,  6,  7,  8, 10],\n",
       "       [ 1,  3,  4,  5,  6,  7,  9, 10],\n",
       "       [ 1,  3,  4,  5,  6,  8,  9, 10],\n",
       "       [ 1,  3,  4,  5,  7,  8,  9, 10],\n",
       "       [ 1,  3,  4,  6,  7,  8,  9, 10],\n",
       "       [ 1,  3,  5,  6,  7,  8,  9, 10],\n",
       "       [ 1,  4,  5,  6,  7,  8,  9, 10],\n",
       "       [ 2,  3,  4,  5,  6,  7,  8,  9],\n",
       "       [ 2,  3,  4,  5,  6,  7,  8, 10],\n",
       "       [ 2,  3,  4,  5,  6,  7,  9, 10],\n",
       "       [ 2,  3,  4,  5,  6,  8,  9, 10],\n",
       "       [ 2,  3,  4,  5,  7,  8,  9, 10],\n",
       "       [ 2,  3,  4,  6,  7,  8,  9, 10],\n",
       "       [ 2,  3,  5,  6,  7,  8,  9, 10],\n",
       "       [ 2,  4,  5,  6,  7,  8,  9, 10]])>"
      ]
     },
     "execution_count": 86,
     "metadata": {},
     "output_type": "execute_result"
    }
   ],
   "source": [
    "combinations_batch(tf.constant(10,tf.int64), 8, tf.constant(0,tf.int64), tf.constant(45,tf.int64))"
   ]
  },
  {
   "cell_type": "code",
   "execution_count": 69,
   "metadata": {},
   "outputs": [
    {
     "data": {
      "text/plain": [
       "125970.0"
      ]
     },
     "execution_count": 69,
     "metadata": {},
     "output_type": "execute_result"
    }
   ],
   "source": [
    "scipy.special.binom(20, 8)"
   ]
  },
  {
   "cell_type": "code",
   "execution_count": 84,
   "metadata": {},
   "outputs": [
    {
     "name": "stdout",
     "output_type": "stream",
     "text": [
      "14.5 ms ± 42 µs per loop (mean ± std. dev. of 7 runs, 100 loops each)\n"
     ]
    }
   ],
   "source": [
    "%timeit combinations_batch(tf.constant(20,tf.int64), 8, tf.constant(0,tf.int64), tf.constant(125970,tf.int64))"
   ]
  },
  {
   "cell_type": "code",
   "execution_count": null,
   "metadata": {},
   "outputs": [],
   "source": []
  }
 ],
 "metadata": {
  "kernelspec": {
   "display_name": "Python 3",
   "language": "python",
   "name": "python3"
  },
  "language_info": {
   "codemirror_mode": {
    "name": "ipython",
    "version": 3
   },
   "file_extension": ".py",
   "mimetype": "text/x-python",
   "name": "python",
   "nbconvert_exporter": "python",
   "pygments_lexer": "ipython3",
   "version": "3.8.10"
  },
  "orig_nbformat": 4,
  "vscode": {
   "interpreter": {
    "hash": "916dbcbb3f70747c44a77c7bcd40155683ae19c65e1c03b4aa3499c5328201f1"
   }
  }
 },
 "nbformat": 4,
 "nbformat_minor": 2
}
