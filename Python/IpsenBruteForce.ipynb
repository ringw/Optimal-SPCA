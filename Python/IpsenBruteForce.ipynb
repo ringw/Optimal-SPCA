{
 "cells": [
  {
   "cell_type": "code",
   "execution_count": 1,
   "metadata": {},
   "outputs": [],
   "source": [
    "import numpy as np\n",
    "np.set_printoptions(linewidth = 150, precision = 4, suppress = True)"
   ]
  },
  {
   "cell_type": "code",
   "execution_count": 2,
   "metadata": {},
   "outputs": [
    {
     "data": {
      "text/plain": [
       "array([[ 1.    , -0.0461,  0.2312, ...,  0.2704,  0.4664,  0.3672],\n",
       "       [-0.0461,  1.    , -0.0671, ..., -0.0515, -0.0944, -0.0349],\n",
       "       [ 0.2312, -0.0671,  1.    , ...,  0.147 ,  0.2608,  0.6313],\n",
       "       ...,\n",
       "       [ 0.2704, -0.0515,  0.147 , ...,  1.    ,  0.2066,  0.1538],\n",
       "       [ 0.4664, -0.0944,  0.2608, ...,  0.2066,  1.    ,  0.3486],\n",
       "       [ 0.3672, -0.0349,  0.6313, ...,  0.1538,  0.3486,  1.    ]])"
      ]
     },
     "execution_count": 2,
     "metadata": {},
     "output_type": "execute_result"
    }
   ],
   "source": [
    "data = np.loadtxt('../NC-Data.csv', delimiter=',', dtype=str)\n",
    "data = data[1:].astype(float)\n",
    "# Synthesize columns holding observations, reproducing the cov matrix.\n",
    "raw_data = np.linalg.cholesky(data).T\n",
    "np.testing.assert_allclose(data, raw_data.T @ raw_data)\n",
    "data"
   ]
  },
  {
   "cell_type": "code",
   "execution_count": 3,
   "metadata": {},
   "outputs": [],
   "source": [
    "nodes = np.loadtxt('../NC-K7-Trace-Nodes.csv', delimiter=',', dtype=str)\n",
    "nodes = nodes[1:].astype(float)\n",
    "bounds = np.loadtxt('../NC-K7-Trace-Bounds.csv', delimiter=',', dtype=str)\n",
    "bounds = bounds[1:].astype(float)"
   ]
  },
  {
   "cell_type": "code",
   "execution_count": 4,
   "metadata": {},
   "outputs": [
    {
     "data": {
      "text/plain": [
       "42"
      ]
     },
     "execution_count": 4,
     "metadata": {},
     "output_type": "execute_result"
    }
   ],
   "source": [
    "np.argmax((nodes == 1).sum(axis=0) == 3)"
   ]
  },
  {
   "cell_type": "code",
   "execution_count": 5,
   "metadata": {},
   "outputs": [
    {
     "data": {
      "text/plain": [
       "array([4.1355, 5.8707, 7.    ])"
      ]
     },
     "execution_count": 5,
     "metadata": {},
     "output_type": "execute_result"
    }
   ],
   "source": [
    "bounds[:, 42]"
   ]
  },
  {
   "cell_type": "code",
   "execution_count": 6,
   "metadata": {},
   "outputs": [
    {
     "data": {
      "text/plain": [
       "array([ 3, 83, 85])"
      ]
     },
     "execution_count": 6,
     "metadata": {},
     "output_type": "execute_result"
    }
   ],
   "source": [
    "selected = np.where(nodes[:, 42] == 1)[0]\n",
    "selected"
   ]
  },
  {
   "cell_type": "code",
   "execution_count": 7,
   "metadata": {},
   "outputs": [
    {
     "data": {
      "text/plain": [
       "120"
      ]
     },
     "execution_count": 7,
     "metadata": {},
     "output_type": "execute_result"
    }
   ],
   "source": [
    "import scipy.special\n",
    "def ncr(n,k):\n",
    "    return int(scipy.special.binom(n,k))\n",
    "ncr(10,3)"
   ]
  },
  {
   "cell_type": "code",
   "execution_count": 8,
   "metadata": {},
   "outputs": [],
   "source": [
    "def combination(n, p, x):\n",
    "    result = [None for i in range(p)]\n",
    "    r = 0\n",
    "    k = 0\n",
    "    for i in range(p-1):\n",
    "        result[i] = result[i-1] if i>0 else 0\n",
    "        result[i] += 1\n",
    "        r = ncr(n-result[i], p-(i+1))\n",
    "        k += r\n",
    "        while k < x:\n",
    "            result[i] += 1\n",
    "            r = ncr(n-result[i], p-(i+1))\n",
    "            k += r\n",
    "        k -= r\n",
    "    result[p-1] = result[p-2] + x - k\n",
    "    return result"
   ]
  },
  {
   "cell_type": "code",
   "execution_count": 9,
   "metadata": {},
   "outputs": [],
   "source": [
    "import tensorflow as tf"
   ]
  },
  {
   "cell_type": "code",
   "execution_count": 10,
   "metadata": {},
   "outputs": [],
   "source": [
    "def pascal(n, max_k=None):\n",
    "    max_k = n if max_k is None else max_k\n",
    "    result = np.zeros([n,n], np.int64)\n",
    "    result[:, 0] = 1\n",
    "    for i in range(1, n):\n",
    "        for j in range(1, min(i+1, max_k)):\n",
    "            result[i, j] = result[i-1, j-1] + result[i-1, j]\n",
    "    return result"
   ]
  },
  {
   "cell_type": "code",
   "execution_count": 11,
   "metadata": {},
   "outputs": [],
   "source": [
    "ncr = tf.constant(pascal(101, 10))"
   ]
  },
  {
   "cell_type": "code",
   "execution_count": 12,
   "metadata": {},
   "outputs": [
    {
     "data": {
      "text/plain": [
       "1902231808400"
      ]
     },
     "execution_count": 12,
     "metadata": {},
     "output_type": "execute_result"
    }
   ],
   "source": [
    "ncr.numpy().max()"
   ]
  },
  {
   "cell_type": "code",
   "execution_count": 13,
   "metadata": {},
   "outputs": [],
   "source": [
    "@tf.function(jit_compile=True)\n",
    "def combination(n, p, x):\n",
    "    result = tf.TensorArray(ncr.dtype, size=p)\n",
    "    r = tf.constant(0, ncr.dtype)\n",
    "    k = tf.constant(0, ncr.dtype)\n",
    "    next_value = tf.constant(0, ncr.dtype)\n",
    "    for i in tf.range(p-1):\n",
    "        next_value += 1\n",
    "        index = tf.cast(i, tf.int64)\n",
    "        r = ncr[n-next_value, p-(index+1)]\n",
    "        k += r\n",
    "        while k < x:\n",
    "            next_value += 1\n",
    "            r = ncr[n-next_value, p-(index+1)]\n",
    "            k += r\n",
    "        k -= r\n",
    "        result = result.write(i, next_value)\n",
    "    result = result.write(p-1, next_value + x - k)\n",
    "    return result.stack()"
   ]
  },
  {
   "cell_type": "code",
   "execution_count": 14,
   "metadata": {},
   "outputs": [],
   "source": [
    "@tf.function(jit_compile=True)\n",
    "def combinations_batch(n, k, start, limit):\n",
    "    return tf.map_fn(\n",
    "        lambda i: combination(n, k, i),\n",
    "        tf.range(start, limit),\n",
    "        dtype=tf.int64)"
   ]
  },
  {
   "cell_type": "code",
   "execution_count": 15,
   "metadata": {},
   "outputs": [
    {
     "data": {
      "text/plain": [
       "<tf.Tensor: shape=(3,), dtype=int64, numpy=array([ 1,  3, 10])>"
      ]
     },
     "execution_count": 15,
     "metadata": {},
     "output_type": "execute_result"
    }
   ],
   "source": [
    "combination(tf.constant(10, tf.int64), 3, tf.constant(15, tf.int64))"
   ]
  },
  {
   "cell_type": "code",
   "execution_count": 16,
   "metadata": {},
   "outputs": [
    {
     "data": {
      "text/plain": [
       "45.0"
      ]
     },
     "execution_count": 16,
     "metadata": {},
     "output_type": "execute_result"
    }
   ],
   "source": [
    "scipy.special.binom(10, 8)"
   ]
  },
  {
   "cell_type": "code",
   "execution_count": 20,
   "metadata": {},
   "outputs": [
    {
     "data": {
      "text/plain": [
       "TensorShape([45, 8])"
      ]
     },
     "execution_count": 20,
     "metadata": {},
     "output_type": "execute_result"
    }
   ],
   "source": [
    "combinations_batch(tf.constant(10,tf.int64), 8, tf.constant(0,tf.int64), tf.constant(45,tf.int64)).shape"
   ]
  },
  {
   "cell_type": "code",
   "execution_count": 18,
   "metadata": {},
   "outputs": [
    {
     "data": {
      "text/plain": [
       "125970.0"
      ]
     },
     "execution_count": 18,
     "metadata": {},
     "output_type": "execute_result"
    }
   ],
   "source": [
    "scipy.special.binom(20, 8)"
   ]
  },
  {
   "cell_type": "code",
   "execution_count": 21,
   "metadata": {},
   "outputs": [
    {
     "data": {
      "text/plain": [
       "4082925.0"
      ]
     },
     "execution_count": 21,
     "metadata": {},
     "output_type": "execute_result"
    }
   ],
   "source": [
    "scipy.special.binom(101, 4)"
   ]
  },
  {
   "cell_type": "code",
   "execution_count": 19,
   "metadata": {},
   "outputs": [
    {
     "name": "stdout",
     "output_type": "stream",
     "text": [
      "15.3 ms ± 667 µs per loop (mean ± std. dev. of 7 runs, 1 loop each)\n"
     ]
    }
   ],
   "source": [
    "%timeit combinations_batch(tf.constant(20,tf.int64), 8, tf.constant(0,tf.int64), tf.constant(125970,tf.int64))"
   ]
  },
  {
   "cell_type": "code",
   "execution_count": 23,
   "metadata": {},
   "outputs": [],
   "source": [
    "data = tf.constant(data, tf.float32)\n",
    "raw_data = tf.constant(raw_data, tf.float32)"
   ]
  },
  {
   "cell_type": "code",
   "execution_count": 30,
   "metadata": {},
   "outputs": [
    {
     "name": "stdout",
     "output_type": "stream",
     "text": [
      "1.15 s ± 21.2 ms per loop (mean ± std. dev. of 7 runs, 1 loop each)\n"
     ]
    }
   ],
   "source": [
    "%%timeit\n",
    "# Gathering every possible covariance matrix: Test throughput.\n",
    "k = 7\n",
    "selected = np.where(nodes[:, 42] == 1)[0]\n",
    "free = np.where(nodes[:, 42] == -1)[0]\n",
    "choices = combinations_batch(free.shape[0], k - selected.shape[0], 1, 1+ncr[free.shape[0], k - selected.shape[0]]) - 1\n",
    "choices = tf.gather(free, choices)\n",
    "choices = tf.concat(\n",
    "    [\n",
    "        # Broadcast selected (repeat along the outer axis, N times)\n",
    "        selected[None, :] + 0 * choices[:, 0:1],\n",
    "        choices,\n",
    "    ],\n",
    "    axis=1,\n",
    ")\n",
    "choices = choices[:, None, :]\n",
    "choices_lookup = tf.concat(\n",
    "    [\n",
    "        (choices + 0 * tf.transpose(choices, [0, 2, 1]))[:, :, :, None],\n",
    "        (tf.transpose(choices, [0, 2, 1]) + 0 * choices)[:, :, :, None],\n",
    "    ],\n",
    "    axis=3\n",
    ")\n",
    "tf.gather_nd(data, choices_lookup)"
   ]
  },
  {
   "cell_type": "code",
   "execution_count": 15,
   "metadata": {},
   "outputs": [],
   "source": [
    "# Selected: indicator is 1.\n",
    "# Free: indicator is 0.\n",
    "def brute_force_eigvalsh(k, selected, free):\n",
    "    choices = combinations_batch(free.shape[0], k - selected.shape[0], 1, 1+ncr[free.shape[0], k - selected.shape[0]]) - 1\n",
    "    choices = tf.gather(free, choices)\n",
    "    choices = tf.concat(\n",
    "        [\n",
    "            # Broadcast selected (repeat along the outer axis, N times)\n",
    "            selected[None, :] + 0 * choices[:, 0:1],\n",
    "            choices,\n",
    "        ],\n",
    "        axis=1,\n",
    "    )\n",
    "    eigvals = tf.linalg.eigvalsh(_simple_select_hermitian(data, choices))\n",
    "    which_max = tf.argmax(tf.reduce_max(eigvals, axis=-1))\n",
    "    return tf.reduce_max(eigvals[which_max, :]), choices[which_max]\n",
    "\n",
    "@tf.function(jit_compile=True)\n",
    "def _simple_select_hermitian(mat, choices):\n",
    "    choices = choices[:, None, :]\n",
    "    choices_lookup = tf.concat(\n",
    "        [\n",
    "            (choices + 0 * tf.transpose(choices, [0, 2, 1]))[:, :, :, None],\n",
    "            (tf.transpose(choices, [0, 2, 1]) + 0 * choices)[:, :, :, None],\n",
    "        ],\n",
    "        axis=3\n",
    "    )\n",
    "    return tf.gather_nd(mat, choices_lookup)"
   ]
  },
  {
   "cell_type": "code",
   "execution_count": 16,
   "metadata": {},
   "outputs": [
    {
     "name": "stdout",
     "output_type": "stream",
     "text": [
      "WARNING:tensorflow:From /home/ringwalt/.local/lib/python3.8/site-packages/tensorflow/python/autograph/pyct/static_analysis/liveness.py:83: Analyzer.lamba_check (from tensorflow.python.autograph.pyct.static_analysis.liveness) is deprecated and will be removed after 2023-09-23.\n",
      "Instructions for updating:\n",
      "Lambda fuctions will be no more assumed to be used in the statement where they are used, or at least in the same block. https://github.com/tensorflow/tensorflow/issues/56089\n",
      "WARNING:tensorflow:From /home/ringwalt/.local/lib/python3.8/site-packages/tensorflow/python/util/deprecation.py:629: calling map_fn_v2 (from tensorflow.python.ops.map_fn) with dtype is deprecated and will be removed in a future version.\n",
      "Instructions for updating:\n",
      "Use fn_output_signature instead\n"
     ]
    },
    {
     "data": {
      "text/plain": [
       "(<tf.Tensor: shape=(), dtype=float64, numpy=5.658232661283705>,\n",
       " <tf.Tensor: shape=(7,), dtype=int64, numpy=array([ 3, 83, 85, 79, 80, 81, 84])>)"
      ]
     },
     "execution_count": 16,
     "metadata": {},
     "output_type": "execute_result"
    }
   ],
   "source": [
    "brute_force_eigvalsh(7, np.where(nodes[:, 42] == 1)[0], np.where(nodes[:, 42] == -1)[0])"
   ]
  },
  {
   "cell_type": "code",
   "execution_count": 17,
   "metadata": {},
   "outputs": [
    {
     "name": "stdout",
     "output_type": "stream",
     "text": [
      "1.06 s ± 68.2 ms per loop (mean ± std. dev. of 7 runs, 1 loop each)\n"
     ]
    }
   ],
   "source": [
    "%timeit brute_force_eigvalsh(7, np.where(nodes[:, 42] == 1)[0], np.where(nodes[:, 42] == -1)[0])"
   ]
  },
  {
   "cell_type": "code",
   "execution_count": 18,
   "metadata": {},
   "outputs": [],
   "source": [
    "# Selected: indicator is 1.\n",
    "# Free: indicator is 0.\n",
    "@tf.function(jit_compile=True)\n",
    "def upper_bound_sparse_pca_metric(choices, XU, sigma_residual):\n",
    "    linear_term = tf.reduce_sum(\n",
    "        tf.gather(tf.square(XU), choices),\n",
    "        axis=1,\n",
    "    )\n",
    "\n",
    "    sigma_indexing = tf.concat(\n",
    "        [\n",
    "            (choices[:, :, None] + 0 * choices[:, None, :])[:, :, :, None],\n",
    "            (choices[:, None, :] + 0 * choices[:, :, None])[:, :, :, None],\n",
    "        ],\n",
    "        axis=3,\n",
    "    )\n",
    "    sigma_residual = tf.gather_nd(sigma_residual, sigma_indexing)\n",
    "    v = tf.gather(tf.squeeze(XU, axis=1), choices)[:, :, None]\n",
    "    nonlinear_term = tf.linalg.norm(\n",
    "        tf.squeeze(tf.linalg.matmul(sigma_residual, v), axis=2),\n",
    "        axis=1,\n",
    "    ) / tf.linalg.norm(tf.squeeze(v, axis=2), axis=1)\n",
    "\n",
    "    return tf.squeeze(linear_term, axis=1) + nonlinear_term\n",
    "\n",
    "def upper_bound_sparse_pca(k, selected, free):\n",
    "    selected_raw_data = tf.transpose(\n",
    "        tf.gather(\n",
    "            tf.transpose(raw_data),\n",
    "            selected))\n",
    "    U = tf.linalg.svd(selected_raw_data)[1][:, 0]\n",
    "    XU = tf.linalg.matmul(raw_data, U[:, None], adjoint_a=True)\n",
    "    raw_data_residual = raw_data - U[:, None] * tf.transpose(XU)\n",
    "    sigma_residual = tf.linalg.matmul(raw_data_residual, raw_data_residual, adjoint_a=True)\n",
    "\n",
    "    choices = combinations_batch(free.shape[0], k - selected.shape[0], 1, 1+ncr[free.shape[0], k - selected.shape[0]]) - 1\n",
    "    choices = tf.gather(free, choices)\n",
    "    choices = tf.concat(\n",
    "        [\n",
    "            # Broadcast selected (repeat along the outer axis, N times)\n",
    "            selected[None, :] + 0 * choices[:, 0:1],\n",
    "            choices,\n",
    "        ],\n",
    "        axis=1,\n",
    "    )\n",
    "\n",
    "    ub = upper_bound_sparse_pca_metric(choices, XU, raw_data_residual)\n",
    "    which_max = tf.argmax(ub)\n",
    "    return ub[which_max], choices[which_max]"
   ]
  },
  {
   "cell_type": "code",
   "execution_count": 19,
   "metadata": {},
   "outputs": [
    {
     "data": {
      "text/plain": [
       "(<tf.Tensor: shape=(), dtype=float64, numpy=5.7777543534984295>,\n",
       " <tf.Tensor: shape=(7,), dtype=int64, numpy=array([ 3, 83, 85, 79, 80, 82, 84])>)"
      ]
     },
     "execution_count": 19,
     "metadata": {},
     "output_type": "execute_result"
    }
   ],
   "source": [
    "upper_bound_sparse_pca(7, np.where(nodes[:, 42] == 1)[0], np.where(nodes[:, 42] == -1)[0])"
   ]
  },
  {
   "cell_type": "code",
   "execution_count": 20,
   "metadata": {},
   "outputs": [
    {
     "name": "stdout",
     "output_type": "stream",
     "text": [
      "502 ms ± 30.2 ms per loop (mean ± std. dev. of 7 runs, 1 loop each)\n"
     ]
    }
   ],
   "source": [
    "%timeit upper_bound_sparse_pca(7, np.where(nodes[:, 42] == 1)[0], np.where(nodes[:, 42] == -1)[0])"
   ]
  },
  {
   "cell_type": "code",
   "execution_count": null,
   "metadata": {},
   "outputs": [],
   "source": []
  }
 ],
 "metadata": {
  "kernelspec": {
   "display_name": "Python 3",
   "language": "python",
   "name": "python3"
  },
  "language_info": {
   "codemirror_mode": {
    "name": "ipython",
    "version": 3
   },
   "file_extension": ".py",
   "mimetype": "text/x-python",
   "name": "python",
   "nbconvert_exporter": "python",
   "pygments_lexer": "ipython3",
   "version": "3.8.10"
  },
  "orig_nbformat": 4,
  "vscode": {
   "interpreter": {
    "hash": "916dbcbb3f70747c44a77c7bcd40155683ae19c65e1c03b4aa3499c5328201f1"
   }
  }
 },
 "nbformat": 4,
 "nbformat_minor": 2
}
