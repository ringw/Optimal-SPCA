{
 "cells": [
  {
   "cell_type": "code",
   "execution_count": 3,
   "metadata": {},
   "outputs": [],
   "source": [
    "import numpy as np\n",
    "np.set_printoptions(linewidth = 200, precision = 4, suppress = True)"
   ]
  },
  {
   "cell_type": "code",
   "execution_count": 4,
   "metadata": {},
   "outputs": [
    {
     "data": {
      "text/plain": [
       "array([[ 1.    , -0.0461,  0.2312, ...,  0.2704,  0.4664,  0.3672],\n",
       "       [-0.0461,  1.    , -0.0671, ..., -0.0515, -0.0944, -0.0349],\n",
       "       [ 0.2312, -0.0671,  1.    , ...,  0.147 ,  0.2608,  0.6313],\n",
       "       ...,\n",
       "       [ 0.2704, -0.0515,  0.147 , ...,  1.    ,  0.2066,  0.1538],\n",
       "       [ 0.4664, -0.0944,  0.2608, ...,  0.2066,  1.    ,  0.3486],\n",
       "       [ 0.3672, -0.0349,  0.6313, ...,  0.1538,  0.3486,  1.    ]])"
      ]
     },
     "execution_count": 4,
     "metadata": {},
     "output_type": "execute_result"
    }
   ],
   "source": [
    "data = np.loadtxt('../NC-Data.csv', delimiter=',', dtype=str)\n",
    "data = data[1:].astype(float)\n",
    "data"
   ]
  },
  {
   "cell_type": "code",
   "execution_count": 6,
   "metadata": {},
   "outputs": [],
   "source": [
    "nodes = np.loadtxt('../NC-K7-Trace-Nodes.csv', delimiter=',', dtype=str)\n",
    "nodes = nodes[1:].astype(float)\n",
    "bounds = np.loadtxt('../NC-K7-Trace-Bounds.csv', delimiter=',', dtype=str)\n",
    "bounds = bounds[1:].astype(float)"
   ]
  },
  {
   "cell_type": "code",
   "execution_count": 7,
   "metadata": {},
   "outputs": [
    {
     "data": {
      "text/plain": [
       "array([4.5265, 6.1343, 7.    ])"
      ]
     },
     "execution_count": 7,
     "metadata": {},
     "output_type": "execute_result"
    }
   ],
   "source": [
    "# One lower bound impl, and two upper bound impls\n",
    "bounds[:, 60]"
   ]
  },
  {
   "cell_type": "code",
   "execution_count": 8,
   "metadata": {},
   "outputs": [
    {
     "data": {
      "text/plain": [
       "array([57, 82, 83, 84, 85])"
      ]
     },
     "execution_count": 8,
     "metadata": {},
     "output_type": "execute_result"
    }
   ],
   "source": [
    "selected = np.where(nodes[:, 60] == 1)[0]\n",
    "selected\n",
    "current_i = len(selected)\n",
    "selected"
   ]
  },
  {
   "cell_type": "code",
   "execution_count": 9,
   "metadata": {},
   "outputs": [
    {
     "data": {
      "text/plain": [
       "array([85, 83, 84, 82, 79, 80, 12, 81, 19, 20])"
      ]
     },
     "execution_count": 9,
     "metadata": {},
     "output_type": "execute_result"
    }
   ],
   "source": [
    "np.argsort(-abs(data[85, :]))[:10]"
   ]
  },
  {
   "cell_type": "code",
   "execution_count": 10,
   "metadata": {},
   "outputs": [
    {
     "data": {
      "text/plain": [
       "array([ 57,  82,  83,  84,  85,  79, 100])"
      ]
     },
     "execution_count": 10,
     "metadata": {},
     "output_type": "execute_result"
    }
   ],
   "source": [
    "# selected = np.r_[selected, [79]]\n",
    "selected = np.r_[selected, [79, 100]]\n",
    "new_i = len(selected)\n",
    "selected"
   ]
  },
  {
   "cell_type": "code",
   "execution_count": 11,
   "metadata": {},
   "outputs": [],
   "source": [
    "\n",
    "new_i = len(selected)"
   ]
  },
  {
   "cell_type": "code",
   "execution_count": 12,
   "metadata": {},
   "outputs": [
    {
     "data": {
      "text/plain": [
       "array([[ 1.    ,  0.4014,  0.3903,  0.3946,  0.3465,  0.4393,  0.248 ],\n",
       "       [ 0.4014,  1.    ,  0.9643,  0.9311,  0.95  ,  0.8509, -0.2518],\n",
       "       [ 0.3903,  0.9643,  1.    ,  0.9818,  0.9886,  0.9107, -0.2405],\n",
       "       [ 0.3946,  0.9311,  0.9818,  1.    ,  0.9772,  0.9206, -0.2323],\n",
       "       [ 0.3465,  0.95  ,  0.9886,  0.9772,  1.    ,  0.887 , -0.2399],\n",
       "       [ 0.4393,  0.8509,  0.9107,  0.9206,  0.887 ,  1.    , -0.2105],\n",
       "       [ 0.248 , -0.2518, -0.2405, -0.2323, -0.2399, -0.2105,  1.    ]])"
      ]
     },
     "execution_count": 12,
     "metadata": {},
     "output_type": "execute_result"
    }
   ],
   "source": [
    "data[selected, :][:, selected]"
   ]
  },
  {
   "cell_type": "code",
   "execution_count": 13,
   "metadata": {},
   "outputs": [
    {
     "data": {
      "text/plain": [
       "(100, 7)"
      ]
     },
     "execution_count": 13,
     "metadata": {},
     "output_type": "execute_result"
    }
   ],
   "source": [
    "# Use \"raw\" data SVD from here on out, singular values are slightly different.\n",
    "np.random.seed(1)\n",
    "n_obs = 100\n",
    "raw_data = np.random.multivariate_normal(\n",
    "    np.zeros_like(selected, float),\n",
    "    data[selected, :][:, selected],\n",
    "    size=n_obs)\n",
    "raw_data.shape"
   ]
  },
  {
   "cell_type": "code",
   "execution_count": 14,
   "metadata": {},
   "outputs": [
    {
     "data": {
      "text/plain": [
       "array([21.6917, 10.9232,  5.7372,  3.8253,  2.3708,  1.5045,  0.8171])"
      ]
     },
     "execution_count": 14,
     "metadata": {},
     "output_type": "execute_result"
    }
   ],
   "source": [
    "np.linalg.svd(raw_data)[1]"
   ]
  },
  {
   "cell_type": "code",
   "execution_count": 15,
   "metadata": {},
   "outputs": [
    {
     "data": {
      "text/plain": [
       "array([ 0.    ,  0.    ,  0.    ,  0.    ,  0.    ,  0.    ,  0.    ,  0.8171,  1.5045,  2.3708,  3.8253,  5.7372, 10.9232, 21.6917])"
      ]
     },
     "execution_count": 15,
     "metadata": {},
     "output_type": "execute_result"
    }
   ],
   "source": [
    "np.linalg.svd(np.c_[raw_data, raw_data])[1][::-1] / np.sqrt(2)"
   ]
  },
  {
   "cell_type": "code",
   "execution_count": 16,
   "metadata": {},
   "outputs": [
    {
     "data": {
      "text/plain": [
       "array([[0.2381],\n",
       "       [0.4818],\n",
       "       [0.4924],\n",
       "       [0.4816],\n",
       "       [0.4866]])"
      ]
     },
     "execution_count": 16,
     "metadata": {},
     "output_type": "execute_result"
    }
   ],
   "source": [
    "v = np.linalg.svd(raw_data[:, 0:current_i])[2][0:1, :].T\n",
    "v"
   ]
  },
  {
   "cell_type": "code",
   "execution_count": 17,
   "metadata": {},
   "outputs": [],
   "source": [
    "import scipy.linalg\n",
    "mat = scipy.linalg.block_diag(v @ v.T, np.zeros([new_i - current_i, new_i - current_i]), np.eye(current_i) - (v @ v.T), np.eye(new_i - current_i))\n",
    "rotation_matrix_small = scipy.linalg.block_diag(\n",
    "    np.linalg.svd(raw_data[:, 0:current_i])[2].T,\n",
    "    np.eye(new_i - current_i))\n",
    "# mat = mat @ scipy.linalg.block_diag(rotation_matrix_small, np.eye(6))"
   ]
  },
  {
   "cell_type": "code",
   "execution_count": 18,
   "metadata": {},
   "outputs": [
    {
     "data": {
      "text/plain": [
       "array([  0.    ,   0.    ,   0.    ,   0.    ,   0.    ,   0.    ,   0.    ,   0.6677,   2.2636,   5.6205,  14.6327,  32.9158, 119.3171, 470.532 ])"
      ]
     },
     "execution_count": 18,
     "metadata": {},
     "output_type": "execute_result"
    }
   ],
   "source": [
    "np.square(np.linalg.svd(np.c_[raw_data, raw_data] @ mat)[1][::-1])"
   ]
  },
  {
   "cell_type": "code",
   "execution_count": 19,
   "metadata": {},
   "outputs": [
    {
     "data": {
      "text/plain": [
       "array([  0.    ,   0.    ,  16.0809,  17.1679,  21.749 ,  32.5159, 155.4099, 220.4741, 251.7781, 478.7963, 509.2048, 509.4814, 514.5076, 520.7054])"
      ]
     },
     "execution_count": 19,
     "metadata": {},
     "output_type": "execute_result"
    }
   ],
   "source": [
    "# Gershgorin circle theorem after projecting onto two different matrices.\n",
    "# We sparsified data_expanded, but Gershgorin bound is performing poorly!\n",
    "apply_mat = np.c_[raw_data, raw_data] @ mat\n",
    "data_expanded = apply_mat.T @ apply_mat\n",
    "np.sort(abs(data_expanded).sum(axis=1))"
   ]
  },
  {
   "cell_type": "code",
   "execution_count": 20,
   "metadata": {},
   "outputs": [
    {
     "data": {
      "text/plain": [
       "array([204.8543, 320.3552, 468.8212, 507.5029, 510.7118, 513.8432, 521.3053])"
      ]
     },
     "execution_count": 20,
     "metadata": {},
     "output_type": "execute_result"
    }
   ],
   "source": [
    "# Gershgorin circle theorem (no change of variables).\n",
    "np.sort(abs(raw_data.T @ raw_data).sum(axis=1))"
   ]
  },
  {
   "cell_type": "code",
   "execution_count": 21,
   "metadata": {},
   "outputs": [
    {
     "data": {
      "text/plain": [
       "array([251.7781, 509.4814, 520.7054, 509.2048, 514.5076,   0.    ,   0.    , 155.4099,  32.5159,  16.0809,  17.1679,  21.749 , 478.7963, 220.4741])"
      ]
     },
     "execution_count": 21,
     "metadata": {},
     "output_type": "execute_result"
    }
   ],
   "source": [
    "abs(data_expanded).sum(axis=1)"
   ]
  },
  {
   "cell_type": "code",
   "execution_count": 22,
   "metadata": {},
   "outputs": [
    {
     "data": {
      "text/plain": [
       "array([[ 22.2549,  45.0335,  46.0256,  45.009 ,  45.4777,   0.    ,   0.    ,   0.    ,   0.    ,   0.    ,   0.    ,   0.    ,  40.1675,  -7.8099],\n",
       "       [ 45.0335,  91.1267,  93.1343,  91.0772,  92.0257,   0.    ,   0.    ,   0.    ,   0.    ,   0.    ,   0.    ,   0.    ,  81.2803, -15.8036],\n",
       "       [ 46.0256,  93.1343,  95.186 ,  93.0837,  94.0531,   0.    ,   0.    ,   0.    ,   0.    ,   0.    ,   0.    ,   0.    ,  83.071 , -16.1518],\n",
       "       [ 45.009 ,  91.0772,  93.0837,  91.0278,  91.9758,   0.    ,   0.    ,   0.    ,   0.    ,   0.    ,   0.    ,   0.    ,  81.2362, -15.7951],\n",
       "       [ 45.4777,  92.0257,  94.0531,  91.9758,  92.9336,   0.    ,   0.    ,   0.    ,   0.    ,   0.    ,   0.    ,   0.    ,  82.0822, -15.9596],\n",
       "       [  0.    ,   0.    ,   0.    ,   0.    ,   0.    ,   0.    ,   0.    ,   0.    ,   0.    ,   0.    ,   0.    ,   0.    ,   0.    ,   0.    ],\n",
       "       [  0.    ,   0.    ,   0.    ,   0.    ,   0.    ,   0.    ,   0.    ,   0.    ,   0.    ,   0.    ,   0.    ,   0.    ,   0.    ,   0.    ],\n",
       "       [  0.    ,   0.    ,   0.    ,   0.    ,   0.    ,   0.    ,   0.    ,  72.5928, -11.2637,  -7.7405,  -6.3915, -10.2107,   5.6486,  41.5621],\n",
       "       [  0.    ,   0.    ,   0.    ,   0.    ,   0.    ,   0.    ,   0.    , -11.2637,   6.8284,   0.4455,  -1.4389,  -0.2765,  -4.268 ,  -7.9948],\n",
       "       [  0.    ,   0.    ,   0.    ,   0.    ,   0.    ,   0.    ,   0.    ,  -7.7405,   0.4455,   1.6245,   0.4672,   1.2402,   1.0422,  -3.5207],\n",
       "       [  0.    ,   0.    ,   0.    ,   0.    ,   0.    ,   0.    ,   0.    ,  -6.3915,  -1.4389,   0.4672,   3.2509,   0.8624,   1.1386,  -3.6184],\n",
       "       [  0.    ,   0.    ,   0.    ,   0.    ,   0.    ,   0.    ,   0.    , -10.2107,  -0.2765,   1.2402,   0.8624,   3.1618,  -0.7195,  -5.2779],\n",
       "       [ 40.1675,  81.2803,  83.071 ,  81.2362,  82.0822,   0.    ,   0.    ,   5.6486,  -4.268 ,   1.0422,   1.1386,  -0.7195,  88.5619,  -9.5802],\n",
       "       [ -7.8099, -15.8036, -16.1518, -15.7951, -15.9596,   0.    ,   0.    ,  41.5621,  -7.9948,  -3.5207,  -3.6184,  -5.2779,  -9.5802,  77.4001]])"
      ]
     },
     "execution_count": 22,
     "metadata": {},
     "output_type": "execute_result"
    }
   ],
   "source": [
    "data_expanded"
   ]
  },
  {
   "attachments": {},
   "cell_type": "markdown",
   "metadata": {},
   "source": [
    "Actually decorrelate the vectors:\n",
    "\n",
    "Use the left singular vector (representing all observations for some variable). Create 2 sets of variables which are not correlated. This is actually a lower bound on PCA. Maybe we can add one \"linkage\" on two off-diagonals (Hermitian) so that it is similar to the original matrix (connecting the projected variable and the residual). We can't actually break up a matrix into block diagonal in this way, eigenvalues do not work this way."
   ]
  },
  {
   "cell_type": "code",
   "execution_count": 23,
   "metadata": {},
   "outputs": [],
   "source": [
    "data_vector = np.linalg.svd(raw_data[:, 0:current_i])[0][:, 0:1]"
   ]
  },
  {
   "cell_type": "code",
   "execution_count": 24,
   "metadata": {},
   "outputs": [],
   "source": [
    "data_proj = data_vector @ data_vector.T\n",
    "data_proj_compl = np.eye(n_obs) - data_proj\n",
    "raw_data_new = np.c_[data_proj @ raw_data, data_proj_compl @ raw_data]"
   ]
  },
  {
   "cell_type": "code",
   "execution_count": 25,
   "metadata": {},
   "outputs": [
    {
     "data": {
      "text/plain": [
       "470.53199285265714"
      ]
     },
     "execution_count": 25,
     "metadata": {},
     "output_type": "execute_result"
    }
   ],
   "source": [
    "np.square(np.linalg.svd(raw_data)[1]).max()"
   ]
  },
  {
   "cell_type": "code",
   "execution_count": 26,
   "metadata": {},
   "outputs": [
    {
     "data": {
      "text/plain": [
       "467.7676154607646"
      ]
     },
     "execution_count": 26,
     "metadata": {},
     "output_type": "execute_result"
    }
   ],
   "source": [
    "np.square(np.linalg.svd(raw_data_new)[1]).max()"
   ]
  },
  {
   "cell_type": "code",
   "execution_count": 27,
   "metadata": {},
   "outputs": [
    {
     "data": {
      "text/plain": [
       "array([467.7676, 119.4107,  33.0814,  17.0119,   5.7443,   2.2638,   0.6696,   0.    ,   0.    ,   0.    ,   0.    ,   0.    ,   0.    ,   0.    ])"
      ]
     },
     "execution_count": 27,
     "metadata": {},
     "output_type": "execute_result"
    }
   ],
   "source": [
    "np.square(np.linalg.svd(raw_data_new)[1])"
   ]
  },
  {
   "cell_type": "code",
   "execution_count": 28,
   "metadata": {},
   "outputs": [
    {
     "data": {
      "text/plain": [
       "array([251.7781, 509.4814, 520.7054, 509.2048, 514.5076, 454.4311,  88.3568, 155.4099,  32.5159,  16.0809,  17.1679,  21.749 ,  33.3968, 141.149 ])"
      ]
     },
     "execution_count": 28,
     "metadata": {},
     "output_type": "execute_result"
    }
   ],
   "source": [
    "abs(raw_data_new.T @ raw_data_new).sum(axis=1)"
   ]
  },
  {
   "cell_type": "code",
   "execution_count": 29,
   "metadata": {},
   "outputs": [
    {
     "data": {
      "text/plain": [
       "array([[ 22.2549,  45.0335,  46.0256,  45.009 ,  45.4777,  40.1675,  -7.8099,  -0.    ,  -0.    ,  -0.    ,  -0.    ,  -0.    ,  -0.    ,   0.    ],\n",
       "       [ 45.0335,  91.1267,  93.1343,  91.0772,  92.0257,  81.2803, -15.8036,  -0.    ,  -0.    ,  -0.    ,  -0.    ,  -0.    ,  -0.    ,   0.    ],\n",
       "       [ 46.0256,  93.1343,  95.186 ,  93.0837,  94.0531,  83.071 , -16.1518,  -0.    ,  -0.    ,  -0.    ,  -0.    ,  -0.    ,  -0.    ,   0.    ],\n",
       "       [ 45.009 ,  91.0772,  93.0837,  91.0278,  91.9758,  81.2362, -15.7951,  -0.    ,  -0.    ,  -0.    ,  -0.    ,  -0.    ,  -0.    ,   0.    ],\n",
       "       [ 45.4777,  92.0257,  94.0531,  91.9758,  92.9336,  82.0822, -15.9596,  -0.    ,  -0.    ,  -0.    ,  -0.    ,  -0.    ,  -0.    ,   0.    ],\n",
       "       [ 40.1675,  81.2803,  83.071 ,  81.2362,  82.0822,  72.4979, -14.096 ,  -0.    ,  -0.    ,  -0.    ,  -0.    ,  -0.    ,  -0.    ,   0.    ],\n",
       "       [ -7.8099, -15.8036, -16.1518, -15.7951, -15.9596, -14.096 ,   2.7407,   0.    ,   0.    ,   0.    ,   0.    ,   0.    ,   0.    ,  -0.    ],\n",
       "       [ -0.    ,  -0.    ,  -0.    ,  -0.    ,  -0.    ,  -0.    ,   0.    ,  72.5928, -11.2637,  -7.7405,  -6.3915, -10.2107,   5.6486,  41.5621],\n",
       "       [ -0.    ,  -0.    ,  -0.    ,  -0.    ,  -0.    ,  -0.    ,   0.    , -11.2637,   6.8284,   0.4455,  -1.4389,  -0.2765,  -4.268 ,  -7.9948],\n",
       "       [ -0.    ,  -0.    ,  -0.    ,  -0.    ,  -0.    ,  -0.    ,   0.    ,  -7.7405,   0.4455,   1.6245,   0.4672,   1.2402,   1.0422,  -3.5207],\n",
       "       [ -0.    ,  -0.    ,  -0.    ,  -0.    ,  -0.    ,  -0.    ,   0.    ,  -6.3915,  -1.4389,   0.4672,   3.2509,   0.8624,   1.1386,  -3.6184],\n",
       "       [ -0.    ,  -0.    ,  -0.    ,  -0.    ,  -0.    ,  -0.    ,   0.    , -10.2107,  -0.2765,   1.2402,   0.8624,   3.1618,  -0.7195,  -5.2779],\n",
       "       [ -0.    ,  -0.    ,  -0.    ,  -0.    ,  -0.    ,  -0.    ,   0.    ,   5.6486,  -4.268 ,   1.0422,   1.1386,  -0.7195,  16.064 ,   4.5158],\n",
       "       [  0.    ,   0.    ,   0.    ,   0.    ,   0.    ,   0.    ,  -0.    ,  41.5621,  -7.9948,  -3.5207,  -3.6184,  -5.2779,   4.5158,  74.6594]])"
      ]
     },
     "execution_count": 29,
     "metadata": {},
     "output_type": "execute_result"
    }
   ],
   "source": [
    "raw_data_new.T @ raw_data_new"
   ]
  },
  {
   "cell_type": "code",
   "execution_count": 32,
   "metadata": {},
   "outputs": [],
   "source": [
    "def normalize(v):\n",
    "    return v / np.linalg.norm(v)"
   ]
  },
  {
   "cell_type": "code",
   "execution_count": 33,
   "metadata": {},
   "outputs": [
    {
     "data": {
      "text/plain": [
       "array([[-0.9576, -1.0683,  0.6798,  0.7252,  0.1207,  5.9785, -3.937 ]])"
      ]
     },
     "execution_count": 33,
     "metadata": {},
     "output_type": "execute_result"
    }
   ],
   "source": [
    "normalize((raw_data_new.T @ raw_data_new)[0:1, 0:new_i]) @ (raw_data_new.T @ raw_data_new)[new_i:, new_i:]"
   ]
  },
  {
   "cell_type": "code",
   "execution_count": 35,
   "metadata": {},
   "outputs": [
    {
     "data": {
      "text/plain": [
       "array([467.7676,   0.    ,   0.    ,   0.    ,   0.    ,   0.    ,   0.    ])"
      ]
     },
     "execution_count": 35,
     "metadata": {},
     "output_type": "execute_result"
    }
   ],
   "source": [
    "np.linalg.svd((raw_data_new.T @ raw_data_new)[0:new_i, 0:new_i])[1]"
   ]
  },
  {
   "cell_type": "code",
   "execution_count": 34,
   "metadata": {},
   "outputs": [
    {
     "data": {
      "text/plain": [
       "array([[85.7905, 16.0261,  8.805 ,  8.2653, 12.0405, 17.1967, 86.1602]])"
      ]
     },
     "execution_count": 34,
     "metadata": {},
     "output_type": "execute_result"
    }
   ],
   "source": [
    "np.sqrt(\n",
    "    np.linalg.norm((raw_data_new.T @ raw_data_new)[new_i:, new_i:], axis=1) ** 2\n",
    "        - (normalize((raw_data_new.T @ raw_data_new)[0:1, 0:new_i]) @ (raw_data_new.T @ raw_data_new)[new_i:, new_i:]) ** 2)"
   ]
  },
  {
   "cell_type": "code",
   "execution_count": 36,
   "metadata": {},
   "outputs": [
    {
     "data": {
      "text/plain": [
       "array([119.4107,  33.0814,  17.0119,   5.7443,   2.2638,   0.6696,   0.    ])"
      ]
     },
     "execution_count": 36,
     "metadata": {},
     "output_type": "execute_result"
    }
   ],
   "source": [
    "np.linalg.svd((raw_data_new.T @ raw_data_new)[new_i:, new_i:])[1]"
   ]
  },
  {
   "cell_type": "code",
   "execution_count": 40,
   "metadata": {},
   "outputs": [
    {
     "data": {
      "text/plain": [
       "array([119.4107,  33.0814,  17.0119,   5.7443,   2.2638,   0.6696,   0.    ])"
      ]
     },
     "execution_count": 40,
     "metadata": {},
     "output_type": "execute_result"
    }
   ],
   "source": [
    "np.square(np.linalg.svd(raw_data_new[:, new_i:])[1])"
   ]
  },
  {
   "cell_type": "code",
   "execution_count": 41,
   "metadata": {},
   "outputs": [
    {
     "data": {
      "text/plain": [
       "60.639700000000005"
      ]
     },
     "execution_count": 41,
     "metadata": {},
     "output_type": "execute_result"
    }
   ],
   "source": [
    "119.4107 - np.sum([33.0814,  17.0119,   5.7443,   2.2638,   0.6696,   0.])"
   ]
  },
  {
   "cell_type": "code",
   "execution_count": null,
   "metadata": {},
   "outputs": [
    {
     "data": {
      "text/plain": [
       "(100, 14)"
      ]
     },
     "execution_count": 31,
     "metadata": {},
     "output_type": "execute_result"
    }
   ],
   "source": [
    "raw_data_new.shape"
   ]
  },
  {
   "cell_type": "code",
   "execution_count": null,
   "metadata": {},
   "outputs": [
    {
     "data": {
      "text/plain": [
       "(array([467.7676,   0.    ,   0.    ,   0.    ,   0.    ,   0.    ,   0.    ]),\n",
       " array([21.6279,  0.    ,  0.    ,  0.    ,  0.    ,  0.    ,  0.    ]))"
      ]
     },
     "execution_count": 32,
     "metadata": {},
     "output_type": "execute_result"
    }
   ],
   "source": [
    "np.square(np.linalg.svd(raw_data_new[:, 0:new_i])[1]), np.linalg.svd(raw_data_new[:, 0:new_i])[1]"
   ]
  },
  {
   "cell_type": "code",
   "execution_count": null,
   "metadata": {},
   "outputs": [
    {
     "data": {
      "text/plain": [
       "(array([119.4107,  33.0814,  17.0119,   5.7443,   2.2638,   0.6696,   0.    ]),\n",
       " array([10.9275,  5.7516,  4.1246,  2.3967,  1.5046,  0.8183,  0.    ]))"
      ]
     },
     "execution_count": 33,
     "metadata": {},
     "output_type": "execute_result"
    }
   ],
   "source": [
    "np.square(np.linalg.svd(raw_data_new[:, new_i:])[1]), np.linalg.svd(raw_data_new[:, new_i:])[1]"
   ]
  },
  {
   "cell_type": "code",
   "execution_count": null,
   "metadata": {},
   "outputs": [
    {
     "data": {
      "text/plain": [
       "645.9493472102558"
      ]
     },
     "execution_count": 34,
     "metadata": {},
     "output_type": "execute_result"
    }
   ],
   "source": [
    "np.sum(\n",
    "    np.r_[\n",
    "        np.square(np.linalg.svd(raw_data_new[:, 0:new_i])[1][0:1]),\n",
    "        np.square(np.linalg.svd(raw_data_new[:, new_i:])[1])])"
   ]
  },
  {
   "cell_type": "code",
   "execution_count": null,
   "metadata": {},
   "outputs": [
    {
     "data": {
      "text/plain": [
       "array([21.6279, 10.9275,  5.7516,  4.1246,  2.3967,  1.5046,  0.8183,  0.    ])"
      ]
     },
     "execution_count": 35,
     "metadata": {},
     "output_type": "execute_result"
    }
   ],
   "source": [
    "# np.square(\n",
    "    # np.linalg.norm(\n",
    "np.r_[\n",
    "        np.linalg.svd(raw_data_new[:, 0:new_i])[1][0:1],\n",
    "        np.linalg.svd(raw_data_new[:, new_i:])[1]]"
   ]
  },
  {
   "attachments": {},
   "cell_type": "markdown",
   "metadata": {},
   "source": [
    "Rank-One Update: We are trying to apply the first original left-singular vector projection onto the residual data.\n",
    "\n",
    "w(lam) = 1 + rho sum(zeta ** 2 / (orig_eig_array - lam)) = 0"
   ]
  },
  {
   "cell_type": "code",
   "execution_count": null,
   "metadata": {},
   "outputs": [
    {
     "data": {
      "text/plain": [
       "True"
      ]
     },
     "execution_count": 36,
     "metadata": {},
     "output_type": "execute_result"
    }
   ],
   "source": [
    "np.allclose(\n",
    "    raw_data.T @ raw_data,\n",
    "    (raw_data_new[:, 0:new_i].T @ raw_data_new[:, 0:new_i]) + (raw_data_new[:, new_i:].T @ raw_data_new[:, new_i:]))"
   ]
  },
  {
   "cell_type": "code",
   "execution_count": null,
   "metadata": {},
   "outputs": [
    {
     "data": {
      "text/plain": [
       "array([  0.6677,   2.2636,   5.6205,  14.6327,  32.9158, 119.3171, 470.532 ])"
      ]
     },
     "execution_count": 37,
     "metadata": {},
     "output_type": "execute_result"
    }
   ],
   "source": [
    "np.linalg.eigvalsh(\n",
    "    raw_data.T @ raw_data)"
   ]
  },
  {
   "cell_type": "code",
   "execution_count": null,
   "metadata": {},
   "outputs": [
    {
     "data": {
      "text/plain": [
       "array([ -0.    ,  -0.    ,  -0.    ,   0.    ,   0.    ,   0.    , 467.7676])"
      ]
     },
     "execution_count": 38,
     "metadata": {},
     "output_type": "execute_result"
    }
   ],
   "source": [
    "np.linalg.eigvalsh(\n",
    "    raw_data_new[:, 0:new_i].T @ raw_data_new[:, 0:new_i])"
   ]
  },
  {
   "cell_type": "code",
   "execution_count": null,
   "metadata": {},
   "outputs": [
    {
     "data": {
      "text/plain": [
       "array([  0.    ,   0.6696,   2.2638,   5.7443,  17.0119,  33.0814, 119.4107])"
      ]
     },
     "execution_count": 39,
     "metadata": {},
     "output_type": "execute_result"
    }
   ],
   "source": [
    "np.linalg.eigvalsh(\n",
    "    raw_data_new[:, new_i:].T @ raw_data_new[:, new_i:])"
   ]
  },
  {
   "cell_type": "code",
   "execution_count": null,
   "metadata": {},
   "outputs": [
    {
     "data": {
      "text/plain": [
       "array([[-0.9161, -0.    , -0.    , -0.    , -0.    ]])"
      ]
     },
     "execution_count": 40,
     "metadata": {},
     "output_type": "execute_result"
    }
   ],
   "source": [
    "np.linalg.eigh(raw_data_new[:, 0:new_i].T @ raw_data_new[:, 0:new_i])[1][:, -1:].T @ \\\n",
    "    np.r_[\n",
    "        np.linalg.eigh(raw_data_new[:, new_i:new_i + current_i].T @ raw_data_new[:, new_i:new_i + current_i])[1],\n",
    "        np.zeros([new_i - current_i, 5])]"
   ]
  },
  {
   "cell_type": "code",
   "execution_count": null,
   "metadata": {},
   "outputs": [
    {
     "data": {
      "text/plain": [
       "array([[-1.,  0., -0.,  0.,  0.,  0., -0.]])"
      ]
     },
     "execution_count": 41,
     "metadata": {},
     "output_type": "execute_result"
    }
   ],
   "source": [
    "np.c_[\n",
    "    np.linalg.eigh(raw_data_new[:, 0:current_i].T @ raw_data_new[:, 0:current_i])[1][:, -1:].T,\n",
    "    np.zeros([1, new_i - current_i])] @ \\\n",
    "    np.linalg.eigh(raw_data_new[:, new_i:].T @ raw_data_new[:, new_i:])[1]"
   ]
  },
  {
   "cell_type": "code",
   "execution_count": null,
   "metadata": {},
   "outputs": [
    {
     "data": {
      "text/plain": [
       "array([[-0.9161,  0.0493,  0.0087,  0.1295, -0.3682,  0.0734,  0.0246]])"
      ]
     },
     "execution_count": 42,
     "metadata": {},
     "output_type": "execute_result"
    }
   ],
   "source": [
    "np.linalg.eigh(raw_data_new[:, 0:new_i].T @ raw_data_new[:, 0:new_i])[1][:, -1:].T @ \\\n",
    "    np.linalg.eigh(raw_data_new[:, new_i:].T @ raw_data_new[:, new_i:])[1]"
   ]
  },
  {
   "cell_type": "code",
   "execution_count": null,
   "metadata": {},
   "outputs": [
    {
     "data": {
      "text/plain": [
       "[5.551115123125783e-17,\n",
       " 4.597017211338539e-16,\n",
       " -2.3240957769399273e-15,\n",
       " -1.1223660889569942e-15,\n",
       " -1.5785983631388945e-16,\n",
       " -2.2261923207644863e-15,\n",
       " 0.9885052738229935]"
      ]
     },
     "execution_count": 43,
     "metadata": {},
     "output_type": "execute_result"
    }
   ],
   "source": [
    "list(*np.linalg.svd(raw_data_new[:, 0:new_i])[0][:, 0:1].T @ np.linalg.svd(raw_data_new[:, new_i:], full_matrices=False)[0])"
   ]
  },
  {
   "attachments": {},
   "cell_type": "markdown",
   "metadata": {},
   "source": [
    "\n",
    "## Gershgorin on residual data\n",
    "\n",
    "Bound the two largest eigenvalues. If we can bound the largest eigenvector, then we can bound the rank-one update and therefore use Zhu to bound the dominant eigenvalue of the eigensystem (after adding back in the projected data)."
   ]
  },
  {
   "cell_type": "code",
   "execution_count": null,
   "metadata": {},
   "outputs": [],
   "source": [
    "r_d = np.abs(np.diagonal(raw_data_new[:, new_i:].T @ raw_data_new[:, new_i:]))\n",
    "r_off = (np.abs(raw_data_new[:, new_i:].T @ raw_data_new[:, new_i:]) - np.diag(r_d)).sum(axis=1)"
   ]
  },
  {
   "cell_type": "code",
   "execution_count": null,
   "metadata": {},
   "outputs": [
    {
     "data": {
      "text/plain": [
       "array([[-10.2244,  72.5928, 155.4099],\n",
       "       [-18.8591,   6.8284,  32.5159],\n",
       "       [-12.8318,   1.6245,  16.0809],\n",
       "       [-10.6661,   3.2509,  17.1679],\n",
       "       [-15.4255,   3.1618,  21.749 ],\n",
       "       [ -1.2688,  16.064 ,  33.3968],\n",
       "       [  8.1697,  74.6594, 141.149 ]])"
      ]
     },
     "execution_count": 54,
     "metadata": {},
     "output_type": "execute_result"
    }
   ],
   "source": [
    "np.c_[r_d - r_off, r_d, r_d + r_off]"
   ]
  },
  {
   "cell_type": "code",
   "execution_count": null,
   "metadata": {},
   "outputs": [
    {
     "data": {
      "text/plain": [
       "(array([[72.5928, 39.7106, 37.1086, 37.9218, 37.8773, 44.3284, 73.6261],\n",
       "        [39.7106,  6.8284,  4.2264,  5.0396,  4.9951, 11.4462, 40.7439],\n",
       "        [37.1086,  4.2264,  1.6245,  2.4377,  2.3932,  8.8443, 38.1419],\n",
       "        [37.9218,  5.0396,  2.4377,  3.2509,  3.2064,  9.6575, 38.9551],\n",
       "        [37.8773,  4.9951,  2.3932,  3.2064,  3.1618,  9.6129, 38.9106],\n",
       "        [44.3284, 11.4462,  8.8443,  9.6575,  9.6129, 16.064 , 45.3617],\n",
       "        [73.6261, 40.7439, 38.1419, 38.9551, 38.9106, 45.3617, 74.6594]]),\n",
       " array([[82.8172, 56.6445, 49.5616, 48.5246, 52.3881, 47.2687, 74.2129],\n",
       "        [56.6445, 25.6875, 19.4452, 18.9919, 21.9276, 21.6   , 53.4622],\n",
       "        [49.5616, 19.4452, 14.4563, 14.2074, 16.4102, 17.3981, 47.9032],\n",
       "        [48.5246, 18.9919, 14.2074, 13.917 , 16.0836, 16.8007, 46.9055],\n",
       "        [52.3881, 21.9276, 16.4102, 16.0836, 18.5872, 19.0732, 50.1382],\n",
       "        [47.2687, 21.6   , 17.3981, 16.8007, 19.0732, 17.3328, 44.842 ],\n",
       "        [74.2129, 53.4622, 47.9032, 46.9055, 50.1382, 44.842 , 66.4896]]))"
      ]
     },
     "execution_count": 58,
     "metadata": {},
     "output_type": "execute_result"
    }
   ],
   "source": [
    "cassini_b = (r_d[:, None] + r_d[None, :])/2\n",
    "cassini_add = np.sqrt(np.square(r_d[:, None] - r_d[None, :]) + 4 * r_off[:, None] * r_off[None, :]) / 2\n",
    "cassini_b, cassini_add"
   ]
  },
  {
   "cell_type": "code",
   "execution_count": null,
   "metadata": {},
   "outputs": [],
   "source": []
  }
 ],
 "metadata": {
  "kernelspec": {
   "display_name": "Python 3",
   "language": "python",
   "name": "python3"
  },
  "language_info": {
   "codemirror_mode": {
    "name": "ipython",
    "version": 3
   },
   "file_extension": ".py",
   "mimetype": "text/x-python",
   "name": "python",
   "nbconvert_exporter": "python",
   "pygments_lexer": "ipython3",
   "version": "3.9.13 (main, May 24 2022, 21:28:31) \n[Clang 13.1.6 (clang-1316.0.21.2)]"
  },
  "orig_nbformat": 4,
  "vscode": {
   "interpreter": {
    "hash": "aee8b7b246df8f9039afb4144a1f6fd8d2ca17a180786b69acc140d282b71a49"
   }
  }
 },
 "nbformat": 4,
 "nbformat_minor": 2
}
