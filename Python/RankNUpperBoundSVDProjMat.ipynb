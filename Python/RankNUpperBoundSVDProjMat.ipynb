{
 "cells": [
  {
   "cell_type": "code",
   "execution_count": 85,
   "metadata": {},
   "outputs": [],
   "source": [
    "import numpy as np\n",
    "np.set_printoptions(linewidth = 200, precision = 4, suppress = True)"
   ]
  },
  {
   "cell_type": "code",
   "execution_count": 5,
   "metadata": {},
   "outputs": [
    {
     "data": {
      "text/plain": [
       "array([[ 1.    , -0.0461,  0.2312, ...,  0.2704,  0.4664,  0.3672],\n",
       "       [-0.0461,  1.    , -0.0671, ..., -0.0515, -0.0944, -0.0349],\n",
       "       [ 0.2312, -0.0671,  1.    , ...,  0.147 ,  0.2608,  0.6313],\n",
       "       ...,\n",
       "       [ 0.2704, -0.0515,  0.147 , ...,  1.    ,  0.2066,  0.1538],\n",
       "       [ 0.4664, -0.0944,  0.2608, ...,  0.2066,  1.    ,  0.3486],\n",
       "       [ 0.3672, -0.0349,  0.6313, ...,  0.1538,  0.3486,  1.    ]])"
      ]
     },
     "execution_count": 5,
     "metadata": {},
     "output_type": "execute_result"
    }
   ],
   "source": [
    "data = np.loadtxt('../NC-Data.csv', delimiter=',', dtype=str)\n",
    "data = data[1:].astype(float)\n",
    "data"
   ]
  },
  {
   "cell_type": "code",
   "execution_count": 6,
   "metadata": {},
   "outputs": [],
   "source": [
    "nodes = np.loadtxt('../NC-K7-Trace-Nodes.csv', delimiter=',', dtype=str)\n",
    "nodes = nodes[1:].astype(float)\n",
    "bounds = np.loadtxt('../NC-K7-Trace-Bounds.csv', delimiter=',', dtype=str)\n",
    "bounds = bounds[1:].astype(float)"
   ]
  },
  {
   "cell_type": "code",
   "execution_count": 7,
   "metadata": {},
   "outputs": [],
   "source": [
    "nodes = np.loadtxt('../NC-K7-Trace-Nodes.csv', delimiter=',', dtype=str)\n",
    "nodes = nodes[1:].astype(float)\n",
    "bounds = np.loadtxt('../NC-K7-Trace-Bounds.csv', delimiter=',', dtype=str)\n",
    "bounds = bounds[1:].astype(float)"
   ]
  },
  {
   "cell_type": "code",
   "execution_count": 9,
   "metadata": {},
   "outputs": [
    {
     "data": {
      "text/plain": [
       "array([4.5265, 6.1343, 7.    ])"
      ]
     },
     "execution_count": 9,
     "metadata": {},
     "output_type": "execute_result"
    }
   ],
   "source": [
    "# One lower bound impl, and two upper bound impls\n",
    "bounds[:, 60]"
   ]
  },
  {
   "cell_type": "code",
   "execution_count": 10,
   "metadata": {},
   "outputs": [
    {
     "data": {
      "text/plain": [
       "array([57, 82, 83, 84, 85])"
      ]
     },
     "execution_count": 10,
     "metadata": {},
     "output_type": "execute_result"
    }
   ],
   "source": [
    "selected = np.where(nodes[:, 60] == 1)[0]\n",
    "selected"
   ]
  },
  {
   "cell_type": "code",
   "execution_count": 45,
   "metadata": {},
   "outputs": [
    {
     "data": {
      "text/plain": [
       "array([57, 82, 83, 84, 85, 86])"
      ]
     },
     "execution_count": 45,
     "metadata": {},
     "output_type": "execute_result"
    }
   ],
   "source": [
    "selected = np.r_[selected, [86]]\n",
    "selected"
   ]
  },
  {
   "cell_type": "code",
   "execution_count": 46,
   "metadata": {},
   "outputs": [
    {
     "data": {
      "text/plain": [
       "array([[1.    , 0.4014, 0.3903, 0.3946, 0.3465, 0.3374],\n",
       "       [0.4014, 1.    , 0.9643, 0.9311, 0.95  , 0.0515],\n",
       "       [0.3903, 0.9643, 1.    , 0.9818, 0.9886, 0.0701],\n",
       "       [0.3946, 0.9311, 0.9818, 1.    , 0.9772, 0.0973],\n",
       "       [0.3465, 0.95  , 0.9886, 0.9772, 1.    , 0.0642],\n",
       "       [0.3374, 0.0515, 0.0701, 0.0973, 0.0642, 1.    ]])"
      ]
     },
     "execution_count": 46,
     "metadata": {},
     "output_type": "execute_result"
    }
   ],
   "source": [
    "data[selected, :][:, selected]"
   ]
  },
  {
   "cell_type": "code",
   "execution_count": 47,
   "metadata": {},
   "outputs": [
    {
     "data": {
      "text/plain": [
       "array([0.0894, 0.1366, 0.2687, 0.7712, 1.0972, 2.0255])"
      ]
     },
     "execution_count": 47,
     "metadata": {},
     "output_type": "execute_result"
    }
   ],
   "source": [
    "np.sqrt(np.linalg.eigvalsh(data[selected, :][:, selected]))"
   ]
  },
  {
   "cell_type": "code",
   "execution_count": 48,
   "metadata": {},
   "outputs": [
    {
     "data": {
      "text/plain": [
       "(100, 6)"
      ]
     },
     "execution_count": 48,
     "metadata": {},
     "output_type": "execute_result"
    }
   ],
   "source": [
    "# Use \"raw\" data SVD from here on out, singular values are slightly different.\n",
    "np.random.seed(1)\n",
    "raw_data = np.random.multivariate_normal(\n",
    "    np.zeros_like(selected, float),\n",
    "    data[selected, :][:, selected],\n",
    "    size=100)\n",
    "raw_data.shape"
   ]
  },
  {
   "cell_type": "code",
   "execution_count": 49,
   "metadata": {},
   "outputs": [
    {
     "data": {
      "text/plain": [
       "array([19.7849, 12.0553,  7.1674,  2.6202,  1.3461,  0.862 ])"
      ]
     },
     "execution_count": 49,
     "metadata": {},
     "output_type": "execute_result"
    }
   ],
   "source": [
    "np.linalg.svd(raw_data)[1]"
   ]
  },
  {
   "cell_type": "code",
   "execution_count": 50,
   "metadata": {},
   "outputs": [
    {
     "data": {
      "text/plain": [
       "array([ 0.    ,  0.    ,  0.    ,  0.    ,  0.    ,  0.    ,  0.862 ,  1.3461,  2.6202,  7.1674, 12.0553, 19.7849])"
      ]
     },
     "execution_count": 50,
     "metadata": {},
     "output_type": "execute_result"
    }
   ],
   "source": [
    "np.linalg.svd(np.c_[raw_data, raw_data])[1][::-1] / np.sqrt(2)"
   ]
  },
  {
   "cell_type": "code",
   "execution_count": 52,
   "metadata": {},
   "outputs": [
    {
     "data": {
      "text/plain": [
       "array([[0.2481],\n",
       "       [0.4778],\n",
       "       [0.4927],\n",
       "       [0.4757],\n",
       "       [0.4911]])"
      ]
     },
     "execution_count": 52,
     "metadata": {},
     "output_type": "execute_result"
    }
   ],
   "source": [
    "v = np.linalg.svd(raw_data[:, 0:5])[2][0:1, :].T\n",
    "v"
   ]
  },
  {
   "cell_type": "code",
   "execution_count": 97,
   "metadata": {},
   "outputs": [],
   "source": [
    "import scipy.linalg\n",
    "mat = scipy.linalg.block_diag(v @ v.T, [[0]], np.eye(5) - (v @ v.T), [[1]])\n",
    "rotation_matrix_small = scipy.linalg.block_diag(\n",
    "    np.linalg.svd(raw_data[:, 0:5])[2].T,\n",
    "    [[1]])\n",
    "# mat = mat @ scipy.linalg.block_diag(rotation_matrix_small, rotation_matrix_small)"
   ]
  },
  {
   "cell_type": "code",
   "execution_count": 98,
   "metadata": {},
   "outputs": [
    {
     "data": {
      "text/plain": [
       "array([ 0.    ,  0.    ,  0.    ,  0.    ,  0.    ,  0.    ,  0.862 ,  1.3461,  2.6202,  7.1674, 12.0553, 19.7849])"
      ]
     },
     "execution_count": 98,
     "metadata": {},
     "output_type": "execute_result"
    }
   ],
   "source": [
    "np.linalg.svd(np.c_[raw_data, raw_data] @ mat)[1][::-1]"
   ]
  },
  {
   "cell_type": "code",
   "execution_count": 104,
   "metadata": {},
   "outputs": [
    {
     "data": {
      "text/plain": [
       "array([ 0.    ,  4.7577,  4.8509,  5.0322,  5.6708, 13.7641, 14.8316, 17.4746, 20.5379, 20.5842, 20.8684, 20.9025])"
      ]
     },
     "execution_count": 104,
     "metadata": {},
     "output_type": "execute_result"
    }
   ],
   "source": [
    "# Gershgorin circle theorem after projecting onto two different matrices.\n",
    "# We sparsified data_expanded, but Gershgorin bound is performing poorly!\n",
    "apply_mat = np.c_[raw_data, raw_data] @ mat\n",
    "data_expanded = apply_mat.T @ apply_mat\n",
    "np.sort(np.sqrt(abs(data_expanded).sum(axis=1)))"
   ]
  },
  {
   "cell_type": "code",
   "execution_count": 103,
   "metadata": {},
   "outputs": [
    {
     "data": {
      "text/plain": [
       "array([16.0563, 17.6847, 20.2925, 20.3243, 20.5031, 20.6218])"
      ]
     },
     "execution_count": 103,
     "metadata": {},
     "output_type": "execute_result"
    }
   ],
   "source": [
    "# Gershgorin circle theorem (no change of variables).\n",
    "np.sort(np.sqrt(abs(raw_data.T @ raw_data).sum(axis=1)))"
   ]
  },
  {
   "cell_type": "code",
   "execution_count": 105,
   "metadata": {},
   "outputs": [
    {
     "data": {
      "text/plain": [
       "array([[ 23.329 ,  44.9357,  46.3362,  44.7337,  46.1852,   0.    ,  -0.    ,   0.    ,  -0.    ,   0.    ,   0.    ,  14.4556],\n",
       "       [ 44.9357,  86.5538,  89.2514,  86.1647,  88.9605,   0.    ,  -0.    ,   0.    ,  -0.    ,   0.    ,   0.    ,  27.8439],\n",
       "       [ 46.3362,  89.2514,  92.033 ,  88.8502,  91.7331,   0.    ,  -0.    ,   0.    ,  -0.    ,   0.    ,   0.    ,  28.7117],\n",
       "       [ 44.7337,  86.1647,  88.8502,  85.7774,  88.5606,   0.    ,  -0.    ,   0.    ,  -0.    ,   0.    ,   0.    ,  27.7187],\n",
       "       [ 46.1852,  88.9605,  91.7331,  88.5606,  91.4341,   0.    ,  -0.    ,   0.    ,  -0.    ,   0.    ,   0.    ,  28.6181],\n",
       "       [  0.    ,   0.    ,   0.    ,   0.    ,   0.    ,   0.    ,   0.    ,   0.    ,   0.    ,   0.    ,   0.    ,   0.    ],\n",
       "       [ -0.    ,  -0.    ,  -0.    ,  -0.    ,  -0.    ,   0.    ,  94.6169,  -9.6804, -11.6543, -10.2479, -16.7561,  46.4953],\n",
       "       [  0.    ,   0.    ,   0.    ,   0.    ,   0.    ,   0.    ,  -9.6804,   5.8146,   0.5809,  -1.7085,   0.3045,  -7.2346],\n",
       "       [ -0.    ,  -0.    ,  -0.    ,  -0.    ,  -0.    ,   0.    , -11.6543,   0.5809,   2.032 ,   1.3468,   1.9785,  -5.939 ],\n",
       "       [  0.    ,   0.    ,   0.    ,   0.    ,   0.    ,   0.    , -10.2479,  -1.7085,   1.3468,   3.8013,   1.8056,  -3.7257],\n",
       "       [  0.    ,   0.    ,   0.    ,   0.    ,   0.    ,   0.    , -16.7561,   0.3045,   1.9785,   1.8056,   4.4338,  -6.8799],\n",
       "       [ 14.4556,  27.8439,  28.7117,  27.7187,  28.6181,   0.    ,  46.4953,  -7.2346,  -5.939 ,  -3.7257,  -6.8799, 107.7399]])"
      ]
     },
     "execution_count": 105,
     "metadata": {},
     "output_type": "execute_result"
    }
   ],
   "source": [
    "data_expanded"
   ]
  },
  {
   "cell_type": "code",
   "execution_count": null,
   "metadata": {},
   "outputs": [],
   "source": []
  }
 ],
 "metadata": {
  "kernelspec": {
   "display_name": "Python 3",
   "language": "python",
   "name": "python3"
  },
  "language_info": {
   "codemirror_mode": {
    "name": "ipython",
    "version": 3
   },
   "file_extension": ".py",
   "mimetype": "text/x-python",
   "name": "python",
   "nbconvert_exporter": "python",
   "pygments_lexer": "ipython3",
   "version": "3.8.10"
  },
  "orig_nbformat": 4,
  "vscode": {
   "interpreter": {
    "hash": "916dbcbb3f70747c44a77c7bcd40155683ae19c65e1c03b4aa3499c5328201f1"
   }
  }
 },
 "nbformat": 4,
 "nbformat_minor": 2
}
