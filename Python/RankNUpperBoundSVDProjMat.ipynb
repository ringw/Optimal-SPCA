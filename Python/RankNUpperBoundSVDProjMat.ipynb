{
 "cells": [
  {
   "cell_type": "code",
   "execution_count": 2,
   "metadata": {},
   "outputs": [],
   "source": [
    "import numpy as np\n",
    "np.set_printoptions(linewidth = 200, precision = 4, suppress = True)"
   ]
  },
  {
   "cell_type": "code",
   "execution_count": 3,
   "metadata": {},
   "outputs": [
    {
     "data": {
      "text/plain": [
       "array([[ 1.    , -0.0461,  0.2312, ...,  0.2704,  0.4664,  0.3672],\n",
       "       [-0.0461,  1.    , -0.0671, ..., -0.0515, -0.0944, -0.0349],\n",
       "       [ 0.2312, -0.0671,  1.    , ...,  0.147 ,  0.2608,  0.6313],\n",
       "       ...,\n",
       "       [ 0.2704, -0.0515,  0.147 , ...,  1.    ,  0.2066,  0.1538],\n",
       "       [ 0.4664, -0.0944,  0.2608, ...,  0.2066,  1.    ,  0.3486],\n",
       "       [ 0.3672, -0.0349,  0.6313, ...,  0.1538,  0.3486,  1.    ]])"
      ]
     },
     "execution_count": 3,
     "metadata": {},
     "output_type": "execute_result"
    }
   ],
   "source": [
    "data = np.loadtxt('../NC-Data.csv', delimiter=',', dtype=str)\n",
    "data = data[1:].astype(float)\n",
    "data"
   ]
  },
  {
   "cell_type": "code",
   "execution_count": 4,
   "metadata": {},
   "outputs": [],
   "source": [
    "nodes = np.loadtxt('../NC-K7-Trace-Nodes.csv', delimiter=',', dtype=str)\n",
    "nodes = nodes[1:].astype(float)\n",
    "bounds = np.loadtxt('../NC-K7-Trace-Bounds.csv', delimiter=',', dtype=str)\n",
    "bounds = bounds[1:].astype(float)"
   ]
  },
  {
   "cell_type": "code",
   "execution_count": 5,
   "metadata": {},
   "outputs": [],
   "source": [
    "nodes = np.loadtxt('../NC-K7-Trace-Nodes.csv', delimiter=',', dtype=str)\n",
    "nodes = nodes[1:].astype(float)\n",
    "bounds = np.loadtxt('../NC-K7-Trace-Bounds.csv', delimiter=',', dtype=str)\n",
    "bounds = bounds[1:].astype(float)"
   ]
  },
  {
   "cell_type": "code",
   "execution_count": 6,
   "metadata": {},
   "outputs": [
    {
     "data": {
      "text/plain": [
       "array([4.5265, 6.1343, 7.    ])"
      ]
     },
     "execution_count": 6,
     "metadata": {},
     "output_type": "execute_result"
    }
   ],
   "source": [
    "# One lower bound impl, and two upper bound impls\n",
    "bounds[:, 60]"
   ]
  },
  {
   "cell_type": "code",
   "execution_count": 7,
   "metadata": {},
   "outputs": [
    {
     "data": {
      "text/plain": [
       "array([57, 82, 83, 84, 85])"
      ]
     },
     "execution_count": 7,
     "metadata": {},
     "output_type": "execute_result"
    }
   ],
   "source": [
    "selected = np.where(nodes[:, 60] == 1)[0]\n",
    "selected"
   ]
  },
  {
   "cell_type": "code",
   "execution_count": 8,
   "metadata": {},
   "outputs": [
    {
     "data": {
      "text/plain": [
       "array([57, 82, 83, 84, 85, 86])"
      ]
     },
     "execution_count": 8,
     "metadata": {},
     "output_type": "execute_result"
    }
   ],
   "source": [
    "selected = np.r_[selected, [86]]\n",
    "selected"
   ]
  },
  {
   "cell_type": "code",
   "execution_count": 9,
   "metadata": {},
   "outputs": [
    {
     "data": {
      "text/plain": [
       "array([[1.    , 0.4014, 0.3903, 0.3946, 0.3465, 0.3374],\n",
       "       [0.4014, 1.    , 0.9643, 0.9311, 0.95  , 0.0515],\n",
       "       [0.3903, 0.9643, 1.    , 0.9818, 0.9886, 0.0701],\n",
       "       [0.3946, 0.9311, 0.9818, 1.    , 0.9772, 0.0973],\n",
       "       [0.3465, 0.95  , 0.9886, 0.9772, 1.    , 0.0642],\n",
       "       [0.3374, 0.0515, 0.0701, 0.0973, 0.0642, 1.    ]])"
      ]
     },
     "execution_count": 9,
     "metadata": {},
     "output_type": "execute_result"
    }
   ],
   "source": [
    "data[selected, :][:, selected]"
   ]
  },
  {
   "cell_type": "code",
   "execution_count": 10,
   "metadata": {},
   "outputs": [
    {
     "data": {
      "text/plain": [
       "array([0.0894, 0.1366, 0.2687, 0.7712, 1.0972, 2.0255])"
      ]
     },
     "execution_count": 10,
     "metadata": {},
     "output_type": "execute_result"
    }
   ],
   "source": [
    "np.sqrt(np.linalg.eigvalsh(data[selected, :][:, selected]))"
   ]
  },
  {
   "cell_type": "code",
   "execution_count": 41,
   "metadata": {},
   "outputs": [
    {
     "data": {
      "text/plain": [
       "(100, 6)"
      ]
     },
     "execution_count": 41,
     "metadata": {},
     "output_type": "execute_result"
    }
   ],
   "source": [
    "# Use \"raw\" data SVD from here on out, singular values are slightly different.\n",
    "np.random.seed(1)\n",
    "n_obs = 100\n",
    "raw_data = np.random.multivariate_normal(\n",
    "    np.zeros_like(selected, float),\n",
    "    data[selected, :][:, selected],\n",
    "    size=n_obs)\n",
    "raw_data.shape"
   ]
  },
  {
   "cell_type": "code",
   "execution_count": 42,
   "metadata": {},
   "outputs": [
    {
     "data": {
      "text/plain": [
       "array([19.7849, 12.0553,  7.1674,  2.6202,  1.3461,  0.862 ])"
      ]
     },
     "execution_count": 42,
     "metadata": {},
     "output_type": "execute_result"
    }
   ],
   "source": [
    "np.linalg.svd(raw_data)[1]"
   ]
  },
  {
   "cell_type": "code",
   "execution_count": 43,
   "metadata": {},
   "outputs": [
    {
     "data": {
      "text/plain": [
       "array([ 0.    ,  0.    ,  0.    ,  0.    ,  0.    ,  0.    ,  0.862 ,  1.3461,  2.6202,  7.1674, 12.0553, 19.7849])"
      ]
     },
     "execution_count": 43,
     "metadata": {},
     "output_type": "execute_result"
    }
   ],
   "source": [
    "np.linalg.svd(np.c_[raw_data, raw_data])[1][::-1] / np.sqrt(2)"
   ]
  },
  {
   "cell_type": "code",
   "execution_count": 44,
   "metadata": {},
   "outputs": [
    {
     "data": {
      "text/plain": [
       "array([[0.2481],\n",
       "       [0.4778],\n",
       "       [0.4927],\n",
       "       [0.4757],\n",
       "       [0.4911]])"
      ]
     },
     "execution_count": 44,
     "metadata": {},
     "output_type": "execute_result"
    }
   ],
   "source": [
    "v = np.linalg.svd(raw_data[:, 0:5])[2][0:1, :].T\n",
    "v"
   ]
  },
  {
   "cell_type": "code",
   "execution_count": 45,
   "metadata": {},
   "outputs": [],
   "source": [
    "import scipy.linalg\n",
    "mat = scipy.linalg.block_diag(v @ v.T, [[0]], np.eye(5) - (v @ v.T), [[1]])\n",
    "rotation_matrix_small = scipy.linalg.block_diag(\n",
    "    np.linalg.svd(raw_data[:, 0:5])[2].T,\n",
    "    [[1]])\n",
    "# mat = mat @ scipy.linalg.block_diag(rotation_matrix_small, np.eye(6))"
   ]
  },
  {
   "cell_type": "code",
   "execution_count": 49,
   "metadata": {},
   "outputs": [
    {
     "data": {
      "text/plain": [
       "array([  0.    ,   0.    ,   0.    ,   0.    ,   0.    ,   0.    ,   0.7431,   1.812 ,   6.8655,  51.3719, 145.3307, 391.4425])"
      ]
     },
     "execution_count": 49,
     "metadata": {},
     "output_type": "execute_result"
    }
   ],
   "source": [
    "np.square(np.linalg.svd(np.c_[raw_data, raw_data] @ mat)[1][::-1])"
   ]
  },
  {
   "cell_type": "code",
   "execution_count": 51,
   "metadata": {},
   "outputs": [
    {
     "data": {
      "text/plain": [
       "array([  0.    ,  22.6359,  23.5315,  25.3234,  32.1583, 189.4509, 219.9754, 305.3621, 421.8053, 423.71  , 435.4915, 436.9155])"
      ]
     },
     "execution_count": 51,
     "metadata": {},
     "output_type": "execute_result"
    }
   ],
   "source": [
    "# Gershgorin circle theorem after projecting onto two different matrices.\n",
    "# We sparsified data_expanded, but Gershgorin bound is performing poorly!\n",
    "apply_mat = np.c_[raw_data, raw_data] @ mat\n",
    "data_expanded = apply_mat.T @ apply_mat\n",
    "np.sort(abs(data_expanded).sum(axis=1))"
   ]
  },
  {
   "cell_type": "code",
   "execution_count": 52,
   "metadata": {},
   "outputs": [
    {
     "data": {
      "text/plain": [
       "array([257.8039, 312.7489, 411.7866, 413.0769, 420.3779, 425.2604])"
      ]
     },
     "execution_count": 52,
     "metadata": {},
     "output_type": "execute_result"
    }
   ],
   "source": [
    "# Gershgorin circle theorem (no change of variables).\n",
    "np.sort(abs(raw_data.T @ raw_data).sum(axis=1))"
   ]
  },
  {
   "cell_type": "code",
   "execution_count": 53,
   "metadata": {},
   "outputs": [
    {
     "data": {
      "text/plain": [
       "array([219.9754, 423.71  , 436.9155, 421.8053, 435.4915,   0.    , 189.4509,  25.3234,  23.5315,  22.6359,  32.1583, 305.3621])"
      ]
     },
     "execution_count": 53,
     "metadata": {},
     "output_type": "execute_result"
    }
   ],
   "source": [
    "abs(data_expanded).sum(axis=1)"
   ]
  },
  {
   "cell_type": "code",
   "execution_count": 54,
   "metadata": {},
   "outputs": [
    {
     "data": {
      "text/plain": [
       "array([[ 23.329 ,  44.9357,  46.3362,  44.7337,  46.1852,   0.    ,  -0.    ,   0.    ,  -0.    ,   0.    ,   0.    ,  14.4556],\n",
       "       [ 44.9357,  86.5538,  89.2514,  86.1647,  88.9605,   0.    ,  -0.    ,   0.    ,  -0.    ,   0.    ,   0.    ,  27.8439],\n",
       "       [ 46.3362,  89.2514,  92.033 ,  88.8502,  91.7331,   0.    ,  -0.    ,   0.    ,  -0.    ,   0.    ,   0.    ,  28.7117],\n",
       "       [ 44.7337,  86.1647,  88.8502,  85.7774,  88.5606,   0.    ,  -0.    ,   0.    ,  -0.    ,   0.    ,   0.    ,  27.7187],\n",
       "       [ 46.1852,  88.9605,  91.7331,  88.5606,  91.4341,   0.    ,  -0.    ,   0.    ,  -0.    ,   0.    ,   0.    ,  28.6181],\n",
       "       [  0.    ,   0.    ,   0.    ,   0.    ,   0.    ,   0.    ,   0.    ,   0.    ,   0.    ,   0.    ,   0.    ,   0.    ],\n",
       "       [ -0.    ,  -0.    ,  -0.    ,  -0.    ,  -0.    ,   0.    ,  94.6169,  -9.6804, -11.6543, -10.2479, -16.7561,  46.4953],\n",
       "       [  0.    ,   0.    ,   0.    ,   0.    ,   0.    ,   0.    ,  -9.6804,   5.8146,   0.5809,  -1.7085,   0.3045,  -7.2346],\n",
       "       [ -0.    ,  -0.    ,  -0.    ,  -0.    ,  -0.    ,   0.    , -11.6543,   0.5809,   2.032 ,   1.3468,   1.9785,  -5.939 ],\n",
       "       [  0.    ,   0.    ,   0.    ,   0.    ,   0.    ,   0.    , -10.2479,  -1.7085,   1.3468,   3.8013,   1.8056,  -3.7257],\n",
       "       [  0.    ,   0.    ,   0.    ,   0.    ,   0.    ,   0.    , -16.7561,   0.3045,   1.9785,   1.8056,   4.4338,  -6.8799],\n",
       "       [ 14.4556,  27.8439,  28.7117,  27.7187,  28.6181,   0.    ,  46.4953,  -7.2346,  -5.939 ,  -3.7257,  -6.8799, 107.7399]])"
      ]
     },
     "execution_count": 54,
     "metadata": {},
     "output_type": "execute_result"
    }
   ],
   "source": [
    "data_expanded"
   ]
  },
  {
   "cell_type": "code",
   "execution_count": 55,
   "metadata": {},
   "outputs": [],
   "source": [
    "data_vector = np.linalg.svd(raw_data)[0][:, 0:1]"
   ]
  },
  {
   "cell_type": "code",
   "execution_count": 56,
   "metadata": {},
   "outputs": [],
   "source": [
    "data_proj = data_vector @ data_vector.T\n",
    "data_proj_compl = np.eye(n_obs) - data_proj\n",
    "raw_data_new = np.c_[data_proj @ raw_data, data_proj_compl @ raw_data]"
   ]
  },
  {
   "cell_type": "code",
   "execution_count": 57,
   "metadata": {},
   "outputs": [
    {
     "data": {
      "text/plain": [
       "array([391.4425, 145.3307,  51.3719,   6.8655,   1.812 ,   0.7431])"
      ]
     },
     "execution_count": 57,
     "metadata": {},
     "output_type": "execute_result"
    }
   ],
   "source": [
    "np.square(np.linalg.svd(raw_data)[1])"
   ]
  },
  {
   "cell_type": "code",
   "execution_count": 62,
   "metadata": {},
   "outputs": [
    {
     "data": {
      "text/plain": [
       "391.4424958109583"
      ]
     },
     "execution_count": 62,
     "metadata": {},
     "output_type": "execute_result"
    }
   ],
   "source": [
    "np.square(np.linalg.svd(raw_data_new)[1]).max()"
   ]
  },
  {
   "cell_type": "code",
   "execution_count": 59,
   "metadata": {},
   "outputs": [
    {
     "data": {
      "text/plain": [
       "array([254.5931, 427.197 , 441.1269, 426.9439, 438.7903, 190.8679, 195.5678,  47.4856,  49.5438,  43.6973,  58.6174, 192.4244])"
      ]
     },
     "execution_count": 59,
     "metadata": {},
     "output_type": "execute_result"
    }
   ],
   "source": [
    "abs(raw_data_new.T @ raw_data_new).sum(axis=1)"
   ]
  },
  {
   "cell_type": "code",
   "execution_count": 60,
   "metadata": {},
   "outputs": [
    {
     "data": {
      "text/plain": [
       "array([[ 29.7394,  49.9016,  51.5287,  49.872 ,  51.2558,  22.2956,   0.    ,  -0.    ,  -0.    ,  -0.    ,  -0.    ,   0.    ],\n",
       "       [ 49.9016,  83.7328,  86.4631,  83.6832,  86.0052,  37.4111,   0.    ,  -0.    ,  -0.    ,  -0.    ,  -0.    ,  -0.    ],\n",
       "       [ 51.5287,  86.4631,  89.2825,  86.4119,  88.8096,  38.631 ,   0.    ,  -0.    ,  -0.    ,  -0.    ,  -0.    ,   0.    ],\n",
       "       [ 49.872 ,  83.6832,  86.4119,  83.6336,  85.9542,  37.3889,   0.    ,  -0.    ,  -0.    ,  -0.    ,  -0.    ,  -0.    ],\n",
       "       [ 51.2558,  86.0052,  88.8096,  85.9542,  88.3392,  38.4264,  -0.    ,  -0.    ,  -0.    ,  -0.    ,  -0.    ,  -0.    ],\n",
       "       [ 22.2956,  37.4111,  38.631 ,  37.3889,  38.4264,  16.715 ,   0.    ,  -0.    ,  -0.    ,  -0.    ,  -0.    ,   0.    ],\n",
       "       [  0.    ,   0.    ,   0.    ,   0.    ,  -0.    ,   0.    ,  88.2065, -14.6462, -16.8468, -15.3862, -21.8267,  38.6553],\n",
       "       [ -0.    ,  -0.    ,  -0.    ,  -0.    ,  -0.    ,  -0.    , -14.6462,   8.6356,   3.3692,   0.773 ,   3.2598, -16.8018],\n",
       "       [ -0.    ,  -0.    ,  -0.    ,  -0.    ,  -0.    ,  -0.    , -16.8468,   3.3692,   4.7825,   3.7851,   4.9019, -15.8583],\n",
       "       [ -0.    ,  -0.    ,  -0.    ,  -0.    ,  -0.    ,  -0.    , -15.3862,   0.773 ,   3.7851,   5.9451,   4.412 , -13.3959],\n",
       "       [ -0.    ,  -0.    ,  -0.    ,  -0.    ,  -0.    ,  -0.    , -21.8267,   3.2598,   4.9019,   4.412 ,   7.5287, -16.6881],\n",
       "       [  0.    ,  -0.    ,   0.    ,  -0.    ,  -0.    ,   0.    ,  38.6553, -16.8018, -15.8583, -13.3959, -16.6881,  91.0249]])"
      ]
     },
     "execution_count": 60,
     "metadata": {},
     "output_type": "execute_result"
    }
   ],
   "source": [
    "raw_data_new.T @ raw_data_new"
   ]
  },
  {
   "cell_type": "code",
   "execution_count": 61,
   "metadata": {},
   "outputs": [
    {
     "data": {
      "text/plain": [
       "391.44249581095835"
      ]
     },
     "execution_count": 61,
     "metadata": {},
     "output_type": "execute_result"
    }
   ],
   "source": [
    "np.linalg.norm((raw_data_new.T @ raw_data_new)[0:6, 0:6], ord=2)"
   ]
  },
  {
   "cell_type": "code",
   "execution_count": null,
   "metadata": {},
   "outputs": [],
   "source": []
  }
 ],
 "metadata": {
  "kernelspec": {
   "display_name": "Python 3",
   "language": "python",
   "name": "python3"
  },
  "language_info": {
   "codemirror_mode": {
    "name": "ipython",
    "version": 3
   },
   "file_extension": ".py",
   "mimetype": "text/x-python",
   "name": "python",
   "nbconvert_exporter": "python",
   "pygments_lexer": "ipython3",
   "version": "3.8.10"
  },
  "orig_nbformat": 4,
  "vscode": {
   "interpreter": {
    "hash": "916dbcbb3f70747c44a77c7bcd40155683ae19c65e1c03b4aa3499c5328201f1"
   }
  }
 },
 "nbformat": 4,
 "nbformat_minor": 2
}
