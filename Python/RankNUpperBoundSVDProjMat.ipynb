{
 "cells": [
  {
   "cell_type": "code",
   "execution_count": 57,
   "metadata": {},
   "outputs": [],
   "source": [
    "import numpy as np\n",
    "np.set_printoptions(linewidth = 200, precision = 4, suppress = True)"
   ]
  },
  {
   "cell_type": "code",
   "execution_count": 58,
   "metadata": {},
   "outputs": [
    {
     "data": {
      "text/plain": [
       "array([[ 1.    , -0.0461,  0.2312, ...,  0.2704,  0.4664,  0.3672],\n",
       "       [-0.0461,  1.    , -0.0671, ..., -0.0515, -0.0944, -0.0349],\n",
       "       [ 0.2312, -0.0671,  1.    , ...,  0.147 ,  0.2608,  0.6313],\n",
       "       ...,\n",
       "       [ 0.2704, -0.0515,  0.147 , ...,  1.    ,  0.2066,  0.1538],\n",
       "       [ 0.4664, -0.0944,  0.2608, ...,  0.2066,  1.    ,  0.3486],\n",
       "       [ 0.3672, -0.0349,  0.6313, ...,  0.1538,  0.3486,  1.    ]])"
      ]
     },
     "execution_count": 58,
     "metadata": {},
     "output_type": "execute_result"
    }
   ],
   "source": [
    "data = np.loadtxt('../NC-Data.csv', delimiter=',', dtype=str)\n",
    "data = data[1:].astype(float)\n",
    "data"
   ]
  },
  {
   "cell_type": "code",
   "execution_count": 59,
   "metadata": {},
   "outputs": [],
   "source": [
    "nodes = np.loadtxt('../NC-K7-Trace-Nodes.csv', delimiter=',', dtype=str)\n",
    "nodes = nodes[1:].astype(float)\n",
    "bounds = np.loadtxt('../NC-K7-Trace-Bounds.csv', delimiter=',', dtype=str)\n",
    "bounds = bounds[1:].astype(float)"
   ]
  },
  {
   "cell_type": "code",
   "execution_count": 60,
   "metadata": {},
   "outputs": [],
   "source": [
    "nodes = np.loadtxt('../NC-K7-Trace-Nodes.csv', delimiter=',', dtype=str)\n",
    "nodes = nodes[1:].astype(float)\n",
    "bounds = np.loadtxt('../NC-K7-Trace-Bounds.csv', delimiter=',', dtype=str)\n",
    "bounds = bounds[1:].astype(float)"
   ]
  },
  {
   "cell_type": "code",
   "execution_count": 61,
   "metadata": {},
   "outputs": [
    {
     "data": {
      "text/plain": [
       "array([4.5265, 6.1343, 7.    ])"
      ]
     },
     "execution_count": 61,
     "metadata": {},
     "output_type": "execute_result"
    }
   ],
   "source": [
    "# One lower bound impl, and two upper bound impls\n",
    "bounds[:, 60]"
   ]
  },
  {
   "cell_type": "code",
   "execution_count": 94,
   "metadata": {},
   "outputs": [
    {
     "data": {
      "text/plain": [
       "array([57, 82, 83, 84, 85])"
      ]
     },
     "execution_count": 94,
     "metadata": {},
     "output_type": "execute_result"
    }
   ],
   "source": [
    "selected = np.where(nodes[:, 60] == 1)[0]\n",
    "selected\n",
    "current_i = len(selected)\n",
    "selected"
   ]
  },
  {
   "cell_type": "code",
   "execution_count": 95,
   "metadata": {},
   "outputs": [
    {
     "data": {
      "text/plain": [
       "array([85, 83, 84, 82, 79, 80, 12, 81, 19, 20])"
      ]
     },
     "execution_count": 95,
     "metadata": {},
     "output_type": "execute_result"
    }
   ],
   "source": [
    "np.argsort(-abs(data[85, :]))[:10]"
   ]
  },
  {
   "cell_type": "code",
   "execution_count": 96,
   "metadata": {},
   "outputs": [
    {
     "data": {
      "text/plain": [
       "array([ 57,  82,  83,  84,  85,  79, 100])"
      ]
     },
     "execution_count": 96,
     "metadata": {},
     "output_type": "execute_result"
    }
   ],
   "source": [
    "# selected = np.r_[selected, [79]]\n",
    "selected = np.r_[selected, [79, 100]]\n",
    "new_i = len(selected)\n",
    "selected"
   ]
  },
  {
   "cell_type": "code",
   "execution_count": 97,
   "metadata": {},
   "outputs": [],
   "source": [
    "\n",
    "new_i = len(selected)"
   ]
  },
  {
   "cell_type": "code",
   "execution_count": 98,
   "metadata": {},
   "outputs": [
    {
     "data": {
      "text/plain": [
       "array([[ 1.    ,  0.4014,  0.3903,  0.3946,  0.3465,  0.4393,  0.248 ],\n",
       "       [ 0.4014,  1.    ,  0.9643,  0.9311,  0.95  ,  0.8509, -0.2518],\n",
       "       [ 0.3903,  0.9643,  1.    ,  0.9818,  0.9886,  0.9107, -0.2405],\n",
       "       [ 0.3946,  0.9311,  0.9818,  1.    ,  0.9772,  0.9206, -0.2323],\n",
       "       [ 0.3465,  0.95  ,  0.9886,  0.9772,  1.    ,  0.887 , -0.2399],\n",
       "       [ 0.4393,  0.8509,  0.9107,  0.9206,  0.887 ,  1.    , -0.2105],\n",
       "       [ 0.248 , -0.2518, -0.2405, -0.2323, -0.2399, -0.2105,  1.    ]])"
      ]
     },
     "execution_count": 98,
     "metadata": {},
     "output_type": "execute_result"
    }
   ],
   "source": [
    "data[selected, :][:, selected]"
   ]
  },
  {
   "cell_type": "code",
   "execution_count": 99,
   "metadata": {},
   "outputs": [
    {
     "data": {
      "text/plain": [
       "(100, 7)"
      ]
     },
     "execution_count": 99,
     "metadata": {},
     "output_type": "execute_result"
    }
   ],
   "source": [
    "# Use \"raw\" data SVD from here on out, singular values are slightly different.\n",
    "np.random.seed(1)\n",
    "n_obs = 100\n",
    "raw_data = np.random.multivariate_normal(\n",
    "    np.zeros_like(selected, float),\n",
    "    data[selected, :][:, selected],\n",
    "    size=n_obs)\n",
    "raw_data.shape"
   ]
  },
  {
   "cell_type": "code",
   "execution_count": 100,
   "metadata": {},
   "outputs": [
    {
     "data": {
      "text/plain": [
       "array([21.6917, 10.9232,  5.7372,  3.8253,  2.3708,  1.5045,  0.8171])"
      ]
     },
     "execution_count": 100,
     "metadata": {},
     "output_type": "execute_result"
    }
   ],
   "source": [
    "np.linalg.svd(raw_data)[1]"
   ]
  },
  {
   "cell_type": "code",
   "execution_count": 101,
   "metadata": {},
   "outputs": [
    {
     "data": {
      "text/plain": [
       "array([ 0.    ,  0.    ,  0.    ,  0.    ,  0.    ,  0.    ,  0.    ,  0.8171,  1.5045,  2.3708,  3.8253,  5.7372, 10.9232, 21.6917])"
      ]
     },
     "execution_count": 101,
     "metadata": {},
     "output_type": "execute_result"
    }
   ],
   "source": [
    "np.linalg.svd(np.c_[raw_data, raw_data])[1][::-1] / np.sqrt(2)"
   ]
  },
  {
   "cell_type": "code",
   "execution_count": 102,
   "metadata": {},
   "outputs": [
    {
     "data": {
      "text/plain": [
       "array([[0.2381],\n",
       "       [0.4818],\n",
       "       [0.4924],\n",
       "       [0.4816],\n",
       "       [0.4866]])"
      ]
     },
     "execution_count": 102,
     "metadata": {},
     "output_type": "execute_result"
    }
   ],
   "source": [
    "v = np.linalg.svd(raw_data[:, 0:current_i])[2][0:1, :].T\n",
    "v"
   ]
  },
  {
   "cell_type": "code",
   "execution_count": 105,
   "metadata": {},
   "outputs": [],
   "source": [
    "import scipy.linalg\n",
    "mat = scipy.linalg.block_diag(v @ v.T, np.zeros([new_i - current_i, new_i - current_i]), np.eye(current_i) - (v @ v.T), np.eye(new_i - current_i))\n",
    "rotation_matrix_small = scipy.linalg.block_diag(\n",
    "    np.linalg.svd(raw_data[:, 0:current_i])[2].T,\n",
    "    np.eye(new_i - current_i))\n",
    "# mat = mat @ scipy.linalg.block_diag(rotation_matrix_small, np.eye(6))"
   ]
  },
  {
   "cell_type": "code",
   "execution_count": 106,
   "metadata": {},
   "outputs": [
    {
     "data": {
      "text/plain": [
       "array([  0.    ,   0.    ,   0.    ,   0.    ,   0.    ,   0.    ,   0.    ,   0.6677,   2.2636,   5.6205,  14.6327,  32.9158, 119.3171, 470.532 ])"
      ]
     },
     "execution_count": 106,
     "metadata": {},
     "output_type": "execute_result"
    }
   ],
   "source": [
    "np.square(np.linalg.svd(np.c_[raw_data, raw_data] @ mat)[1][::-1])"
   ]
  },
  {
   "cell_type": "code",
   "execution_count": 107,
   "metadata": {},
   "outputs": [
    {
     "data": {
      "text/plain": [
       "array([  0.    ,   0.    ,  16.0809,  17.1679,  21.749 ,  32.5159, 155.4099, 220.4741, 251.7781, 478.7963, 509.2048, 509.4814, 514.5076, 520.7054])"
      ]
     },
     "execution_count": 107,
     "metadata": {},
     "output_type": "execute_result"
    }
   ],
   "source": [
    "# Gershgorin circle theorem after projecting onto two different matrices.\n",
    "# We sparsified data_expanded, but Gershgorin bound is performing poorly!\n",
    "apply_mat = np.c_[raw_data, raw_data] @ mat\n",
    "data_expanded = apply_mat.T @ apply_mat\n",
    "np.sort(abs(data_expanded).sum(axis=1))"
   ]
  },
  {
   "cell_type": "code",
   "execution_count": 108,
   "metadata": {},
   "outputs": [
    {
     "data": {
      "text/plain": [
       "array([204.8543, 320.3552, 468.8212, 507.5029, 510.7118, 513.8432, 521.3053])"
      ]
     },
     "execution_count": 108,
     "metadata": {},
     "output_type": "execute_result"
    }
   ],
   "source": [
    "# Gershgorin circle theorem (no change of variables).\n",
    "np.sort(abs(raw_data.T @ raw_data).sum(axis=1))"
   ]
  },
  {
   "cell_type": "code",
   "execution_count": 109,
   "metadata": {},
   "outputs": [
    {
     "data": {
      "text/plain": [
       "array([251.7781, 509.4814, 520.7054, 509.2048, 514.5076,   0.    ,   0.    , 155.4099,  32.5159,  16.0809,  17.1679,  21.749 , 478.7963, 220.4741])"
      ]
     },
     "execution_count": 109,
     "metadata": {},
     "output_type": "execute_result"
    }
   ],
   "source": [
    "abs(data_expanded).sum(axis=1)"
   ]
  },
  {
   "cell_type": "code",
   "execution_count": 110,
   "metadata": {},
   "outputs": [
    {
     "data": {
      "text/plain": [
       "array([[ 22.2549,  45.0335,  46.0256,  45.009 ,  45.4777,   0.    ,   0.    ,   0.    ,   0.    ,   0.    ,   0.    ,   0.    ,  40.1675,  -7.8099],\n",
       "       [ 45.0335,  91.1267,  93.1343,  91.0772,  92.0257,   0.    ,   0.    ,   0.    ,   0.    ,   0.    ,   0.    ,   0.    ,  81.2803, -15.8036],\n",
       "       [ 46.0256,  93.1343,  95.186 ,  93.0837,  94.0531,   0.    ,   0.    ,   0.    ,   0.    ,   0.    ,   0.    ,   0.    ,  83.071 , -16.1518],\n",
       "       [ 45.009 ,  91.0772,  93.0837,  91.0278,  91.9758,   0.    ,   0.    ,   0.    ,   0.    ,   0.    ,   0.    ,   0.    ,  81.2362, -15.7951],\n",
       "       [ 45.4777,  92.0257,  94.0531,  91.9758,  92.9336,   0.    ,   0.    ,   0.    ,   0.    ,   0.    ,   0.    ,   0.    ,  82.0822, -15.9596],\n",
       "       [  0.    ,   0.    ,   0.    ,   0.    ,   0.    ,   0.    ,   0.    ,   0.    ,   0.    ,   0.    ,   0.    ,   0.    ,   0.    ,   0.    ],\n",
       "       [  0.    ,   0.    ,   0.    ,   0.    ,   0.    ,   0.    ,   0.    ,   0.    ,   0.    ,   0.    ,   0.    ,   0.    ,   0.    ,   0.    ],\n",
       "       [  0.    ,   0.    ,   0.    ,   0.    ,   0.    ,   0.    ,   0.    ,  72.5928, -11.2637,  -7.7405,  -6.3915, -10.2107,   5.6486,  41.5621],\n",
       "       [  0.    ,   0.    ,   0.    ,   0.    ,   0.    ,   0.    ,   0.    , -11.2637,   6.8284,   0.4455,  -1.4389,  -0.2765,  -4.268 ,  -7.9948],\n",
       "       [  0.    ,   0.    ,   0.    ,   0.    ,   0.    ,   0.    ,   0.    ,  -7.7405,   0.4455,   1.6245,   0.4672,   1.2402,   1.0422,  -3.5207],\n",
       "       [  0.    ,   0.    ,   0.    ,   0.    ,   0.    ,   0.    ,   0.    ,  -6.3915,  -1.4389,   0.4672,   3.2509,   0.8624,   1.1386,  -3.6184],\n",
       "       [  0.    ,   0.    ,   0.    ,   0.    ,   0.    ,   0.    ,   0.    , -10.2107,  -0.2765,   1.2402,   0.8624,   3.1618,  -0.7195,  -5.2779],\n",
       "       [ 40.1675,  81.2803,  83.071 ,  81.2362,  82.0822,   0.    ,   0.    ,   5.6486,  -4.268 ,   1.0422,   1.1386,  -0.7195,  88.5619,  -9.5802],\n",
       "       [ -7.8099, -15.8036, -16.1518, -15.7951, -15.9596,   0.    ,   0.    ,  41.5621,  -7.9948,  -3.5207,  -3.6184,  -5.2779,  -9.5802,  77.4001]])"
      ]
     },
     "execution_count": 110,
     "metadata": {},
     "output_type": "execute_result"
    }
   ],
   "source": [
    "data_expanded"
   ]
  },
  {
   "attachments": {},
   "cell_type": "markdown",
   "metadata": {},
   "source": [
    "Actually decorrelate the vectors:\n",
    "\n",
    "Use the left singular vector (representing all observations for some variable). Create 2 sets of variables which are not correlated. This is actually a lower bound on PCA. Maybe we can add one \"linkage\" on two off-diagonals (Hermitian) so that it is similar to the original matrix (connecting the projected variable and the residual). We can't actually break up a matrix into block diagonal in this way, eigenvalues do not work this way."
   ]
  },
  {
   "cell_type": "code",
   "execution_count": 111,
   "metadata": {},
   "outputs": [],
   "source": [
    "data_vector = np.linalg.svd(raw_data[:, 0:current_i])[0][:, 0:1]"
   ]
  },
  {
   "cell_type": "code",
   "execution_count": 112,
   "metadata": {},
   "outputs": [],
   "source": [
    "data_proj = data_vector @ data_vector.T\n",
    "data_proj_compl = np.eye(n_obs) - data_proj\n",
    "raw_data_new = np.c_[data_proj @ raw_data, data_proj_compl @ raw_data]"
   ]
  },
  {
   "cell_type": "code",
   "execution_count": 113,
   "metadata": {},
   "outputs": [
    {
     "data": {
      "text/plain": [
       "470.53199285265714"
      ]
     },
     "execution_count": 113,
     "metadata": {},
     "output_type": "execute_result"
    }
   ],
   "source": [
    "np.square(np.linalg.svd(raw_data)[1]).max()"
   ]
  },
  {
   "cell_type": "code",
   "execution_count": 114,
   "metadata": {},
   "outputs": [
    {
     "data": {
      "text/plain": [
       "467.76761546076415"
      ]
     },
     "execution_count": 114,
     "metadata": {},
     "output_type": "execute_result"
    }
   ],
   "source": [
    "np.square(np.linalg.svd(raw_data_new)[1]).max()"
   ]
  },
  {
   "cell_type": "code",
   "execution_count": 115,
   "metadata": {},
   "outputs": [
    {
     "data": {
      "text/plain": [
       "array([467.7676, 119.4107,  33.0814,  17.0119,   5.7443,   2.2638,   0.6696,   0.    ,   0.    ,   0.    ,   0.    ,   0.    ,   0.    ,   0.    ])"
      ]
     },
     "execution_count": 115,
     "metadata": {},
     "output_type": "execute_result"
    }
   ],
   "source": [
    "np.square(np.linalg.svd(raw_data_new)[1])"
   ]
  },
  {
   "cell_type": "code",
   "execution_count": 116,
   "metadata": {},
   "outputs": [
    {
     "data": {
      "text/plain": [
       "array([251.7781, 509.4814, 520.7054, 509.2048, 514.5076, 454.4311,  88.3568, 155.4099,  32.5159,  16.0809,  17.1679,  21.749 ,  33.3968, 141.149 ])"
      ]
     },
     "execution_count": 116,
     "metadata": {},
     "output_type": "execute_result"
    }
   ],
   "source": [
    "abs(raw_data_new.T @ raw_data_new).sum(axis=1)"
   ]
  },
  {
   "cell_type": "code",
   "execution_count": 117,
   "metadata": {},
   "outputs": [
    {
     "data": {
      "text/plain": [
       "array([[ 22.2549,  45.0335,  46.0256,  45.009 ,  45.4777,  40.1675,  -7.8099,  -0.    ,  -0.    ,  -0.    ,  -0.    ,  -0.    ,  -0.    ,   0.    ],\n",
       "       [ 45.0335,  91.1267,  93.1343,  91.0772,  92.0257,  81.2803, -15.8036,  -0.    ,  -0.    ,  -0.    ,  -0.    ,  -0.    ,  -0.    ,   0.    ],\n",
       "       [ 46.0256,  93.1343,  95.186 ,  93.0837,  94.0531,  83.071 , -16.1518,  -0.    ,  -0.    ,  -0.    ,  -0.    ,  -0.    ,  -0.    ,   0.    ],\n",
       "       [ 45.009 ,  91.0772,  93.0837,  91.0278,  91.9758,  81.2362, -15.7951,  -0.    ,  -0.    ,  -0.    ,  -0.    ,  -0.    ,  -0.    ,   0.    ],\n",
       "       [ 45.4777,  92.0257,  94.0531,  91.9758,  92.9336,  82.0822, -15.9596,  -0.    ,  -0.    ,  -0.    ,  -0.    ,  -0.    ,  -0.    ,   0.    ],\n",
       "       [ 40.1675,  81.2803,  83.071 ,  81.2362,  82.0822,  72.4979, -14.096 ,  -0.    ,  -0.    ,  -0.    ,  -0.    ,  -0.    ,  -0.    ,   0.    ],\n",
       "       [ -7.8099, -15.8036, -16.1518, -15.7951, -15.9596, -14.096 ,   2.7407,   0.    ,   0.    ,   0.    ,   0.    ,   0.    ,   0.    ,  -0.    ],\n",
       "       [ -0.    ,  -0.    ,  -0.    ,  -0.    ,  -0.    ,  -0.    ,   0.    ,  72.5928, -11.2637,  -7.7405,  -6.3915, -10.2107,   5.6486,  41.5621],\n",
       "       [ -0.    ,  -0.    ,  -0.    ,  -0.    ,  -0.    ,  -0.    ,   0.    , -11.2637,   6.8284,   0.4455,  -1.4389,  -0.2765,  -4.268 ,  -7.9948],\n",
       "       [ -0.    ,  -0.    ,  -0.    ,  -0.    ,  -0.    ,  -0.    ,   0.    ,  -7.7405,   0.4455,   1.6245,   0.4672,   1.2402,   1.0422,  -3.5207],\n",
       "       [ -0.    ,  -0.    ,  -0.    ,  -0.    ,  -0.    ,  -0.    ,   0.    ,  -6.3915,  -1.4389,   0.4672,   3.2509,   0.8624,   1.1386,  -3.6184],\n",
       "       [ -0.    ,  -0.    ,  -0.    ,  -0.    ,  -0.    ,  -0.    ,   0.    , -10.2107,  -0.2765,   1.2402,   0.8624,   3.1618,  -0.7195,  -5.2779],\n",
       "       [ -0.    ,  -0.    ,  -0.    ,  -0.    ,  -0.    ,  -0.    ,   0.    ,   5.6486,  -4.268 ,   1.0422,   1.1386,  -0.7195,  16.064 ,   4.5158],\n",
       "       [  0.    ,   0.    ,   0.    ,   0.    ,   0.    ,   0.    ,  -0.    ,  41.5621,  -7.9948,  -3.5207,  -3.6184,  -5.2779,   4.5158,  74.6594]])"
      ]
     },
     "execution_count": 117,
     "metadata": {},
     "output_type": "execute_result"
    }
   ],
   "source": [
    "raw_data_new.T @ raw_data_new"
   ]
  },
  {
   "cell_type": "code",
   "execution_count": 118,
   "metadata": {},
   "outputs": [
    {
     "data": {
      "text/plain": [
       "467.7676154607639"
      ]
     },
     "execution_count": 118,
     "metadata": {},
     "output_type": "execute_result"
    }
   ],
   "source": [
    "np.linalg.norm((raw_data_new.T @ raw_data_new)[0:new_i, 0:new_i], ord=2)"
   ]
  },
  {
   "cell_type": "code",
   "execution_count": 119,
   "metadata": {},
   "outputs": [
    {
     "data": {
      "text/plain": [
       "array([119.4107,  33.0814,  17.0119,   5.7443,   2.2638,   0.6696,   0.    ])"
      ]
     },
     "execution_count": 119,
     "metadata": {},
     "output_type": "execute_result"
    }
   ],
   "source": [
    "\n",
    "np.square(np.linalg.svd(raw_data_new[:, new_i:])[1])"
   ]
  },
  {
   "cell_type": "code",
   "execution_count": 120,
   "metadata": {},
   "outputs": [
    {
     "data": {
      "text/plain": [
       "(100, 14)"
      ]
     },
     "execution_count": 120,
     "metadata": {},
     "output_type": "execute_result"
    }
   ],
   "source": [
    "raw_data_new.shape"
   ]
  },
  {
   "cell_type": "code",
   "execution_count": 122,
   "metadata": {},
   "outputs": [
    {
     "data": {
      "text/plain": [
       "(array([467.7676,   0.    ,   0.    ,   0.    ,   0.    ,   0.    ,   0.    ]),\n",
       " array([21.6279,  0.    ,  0.    ,  0.    ,  0.    ,  0.    ,  0.    ]))"
      ]
     },
     "execution_count": 122,
     "metadata": {},
     "output_type": "execute_result"
    }
   ],
   "source": [
    "np.square(np.linalg.svd(raw_data_new[:, 0:new_i])[1]), np.linalg.svd(raw_data_new[:, 0:new_i])[1]"
   ]
  },
  {
   "cell_type": "code",
   "execution_count": 124,
   "metadata": {},
   "outputs": [
    {
     "data": {
      "text/plain": [
       "(array([119.4107,  33.0814,  17.0119,   5.7443,   2.2638,   0.6696,   0.    ]),\n",
       " array([10.9275,  5.7516,  4.1246,  2.3967,  1.5046,  0.8183,  0.    ]))"
      ]
     },
     "execution_count": 124,
     "metadata": {},
     "output_type": "execute_result"
    }
   ],
   "source": [
    "np.square(np.linalg.svd(raw_data_new[:, new_i:])[1]), np.linalg.svd(raw_data_new[:, new_i:])[1]"
   ]
  },
  {
   "cell_type": "code",
   "execution_count": 125,
   "metadata": {},
   "outputs": [
    {
     "data": {
      "text/plain": [
       "645.9493472102558"
      ]
     },
     "execution_count": 125,
     "metadata": {},
     "output_type": "execute_result"
    }
   ],
   "source": [
    "np.sum(\n",
    "    np.r_[\n",
    "        np.square(np.linalg.svd(raw_data_new[:, 0:new_i])[1][0:1]),\n",
    "        np.square(np.linalg.svd(raw_data_new[:, new_i:])[1])])"
   ]
  },
  {
   "cell_type": "code",
   "execution_count": 126,
   "metadata": {},
   "outputs": [
    {
     "data": {
      "text/plain": [
       "array([21.6279, 10.9275,  5.7516,  4.1246,  2.3967,  1.5046,  0.8183,  0.    ])"
      ]
     },
     "execution_count": 126,
     "metadata": {},
     "output_type": "execute_result"
    }
   ],
   "source": [
    "# np.square(\n",
    "    # np.linalg.norm(\n",
    "np.r_[\n",
    "        np.linalg.svd(raw_data_new[:, 0:new_i])[1][0:1],\n",
    "        np.linalg.svd(raw_data_new[:, new_i:])[1]]"
   ]
  },
  {
   "attachments": {},
   "cell_type": "markdown",
   "metadata": {},
   "source": [
    "Rank-One Update: We are trying to apply the first original left-singular vector projection onto the residual data.\n",
    "\n",
    "w(lam) = 1 + rho sum(zeta ** 2 / (orig_eig_array - lam)) = 0"
   ]
  },
  {
   "cell_type": "code",
   "execution_count": 127,
   "metadata": {},
   "outputs": [
    {
     "data": {
      "text/plain": [
       "True"
      ]
     },
     "execution_count": 127,
     "metadata": {},
     "output_type": "execute_result"
    }
   ],
   "source": [
    "np.allclose(\n",
    "    raw_data.T @ raw_data,\n",
    "    (raw_data_new[:, 0:new_i].T @ raw_data_new[:, 0:new_i]) + (raw_data_new[:, new_i:].T @ raw_data_new[:, new_i:]))"
   ]
  },
  {
   "cell_type": "code",
   "execution_count": 140,
   "metadata": {},
   "outputs": [
    {
     "data": {
      "text/plain": [
       "array([  0.6677,   2.2636,   5.6205,  14.6327,  32.9158, 119.3171, 470.532 ])"
      ]
     },
     "execution_count": 140,
     "metadata": {},
     "output_type": "execute_result"
    }
   ],
   "source": [
    "np.linalg.eigvalsh(\n",
    "    raw_data.T @ raw_data)"
   ]
  },
  {
   "cell_type": "code",
   "execution_count": 141,
   "metadata": {},
   "outputs": [
    {
     "data": {
      "text/plain": [
       "array([ -0.    ,  -0.    ,  -0.    ,   0.    ,   0.    ,   0.    , 467.7676])"
      ]
     },
     "execution_count": 141,
     "metadata": {},
     "output_type": "execute_result"
    }
   ],
   "source": [
    "np.linalg.eigvalsh(\n",
    "    raw_data_new[:, 0:new_i].T @ raw_data_new[:, 0:new_i])"
   ]
  },
  {
   "cell_type": "code",
   "execution_count": 142,
   "metadata": {},
   "outputs": [
    {
     "data": {
      "text/plain": [
       "array([  0.    ,   0.6696,   2.2638,   5.7443,  17.0119,  33.0814, 119.4107])"
      ]
     },
     "execution_count": 142,
     "metadata": {},
     "output_type": "execute_result"
    }
   ],
   "source": [
    "np.linalg.eigvalsh(\n",
    "    raw_data_new[:, new_i:].T @ raw_data_new[:, new_i:])"
   ]
  },
  {
   "cell_type": "code",
   "execution_count": 148,
   "metadata": {},
   "outputs": [
    {
     "data": {
      "text/plain": [
       "array([[-0.9161,  0.0493,  0.0087,  0.1295, -0.3682,  0.0734,  0.0246]])"
      ]
     },
     "execution_count": 148,
     "metadata": {},
     "output_type": "execute_result"
    }
   ],
   "source": [
    "np.linalg.eigh(raw_data_new[:, 0:new_i].T @ raw_data_new[:, 0:new_i])[1][:, -1:].T @ \\\n",
    "    np.linalg.eigh(raw_data_new[:, new_i:].T @ raw_data_new[:, new_i:])[1]"
   ]
  },
  {
   "cell_type": "code",
   "execution_count": 136,
   "metadata": {},
   "outputs": [
    {
     "data": {
      "text/plain": [
       "[5.551115123125783e-17,\n",
       " 4.597017211338539e-16,\n",
       " -2.3240957769399273e-15,\n",
       " -1.1223660889569942e-15,\n",
       " -1.5785983631388945e-16,\n",
       " -2.2261923207644863e-15,\n",
       " 0.9885052738229935]"
      ]
     },
     "execution_count": 136,
     "metadata": {},
     "output_type": "execute_result"
    }
   ],
   "source": [
    "list(*np.linalg.svd(raw_data_new[:, 0:new_i])[0][:, 0:1].T @ np.linalg.svd(raw_data_new[:, new_i:], full_matrices=False)[0])"
   ]
  },
  {
   "cell_type": "code",
   "execution_count": null,
   "metadata": {},
   "outputs": [],
   "source": []
  }
 ],
 "metadata": {
  "kernelspec": {
   "display_name": "Python 3",
   "language": "python",
   "name": "python3"
  },
  "language_info": {
   "codemirror_mode": {
    "name": "ipython",
    "version": 3
   },
   "file_extension": ".py",
   "mimetype": "text/x-python",
   "name": "python",
   "nbconvert_exporter": "python",
   "pygments_lexer": "ipython3",
   "version": "3.8.10"
  },
  "orig_nbformat": 4,
  "vscode": {
   "interpreter": {
    "hash": "916dbcbb3f70747c44a77c7bcd40155683ae19c65e1c03b4aa3499c5328201f1"
   }
  }
 },
 "nbformat": 4,
 "nbformat_minor": 2
}
