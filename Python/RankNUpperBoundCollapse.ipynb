{
 "cells": [
  {
   "attachments": {},
   "cell_type": "markdown",
   "metadata": {},
   "source": [
    "#### Collapsing series of rank-one updates\n",
    "\n",
    "We have a series of rank-one updates, but we would like to create an approximate rank-one update where some of the magnitude of the new data is squashed onto the dominant eigenvector. The new system's dominant eigenvalue will be an upper bound.\n",
    "\n",
    "Rank-one update vectors are not actually additive. There could be consequences all across the spectrum after one rank-one update. We would need a tight upper bound for the dominant eigenvalue after one rank-one update, as well as an uncertainty (cosine difference tolerance) for its eigenvector. We could define an ellipse with the sqrt dominant eigenvalue as one axis and the sqrt trace minus dominant eigenvalue as the other axis. The eigenvalue and update vector component would be lower bounded and upper bounded to bound the new system."
   ]
  },
  {
   "cell_type": "code",
   "execution_count": 74,
   "metadata": {},
   "outputs": [],
   "source": [
    "import numpy as np\n",
    "np.set_printoptions(linewidth = 150, precision = 4, suppress = True)"
   ]
  },
  {
   "cell_type": "code",
   "execution_count": 75,
   "metadata": {},
   "outputs": [
    {
     "data": {
      "text/plain": [
       "array([[ 1.    , -0.0461,  0.2312, ...,  0.2704,  0.4664,  0.3672],\n",
       "       [-0.0461,  1.    , -0.0671, ..., -0.0515, -0.0944, -0.0349],\n",
       "       [ 0.2312, -0.0671,  1.    , ...,  0.147 ,  0.2608,  0.6313],\n",
       "       ...,\n",
       "       [ 0.2704, -0.0515,  0.147 , ...,  1.    ,  0.2066,  0.1538],\n",
       "       [ 0.4664, -0.0944,  0.2608, ...,  0.2066,  1.    ,  0.3486],\n",
       "       [ 0.3672, -0.0349,  0.6313, ...,  0.1538,  0.3486,  1.    ]])"
      ]
     },
     "execution_count": 75,
     "metadata": {},
     "output_type": "execute_result"
    }
   ],
   "source": [
    "data = np.loadtxt('../NC-Data.csv', delimiter=',', dtype=str)\n",
    "data = data[1:].astype(float)\n",
    "data"
   ]
  },
  {
   "cell_type": "code",
   "execution_count": 76,
   "metadata": {},
   "outputs": [
    {
     "data": {
      "text/plain": [
       "array([[ 1.    , -0.0461,  0.2312],\n",
       "       [-0.0461,  1.    , -0.0671],\n",
       "       [ 0.2312, -0.0671,  1.    ]])"
      ]
     },
     "execution_count": 76,
     "metadata": {},
     "output_type": "execute_result"
    }
   ],
   "source": [
    "cov = data[:3, :3]\n",
    "cov"
   ]
  },
  {
   "cell_type": "code",
   "execution_count": 77,
   "metadata": {},
   "outputs": [
    {
     "data": {
      "text/plain": [
       "(85, 91)"
      ]
     },
     "execution_count": 77,
     "metadata": {},
     "output_type": "execute_result"
    }
   ],
   "source": [
    "d1, d2 = np.random.choice(np.arange(3, len(data)), 2, replace=0)\n",
    "# Include a choice here which breaks.\n",
    "d1, d2 = 85, 91\n",
    "d1, d2"
   ]
  },
  {
   "cell_type": "code",
   "execution_count": 78,
   "metadata": {},
   "outputs": [
    {
     "data": {
      "text/plain": [
       "array([0.7678, 0.9759, 1.2563])"
      ]
     },
     "execution_count": 78,
     "metadata": {},
     "output_type": "execute_result"
    }
   ],
   "source": [
    "eigvals, eigvecs = np.linalg.eigh(cov)\n",
    "eigvals"
   ]
  },
  {
   "cell_type": "code",
   "execution_count": 79,
   "metadata": {},
   "outputs": [
    {
     "data": {
      "text/plain": [
       "array([[0.2212, 0.2206],\n",
       "       [0.1236, 0.333 ],\n",
       "       [0.2077, 0.0353]])"
      ]
     },
     "execution_count": 79,
     "metadata": {},
     "output_type": "execute_result"
    }
   ],
   "source": [
    "proj_updates = eigvecs.T @ data[0:3, [d1, d2]] / eigvals[:, None]\n",
    "proj_updates"
   ]
  },
  {
   "cell_type": "code",
   "execution_count": 80,
   "metadata": {},
   "outputs": [
    {
     "data": {
      "text/plain": [
       "3.2562505988455444"
      ]
     },
     "execution_count": 80,
     "metadata": {},
     "output_type": "execute_result"
    }
   ],
   "source": [
    "# Trivial upper bound on dominant eigval, from the trace.\n",
    "eigvals[-1] + data[d1, d1] + data[d2, d2]"
   ]
  },
  {
   "cell_type": "code",
   "execution_count": 81,
   "metadata": {},
   "outputs": [
    {
     "data": {
      "text/plain": [
       "1.7439990337198588"
      ]
     },
     "execution_count": 81,
     "metadata": {},
     "output_type": "execute_result"
    }
   ],
   "source": [
    "# Actual dominant eigenvalue.\n",
    "np.linalg.eigvalsh(data[[0, 1, 2, d1, d2], :][:, [0, 1, 2, d1, d2]])[-1]"
   ]
  },
  {
   "cell_type": "code",
   "execution_count": 82,
   "metadata": {},
   "outputs": [],
   "source": [
    "def resize(arr, size):\n",
    "    # Pad tuple: zeroes inserted before, and zeroes inserted after.\n",
    "    return np.pad(arr, [(0, new_len - arr.shape[i]) for i, new_len in enumerate(size)])"
   ]
  },
  {
   "cell_type": "code",
   "execution_count": 90,
   "metadata": {},
   "outputs": [
    {
     "data": {
      "text/plain": [
       "array([[0.4418],\n",
       "       [0.4566],\n",
       "       [0.243 ],\n",
       "       [0.734 ],\n",
       "       [0.    ]])"
      ]
     },
     "execution_count": 90,
     "metadata": {},
     "output_type": "execute_result"
    }
   ],
   "source": [
    "# L1 norm (sum of absolute values of updates).\n",
    "proj_update_rank_one_bounded = np.linalg.norm(proj_updates, ord=1, axis=1, keepdims=1)\n",
    "proj_update_rank_one_bounded = np.r_[\n",
    "    proj_update_rank_one_bounded,\n",
    "    [[np.sqrt(data[d1, d1] + data[d2, d2]) - np.linalg.norm(proj_update_rank_one_bounded)]],\n",
    "    [[0]],\n",
    "]\n",
    "resize(cov, [5, 5])\n",
    "proj_update_rank_one_bounded"
   ]
  },
  {
   "cell_type": "code",
   "execution_count": 91,
   "metadata": {},
   "outputs": [
    {
     "ename": "AssertionError",
     "evalue": "\nArrays are not less-ordered\n\nMismatched elements: 1 / 1 (100%)\nMax absolute difference: 0.0105\nMax relative difference: 0.006\n x: array(1.743999)\n y: array(1.733546)",
     "output_type": "error",
     "traceback": [
      "\u001b[0;31m---------------------------------------------------------------------------\u001b[0m",
      "\u001b[0;31mAssertionError\u001b[0m                            Traceback (most recent call last)",
      "\u001b[0;32m<ipython-input-91-f19b76ac9e4b>\u001b[0m in \u001b[0;36m<module>\u001b[0;34m\u001b[0m\n\u001b[1;32m      2\u001b[0m     \u001b[0mresize\u001b[0m\u001b[0;34m(\u001b[0m\u001b[0mcov\u001b[0m\u001b[0;34m,\u001b[0m \u001b[0;34m[\u001b[0m\u001b[0;36m5\u001b[0m\u001b[0;34m,\u001b[0m \u001b[0;36m5\u001b[0m\u001b[0;34m]\u001b[0m\u001b[0;34m)\u001b[0m\u001b[0;34m\u001b[0m\u001b[0;34m\u001b[0m\u001b[0m\n\u001b[1;32m      3\u001b[0m     + proj_update_rank_one_bounded @ proj_update_rank_one_bounded.T)\n\u001b[0;32m----> 4\u001b[0;31m np.testing.assert_array_less(\n\u001b[0m\u001b[1;32m      5\u001b[0m     \u001b[0mnp\u001b[0m\u001b[0;34m.\u001b[0m\u001b[0mlinalg\u001b[0m\u001b[0;34m.\u001b[0m\u001b[0meigvalsh\u001b[0m\u001b[0;34m(\u001b[0m\u001b[0mdata\u001b[0m\u001b[0;34m[\u001b[0m\u001b[0;34m[\u001b[0m\u001b[0;36m0\u001b[0m\u001b[0;34m,\u001b[0m \u001b[0;36m1\u001b[0m\u001b[0;34m,\u001b[0m \u001b[0;36m2\u001b[0m\u001b[0;34m,\u001b[0m \u001b[0md1\u001b[0m\u001b[0;34m,\u001b[0m \u001b[0md2\u001b[0m\u001b[0;34m]\u001b[0m\u001b[0;34m,\u001b[0m \u001b[0;34m:\u001b[0m\u001b[0;34m]\u001b[0m\u001b[0;34m[\u001b[0m\u001b[0;34m:\u001b[0m\u001b[0;34m,\u001b[0m \u001b[0;34m[\u001b[0m\u001b[0;36m0\u001b[0m\u001b[0;34m,\u001b[0m \u001b[0;36m1\u001b[0m\u001b[0;34m,\u001b[0m \u001b[0;36m2\u001b[0m\u001b[0;34m,\u001b[0m \u001b[0md1\u001b[0m\u001b[0;34m,\u001b[0m \u001b[0md2\u001b[0m\u001b[0;34m]\u001b[0m\u001b[0;34m]\u001b[0m\u001b[0;34m)\u001b[0m\u001b[0;34m[\u001b[0m\u001b[0;34m-\u001b[0m\u001b[0;36m1\u001b[0m\u001b[0;34m]\u001b[0m\u001b[0;34m,\u001b[0m\u001b[0;34m\u001b[0m\u001b[0;34m\u001b[0m\u001b[0m\n\u001b[1;32m      6\u001b[0m     eigvals_spectrum[-1])\n",
      "\u001b[0;32m~/.local/lib/python3.8/site-packages/numpy/testing/_private/utils.py\u001b[0m in \u001b[0;36massert_array_less\u001b[0;34m(x, y, err_msg, verbose)\u001b[0m\n\u001b[1;32m   1126\u001b[0m     \"\"\"\n\u001b[1;32m   1127\u001b[0m     \u001b[0m__tracebackhide__\u001b[0m \u001b[0;34m=\u001b[0m \u001b[0;32mTrue\u001b[0m  \u001b[0;31m# Hide traceback for py.test\u001b[0m\u001b[0;34m\u001b[0m\u001b[0;34m\u001b[0m\u001b[0m\n\u001b[0;32m-> 1128\u001b[0;31m     assert_array_compare(operator.__lt__, x, y, err_msg=err_msg,\n\u001b[0m\u001b[1;32m   1129\u001b[0m                          \u001b[0mverbose\u001b[0m\u001b[0;34m=\u001b[0m\u001b[0mverbose\u001b[0m\u001b[0;34m,\u001b[0m\u001b[0;34m\u001b[0m\u001b[0;34m\u001b[0m\u001b[0m\n\u001b[1;32m   1130\u001b[0m                          \u001b[0mheader\u001b[0m\u001b[0;34m=\u001b[0m\u001b[0;34m'Arrays are not less-ordered'\u001b[0m\u001b[0;34m,\u001b[0m\u001b[0;34m\u001b[0m\u001b[0;34m\u001b[0m\u001b[0m\n",
      "\u001b[0;32m~/.local/lib/python3.8/site-packages/numpy/testing/_private/utils.py\u001b[0m in \u001b[0;36massert_array_compare\u001b[0;34m(comparison, x, y, err_msg, verbose, header, precision, equal_nan, equal_inf)\u001b[0m\n\u001b[1;32m    842\u001b[0m                                 \u001b[0mverbose\u001b[0m\u001b[0;34m=\u001b[0m\u001b[0mverbose\u001b[0m\u001b[0;34m,\u001b[0m \u001b[0mheader\u001b[0m\u001b[0;34m=\u001b[0m\u001b[0mheader\u001b[0m\u001b[0;34m,\u001b[0m\u001b[0;34m\u001b[0m\u001b[0;34m\u001b[0m\u001b[0m\n\u001b[1;32m    843\u001b[0m                                 names=('x', 'y'), precision=precision)\n\u001b[0;32m--> 844\u001b[0;31m             \u001b[0;32mraise\u001b[0m \u001b[0mAssertionError\u001b[0m\u001b[0;34m(\u001b[0m\u001b[0mmsg\u001b[0m\u001b[0;34m)\u001b[0m\u001b[0;34m\u001b[0m\u001b[0;34m\u001b[0m\u001b[0m\n\u001b[0m\u001b[1;32m    845\u001b[0m     \u001b[0;32mexcept\u001b[0m \u001b[0mValueError\u001b[0m\u001b[0;34m:\u001b[0m\u001b[0;34m\u001b[0m\u001b[0;34m\u001b[0m\u001b[0m\n\u001b[1;32m    846\u001b[0m         \u001b[0;32mimport\u001b[0m \u001b[0mtraceback\u001b[0m\u001b[0;34m\u001b[0m\u001b[0;34m\u001b[0m\u001b[0m\n",
      "\u001b[0;31mAssertionError\u001b[0m: \nArrays are not less-ordered\n\nMismatched elements: 1 / 1 (100%)\nMax absolute difference: 0.0105\nMax relative difference: 0.006\n x: array(1.743999)\n y: array(1.733546)"
     ]
    }
   ],
   "source": [
    "eigvals_spectrum = np.linalg.eigvalsh(\n",
    "    resize(cov, [5, 5])\n",
    "    + proj_update_rank_one_bounded @ proj_update_rank_one_bounded.T)\n",
    "np.testing.assert_array_less(\n",
    "    np.linalg.eigvalsh(data[[0, 1, 2, d1, d2], :][:, [0, 1, 2, d1, d2]])[-1],\n",
    "    eigvals_spectrum[-1])\n",
    "eigvals_spectrum[-1]"
   ]
  },
  {
   "cell_type": "code",
   "execution_count": null,
   "metadata": {},
   "outputs": [],
   "source": []
  }
 ],
 "metadata": {
  "kernelspec": {
   "display_name": "Python 3",
   "language": "python",
   "name": "python3"
  },
  "language_info": {
   "codemirror_mode": {
    "name": "ipython",
    "version": 3
   },
   "file_extension": ".py",
   "mimetype": "text/x-python",
   "name": "python",
   "nbconvert_exporter": "python",
   "pygments_lexer": "ipython3",
   "version": "3.8.10 (default, Jun 22 2022, 20:18:18) \n[GCC 9.4.0]"
  },
  "orig_nbformat": 4,
  "vscode": {
   "interpreter": {
    "hash": "916dbcbb3f70747c44a77c7bcd40155683ae19c65e1c03b4aa3499c5328201f1"
   }
  }
 },
 "nbformat": 4,
 "nbformat_minor": 2
}
