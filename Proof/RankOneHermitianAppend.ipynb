{
 "cells": [
  {
   "cell_type": "code",
   "execution_count": 1,
   "metadata": {},
   "outputs": [],
   "source": [
    "using LinearAlgebra, Random"
   ]
  },
  {
   "cell_type": "code",
   "execution_count": 34,
   "metadata": {},
   "outputs": [
    {
     "data": {
      "text/plain": [
       "4×4 Array{Float64,2}:\n",
       " 1.006        0.00525246   0.0125494  0.0\n",
       " 0.00525246   1.97635     -0.0264685  0.0\n",
       " 0.0125494   -0.0264685    3.01943    0.0\n",
       " 0.0          0.0          0.0        0.0"
      ]
     },
     "metadata": {},
     "output_type": "display_data"
    }
   ],
   "source": [
    "Random.seed!(1)\n",
    "X = [sqrt.(diagm(1:3)) + 0.01*randn(3, 3) zeros(3,1);\n",
    "     zeros(1,4)]\n",
    "Sigma = X' * X"
   ]
  },
  {
   "cell_type": "code",
   "execution_count": 48,
   "metadata": {},
   "outputs": [
    {
     "data": {
      "text/plain": [
       "4"
      ]
     },
     "metadata": {},
     "output_type": "display_data"
    }
   ],
   "source": [
    "n = 4"
   ]
  },
  {
   "cell_type": "code",
   "execution_count": 37,
   "metadata": {},
   "outputs": [
    {
     "data": {
      "text/plain": [
       "4×4 Array{Float64,2}:\n",
       " 0.0        0.0        0.0         0.709209\n",
       " 0.0        0.0        0.0        -7.3859e-5\n",
       " 0.0        0.0        0.0         0.0162287\n",
       " 0.709209  -7.3859e-5  0.0162287   1.0"
      ]
     },
     "metadata": {},
     "output_type": "display_data"
    }
   ],
   "source": [
    "X_update = [1; 0; 0; 1] / sqrt(2)\n",
    "Sigma_update = [\n",
    "    zeros(3,3) (X[:, 1:3]' * X_update)\n",
    "    (X[:, 1:3]' * X_update)' norm(X_update)^2\n",
    "]"
   ]
  },
  {
   "cell_type": "code",
   "execution_count": 16,
   "metadata": {},
   "outputs": [
    {
     "data": {
      "text/plain": [
       "4×4 Array{Float64,2}:\n",
       "  0.999965    -0.00574192   0.00616242  0.0\n",
       " -0.00558417  -0.999664    -0.0253176   0.0\n",
       " -0.00630572  -0.0252823    0.99966     0.0\n",
       "  0.0          0.0          0.0         1.0"
      ]
     },
     "metadata": {},
     "output_type": "display_data"
    }
   ],
   "source": [
    "eigen_Sigma = eigen(Hermitian(Sigma))\n",
    "V_Sigma = eigen_Sigma.vectors[:, [2; 3; 4; 1]]"
   ]
  },
  {
   "cell_type": "code",
   "execution_count": 41,
   "metadata": {},
   "outputs": [
    {
     "data": {
      "text/plain": [
       "4×4 Array{Float64,2}:\n",
       "  1.0059       -2.40778e-16   6.02514e-18   0.709082\n",
       " -2.41097e-16   1.97571      -1.1152e-17   -0.00440869\n",
       "  7.34811e-18  -1.26622e-18   3.02018       0.0205955\n",
       "  0.709082     -0.00440869    0.0205955     1.0"
      ]
     },
     "metadata": {},
     "output_type": "display_data"
    }
   ],
   "source": [
    "R = V_Sigma' * (Sigma + Sigma_update) * V_Sigma"
   ]
  },
  {
   "attachments": {},
   "cell_type": "markdown",
   "metadata": {},
   "source": [
    "## Formula for Cholesky decomposition of R"
   ]
  },
  {
   "cell_type": "code",
   "execution_count": 47,
   "metadata": {},
   "outputs": [
    {
     "data": {
      "text/plain": [
       "4×4 Adjoint{Float64,UpperTriangular{Float64,Array{Float64,2}}}:\n",
       "  1.00294       0.0          0.0        0.0\n",
       " -2.40071e-16   1.4056       0.0        0.0\n",
       "  6.00745e-18  -7.93397e-18  1.73787    0.0\n",
       "  0.707001     -0.00313652   0.0118511  0.707107"
      ]
     },
     "metadata": {},
     "output_type": "display_data"
    }
   ],
   "source": [
    "cholesky(Hermitian(R)).U'"
   ]
  },
  {
   "cell_type": "code",
   "execution_count": 62,
   "metadata": {},
   "outputs": [
    {
     "data": {
      "text/plain": [
       "4×4 Array{Float64,2}:\n",
       " 1.00294    0.0         0.0        0.0\n",
       " 0.0        1.4056      0.0        0.0\n",
       " 0.0        0.0         1.73787    0.0\n",
       " 0.707001  -0.00313652  0.0118511  0.707107"
      ]
     },
     "metadata": {},
     "output_type": "display_data"
    }
   ],
   "source": [
    "# R_ii = L_ii^2, i < n\n",
    "# R_nj = L_nj * L_jj, j < n\n",
    "# R_nn = sum L_nj^2 (sqrt: sign of L_nn does not matter)\n",
    "L = diagm(sqrt.(diag(R[1:n-1, 1:n-1])))\n",
    "L = [L; R[n, 1:n-1]' ./ diag(L)']\n",
    "L = [L [zeros(n-1); sqrt(R[n,n] - norm(L[n,1:n-1])^2)]]"
   ]
  },
  {
   "cell_type": "code",
   "execution_count": 63,
   "metadata": {},
   "outputs": [
    {
     "data": {
      "text/plain": [
       "Eigen{Float64,Float64,Array{Float64,2},Array{Float64,1}}\n",
       "values:\n",
       "4-element Array{Float64,1}:\n",
       " 0.2937763393794084\n",
       " 1.7118381297803817\n",
       " 1.975752045145706\n",
       " 3.020414589471855\n",
       "vectors:\n",
       "4×4 Array{Float64,2}:\n",
       " -0.705582     0.708581    0.00704133    0.00409349\n",
       "  0.0018574    0.0117863  -0.999929     -4.90776e-5\n",
       " -0.00535289  -0.0111049  -0.000189916   0.999924\n",
       "  0.708605     0.705443    0.00963087    0.0116297"
      ]
     },
     "metadata": {},
     "output_type": "display_data"
    }
   ],
   "source": [
    "eigen(Hermitian(L * L'))"
   ]
  },
  {
   "cell_type": "code",
   "execution_count": 64,
   "metadata": {},
   "outputs": [
    {
     "data": {
      "text/plain": [
       "Eigen{Float64,Float64,Array{Float64,2},Array{Float64,1}}\n",
       "values:\n",
       "4-element Array{Float64,1}:\n",
       " 0.2937763393794083\n",
       " 1.7118381297803835\n",
       " 1.9757520451457076\n",
       " 3.0204145894718555\n",
       "vectors:\n",
       "4×4 Array{Float64,2}:\n",
       " -0.381311     -0.924367     0.00986835    0.00709333\n",
       "  0.000716229  -0.0109711   -0.99994      -6.06814e-5\n",
       " -0.00166948    0.00836047  -0.000153607   0.999964\n",
       "  0.924445     -0.381255     0.0048449     0.00473173"
      ]
     },
     "metadata": {},
     "output_type": "display_data"
    }
   ],
   "source": [
    "eigen(Hermitian(L' * L))"
   ]
  },
  {
   "attachments": {},
   "cell_type": "markdown",
   "metadata": {},
   "source": [
    "## Formula for similarity transformation from LL' to L'L\n",
    "\n",
    "Unitary matrix W: The first column of W must be orthogonal to columns 2 through n-1 of L, and so on."
   ]
  },
  {
   "cell_type": "code",
   "execution_count": 72,
   "metadata": {},
   "outputs": [
    {
     "data": {
      "text/plain": [
       "4×4 Array{Float64,2}:\n",
       " 1.00294    0.0         0.0        0.0\n",
       " 0.0        1.4056      0.0        0.0\n",
       " 0.0        0.0         1.73787    0.0\n",
       " 0.707001  -0.00313652  0.0118511  0.707107"
      ]
     },
     "metadata": {},
     "output_type": "display_data"
    }
   ],
   "source": [
    "L"
   ]
  },
  {
   "cell_type": "code",
   "execution_count": 74,
   "metadata": {},
   "outputs": [
    {
     "data": {
      "text/plain": [
       "4×4 Array{Float64,2}:\n",
       "  1.22709      -0.00180714  0.00682811  0.407407\n",
       "  0.0           1.4056      0.0         0.0\n",
       "  0.0           0.0         1.73787     0.0\n",
       " -2.23816e-17  -0.00256359  0.00968629  0.577944"
      ]
     },
     "metadata": {},
     "output_type": "display_data"
    }
   ],
   "source": [
    "rot = Matrix(1.0I, n, n)\n",
    "LT = L\n",
    "theta = atan(-LT[4,1], LT[1,1])\n",
    "rot_i = Matrix(1.0I, n, n)\n",
    "rot_i[1,1] = cos(theta)\n",
    "rot_i[1,4] = -sin(theta)\n",
    "rot_i[4,1] = sin(theta)\n",
    "rot_i[4,4] = cos(theta)\n",
    "rot_i * L"
   ]
  },
  {
   "cell_type": "code",
   "execution_count": 73,
   "metadata": {},
   "outputs": [
    {
     "data": {
      "text/plain": [
       "4×4 Array{Float64,2}:\n",
       "  0.70716   0.0  0.0  0.707054\n",
       "  0.0       1.0  0.0  0.0\n",
       "  0.0       0.0  1.0  0.0\n",
       " -0.707054  0.0  0.0  0.70716"
      ]
     },
     "metadata": {},
     "output_type": "display_data"
    }
   ],
   "source": [
    "rot_i"
   ]
  },
  {
   "cell_type": "code",
   "execution_count": null,
   "metadata": {},
   "outputs": [],
   "source": []
  }
 ],
 "metadata": {
  "kernelspec": {
   "display_name": "Julia 1.4.1",
   "language": "julia",
   "name": "julia-1.4"
  },
  "language_info": {
   "file_extension": ".jl",
   "mimetype": "application/julia",
   "name": "julia",
   "version": "1.4.1"
  },
  "orig_nbformat": 4
 },
 "nbformat": 4,
 "nbformat_minor": 2
}
