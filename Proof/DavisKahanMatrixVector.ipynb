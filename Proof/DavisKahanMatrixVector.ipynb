{
 "cells": [
  {
   "cell_type": "code",
   "execution_count": 1,
   "metadata": {},
   "outputs": [],
   "source": [
    "using LinearAlgebra, CSV, Random, Tables, JLD, Base.Iterators, Printf"
   ]
  },
  {
   "cell_type": "code",
   "execution_count": 2,
   "metadata": {},
   "outputs": [
    {
     "data": {
      "text/plain": [
       "refreshFile (generic function with 1 method)"
      ]
     },
     "metadata": {},
     "output_type": "display_data"
    }
   ],
   "source": [
    "include(\"../Algorithm/utilities.jl\")"
   ]
  },
  {
   "cell_type": "code",
   "execution_count": 3,
   "metadata": {},
   "outputs": [
    {
     "data": {
      "text/plain": [
       "6.140921104957897e-16"
      ]
     },
     "metadata": {},
     "output_type": "display_data"
    }
   ],
   "source": [
    "data = load(\"../Data/communities.jld\")[\"communities\"]\n",
    "# Matrix sqrt: via diagonalization and sqrt eigenvalues\n",
    "raw_data = sqrt(data)';\n",
    "n = size(data, 1);\n",
    "N = n * n;\n",
    "norms = data[1:n+1:N]\n",
    "k = 5;\n",
    "# All close.\n",
    "maximum(abs.(raw_data * raw_data .- data))"
   ]
  },
  {
   "cell_type": "code",
   "execution_count": 4,
   "metadata": {},
   "outputs": [],
   "source": [
    "nodes = CSV.File(\"../Co-K5-Trace-Nodes.csv\", header=false) |> Tables.matrix;\n",
    "bounds = CSV.File(\"../Co-K5-Trace-Bounds.csv\", header=false) |> Tables.matrix;"
   ]
  },
  {
   "cell_type": "code",
   "execution_count": 38,
   "metadata": {},
   "outputs": [
    {
     "data": {
      "text/plain": [
       "2"
      ]
     },
     "metadata": {},
     "output_type": "display_data"
    }
   ],
   "source": [
    "# node_id = 50\n",
    "# node_id = 300\n",
    "node_id = 40\n",
    "y = nodes[:, node_id]\n",
    "selected_data = findall(y .== 1)\n",
    "i = numpositive = sum(nodes[:, node_id] .== 1)\n",
    "stillneed = k - i"
   ]
  },
  {
   "cell_type": "code",
   "execution_count": 6,
   "metadata": {},
   "outputs": [
    {
     "data": {
      "text/plain": [
       "3-element Array{Float64,1}:\n",
       " 0.19840666121229678\n",
       " 0.3629025164807017\n",
       " 0.4316969652057027"
      ]
     },
     "metadata": {},
     "output_type": "display_data"
    }
   ],
   "source": [
    "bounds[:, node_id]"
   ]
  },
  {
   "cell_type": "code",
   "execution_count": 7,
   "metadata": {},
   "outputs": [
    {
     "data": {
      "text/plain": [
       "0.4316969652057027"
      ]
     },
     "metadata": {},
     "output_type": "display_data"
    }
   ],
   "source": [
    "sum(norms[y .== 1]) + sum(selectsorted(norms .* (y .== -1), stillneed))"
   ]
  },
  {
   "cell_type": "code",
   "execution_count": 8,
   "metadata": {},
   "outputs": [
    {
     "data": {
      "text/plain": [
       "0.14185918642419382"
      ]
     },
     "metadata": {},
     "output_type": "display_data"
    }
   ],
   "source": [
    "s = maximum(svd(raw_data[:, selected_data]).S)\n",
    "u = svd(raw_data[:, selected_data]).U[:, 1];\n",
    "v = svd(raw_data[:, selected_data]).V[:, 1];\n",
    "D = Matrix(1.0I, 101, 101)[:, selected_data];\n",
    "s^2"
   ]
  },
  {
   "cell_type": "code",
   "execution_count": 9,
   "metadata": {},
   "outputs": [
    {
     "data": {
      "text/plain": [
       "101-element Array{Float64,1}:\n",
       " 7.926078166037157e-6\n",
       " 0.00042107519671213234\n",
       " 0.010091876290498288\n",
       " 0.0\n",
       " 0.011482437882389994\n",
       " 0.00013178020948110015\n",
       " 0.0023632781250717723\n",
       " 0.0009055802857870314\n",
       " 0.0012990605554894848\n",
       " 0.0016750788941365209\n",
       " ⋮\n",
       " 0.0063246338140331565\n",
       " 0.00029115092252889475\n",
       " 0.0005201627269077583\n",
       " 0.0008469155188951991\n",
       " 3.40177036420949e-5\n",
       " 0.0016327144857154394\n",
       " 0.005953773016861563\n",
       " 0.00018478862022754878\n",
       " 0.0066479897694745995"
      ]
     },
     "metadata": {},
     "output_type": "display_data"
    }
   ],
   "source": [
    "rank_one_term = (raw_data * u) .^ 2\n",
    "rank_one_term[nodes[:, node_id] .== 0] .= 0\n",
    "rank_one_term"
   ]
  },
  {
   "cell_type": "code",
   "execution_count": 10,
   "metadata": {},
   "outputs": [
    {
     "data": {
      "text/plain": [
       "101-element Array{Float64,1}:\n",
       " 0.016097164406534425\n",
       " 0.02638209318953039\n",
       " 0.054141001469726655\n",
       " 0.0\n",
       " 0.03214735697131307\n",
       " 0.05392057454670922\n",
       " 0.02172243664593466\n",
       " 0.01970490065528001\n",
       " 0.02642470524769024\n",
       " 0.030432363176178794\n",
       " ⋮\n",
       " 0.03542551701477036\n",
       " 0.032597381433193566\n",
       " 0.03968867072276389\n",
       " 0.038444722591622994\n",
       " 0.011947288809978047\n",
       " 0.03961357916191083\n",
       " 0.04651232744206663\n",
       " 0.05757289255173794\n",
       " 0.04763397466371458"
      ]
     },
     "metadata": {},
     "output_type": "display_data"
    }
   ],
   "source": [
    "# Upper bound on the contribution from adding one variable into ||E||^2.\n",
    "# The upper bound comes from ||E||_F^2\n",
    "# upper bounded by ||(I-uu')MD||_F^2. Also, we know that normCommunities\n",
    "# has column norm of 1 for every variable.\n",
    "# We should add another upper bound based on taking k columns from this\n",
    "# row into ||E||_F.\n",
    "residual_term = norms .- rank_one_term\n",
    "residual_term[y .== 0] .= 0\n",
    "residual_term"
   ]
  },
  {
   "cell_type": "code",
   "execution_count": 11,
   "metadata": {},
   "outputs": [
    {
     "data": {
      "text/plain": [
       "frobenius_rows_k (generic function with 1 method)"
      ]
     },
     "metadata": {},
     "output_type": "display_data"
    }
   ],
   "source": [
    "function frobenius_rows_k(M, y)\n",
    "    M = M .^ 2\n",
    "    row_quantities = zeros(n)\n",
    "    stillneed = k - sum(y .== 1)\n",
    "    for row_index in 1:n\n",
    "        if y[row_index] == 0\n",
    "            continue\n",
    "        end\n",
    "        row = copy(M[row_index, :])\n",
    "        row_sum = sum(row[y .== 1])\n",
    "        row[y .== 1] .= 0\n",
    "        if y[row_index] == -1\n",
    "            row_sum += row[row_index]\n",
    "            row[row_index] = 0\n",
    "            row_stillneed = stillneed -1\n",
    "        else\n",
    "            row_stillneed = stillneed\n",
    "        end\n",
    "        row_sum += sum(sort(row, rev=true)[1:row_stillneed])\n",
    "        row_quantities[row_index] = row_sum\n",
    "    end\n",
    "    row_quantities\n",
    "end"
   ]
  },
  {
   "cell_type": "code",
   "execution_count": 16,
   "metadata": {},
   "outputs": [],
   "source": [
    "# frobenius_rows_k(data - raw_data * u * u' * raw_data, y)"
   ]
  },
  {
   "cell_type": "code",
   "execution_count": 12,
   "metadata": {},
   "outputs": [
    {
     "data": {
      "text/plain": [
       "81"
      ]
     },
     "metadata": {},
     "output_type": "display_data"
    }
   ],
   "source": [
    "sum((y .== -1) .& (frobenius_rows_k(data - raw_data * u * u' * raw_data, y) .< residual_term))"
   ]
  },
  {
   "cell_type": "code",
   "execution_count": 13,
   "metadata": {},
   "outputs": [
    {
     "data": {
      "text/plain": [
       "(0.2202679971348654, 0.2732082054995253)"
      ]
     },
     "metadata": {},
     "output_type": "display_data"
    }
   ],
   "source": [
    "lb_proj_nodes_extra = rank_one_term .>= sort(rank_one_term .* Array{Float64}(y .== -1))[end-stillneed+1]\n",
    "lb_proj_nodes_extra = lb_proj_nodes_extra .& (y .== -1)\n",
    "lb_proj_nodes = lb_proj_nodes_extra .| (y .== 1)\n",
    "lb_proj = sum(rank_one_term[lb_proj_nodes])\n",
    "# Too slow to compute!\n",
    "lb_diag = maximum(svd(raw_data[:, lb_proj_nodes]).S) ^ 2\n",
    "lb_proj, lb_diag"
   ]
  },
  {
   "cell_type": "code",
   "execution_count": 14,
   "metadata": {},
   "outputs": [
    {
     "data": {
      "text/plain": [
       "3-element Array{Float64,1}:\n",
       " 0.19840666121229678\n",
       " 0.3629025164807017\n",
       " 0.4316969652057027"
      ]
     },
     "metadata": {},
     "output_type": "display_data"
    }
   ],
   "source": [
    "bounds[:, node_id]"
   ]
  },
  {
   "cell_type": "code",
   "execution_count": 15,
   "metadata": {},
   "outputs": [
    {
     "data": {
      "text/plain": [
       "(0.06879444872500101, 0.15848875970617743)"
      ]
     },
     "metadata": {},
     "output_type": "display_data"
    }
   ],
   "source": [
    "lambda_1 = bounds[2, node_id]\n",
    "lambda_2 = bounds[3, node_id] - lb_diag\n",
    "lambda_2_lb = bounds[3, node_id] - lambda_1\n",
    "lambda_2_lb, lambda_2"
   ]
  },
  {
   "cell_type": "code",
   "execution_count": 17,
   "metadata": {},
   "outputs": [
    {
     "data": {
      "text/plain": [
       "0.026386179743713507"
      ]
     },
     "metadata": {},
     "output_type": "display_data"
    }
   ],
   "source": [
    "# Contribution to ||E||^2 from the row sums (squared Frobenius norm)\n",
    "E = data - (raw_data * u * u' * raw_data)\n",
    "e_squared_program = mapslices(\n",
    "    (row) -> sum(row[y .== 1].^2) + sum(selectsorted(row.^2 .* (y .== -1), stillneed)),\n",
    "    E,\n",
    "    dims=2)[:, 1]\n",
    "maximum(e_squared_program)"
   ]
  },
  {
   "cell_type": "code",
   "execution_count": 19,
   "metadata": {},
   "outputs": [
    {
     "data": {
      "text/plain": [
       "0.18117842668099743"
      ]
     },
     "metadata": {},
     "output_type": "display_data"
    }
   ],
   "source": [
    "# Upper bound on ||E||_F\n",
    "lambda_2 = sqrt(sum(e_squared_program[y .== 1]) + sum(selectsorted(e_squared_program .* (y .== -1), stillneed)))"
   ]
  },
  {
   "cell_type": "code",
   "execution_count": 20,
   "metadata": {},
   "outputs": [
    {
     "data": {
      "text/plain": [
       "0.15848875970617743"
      ]
     },
     "metadata": {},
     "output_type": "display_data"
    }
   ],
   "source": [
    "# Upper bound performed poorly\n",
    "lambda_2 = bounds[3, node_id] - lb_diag"
   ]
  },
  {
   "cell_type": "code",
   "execution_count": 21,
   "metadata": {},
   "outputs": [
    {
     "data": {
      "text/plain": [
       "0.24795709056878384"
      ]
     },
     "metadata": {},
     "output_type": "display_data"
    }
   ],
   "source": [
    "sum(residual_term[y .== 1]) + sum(selectsorted(residual_term[y .== -1], stillneed))"
   ]
  },
  {
   "cell_type": "code",
   "execution_count": 22,
   "metadata": {},
   "outputs": [
    {
     "data": {
      "text/plain": [
       "101-element Array{Float64,1}:\n",
       " 0.02460167690471971\n",
       " 0.057995320390979814\n",
       " 0.18262281400917196\n",
       " 0.1460602976499621\n",
       " 0.08803754640128536\n",
       " 0.2392564293228971\n",
       " 0.04348631750007592\n",
       " 0.03823110015959426\n",
       " 0.05480160623763157\n",
       " 0.07411834186327422\n",
       " ⋮\n",
       " 0.10085579242512224\n",
       " 0.08710367055087934\n",
       " 0.10924901820611159\n",
       " 0.10349046799096251\n",
       " 0.012162377026588872\n",
       " 0.10449036260751611\n",
       " 0.1293754007046165\n",
       " 0.18853743075691745\n",
       " 0.15193791934247894"
      ]
     },
     "metadata": {},
     "output_type": "display_data"
    }
   ],
   "source": [
    "# Multiplier for \n",
    "mult_parallel = 1. / lambda_1\n",
    "mult_perp = lambda_2 / (lb_proj - lambda_2)^2\n",
    "mult_linearize = mult_parallel + mult_perp\n",
    "linear_program = rank_one_term + mult_linearize * e_squared_program"
   ]
  },
  {
   "cell_type": "code",
   "execution_count": 23,
   "metadata": {},
   "outputs": [
    {
     "data": {
      "text/plain": [
       "1.6338898195663925"
      ]
     },
     "metadata": {},
     "output_type": "display_data"
    }
   ],
   "source": [
    "# Linear program solution\n",
    "sum(linear_program[y .== 1]) + sum(selectsorted(linear_program[y .== -1], stillneed))"
   ]
  },
  {
   "cell_type": "code",
   "execution_count": 24,
   "metadata": {},
   "outputs": [
    {
     "data": {
      "text/plain": [
       "0.4546649113544162"
      ]
     },
     "metadata": {},
     "output_type": "display_data"
    }
   ],
   "source": [
    "# Conservative program in case we cannot bound sin theta_perp.\n",
    "linear_program_lam_2 = rank_one_term + mult_parallel .* e_squared_program\n",
    "lambda_2 + sum(linear_program_lam_2[y .== 1]) + sum(selectsorted(linear_program_lam_2[y .== -1], stillneed))"
   ]
  },
  {
   "cell_type": "code",
   "execution_count": 78,
   "metadata": {},
   "outputs": [],
   "source": [
    "using JuMP, COSMO"
   ]
  },
  {
   "cell_type": "code",
   "execution_count": 80,
   "metadata": {},
   "outputs": [
    {
     "name": "stdout",
     "output_type": "stream",
     "text": [
      "------------------------------------------------------------------\n",
      "          COSMO v0.8.6 - A Quadratic Objective Conic Solver\n",
      "                         Michael Garstka\n",
      "                University of Oxford, 2017 - 2022\n",
      "------------------------------------------------------------------\n",
      "\n",
      "Problem:  x ∈ R^{101},\n",
      "          constraints: A ∈ R^{205x101} (407 nnz),\n",
      "          matrix size to factor: 306x306,\n",
      "          Floating-point precision: Float64\n",
      "Sets:     Nonnegative of dim: 204\n",
      "          ZeroSe of dim: 1\n",
      "Settings: ϵ_abs = 1.0e-05, ϵ_rel = 1.0e-05,\n",
      "          ϵ_prim_inf = 1.0e-04, ϵ_dual_inf = 1.0e-04,\n",
      "          ρ = 0.1, σ = 1e-06, α = 1.6,\n",
      "          max_iter = 5000,\n",
      "          scaling iter = 10 (on),\n",
      "          check termination every 25 iter,\n",
      "          check infeasibility every 40 iter,\n",
      "          KKT system solver: QDLDL\n",
      "Acc:      Anderson Type2{QRDecomp},\n",
      "          Memory size = 15, RestartedMemory,\t\n",
      "          Safeguarded: true, tol: 2.0\n",
      "Setup Time: 0.21ms\n",
      "\n",
      "Iter:\tObjective:\tPrimal Res:\tDual Res:\tRho:\n",
      "1\t 3.1763e-01\t1.7957e+00\t3.7462e-01\t1.0000e-01\n",
      "25\t 1.4964e-01\t6.2388e-03\t3.0935e-03\t1.0000e-01\n",
      "50\t 1.4620e-01\t3.9406e-03\t2.0259e-03\t1.0000e-01\n",
      "75\t 1.4669e-01\t1.3706e-02\t2.0716e-03\t1.0000e-01\n",
      "100\t 1.4488e-01\t4.3494e-03\t1.3861e-03\t1.0000e-01\n",
      "125\t 1.4382e-01\t4.6576e-02\t7.1313e-04\t1.9982e-02\n",
      "150\t 1.4356e-01\t2.5525e-02\t7.6263e-04\t1.9982e-02\n",
      "175\t 1.4020e-01\t2.6024e-01\t4.6882e-03\t2.3460e-03\n",
      "200\t 1.4135e-01\t4.0633e-02\t1.0701e-04\t2.3460e-03\n",
      "225\t 1.4221e-01\t4.8065e-02\t1.4987e-04\t2.3460e-03\n",
      "250\t 1.4223e-01\t5.1701e-03\t8.1759e-05\t2.3460e-03\n",
      "275\t 1.4221e-01\t1.1154e-03\t8.2397e-05\t2.3460e-03\n",
      "300\t 1.4224e-01\t5.1638e-03\t8.2398e-05\t2.3460e-03\n",
      "325\t 1.4223e-01\t5.1638e-03\t8.2398e-05\t2.3460e-03\n",
      "350\t 1.4226e-01\t1.1154e-03\t8.2397e-05\t2.3460e-03\n",
      "375\t 1.4229e-01\t5.1638e-03\t8.2398e-05\t2.3460e-03\n",
      "400\t 1.4226e-01\t5.1638e-03\t8.2398e-05\t2.3460e-03\n",
      "425\t 1.4227e-01\t1.1154e-03\t8.2397e-05\t2.3460e-03\n",
      "450\t 1.4224e-01\t3.7437e-04\t8.2379e-05\t2.3460e-03\n",
      "475\t 1.4215e-01\t3.5347e-05\t8.2366e-05\t2.3460e-03\n",
      "500\t 1.4204e-01\t2.9173e-02\t8.4713e-06\t2.6370e-04\n",
      "525\t 1.4200e-01\t1.5895e-03\t8.4565e-06\t1.4258e-03\n",
      "550\t 1.4196e-01\t1.7301e-03\t6.1445e-06\t1.4258e-03\n",
      "575\t 1.4209e-01\t2.8002e-03\t5.3522e-06\t1.4258e-03\n",
      "600\t 1.4208e-01\t2.7074e-03\t1.0082e-05\t1.4258e-03\n",
      "625\t 1.4208e-01\t2.9662e-03\t7.7301e-05\t1.4258e-03\n",
      "650\t 1.4209e-01\t2.9933e-03\t1.7094e-06\t1.4258e-03\n",
      "675\t 1.4208e-01\t2.9435e-03\t1.8949e-06\t1.4258e-03\n",
      "700\t 1.4197e-01\t2.7699e-03\t7.9070e-06\t7.7654e-03\n",
      "725\t 1.4210e-01\t5.2534e-03\t4.0749e-05\t7.7654e-03\n",
      "750\t 1.4209e-01\t2.9413e-03\t1.2215e-05\t7.7654e-03\n",
      "775\t 1.4207e-01\t2.7336e-03\t1.6312e-04\t7.7654e-03\n",
      "800\t 1.4208e-01\t2.8716e-03\t9.6375e-04\t7.7654e-03\n",
      "825\t 1.4208e-01\t2.7797e-03\t4.7208e-06\t7.7654e-03\n",
      "850\t 1.4207e-01\t2.7309e-03\t1.8415e-04\t7.7654e-03\n",
      "875\t 1.4208e-01\t2.6221e-03\t7.3920e-04\t7.7654e-03\n",
      "900\t 1.4207e-01\t2.7988e-03\t2.7989e-06\t7.7654e-03\n",
      "925\t 1.4207e-01\t2.7631e-03\t2.6896e-06\t7.7654e-03\n",
      "950\t 1.4207e-01\t2.6895e-03\t1.9148e-06\t7.7654e-03\n",
      "975\t 1.4245e-01\t2.9888e-03\t1.5520e-04\t3.9675e-02\n",
      "1000\t 1.4202e-01\t1.9972e-03\t1.1342e-05\t3.9675e-02\n",
      "1025\t 1.4202e-01\t1.9852e-03\t1.7233e-05\t3.9675e-02\n",
      "1050\t 1.4190e-01\t2.4464e-04\t1.6477e-05\t2.3669e-03\n",
      "1075\t 1.4191e-01\t8.3844e-04\t1.6475e-05\t2.3669e-03\n",
      "1100\t 1.4190e-01\t1.8172e-04\t1.6508e-05\t2.3669e-03\n",
      "1125\t 1.4190e-01\t1.4022e-03\t1.6509e-05\t2.3669e-03\n",
      "1150\t 1.4190e-01\t1.4022e-03\t1.6509e-05\t2.3669e-03\n",
      "1175\t 1.4190e-01\t3.0287e-04\t1.6508e-05\t2.3669e-03\n",
      "1200\t 1.4190e-01\t1.4022e-03\t1.6509e-05\t2.3669e-03\n",
      "1225\t 1.4191e-01\t1.4022e-03\t1.6509e-05\t2.3669e-03\n",
      "1250\t 1.4191e-01\t3.0287e-04\t1.6508e-05\t2.3669e-03\n",
      "1275\t 1.4191e-01\t1.4022e-03\t1.6509e-05\t2.3669e-03\n",
      "1300\t 1.4191e-01\t1.4022e-03\t1.6509e-05\t2.3669e-03\n",
      "1325\t 1.4191e-01\t3.0287e-04\t1.6508e-05\t2.3669e-03\n",
      "1350\t 1.4191e-01\t1.4022e-03\t1.6509e-05\t2.3669e-03\n",
      "1375\t 1.4191e-01\t1.4022e-03\t1.6509e-05\t2.3669e-03\n",
      "1400\t 1.4191e-01\t3.0287e-04\t1.6508e-05\t2.3669e-03\n",
      "1425\t 1.4191e-01\t1.4022e-03\t1.6509e-05\t2.3669e-03\n",
      "1450\t 1.4191e-01\t1.4022e-03\t1.6509e-05\t2.3669e-03\n",
      "1475\t 1.4191e-01\t3.0287e-04\t1.6508e-05\t2.3669e-03\n",
      "1500\t 1.4191e-01\t1.4022e-03\t1.6509e-05\t2.3669e-03\n",
      "1525\t 1.4191e-01\t1.4022e-03\t1.6509e-05\t2.3669e-03\n",
      "1550\t 1.4191e-01\t3.0287e-04\t1.6508e-05\t2.3669e-03\n",
      "1575\t 1.4191e-01\t1.4022e-03\t1.6509e-05\t2.3669e-03\n",
      "1600\t 1.4191e-01\t1.4022e-03\t1.6509e-05\t2.3669e-03\n",
      "1625\t 1.4191e-01\t3.0287e-04\t1.6508e-05\t2.3669e-03\n",
      "1650\t 1.4191e-01\t1.4022e-03\t1.6509e-05\t2.3669e-03\n",
      "1675\t 1.4191e-01\t1.4022e-03\t1.6509e-05\t2.3669e-03\n",
      "1700\t 1.4191e-01\t3.0287e-04\t1.6508e-05\t2.3669e-03\n",
      "1725\t 1.4191e-01\t1.4022e-03\t1.6509e-05\t2.3669e-03\n",
      "1750\t 1.4191e-01\t1.4022e-03\t1.6509e-05\t2.3669e-03\n",
      "1775\t 1.4191e-01\t3.0287e-04\t1.6508e-05\t2.3669e-03\n",
      "1800\t 1.4191e-01\t1.4022e-03\t1.6509e-05\t2.3669e-03\n",
      "1825\t 1.4191e-01\t1.4022e-03\t1.6509e-05\t2.3669e-03\n",
      "1850\t 1.4191e-01\t3.0287e-04\t1.6508e-05\t2.3669e-03\n",
      "1875\t 1.4191e-01\t1.4022e-03\t1.6509e-05\t2.3669e-03\n",
      "1900\t 1.4191e-01\t1.4022e-03\t1.6509e-05\t2.3669e-03\n",
      "1925\t 1.4191e-01\t3.0287e-04\t1.6508e-05\t2.3669e-03\n",
      "1950\t 1.4191e-01\t1.4022e-03\t1.6509e-05\t2.3669e-03\n",
      "1975\t 1.4191e-01\t1.4022e-03\t1.6509e-05\t2.3669e-03\n",
      "2000\t 1.4191e-01\t3.0287e-04\t1.6508e-05\t2.3669e-03\n",
      "2025\t 1.4191e-01\t1.4022e-03\t1.6509e-05\t2.3669e-03\n",
      "2050\t 1.4191e-01\t1.4022e-03\t1.6509e-05\t2.3669e-03\n",
      "2075\t 1.4191e-01\t3.0287e-04\t1.6508e-05\t2.3669e-03\n",
      "2100\t 1.4191e-01\t1.4022e-03\t1.6509e-05\t2.3669e-03\n",
      "2125\t 1.4191e-01\t1.4022e-03\t1.6509e-05\t2.3669e-03\n",
      "2150\t 1.4191e-01\t3.0287e-04\t1.6508e-05\t2.3669e-03\n",
      "2175\t 1.4191e-01\t1.4022e-03\t1.6509e-05\t2.3669e-03\n",
      "2200\t 1.4191e-01\t1.4022e-03\t1.6509e-05\t2.3669e-03\n",
      "2225\t 1.4191e-01\t3.0287e-04\t1.6508e-05\t2.3669e-03\n",
      "2250\t 1.4191e-01\t1.4022e-03\t1.6509e-05\t2.3669e-03\n",
      "2275\t 1.4191e-01\t1.4022e-03\t1.6509e-05\t2.3669e-03\n",
      "2300\t 1.4191e-01\t3.0287e-04\t1.6508e-05\t2.3669e-03\n",
      "2325\t 1.4191e-01\t1.4022e-03\t1.6509e-05\t2.3669e-03\n",
      "2350\t 1.4191e-01\t1.4022e-03\t1.6509e-05\t2.3669e-03\n",
      "2375\t 1.4191e-01\t3.0287e-04\t1.6508e-05\t2.3669e-03\n",
      "2400\t 1.4191e-01\t1.4022e-03\t1.6509e-05\t2.3669e-03\n",
      "2425\t 1.4191e-01\t1.4022e-03\t1.6509e-05\t2.3669e-03\n",
      "2450\t 1.4191e-01\t3.0287e-04\t1.6508e-05\t2.3669e-03\n",
      "2475\t 1.4191e-01\t1.4022e-03\t1.6509e-05\t2.3669e-03\n",
      "2500\t 1.4191e-01\t1.4023e-03\t1.6509e-05\t2.3669e-03\n",
      "2525\t 1.4191e-01\t3.0287e-04\t1.6508e-05\t2.3669e-03\n",
      "2550\t 1.4191e-01\t1.4022e-03\t1.6509e-05\t2.3669e-03\n",
      "2575\t 1.4191e-01\t1.4022e-03\t1.6509e-05\t2.3669e-03\n",
      "2600\t 1.4191e-01\t3.0287e-04\t1.6508e-05\t2.3669e-03\n",
      "2625\t 1.4191e-01\t1.4022e-03\t1.6509e-05\t2.3669e-03\n",
      "2650\t 1.4191e-01\t1.4022e-03\t1.6509e-05\t2.3669e-03\n",
      "2675\t 1.4191e-01\t3.0287e-04\t1.6508e-05\t2.3669e-03\n",
      "2700\t 1.4191e-01\t1.4022e-03\t1.6509e-05\t2.3669e-03\n",
      "2725\t 1.4191e-01\t1.4022e-03\t1.6509e-05\t2.3669e-03\n",
      "2750\t 1.4191e-01\t3.0287e-04\t1.6508e-05\t2.3669e-03\n",
      "2775\t 1.4191e-01\t1.4022e-03\t1.6509e-05\t2.3669e-03\n",
      "2800\t 1.4191e-01\t1.4022e-03\t1.6509e-05\t2.3669e-03\n",
      "2825\t 1.4191e-01\t3.0287e-04\t1.6508e-05\t2.3669e-03\n",
      "2850\t 1.4191e-01\t1.4022e-03\t1.6509e-05\t2.3669e-03\n",
      "2875\t 1.4191e-01\t1.4022e-03\t1.6509e-05\t2.3669e-03\n",
      "2900\t 1.4191e-01\t3.0287e-04\t1.6508e-05\t2.3669e-03\n",
      "2925\t 1.4191e-01\t1.4022e-03\t1.6509e-05\t2.3669e-03\n",
      "2950\t 1.4191e-01\t1.4022e-03\t1.6509e-05\t2.3669e-03\n",
      "2975\t 1.4191e-01\t3.0287e-04\t1.6508e-05\t2.3669e-03\n",
      "3000\t 1.4191e-01\t1.4022e-03\t1.6509e-05\t2.3669e-03\n",
      "3025\t 1.4191e-01\t1.4022e-03\t1.6509e-05\t2.3669e-03\n",
      "3050\t 1.4191e-01\t3.0287e-04\t1.6508e-05\t2.3669e-03\n",
      "3075\t 1.4191e-01\t1.4022e-03\t1.6509e-05\t2.3669e-03\n",
      "3100\t 1.4191e-01\t1.4022e-03\t1.6509e-05\t2.3669e-03\n",
      "3125\t 1.4191e-01\t3.0287e-04\t1.6508e-05\t2.3669e-03\n",
      "3150\t 1.4191e-01\t1.4022e-03\t1.6509e-05\t2.3669e-03\n",
      "3175\t 1.4191e-01\t1.4022e-03\t1.6509e-05\t2.3669e-03\n",
      "3200\t 1.4191e-01\t3.0287e-04\t1.6508e-05\t2.3669e-03\n",
      "3225\t 1.4191e-01\t1.4022e-03\t1.6509e-05\t2.3669e-03\n",
      "3250\t 1.4191e-01\t1.4022e-03\t1.6509e-05\t2.3669e-03\n",
      "3275\t 1.4191e-01\t3.0287e-04\t1.6508e-05\t2.3669e-03\n",
      "3300\t 1.4191e-01\t1.4022e-03\t1.6509e-05\t2.3669e-03\n",
      "3325\t 1.4191e-01\t1.4022e-03\t1.6509e-05\t2.3669e-03\n",
      "3350\t 1.4191e-01\t3.0287e-04\t1.6508e-05\t2.3669e-03\n",
      "3375\t 1.4191e-01\t1.4022e-03\t1.6509e-05\t2.3669e-03\n",
      "3400\t 1.4191e-01\t1.4022e-03\t1.6509e-05\t2.3669e-03\n",
      "3425\t 1.4191e-01\t3.0287e-04\t1.6508e-05\t2.3669e-03\n",
      "3450\t 1.4191e-01\t1.4022e-03\t1.6509e-05\t2.3669e-03\n",
      "3475\t 1.4191e-01\t1.4022e-03\t1.6509e-05\t2.3669e-03\n",
      "3500\t 1.4191e-01\t3.0287e-04\t1.6508e-05\t2.3669e-03\n",
      "3525\t 1.4191e-01\t1.4022e-03\t1.6509e-05\t2.3669e-03\n",
      "3550\t 1.4191e-01\t1.4022e-03\t1.6509e-05\t2.3669e-03\n",
      "3575\t 1.4191e-01\t3.0287e-04\t1.6508e-05\t2.3669e-03\n",
      "3600\t 1.4191e-01\t1.4022e-03\t1.6509e-05\t2.3669e-03\n",
      "3625\t 1.4191e-01\t1.4022e-03\t1.6509e-05\t2.3669e-03\n",
      "3650\t 1.4191e-01\t3.0287e-04\t1.6508e-05\t2.3669e-03\n",
      "3675\t 1.4191e-01\t1.4022e-03\t1.6509e-05\t2.3669e-03\n",
      "3700\t 1.4191e-01\t1.4022e-03\t1.6509e-05\t2.3669e-03\n",
      "3725\t 1.4191e-01\t3.0287e-04\t1.6508e-05\t2.3669e-03\n",
      "3750\t 1.4191e-01\t1.4022e-03\t1.6509e-05\t2.3669e-03\n",
      "3775\t 1.4191e-01\t1.4022e-03\t1.6509e-05\t2.3669e-03\n",
      "3800\t 1.4191e-01\t3.0287e-04\t1.6508e-05\t2.3669e-03\n",
      "3825\t 1.4191e-01\t1.4022e-03\t1.6509e-05\t2.3669e-03\n",
      "3850\t 1.4191e-01\t1.4022e-03\t1.6509e-05\t2.3669e-03\n",
      "3875\t 1.4191e-01\t3.0287e-04\t1.6508e-05\t2.3669e-03\n",
      "3900\t 1.4191e-01\t1.4022e-03\t1.6509e-05\t2.3669e-03\n",
      "3925\t 1.4191e-01\t1.4022e-03\t1.6509e-05\t2.3669e-03\n",
      "3950\t 1.4191e-01\t3.0287e-04\t1.6508e-05\t2.3669e-03\n",
      "3975\t 1.4191e-01\t1.4022e-03\t1.6509e-05\t2.3669e-03\n",
      "4000\t 1.4191e-01\t1.4022e-03\t1.6509e-05\t2.3669e-03\n",
      "4025\t 1.4191e-01\t3.0287e-04\t1.6508e-05\t2.3669e-03\n",
      "4050\t 1.4191e-01\t1.4022e-03\t1.6509e-05\t2.3669e-03\n",
      "4075\t 1.4192e-01\t1.4022e-03\t1.6509e-05\t2.3669e-03\n",
      "4100\t 1.4191e-01\t3.0287e-04\t1.6508e-05\t2.3669e-03\n",
      "4125\t 1."
     ]
    },
    {
     "name": "stdout",
     "output_type": "stream",
     "text": [
      "4192e-01\t1.4022e-03\t1.6509e-05\t2.3669e-03\n",
      "4150\t 1.4192e-01\t1.4022e-03\t1.6509e-05\t2.3669e-03\n",
      "4175\t 1.4192e-01\t3.0287e-04\t1.6508e-05\t2.3669e-03\n",
      "4200\t 1.4192e-01\t1.4022e-03\t1.6509e-05\t2.3669e-03\n",
      "4225\t 1.4192e-01\t1.4022e-03\t1.6509e-05\t2.3669e-03\n",
      "4250\t 1.4192e-01\t3.0287e-04\t1.6508e-05\t2.3669e-03\n",
      "4275\t 1.4192e-01\t1.4022e-03\t1.6509e-05\t2.3669e-03\n",
      "4300\t 1.4192e-01\t1.4022e-03\t1.6509e-05\t2.3669e-03\n",
      "4325\t 1.4192e-01\t3.0287e-04\t1.6508e-05\t2.3669e-03\n",
      "4350\t 1.4192e-01\t1.4022e-03\t1.6509e-05\t2.3669e-03\n",
      "4375\t 1.4192e-01\t1.4022e-03\t1.6509e-05\t2.3669e-03\n",
      "4400\t 1.4191e-01\t3.0287e-04\t1.6508e-05\t2.3669e-03\n",
      "4425\t 1.4191e-01\t1.4022e-03\t1.6509e-05\t2.3669e-03\n",
      "4450\t 1.4191e-01\t1.4022e-03\t1.6509e-05\t2.3669e-03\n",
      "4475\t 1.4191e-01\t3.0287e-04\t1.6508e-05\t2.3669e-03\n",
      "4500\t 1.4191e-01\t1.4022e-03\t1.6509e-05\t2.3669e-03\n",
      "4525\t 1.4191e-01\t1.4022e-03\t1.6509e-05\t2.3669e-03\n",
      "4550\t 1.4191e-01\t3.0287e-04\t1.6508e-05\t2.3669e-03\n",
      "4575\t 1.4191e-01\t1.4022e-03\t1.6509e-05\t2.3669e-03\n",
      "4600\t 1.4191e-01\t1.4022e-03\t1.6509e-05\t2.3669e-03\n",
      "4625\t 1.4191e-01\t3.0287e-04\t1.6508e-05\t2.3669e-03\n",
      "4650\t 1.4191e-01\t1.4022e-03\t1.6509e-05\t2.3669e-03\n",
      "4675\t 1.4191e-01\t1.4022e-03\t1.6509e-05\t2.3669e-03\n",
      "4700\t 1.4191e-01\t3.0287e-04\t1.6508e-05\t2.3669e-03\n",
      "4725\t 1.4191e-01\t1.4022e-03\t1.6509e-05\t2.3669e-03\n",
      "4750\t 1.4191e-01\t1.4022e-03\t1.6509e-05\t2.3669e-03\n",
      "4775\t 1.4191e-01\t3.0287e-04\t1.6508e-05\t2.3669e-03\n",
      "4800\t 1.4191e-01\t1.4022e-03\t1.6509e-05\t2.3669e-03\n",
      "4825\t 1.4191e-01\t1.4022e-03\t1.6509e-05\t2.3669e-03\n",
      "4850\t 1.4191e-01\t3.0287e-04\t1.6508e-05\t2.3669e-03\n",
      "\n",
      "------------------------------------------------------------------\n",
      ">>> Results\n",
      "Status: \u001b[31mMax_iter_reached\u001b[39m\n",
      "Iterations: 5000 (incl. 132 safeguarding iter)\n",
      "Optimal objective: 0.1419\n",
      "Runtime: 0.126s (125.79ms)\n",
      "\n"
     ]
    },
    {
     "data": {
      "text/plain": [
       "* Solver : COSMO\n",
       "\n",
       "* Status\n",
       "  Termination status : ITERATION_LIMIT\n",
       "  Primal status      : NEARLY_FEASIBLE_POINT\n",
       "  Dual status        : NEARLY_FEASIBLE_POINT\n",
       "  Message from the solver:\n",
       "  \"Max_iter_reached\"\n",
       "\n",
       "* Candidate solution\n",
       "  Objective value      : 0.14191307727940491\n",
       "\n",
       "* Work counters\n",
       "  Solve time (sec)   : 0.12579\n"
      ]
     },
     "metadata": {},
     "output_type": "display_data"
    }
   ],
   "source": [
    "# ||E|| <= ||E D^T M u|| / (||Sigma|| ||D^T M u||)\n",
    "model = Model(COSMO.Optimizer)\n",
    "@variable(model, 0 <= x[1:n] <= 1)\n",
    "@constraint(model, linear_program' * x >= lb_diag)\n",
    "@constraint(model, lambda_2 + linear_program_lam_2' * x >= lb_diag)\n",
    "@constraint(model, Array{Float64}(y .== 1)' * x == numpositive)\n",
    "@objective(model, Min, rank_one_term' * x)\n",
    "optimize!(model)\n",
    "solution_summary(model)"
   ]
  },
  {
   "cell_type": "code",
   "execution_count": 54,
   "metadata": {},
   "outputs": [
    {
     "data": {
      "text/plain": [
       "0.14186760554017683"
      ]
     },
     "metadata": {},
     "output_type": "display_data"
    }
   ],
   "source": [
    "objective_value(model)"
   ]
  },
  {
   "cell_type": "code",
   "execution_count": 64,
   "metadata": {},
   "outputs": [
    {
     "data": {
      "text/plain": [
       "0.0075701981369719175"
      ]
     },
     "metadata": {},
     "output_type": "display_data"
    }
   ],
   "source": [
    "e_squared_program = mapslices(\n",
    "    (row) -> max(\n",
    "        sum(row[y .== 1]) + sum(selectsorted(row .* (y .== -1), stillneed)),\n",
    "        sum(-row[y .== 1]) + sum(selectsorted(-row .* (y .== -1), stillneed))\n",
    "    ) ^ 2,\n",
    "    E .* (raw_data * u)',\n",
    "    dims=2)[:, 1] / objective_value(model)\n",
    "maximum(e_squared_program)"
   ]
  },
  {
   "cell_type": "code",
   "execution_count": 65,
   "metadata": {},
   "outputs": [
    {
     "data": {
      "text/plain": [
       "101-element Array{Float64,1}:\n",
       " 0.0035697640972841655\n",
       " 0.001829931839392928\n",
       " 0.029131912400482168\n",
       " 0.015478315587490023\n",
       " 0.020984156999147033\n",
       " 0.013682225379852088\n",
       " 0.0042156349083965665\n",
       " 0.0021311564632373724\n",
       " 0.0025955789508253146\n",
       " 0.00711653605568502\n",
       " ⋮\n",
       " 0.01220808169183182\n",
       " 0.0022716109777939568\n",
       " 0.003493519917667502\n",
       " 0.004702924989550664\n",
       " 0.0005228444197042201\n",
       " 0.01577395859727945\n",
       " 0.023439471618106975\n",
       " 0.015451197235423842\n",
       " 0.02110452132574555"
      ]
     },
     "metadata": {},
     "output_type": "display_data"
    }
   ],
   "source": [
    "# Multiplier for \n",
    "mult_parallel = 1. / lambda_1\n",
    "mult_perp = lambda_2 / (lb_proj - lambda_2)^2\n",
    "mult_linearize = mult_parallel + mult_perp\n",
    "linear_program = rank_one_term + mult_linearize * e_squared_program"
   ]
  },
  {
   "cell_type": "code",
   "execution_count": 66,
   "metadata": {},
   "outputs": [
    {
     "data": {
      "text/plain": [
       "(0.5696705588806852, 0.2732082054995253)"
      ]
     },
     "metadata": {},
     "output_type": "display_data"
    }
   ],
   "source": [
    "# Linear program solution\n",
    "sum(linear_program[y .== 1]) + sum(selectsorted(linear_program[y .== -1], stillneed)), lb_diag"
   ]
  },
  {
   "cell_type": "code",
   "execution_count": 67,
   "metadata": {},
   "outputs": [
    {
     "data": {
      "text/plain": [
       "0.39996830001094297"
      ]
     },
     "metadata": {},
     "output_type": "display_data"
    }
   ],
   "source": [
    "# Conservative program in case we cannot bound sin theta_perp.\n",
    "linear_program_lam_2 = rank_one_term + mult_parallel .* e_squared_program\n",
    "lambda_2 + sum(linear_program_lam_2[y .== 1]) + sum(selectsorted(linear_program_lam_2[y .== -1], stillneed))"
   ]
  },
  {
   "cell_type": "code",
   "execution_count": null,
   "metadata": {},
   "outputs": [],
   "source": []
  },
  {
   "cell_type": "code",
   "execution_count": 74,
   "metadata": {},
   "outputs": [
    {
     "ename": "UndefVarError",
     "evalue": "UndefVarError: MathOptInterface not defined",
     "output_type": "error",
     "traceback": [
      "UndefVarError: MathOptInterface not defined\n",
      "\n",
      "Stacktrace:\n",
      " [1] top-level scope at /home/ringwalt/Optimal-SPCA/Proof/DavisKahanMatrixVector.ipynb:3"
     ]
    }
   ],
   "source": [
    "# ||E|| <= ||E D^T M u|| / (||Sigma|| ||D^T M u||)\n",
    "model = Model(COSMO.Optimizer)\n",
    "MathOptInterface.Utilities.reset_optimizer(model)\n",
    "@variable(model, 0 <= x[1:n] <= 1)\n",
    "@constraint(model, linear_program' * x >= lb_proj)\n",
    "@constraint(model, lambda_2 + linear_program_lam_2' * x >= lb_diag)\n",
    "@constraint(model, Array{Float64}(y .== 1)' * x == numpositive)\n",
    "@objective(model, Min, rank_one_term' * x)\n",
    "optimize!(model)\n",
    "solution_summary(model)"
   ]
  },
  {
   "cell_type": "code",
   "execution_count": null,
   "metadata": {},
   "outputs": [],
   "source": []
  }
 ],
 "metadata": {
  "kernelspec": {
   "display_name": "Julia 1.4.1",
   "language": "julia",
   "name": "julia-1.4"
  },
  "language_info": {
   "file_extension": ".jl",
   "mimetype": "application/julia",
   "name": "julia",
   "version": "1.4.1"
  }
 },
 "nbformat": 4,
 "nbformat_minor": 4
}
