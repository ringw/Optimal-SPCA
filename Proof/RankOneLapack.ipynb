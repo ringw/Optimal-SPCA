{
 "cells": [
  {
   "cell_type": "code",
   "execution_count": 4,
   "id": "9c96a025-436e-47d0-bc26-593a41936f41",
   "metadata": {},
   "outputs": [],
   "source": [
    "using LinearAlgebra"
   ]
  },
  {
   "cell_type": "code",
   "execution_count": 22,
   "id": "2445e970-fba1-4da2-852e-21dad3718542",
   "metadata": {},
   "outputs": [
    {
     "data": {
      "text/plain": [
       "4-element Array{Float32,1}:\n",
       "  0.124034256\n",
       " -0.0012403426\n",
       "  0.99227405\n",
       "  0.0024806852"
      ]
     },
     "execution_count": 22,
     "metadata": {},
     "output_type": "execute_result"
    }
   ],
   "source": [
    "K = 4\n",
    "Kstart = 1\n",
    "Kstop = K\n",
    "N = 4\n",
    "D = Array{Float32}(undef, 4)\n",
    "Q = Matrix{Float32}(I, 4, 4)\n",
    "ldq = 4\n",
    "W = Array{Float32}([10, -0.1, 80, 0.2])\n",
    "rho = Float32(norm(W))\n",
    "W = W / rho\n",
    "W_orig = copy(W)\n",
    "evals = Array{Float32}([1.0, 2.0, 2.2, 2.8])\n",
    "S = Matrix{Float32}(undef, 4, 4)\n",
    "lds = 4\n",
    "info = -1000\n",
    "W"
   ]
  },
  {
   "cell_type": "code",
   "execution_count": 23,
   "id": "5c997521-ddb4-48c1-a45c-5ec38d783dc3",
   "metadata": {},
   "outputs": [
    {
     "data": {
      "text/plain": [
       "0"
      ]
     },
     "execution_count": 23,
     "metadata": {},
     "output_type": "execute_result"
    }
   ],
   "source": [
    "ccall(\n",
    "    (:slaed9_, \"liblapack\"),\n",
    "    Int64,\n",
    "    (Ref{Int32}, Ref{Int32}, Ref{Int32}, Ref{Int32},\n",
    "        Ptr{Float32}, Ptr{Float32},\n",
    "        Ref{Int32}, Ref{Float32},\n",
    "        Ptr{Float32}, Ptr{Float32}, Ptr{Float32},\n",
    "        Ref{Int32}, Ref{Int32}),\n",
    "    K, Kstart, Kstop, N, D, Q, ldq, rho, evals, W, S, lds, info)"
   ]
  },
  {
   "cell_type": "code",
   "execution_count": 24,
   "id": "2d1a21ea-84ec-4516-93ad-54ad2532b949",
   "metadata": {},
   "outputs": [
    {
     "data": {
      "text/plain": [
       "4-element Array{Float32,1}:\n",
       "  1.0181947\n",
       "  2.0000002\n",
       "  2.7999961\n",
       " 82.8047"
      ]
     },
     "execution_count": 24,
     "metadata": {},
     "output_type": "execute_result"
    }
   ],
   "source": [
    "D"
   ]
  },
  {
   "cell_type": "code",
   "execution_count": 25,
   "id": "af2b17f6-2bd3-48cd-bc5c-144ff40f3ed1",
   "metadata": {},
   "outputs": [
    {
     "data": {
      "text/plain": [
       "4-element Array{Float64,1}:\n",
       "  1.0181947223243646\n",
       "  2.0000003126936305\n",
       "  2.799996241215579\n",
       " 82.80469900237615"
      ]
     },
     "execution_count": 25,
     "metadata": {},
     "output_type": "execute_result"
    }
   ],
   "source": [
    "eigvals(\n",
    "    Diagonal([1.0, 2.0, 2.2, 2.8])\n",
    "    + rho * W_orig * W_orig')"
   ]
  },
  {
   "cell_type": "code",
   "execution_count": 16,
   "id": "54b60c13-14c1-4598-aecd-1d6715ac72c4",
   "metadata": {},
   "outputs": [
    {
     "data": {
      "text/plain": [
       "true"
      ]
     },
     "execution_count": 16,
     "metadata": {},
     "output_type": "execute_result"
    }
   ],
   "source": [
    "D[3] == evals[4]"
   ]
  },
  {
   "cell_type": "code",
   "execution_count": 26,
   "id": "39357b14-4d4a-4657-900c-ab24b3bcbd79",
   "metadata": {},
   "outputs": [
    {
     "data": {
      "text/plain": [
       "4×4 Array{Float32,2}:\n",
       " -0.9925       -3.12688f-5  -0.000104411  -0.122242\n",
       " -0.000183929   0.999999     2.34926f-6    0.00123755\n",
       "  0.122242      0.00125075  -0.00250588   -0.992496\n",
       "  0.000202696   7.81721f-7   0.999997     -0.00249985"
      ]
     },
     "execution_count": 26,
     "metadata": {},
     "output_type": "execute_result"
    }
   ],
   "source": [
    "S"
   ]
  },
  {
   "cell_type": "code",
   "execution_count": 29,
   "id": "e4867640-21af-4d9c-9f76-f79cb0768791",
   "metadata": {},
   "outputs": [
    {
     "data": {
      "text/plain": [
       "1.0000001f0"
      ]
     },
     "execution_count": 29,
     "metadata": {},
     "output_type": "execute_result"
    }
   ],
   "source": [
    "norm(S[:, 1])"
   ]
  },
  {
   "cell_type": "code",
   "execution_count": null,
   "id": "36d49aa2-7728-40dc-b2e6-651d25bc4086",
   "metadata": {},
   "outputs": [],
   "source": []
  }
 ],
 "metadata": {
  "kernelspec": {
   "display_name": "Julia 1.4.1",
   "language": "julia",
   "name": "julia-1.4"
  },
  "language_info": {
   "file_extension": ".jl",
   "mimetype": "application/julia",
   "name": "julia",
   "version": "1.4.1"
  }
 },
 "nbformat": 4,
 "nbformat_minor": 5
}
