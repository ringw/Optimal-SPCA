{
 "cells": [
  {
   "cell_type": "code",
   "execution_count": 10,
   "metadata": {},
   "outputs": [],
   "source": [
    "using Combinatorics, LinearAlgebra, CSV, Tables"
   ]
  },
  {
   "cell_type": "code",
   "execution_count": 11,
   "metadata": {},
   "outputs": [
    {
     "data": {
      "text/plain": [
       "4.884981308350689e-15"
      ]
     },
     "metadata": {},
     "output_type": "display_data"
    }
   ],
   "source": [
    "data = CSV.File(\"../NC-Data.csv\") |> Tables.matrix;\n",
    "# Matrix sqrt: via diagonalization and sqrt eigenvalues\n",
    "raw_data = sqrt(data);\n",
    "n = size(data, 1);\n",
    "# All close.\n",
    "maximum(abs.(raw_data * raw_data .- data))"
   ]
  },
  {
   "cell_type": "code",
   "execution_count": 12,
   "metadata": {},
   "outputs": [
    {
     "data": {
      "text/plain": [
       "101-element Array{Float64,1}:\n",
       " -0.05438260824805041\n",
       "  0.008363224847177997\n",
       " -0.10770687682387026\n",
       "  0.11737029189326229\n",
       "  0.04393011313034231\n",
       " -0.06873965962288982\n",
       " -0.06109905459388176\n",
       " -0.07321373555812491\n",
       " -0.06257892698664089\n",
       " -0.03207459053848553\n",
       "  ⋮\n",
       " -0.03271019046420741\n",
       "  0.046844615447333204\n",
       " -0.013933409384851271\n",
       " -0.013559283833379544\n",
       " -0.02716472383759902\n",
       " -0.03478850777760404\n",
       "  0.017830308236518162\n",
       " -0.05090214114591612\n",
       " -0.1278057531545356"
      ]
     },
     "metadata": {},
     "output_type": "display_data"
    }
   ],
   "source": [
    "# Say we can use the overall data's principal component.\n",
    "U = svd(raw_data).U[:, 1]"
   ]
  },
  {
   "cell_type": "code",
   "execution_count": 13,
   "metadata": {},
   "outputs": [
    {
     "data": {
      "text/plain": [
       "5"
      ]
     },
     "metadata": {},
     "output_type": "display_data"
    }
   ],
   "source": [
    "# Now pick a reasonable subset of data, and k value.\n",
    "data = data[70:90, 70:90]\n",
    "raw_data = raw_data[:, 70:90]\n",
    "n = size(data, 1)\n",
    "k = 5"
   ]
  },
  {
   "cell_type": "code",
   "execution_count": 14,
   "metadata": {},
   "outputs": [],
   "source": [
    "raw_data_E = raw_data - U * (U' * raw_data);"
   ]
  },
  {
   "cell_type": "code",
   "execution_count": 27,
   "metadata": {},
   "outputs": [],
   "source": [
    "actual_sparse_pca = []\n",
    "A_op_norm = []\n",
    "E_op_norm = []\n",
    "for lookup_D_key in combinations(1:n, k)\n",
    "    push!(\n",
    "        actual_sparse_pca,\n",
    "        maximum(svd(raw_data[:, lookup_D_key]).S) ^ 2)\n",
    "    push!(\n",
    "        A_op_norm,\n",
    "        # Eigenvalue comes from the trace.\n",
    "        sum((U' * raw_data[:, lookup_D_key]) .^ 2))\n",
    "    push!(\n",
    "        E_op_norm,\n",
    "        maximum(svd(raw_data_E[:, lookup_D_key]).S) ^ 2)\n",
    "end"
   ]
  },
  {
   "cell_type": "code",
   "execution_count": 28,
   "metadata": {},
   "outputs": [
    {
     "data": {
      "text/plain": [
       "20349×4 Array{Any,2}:\n",
       " 2.76907  2.80181  1.36041   1.4414\n",
       " 2.36656  2.51827  1.22022   1.29804\n",
       " 2.20451  2.36651  0.969577  1.39694\n",
       " 2.21674  2.29518  0.969976  1.3252\n",
       " 2.50036  2.91444  1.60242   1.31202\n",
       " 2.37554  2.54682  1.2445    1.30232\n",
       " 2.30962  2.75629  1.3758    1.3805\n",
       " 2.29311  2.75161  1.35757   1.39405\n",
       " 2.27446  2.75437  1.34033   1.41404\n",
       " 2.30508  2.8367   1.43239   1.40431\n",
       " ⋮                           \n",
       " 2.00263  2.73117  1.26924   1.46193\n",
       " 2.52299  2.95307  1.2123    1.74078\n",
       " 1.80684  2.50577  0.778088  1.72769\n",
       " 2.57792  3.25105  1.22982   2.02123\n",
       " 2.56149  3.32598  1.30716   2.01882\n",
       " 1.9961   2.74692  1.26218   1.48475\n",
       " 2.52237  2.95959  1.20523   1.75435\n",
       " 1.83307  2.52441  0.771021  1.75339\n",
       " 1.80331  2.51304  0.790132  1.7229"
      ]
     },
     "metadata": {},
     "output_type": "display_data"
    }
   ],
   "source": [
    "[actual_sparse_pca (A_op_norm+E_op_norm) A_op_norm E_op_norm]"
   ]
  },
  {
   "cell_type": "code",
   "execution_count": null,
   "metadata": {},
   "outputs": [],
   "source": []
  }
 ],
 "metadata": {
  "kernelspec": {
   "display_name": "Julia 1.4.1",
   "language": "julia",
   "name": "julia-1.4"
  },
  "language_info": {
   "file_extension": ".jl",
   "mimetype": "application/julia",
   "name": "julia",
   "version": "1.4.1"
  },
  "orig_nbformat": 4,
  "vscode": {
   "interpreter": {
    "hash": "916dbcbb3f70747c44a77c7bcd40155683ae19c65e1c03b4aa3499c5328201f1"
   }
  }
 },
 "nbformat": 4,
 "nbformat_minor": 2
}
