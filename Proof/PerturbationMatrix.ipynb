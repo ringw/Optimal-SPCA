{
 "cells": [
  {
   "cell_type": "code",
   "execution_count": 38,
   "metadata": {},
   "outputs": [],
   "source": [
    "using Combinatorics, LinearAlgebra, CSV, Tables"
   ]
  },
  {
   "cell_type": "code",
   "execution_count": 39,
   "metadata": {},
   "outputs": [
    {
     "data": {
      "text/plain": [
       "6.661338147750939e-15"
      ]
     },
     "execution_count": 39,
     "metadata": {},
     "output_type": "execute_result"
    }
   ],
   "source": [
    "data = CSV.File(\"../NC-Data.csv\") |> Tables.matrix;\n",
    "# Matrix sqrt: via diagonalization and sqrt eigenvalues\n",
    "raw_data = sqrt(data);\n",
    "n = size(data, 1);\n",
    "# All close.\n",
    "maximum(abs.(raw_data * raw_data .- data))"
   ]
  },
  {
   "cell_type": "code",
   "execution_count": 40,
   "metadata": {},
   "outputs": [
    {
     "data": {
      "text/plain": [
       "(101, 101)"
      ]
     },
     "execution_count": 40,
     "metadata": {},
     "output_type": "execute_result"
    }
   ],
   "source": [
    "size(raw_data)"
   ]
  },
  {
   "cell_type": "code",
   "execution_count": 54,
   "metadata": {},
   "outputs": [
    {
     "data": {
      "text/plain": [
       "101-element Vector{Float64}:\n",
       " -0.017151166317369033\n",
       "  0.041436252327551444\n",
       " -0.060581505510835916\n",
       "  0.027828562038693706\n",
       "  0.11679206787063857\n",
       " -0.0018055395671212153\n",
       " -0.060090501982123914\n",
       " -0.04085328055047178\n",
       " -0.038076512388390986\n",
       " -0.03445210651101385\n",
       " -0.009637582314310613\n",
       "  0.0677846593389534\n",
       "  0.18400222069949823\n",
       "  ⋮\n",
       " -0.026041055496287043\n",
       " -0.005489179487791176\n",
       "  0.09494904903761282\n",
       " -0.07110007369500787\n",
       "  0.014372695684782145\n",
       " -0.014627111067605114\n",
       " -0.00747315762177969\n",
       " -0.023892133184153022\n",
       "  0.03586314503268791\n",
       "  0.04945410248357551\n",
       " -0.016432604943053007\n",
       " -0.05019485002081419"
      ]
     },
     "execution_count": 54,
     "metadata": {},
     "output_type": "execute_result"
    }
   ],
   "source": [
    "# Say we can use the overall data's principal component.\n",
    "U = svd(raw_data).U[:, 1]"
   ]
  },
  {
   "cell_type": "code",
   "execution_count": 42,
   "metadata": {},
   "outputs": [
    {
     "data": {
      "text/plain": [
       "5"
      ]
     },
     "execution_count": 42,
     "metadata": {},
     "output_type": "execute_result"
    }
   ],
   "source": [
    "# Now pick a reasonable subset of data, and k value.\n",
    "data = data[70:90, 70:90]\n",
    "raw_data = raw_data[:, 70:90]\n",
    "n = size(data, 1)\n",
    "k = 5"
   ]
  },
  {
   "cell_type": "code",
   "execution_count": 43,
   "metadata": {},
   "outputs": [
    {
     "data": {
      "text/plain": [
       "21×21 Symmetric{Float64, Matrix{Float64}}:\n",
       "  0.628297     -0.255353    0.0214677   …   0.0025562   -0.000136602\n",
       " -0.255353      0.791214   -0.0290504       0.0207853   -0.0186878\n",
       "  0.0214677    -0.0290504   0.834704       -0.00858496   0.368667\n",
       " -0.0924483     0.0402467  -0.155094       -0.0573986    0.0382871\n",
       " -0.202821      0.127652   -0.00549642     -0.00197622  -0.026747\n",
       " -0.0871262     0.0352271   0.093584    …   0.0616893    0.0746238\n",
       " -0.0986586     0.0772708  -0.0193633       0.167492    -0.0296724\n",
       " -0.0311041     0.0221856   0.028737       -0.177724    -0.0424524\n",
       " -0.0743755     0.0384544  -0.0715118       0.0212823   -0.0694625\n",
       " -0.0289611     0.0126837  -0.0433388       0.0553444   -0.00062023\n",
       "  0.0808028    -0.0556273   0.0243537   …  -0.0021505    0.0534051\n",
       "  0.0847395    -0.0577619   0.0327161      -0.00948647   0.0615863\n",
       "  0.0873286    -0.060943    0.051096       -0.016972     0.0774627\n",
       "  0.0891786    -0.0694027   0.0497387      -0.00478771   0.046824\n",
       "  0.0704872    -0.0585141   0.0507876       0.0325684    0.0600533\n",
       "  0.0673222    -0.0623965   0.0569703   …   0.042554     0.0745318\n",
       "  0.0361966    -0.0459953   0.0490996       0.0528976    0.0533396\n",
       "  0.0259355    -0.0464865   0.00223443      0.0313698   -0.0127044\n",
       "  0.0847283    -0.0417865   0.0390149       0.114899     0.0233296\n",
       "  0.0025562     0.0207853  -0.00858496      0.950271    -0.00232403\n",
       " -0.000136602  -0.0186878   0.368667    …  -0.00232403   0.858855"
      ]
     },
     "execution_count": 43,
     "metadata": {},
     "output_type": "execute_result"
    }
   ],
   "source": [
    "raw_data_E = sqrt(Hermitian(raw_data' * (I - U * U') * raw_data) + 1e-12 * I)"
   ]
  },
  {
   "cell_type": "code",
   "execution_count": 44,
   "metadata": {},
   "outputs": [],
   "source": [
    "actual_sparse_pca = []\n",
    "A_op_norm = []\n",
    "E_op_norm = []\n",
    "for lookup_D_key in combinations(1:n, k)\n",
    "    push!(\n",
    "        actual_sparse_pca,\n",
    "        maximum(svd(raw_data[:, lookup_D_key]).S) ^ 2)\n",
    "    push!(\n",
    "        A_op_norm,\n",
    "        # Eigenvalue comes from the trace.\n",
    "        sum((U' * raw_data[:, lookup_D_key]) .^ 2))\n",
    "    push!(\n",
    "        E_op_norm,\n",
    "        maximum(svd(raw_data_E[:, lookup_D_key]).S) ^ 2)\n",
    "end"
   ]
  },
  {
   "cell_type": "code",
   "execution_count": 45,
   "metadata": {},
   "outputs": [
    {
     "data": {
      "text/plain": [
       "20349×4 Matrix{Any}:\n",
       " 2.76907  2.80181  1.36041   1.4414\n",
       " 2.36656  2.51827  1.22022   1.29804\n",
       " 2.20451  2.36651  0.969577  1.39694\n",
       " 2.21674  2.29518  0.969976  1.3252\n",
       " 2.50036  2.91444  1.60242   1.31202\n",
       " 2.37554  2.54682  1.2445    1.30232\n",
       " 2.30962  2.75629  1.3758    1.3805\n",
       " 2.29311  2.75161  1.35757   1.39405\n",
       " 2.27446  2.75437  1.34033   1.41404\n",
       " 2.30508  2.8367   1.43239   1.40431\n",
       " 2.32686  2.85374  1.46334   1.3904\n",
       " 2.32227  2.85039  1.45627   1.39412\n",
       " 2.35031  2.84833  1.47539   1.37295\n",
       " ⋮                           \n",
       " 2.52774  2.95695  1.19319   1.76376\n",
       " 2.57205  3.2405   1.23689   2.00361\n",
       " 2.55754  3.31499  1.31423   2.00076\n",
       " 2.00263  2.73117  1.26924   1.46193\n",
       " 2.52299  2.95307  1.2123    1.74078\n",
       " 1.80684  2.50577  0.778088  1.72769\n",
       " 2.57792  3.25105  1.22982   2.02123\n",
       " 2.56149  3.32598  1.30716   2.01882\n",
       " 1.9961   2.74692  1.26218   1.48475\n",
       " 2.52237  2.95959  1.20523   1.75435\n",
       " 1.83307  2.52441  0.771021  1.75339\n",
       " 1.80331  2.51304  0.790132  1.7229"
      ]
     },
     "execution_count": 45,
     "metadata": {},
     "output_type": "execute_result"
    }
   ],
   "source": [
    "[actual_sparse_pca (A_op_norm+E_op_norm) A_op_norm E_op_norm]"
   ]
  },
  {
   "cell_type": "code",
   "execution_count": 46,
   "metadata": {},
   "outputs": [
    {
     "data": {
      "text/plain": [
       "(101, 1330)"
      ]
     },
     "execution_count": 46,
     "metadata": {},
     "output_type": "execute_result"
    }
   ],
   "source": [
    "# Now what we would actually like to do is find optimal 3-sparse PCA\n",
    "# (hope that the heuristic that we used produced good 3-sparse PCA).\n",
    "# Diagonalize that system.\n",
    "k_3_sparse_pca = []\n",
    "k_3_sparse_U = zeros(size(raw_data, 1), binomial(n, 3))\n",
    "index = 1\n",
    "for lookup_D_key in combinations(1:n, 3)\n",
    "    push!(\n",
    "        k_3_sparse_pca,\n",
    "        maximum(svd(raw_data[:, lookup_D_key]).S) ^ 2)\n",
    "    k_3_sparse_U[:, index] = (\n",
    "        svd(raw_data[:, lookup_D_key]).U[:, 1])\n",
    "    index += 1\n",
    "end\n",
    "size(k_3_sparse_U)"
   ]
  },
  {
   "cell_type": "code",
   "execution_count": 55,
   "metadata": {},
   "outputs": [],
   "source": [
    "U = k_3_sparse_U[:, findmax(k_3_sparse_pca)[2]];"
   ]
  },
  {
   "cell_type": "code",
   "execution_count": 56,
   "metadata": {},
   "outputs": [
    {
     "data": {
      "text/plain": [
       "21×21 Symmetric{Float64, Matrix{Float64}}:\n",
       "  0.778177    -0.356971      0.0904329    …   0.0105525    0.0702265\n",
       " -0.356971     0.863772     -0.077093         0.0135079   -0.0668081\n",
       "  0.0904329   -0.077093      0.866867        -0.00445876   0.401299\n",
       " -0.151063     0.0843231    -0.18343         -0.0613927    0.0058828\n",
       " -0.359384     0.233406     -0.0774474       -0.0105799   -0.0998231\n",
       "  0.0293892   -0.0436009     0.14693      …   0.066768     0.132436\n",
       " -0.0861393    0.0663386    -0.0126184        0.168701    -0.0188357\n",
       " -0.0747341    0.0522152     0.00790144      -0.182382    -0.0600338\n",
       "  0.103044    -0.0792123     0.00887512       0.0272303    0.0213968\n",
       "  0.0936149   -0.0713208     0.0133438        0.0621433    0.0586463\n",
       " -0.00377799   0.0037544    -0.0123314    …   0.00618196  -0.0105847\n",
       "  0.0016033   -0.000162482  -0.00287106       2.33203e-5  -0.00216584\n",
       "  0.00216891  -0.00359499    0.0152335       -0.00621213   0.0127753\n",
       " -0.0154196    0.0045869     0.00128136      -0.00708331  -0.018292\n",
       " -0.0356785    0.0163635     0.00210034       0.0320581   -0.00795697\n",
       " -0.0404254    0.0122785     0.00816406   …   0.0434123    0.00522274\n",
       " -0.0707858    0.0307689    -0.000514332      0.0509575   -0.0143606\n",
       "  0.130381    -0.114975      0.0493557        0.0363896    0.0322467\n",
       "  0.0967431   -0.0446025     0.0431724        0.116749     0.0154163\n",
       "  0.0105525    0.0135079    -0.00445876       0.950802     0.00230203\n",
       "  0.0702265   -0.0668081     0.401299     …   0.00230203   0.88993"
      ]
     },
     "execution_count": 56,
     "metadata": {},
     "output_type": "execute_result"
    }
   ],
   "source": [
    "raw_data_E = sqrt(Hermitian(raw_data' * (I - U * U') * raw_data) + 1e-12 * I)"
   ]
  },
  {
   "cell_type": "code",
   "execution_count": 49,
   "metadata": {},
   "outputs": [],
   "source": [
    "actual_sparse_pca = []\n",
    "A_op_norm = []\n",
    "E_op_norm = []\n",
    "for lookup_D_key in combinations(1:n, k)\n",
    "    push!(\n",
    "        actual_sparse_pca,\n",
    "        maximum(svd(raw_data[:, lookup_D_key]).S) ^ 2)\n",
    "    push!(\n",
    "        A_op_norm,\n",
    "        # Eigenvalue comes from the trace.\n",
    "        sum((U' * raw_data[:, lookup_D_key]) .^ 2))\n",
    "    push!(\n",
    "        E_op_norm,\n",
    "        maximum(svd(raw_data_E[:, lookup_D_key]).S) ^ 2)\n",
    "end"
   ]
  },
  {
   "cell_type": "code",
   "execution_count": 50,
   "metadata": {},
   "outputs": [
    {
     "data": {
      "text/plain": [
       "20349×4 Matrix{Any}:\n",
       " 2.76907  2.80222  0.170855  2.63137\n",
       " 2.36656  2.42178  0.219294  2.20249\n",
       " 2.20451  2.31778  0.214636  2.10315\n",
       " 2.21674  2.24519  0.135882  2.10931\n",
       " 2.50036  2.70598  0.47497   2.23101\n",
       " 2.37554  2.4163   0.196539  2.21976\n",
       " 2.30962  3.21912  1.12478   2.09434\n",
       " 2.29311  3.2286   1.13483   2.09377\n",
       " 2.27446  3.21701  1.12264   2.09438\n",
       " 2.30508  2.93557  0.838269  2.09731\n",
       " 2.32686  3.04325  0.944165  2.09908\n",
       " 2.32227  3.06578  0.967999  2.09778\n",
       " 2.35031  3.00793  0.901956  2.10597\n",
       " ⋮                           \n",
       " 2.52774  3.11161  1.99429   1.11732\n",
       " 2.57205  3.24842  1.93492   1.3135\n",
       " 2.55754  3.18806  1.93452   1.25355\n",
       " 2.00263  2.75621  1.5815    1.17471\n",
       " 2.52299  3.0465   1.92825   1.11825\n",
       " 1.80684  2.51977  1.16881   1.35096\n",
       " 2.57792  3.27648  1.95875   1.31773\n",
       " 2.56149  3.21435  1.95835   1.256\n",
       " 1.9961   2.78141  1.60533   1.17608\n",
       " 2.52237  3.07378  1.95208   1.1217\n",
       " 1.83307  2.54726  1.19264   1.35462\n",
       " 1.80331  2.47833  1.1266    1.35173"
      ]
     },
     "execution_count": 50,
     "metadata": {},
     "output_type": "execute_result"
    }
   ],
   "source": [
    "[actual_sparse_pca (A_op_norm+E_op_norm) A_op_norm E_op_norm]"
   ]
  },
  {
   "cell_type": "code",
   "execution_count": 51,
   "metadata": {},
   "outputs": [
    {
     "data": {
      "text/plain": [
       "4.74708500443918"
      ]
     },
     "execution_count": 51,
     "metadata": {},
     "output_type": "execute_result"
    }
   ],
   "source": [
    "maximum(actual_sparse_pca)"
   ]
  },
  {
   "cell_type": "code",
   "execution_count": 52,
   "metadata": {},
   "outputs": [
    {
     "data": {
      "text/plain": [
       "3-element Vector{Int64}:\n",
       "  7\n",
       " 10\n",
       " 15"
      ]
     },
     "execution_count": 52,
     "metadata": {},
     "output_type": "execute_result"
    }
   ],
   "source": [
    "function top_k(arr, k)\n",
    "    sort!(arr)\n",
    "    arr[1 + size(arr, 1) - k:end]\n",
    "end\n",
    "\n",
    "top_k([1; 10; 5; 7; 15], 3)"
   ]
  },
  {
   "cell_type": "code",
   "execution_count": null,
   "metadata": {},
   "outputs": [
    {
     "data": {
      "text/plain": [
       "4.631493623120979"
      ]
     },
     "execution_count": 46,
     "metadata": {},
     "output_type": "execute_result"
    }
   ],
   "source": [
    "sum(top_k((mapslices(norm, raw_data; dims=1)' - abs.(raw_data' * U))[:, 1] .^ 2, k))"
   ]
  },
  {
   "cell_type": "code",
   "execution_count": null,
   "metadata": {},
   "outputs": [
    {
     "data": {
      "text/plain": [
       "4.992993670764804"
      ]
     },
     "execution_count": 51,
     "metadata": {},
     "output_type": "execute_result"
    }
   ],
   "source": [
    "sum(top_k(mapslices(norm, raw_data' - raw_data' * U * U'; dims=2)[:, 1], k))"
   ]
  },
  {
   "cell_type": "code",
   "execution_count": null,
   "metadata": {},
   "outputs": [],
   "source": []
  }
 ],
 "metadata": {
  "kernelspec": {
   "display_name": "Julia 1.8.3",
   "language": "julia",
   "name": "julia-1.8"
  },
  "language_info": {
   "file_extension": ".jl",
   "mimetype": "application/julia",
   "name": "julia",
   "version": "1.8.3"
  },
  "orig_nbformat": 4,
  "vscode": {
   "interpreter": {
    "hash": "916dbcbb3f70747c44a77c7bcd40155683ae19c65e1c03b4aa3499c5328201f1"
   }
  }
 },
 "nbformat": 4,
 "nbformat_minor": 2
}
