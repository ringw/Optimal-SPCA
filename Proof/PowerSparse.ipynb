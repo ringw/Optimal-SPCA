{
 "cells": [
  {
   "cell_type": "code",
   "execution_count": 2,
   "metadata": {},
   "outputs": [],
   "source": [
    "using LinearAlgebra, CSV, Random, Tables, JLD, Base.Iterators, Printf"
   ]
  },
  {
   "cell_type": "code",
   "execution_count": 3,
   "metadata": {},
   "outputs": [
    {
     "data": {
      "text/plain": [
       "refreshFile (generic function with 1 method)"
      ]
     },
     "execution_count": 3,
     "metadata": {},
     "output_type": "execute_result"
    }
   ],
   "source": [
    "include(\"../Algorithm/utilities.jl\")"
   ]
  },
  {
   "cell_type": "code",
   "execution_count": 160,
   "metadata": {},
   "outputs": [
    {
     "data": {
      "text/plain": [
       "6.661338147750939e-15"
      ]
     },
     "execution_count": 160,
     "metadata": {},
     "output_type": "execute_result"
    }
   ],
   "source": [
    "data = load(\"../Data/communities.jld\")[\"normCommunities\"]\n",
    "Sigma2 = data^2\n",
    "# Matrix sqrt: via diagonalization and sqrt eigenvalues\n",
    "raw_data = sqrt(data)';\n",
    "n = size(data, 1);\n",
    "N = n * n;\n",
    "norms = data[1:n+1:N]\n",
    "k = 7;\n",
    "# All close.\n",
    "maximum(abs.(raw_data * raw_data .- data))"
   ]
  },
  {
   "cell_type": "code",
   "execution_count": 161,
   "metadata": {},
   "outputs": [],
   "source": [
    "nodes = CSV.File(\"../Co-K5-Trace-Nodes.csv\", header=false) |> Tables.matrix;\n",
    "bounds = CSV.File(\"../Co-K5-Trace-Bounds.csv\", header=false) |> Tables.matrix;\n",
    "# nodes = CSV.File(\"../NC-K7-Trace-Nodes.csv\") |> Tables.matrix;\n",
    "# bounds = CSV.File(\"../NC-K7-Trace-Bounds.csv\") |> Tables.matrix;"
   ]
  },
  {
   "cell_type": "code",
   "execution_count": 162,
   "metadata": {},
   "outputs": [
    {
     "data": {
      "text/plain": [
       "4"
      ]
     },
     "execution_count": 162,
     "metadata": {},
     "output_type": "execute_result"
    }
   ],
   "source": [
    "# node_id = 50\n",
    "# node_id = 300\n",
    "node_id = 25\n",
    "y = nodes[:, node_id]\n",
    "selected_data = findall(y .== 1)\n",
    "i = sum(nodes[:, node_id] .== 1)\n",
    "stillneed = k - i"
   ]
  },
  {
   "cell_type": "code",
   "execution_count": 163,
   "metadata": {},
   "outputs": [
    {
     "data": {
      "text/plain": [
       "2.556130035491392"
      ]
     },
     "execution_count": 163,
     "metadata": {},
     "output_type": "execute_result"
    }
   ],
   "source": [
    "s = maximum(svd(raw_data[:, selected_data]).S)\n",
    "u = svd(raw_data[:, selected_data]).U[:, 1];\n",
    "v = svd(raw_data[:, selected_data]).V[:, 1];\n",
    "D = Matrix(1.0I, 101, 101)[:, selected_data];\n",
    "s^2"
   ]
  },
  {
   "cell_type": "code",
   "execution_count": 164,
   "metadata": {},
   "outputs": [
    {
     "data": {
      "text/plain": [
       "101-element Vector{Float64}:\n",
       " 0.0007729673812410654\n",
       " 0.019286993029416652\n",
       " 0.14001498734661805\n",
       " 0.062413143981748825\n",
       " 0.24497712730742385\n",
       " 0.003112796601762257\n",
       " 0.0995369970378409\n",
       " 0.05273121668867637\n",
       " 0.05229228709256075\n",
       " 0.04736071875256587\n",
       " 0.00019779963324352337\n",
       " 0.18315070769677022\n",
       " 0.0\n",
       " ⋮\n",
       " 0.002879719537412127\n",
       " 0.0001201647501583793\n",
       " 0.16980192495279062\n",
       " 0.14000549371287777\n",
       " 0.015619690193852296\n",
       " 0.008916094669294456\n",
       " 0.017112186583702844\n",
       " 0.002468834952860791\n",
       " 0.03202895696331845\n",
       " 0.11577049445416097\n",
       " 0.0031406834671852905\n",
       " 0.11376918610794398"
      ]
     },
     "execution_count": 164,
     "metadata": {},
     "output_type": "execute_result"
    }
   ],
   "source": [
    "variance = mapslices(norm, raw_data, dims=2)[:, 1] .^ 2\n",
    "rank_one_term = (raw_data * u) .^ 2\n",
    "rank_one_term[nodes[:, node_id] .== 0] .= 0\n",
    "rank_one_term"
   ]
  },
  {
   "cell_type": "code",
   "execution_count": 165,
   "metadata": {},
   "outputs": [
    {
     "data": {
      "text/plain": [
       "frobenius_rows_k (generic function with 1 method)"
      ]
     },
     "execution_count": 165,
     "metadata": {},
     "output_type": "execute_result"
    }
   ],
   "source": [
    "function row_sums_k(M, y)\n",
    "    M = abs.(M)\n",
    "    row_quantities = zeros(n)\n",
    "    stillneed = k - sum(y .== 1)\n",
    "    for row_index in 1:n\n",
    "        if y[row_index] == 0\n",
    "            continue\n",
    "        end\n",
    "        row = copy(M[row_index, :])\n",
    "        row_sum = sum(row[y .== 1])\n",
    "        row[y .== 1] .= 0\n",
    "        if y[row_index] == -1\n",
    "            row_sum += row[row_index]\n",
    "            row[row_index] = 0\n",
    "            row_stillneed = stillneed -1\n",
    "        else\n",
    "            row_stillneed = stillneed\n",
    "        end\n",
    "        row_sum += sum(sort(row, rev=true)[1:row_stillneed])\n",
    "        row_quantities[row_index] = row_sum\n",
    "    end\n",
    "    row_quantities\n",
    "end\n",
    "\n",
    "function frobenius_rows_k(M, y)\n",
    "    row_sums_k(M .^ 2, y)\n",
    "end"
   ]
  },
  {
   "cell_type": "code",
   "execution_count": 174,
   "metadata": {},
   "outputs": [
    {
     "data": {
      "text/plain": [
       "87"
      ]
     },
     "execution_count": 174,
     "metadata": {},
     "output_type": "execute_result"
    }
   ],
   "source": [
    "# How many variables can we exclude? Entries of frobenius_rows_k\n",
    "# as an upper bound:\n",
    "# The entry is a sum of k entries, including variance^2. When we\n",
    "# update D' Sigma D from D: n x k-1 to D: n x k, then we add\n",
    "# these squared entries to the sq Frob norm, add again (symmetric),\n",
    "# then subtract variance^2 which appears once (inclusion-exclusion).\n",
    "# This upper-bounds the differenc in squared UIN going from k-1 to\n",
    "# k when adding this variable.\n",
    "# RHS lower bound: Go from (lb_proj - lb_contribution)^2 to lb_proj.\n",
    "# When adding each variable to the system, we must increase the UIN\n",
    "# ||D' Sigma D|| by at least rank_one_contribution_lb, or else we\n",
    "# have a contradiction.\n",
    "rank_one_contribution_lb = minimum(selectsorted(variance[y .== -1], stillneed))\n",
    "retain_var = 2*frobenius_rows_k(data, y) .- variance.^2 .>= lb_proj^2 - (lb_proj - rank_one_contribution_lb).^2\n",
    "retain_var = retain_var .| (y .== 1)\n",
    "sum((retain_var .== 0) .& (y .== -1))"
   ]
  },
  {
   "cell_type": "code",
   "execution_count": 175,
   "metadata": {},
   "outputs": [
    {
     "data": {
      "text/plain": [
       "101-element Vector{Float64}:\n",
       " 0.0\n",
       " 0.0\n",
       " 0.0\n",
       " 0.0\n",
       " 0.0\n",
       " 0.0\n",
       " 0.0\n",
       " 0.0\n",
       " 0.0\n",
       " 0.0\n",
       " 0.0\n",
       " 0.0\n",
       " 0.0\n",
       " ⋮\n",
       " 0.0\n",
       " 0.0\n",
       " 0.0\n",
       " 0.0\n",
       " 0.0\n",
       " 0.0\n",
       " 0.0\n",
       " 0.0\n",
       " 0.0\n",
       " 0.0\n",
       " 0.0\n",
       " 0.0"
      ]
     },
     "execution_count": 175,
     "metadata": {},
     "output_type": "execute_result"
    }
   ],
   "source": [
    "# retain_var = y .!= 0\n",
    "numer = frobenius_rows_k(Sigma2 .* retain_var .* retain_var', y)\n",
    "denom = frobenius_rows_k((raw_data * u .* retain_var) * (raw_data * u .* retain_var)', y)"
   ]
  },
  {
   "cell_type": "code",
   "execution_count": 176,
   "metadata": {},
   "outputs": [
    {
     "ename": "LoadError",
     "evalue": "BoundsError: attempt to access 4-element Vector{Float64} at index [1:7]",
     "output_type": "error",
     "traceback": [
      "BoundsError: attempt to access 4-element Vector{Float64} at index [1:7]",
      "",
      "Stacktrace:",
      " [1] throw_boundserror(A::Vector{Float64}, I::Tuple{UnitRange{Int64}})",
      "   @ Base ./abstractarray.jl:703",
      " [2] checkbounds",
      "   @ ./abstractarray.jl:668 [inlined]",
      " [3] view",
      "   @ ./subarray.jl:177 [inlined]",
      " [4] maybeview",
      "   @ ./sort.jl:102 [inlined]",
      " [5] partialsort!",
      "   @ ./sort.jl:99 [inlined]",
      " [6] #partialsort!#2",
      "   @ ./sort.jl:157 [inlined]",
      " [7] selectsorted(x::Vector{Float64}, k::Int64)",
      "   @ Main ~/Documents/Optimal-SPCA/Algorithm/utilities.jl:143",
      " [8] top-level scope",
      "   @ In[176]:1"
     ]
    }
   ],
   "source": [
    "selectsorted((numer ./ denom)[numer .!= 0], k)"
   ]
  },
  {
   "cell_type": "code",
   "execution_count": 177,
   "metadata": {},
   "outputs": [
    {
     "data": {
      "text/plain": [
       "\"78;85;86;84;78;85;86\""
      ]
     },
     "execution_count": 177,
     "metadata": {},
     "output_type": "execute_result"
    }
   ],
   "source": [
    "join([selected_data; sortperm((numer ./ denom) .* (numer .!= 0) .* (y .== -1), rev=true)[1:stillneed]], \";\")"
   ]
  },
  {
   "cell_type": "code",
   "execution_count": 178,
   "metadata": {},
   "outputs": [
    {
     "data": {
      "text/plain": [
       "20.808293987088003"
      ]
     },
     "execution_count": 178,
     "metadata": {},
     "output_type": "execute_result"
    }
   ],
   "source": [
    "# UB: Need linear programming. This is a greedy attempt to solve\n",
    "sqrt(sum(numer[[78;85;86;84;78;85;86]]) / sum(denom[[78;85;86;84;78;85;86]]))"
   ]
  },
  {
   "cell_type": "code",
   "execution_count": 179,
   "metadata": {},
   "outputs": [
    {
     "data": {
      "text/plain": [
       "(5.874086160768671, 6.119885886490068)"
      ]
     },
     "execution_count": 179,
     "metadata": {},
     "output_type": "execute_result"
    }
   ],
   "source": [
    "lb_proj_nodes_extra = rank_one_term .>= sort(rank_one_term .* Array{Float64}(y .== -1))[end-stillneed+1]\n",
    "lb_proj_nodes_extra = lb_proj_nodes_extra .& (y .== -1)\n",
    "lb_proj_nodes = lb_proj_nodes_extra .| (y .== 1)\n",
    "lb_proj = sum(rank_one_term[lb_proj_nodes])\n",
    "# Too slow to compute!\n",
    "lb_diag = maximum(svd(raw_data[:, lb_proj_nodes]).S) ^ 2\n",
    "lb_proj, lb_diag"
   ]
  },
  {
   "cell_type": "code",
   "execution_count": 180,
   "metadata": {},
   "outputs": [
    {
     "data": {
      "text/plain": [
       "21.575057897666632"
      ]
     },
     "execution_count": 180,
     "metadata": {},
     "output_type": "execute_result"
    }
   ],
   "source": [
    "# LB\n",
    "norm(data * svd(raw_data[:, lb_proj_nodes]).U[:, 1])"
   ]
  },
  {
   "cell_type": "code",
   "execution_count": 19,
   "metadata": {},
   "outputs": [
    {
     "data": {
      "text/plain": [
       "3-element Vector{Float64}:\n",
       " 0.19840666121229678\n",
       " 0.3629025164807017\n",
       " 0.4316969652057027"
      ]
     },
     "execution_count": 19,
     "metadata": {},
     "output_type": "execute_result"
    }
   ],
   "source": [
    "bounds[:, node_id]"
   ]
  },
  {
   "cell_type": "code",
   "execution_count": 20,
   "metadata": {},
   "outputs": [
    {
     "data": {
      "text/plain": [
       "(0.06879444872500101, 0.15848875970617754)"
      ]
     },
     "execution_count": 20,
     "metadata": {},
     "output_type": "execute_result"
    }
   ],
   "source": [
    "lambda_1 = bounds[2, node_id]\n",
    "lambda_2 = bounds[3, node_id] - lb_diag\n",
    "lambda_2_lb = bounds[3, node_id] - lambda_1\n",
    "lambda_2_lb, lambda_2"
   ]
  },
  {
   "cell_type": "code",
   "execution_count": 21,
   "metadata": {},
   "outputs": [],
   "source": [
    "# lambda_2 = svd(raw_data[:, selected_data]).S[2] + sum(selectsorted(residual_term, stillneed))"
   ]
  },
  {
   "cell_type": "code",
   "execution_count": 22,
   "metadata": {},
   "outputs": [
    {
     "data": {
      "text/plain": [
       "(0.15848875970617754, 0)"
      ]
     },
     "execution_count": 22,
     "metadata": {},
     "output_type": "execute_result"
    }
   ],
   "source": [
    "# Initialization. Loop until convergence.\n",
    "# Bad idea - lambda_2 bounds ||E|| from below, not above.\n",
    "residual_ub = lambda_2\n",
    "# Contribution to Tr E < residual_ub\n",
    "resid_var_sel = residual_term .<= residual_ub\n",
    "resid_var_sel = BitArray(ones(size(y)))\n",
    "residual_ub, sum((y .== -1) .& .~resid_var_sel)"
   ]
  },
  {
   "cell_type": "code",
   "execution_count": 23,
   "metadata": {},
   "outputs": [
    {
     "data": {
      "text/plain": [
       "(0.1282440427818185, 0.11760011772186946)"
      ]
     },
     "execution_count": 23,
     "metadata": {},
     "output_type": "execute_result"
    }
   ],
   "source": [
    "# ||Sigma||_F >= sqrt(||A||_F + ||E||_F)???\n",
    "norm(data[1:k, 1:k]), sqrt(norm(raw_data[1:k, :] * u * u' * raw_data[:, 1:k])^2 + norm(data[1:k, 1:k] - (raw_data[1:k, :] * u * u' * raw_data[:, 1:k]))^2)"
   ]
  },
  {
   "cell_type": "code",
   "execution_count": 24,
   "metadata": {},
   "outputs": [
    {
     "data": {
      "text/plain": [
       "0.04451876283731441"
      ]
     },
     "execution_count": 24,
     "metadata": {},
     "output_type": "execute_result"
    }
   ],
   "source": [
    "a_squared_program = mapslices(\n",
    "    (row) -> sum(row[y .== 1].^2) + sum(selectsorted(row.^2 .* (y .== -1), stillneed)),\n",
    "    data,\n",
    "    dims=2)[:, 1]\n",
    "# lambda_1^2 >= sum_i rank_one_term_i^2 >= sum_i rank_one_term_i^2 + sum_(i!=j) 2 rank_one_term_i rank_one_term_j\n",
    "e_squared_program = a_squared_program - rank_one_term.^2\n",
    "maximum(e_squared_program)"
   ]
  },
  {
   "cell_type": "code",
   "execution_count": 25,
   "metadata": {},
   "outputs": [
    {
     "data": {
      "text/plain": [
       "0.026386179743713503"
      ]
     },
     "execution_count": 25,
     "metadata": {},
     "output_type": "execute_result"
    }
   ],
   "source": [
    "# Contribution to ||E||^2 from the row sums (squared Frobenius norm)\n",
    "E = data - (raw_data * u * u' * raw_data)\n",
    "e_squared_program = mapslices(\n",
    "    (row) -> sum(row[y .== 1].^2) + sum(selectsorted(row.^2 .* (resid_var_sel .& (y .== -1)), stillneed)),\n",
    "    E,\n",
    "    dims=2)[:, 1]\n",
    "maximum(e_squared_program)"
   ]
  },
  {
   "cell_type": "code",
   "execution_count": 26,
   "metadata": {},
   "outputs": [
    {
     "data": {
      "text/plain": [
       "0.12443300672604672"
      ]
     },
     "execution_count": 26,
     "metadata": {},
     "output_type": "execute_result"
    }
   ],
   "source": [
    "# Upper bound on ||E||_F using ||A||_F\n",
    "sqrt(sum(a_squared_program[y .== 1]) + sum(selectsorted(a_squared_program .* (y .== -1), stillneed)) - lb_diag^2)"
   ]
  },
  {
   "cell_type": "code",
   "execution_count": 27,
   "metadata": {},
   "outputs": [
    {
     "data": {
      "text/plain": [
       "0.18117842668099743"
      ]
     },
     "execution_count": 27,
     "metadata": {},
     "output_type": "execute_result"
    }
   ],
   "source": [
    "# Upper bound on ||E||_F\n",
    "lambda_2 = sqrt(sum(e_squared_program[y .== 1]) + sum(selectsorted(e_squared_program .* (y .== -1), stillneed)))"
   ]
  },
  {
   "cell_type": "code",
   "execution_count": 28,
   "metadata": {},
   "outputs": [
    {
     "data": {
      "text/plain": [
       "0.15848875970617754"
      ]
     },
     "execution_count": 28,
     "metadata": {},
     "output_type": "execute_result"
    }
   ],
   "source": [
    "# Upper bound performed poorly\n",
    "lambda_2 = bounds[3, node_id] - lb_diag"
   ]
  },
  {
   "cell_type": "code",
   "execution_count": 29,
   "metadata": {},
   "outputs": [
    {
     "data": {
      "text/plain": [
       "0.24795709056878376"
      ]
     },
     "execution_count": 29,
     "metadata": {},
     "output_type": "execute_result"
    }
   ],
   "source": [
    "sum(residual_term[y .== 1]) + sum(selectsorted(residual_term[y .== -1], stillneed))"
   ]
  },
  {
   "cell_type": "code",
   "execution_count": 30,
   "metadata": {},
   "outputs": [
    {
     "data": {
      "text/plain": [
       "101-element Vector{Float64}:\n",
       " 0.024601676904719726\n",
       " 0.05799532039097986\n",
       " 0.18262281400917188\n",
       " 0.14606029764996195\n",
       " 0.0880375464012855\n",
       " 0.23925642932289726\n",
       " 0.04348631750007593\n",
       " 0.03823110015959428\n",
       " 0.054801606237631605\n",
       " 0.07411834186327425\n",
       " 0.028331367049840104\n",
       " 1.206754422470488\n",
       " 0.014195255911639011\n",
       " ⋮\n",
       " 0.011018768210548377\n",
       " 0.008226682834820325\n",
       " 0.1926588984214859\n",
       " 0.10085579242512233\n",
       " 0.0871036705508794\n",
       " 0.10924901820611166\n",
       " 0.10349046799096258\n",
       " 0.012162377026588875\n",
       " 0.10449036260751617\n",
       " 0.12937540070461656\n",
       " 0.18853743075691767\n",
       " 0.15193791934247905"
      ]
     },
     "execution_count": 30,
     "metadata": {},
     "output_type": "execute_result"
    }
   ],
   "source": [
    "# Multiplier for \n",
    "mult_parallel = 1. / lambda_1\n",
    "mult_perp = lambda_2 / (lb_proj - lambda_2)^2\n",
    "mult_linearize = mult_parallel + mult_perp\n",
    "linear_program = rank_one_term + mult_linearize * e_squared_program"
   ]
  },
  {
   "cell_type": "code",
   "execution_count": 31,
   "metadata": {},
   "outputs": [
    {
     "data": {
      "text/plain": [
       "1.6338898195663933"
      ]
     },
     "execution_count": 31,
     "metadata": {},
     "output_type": "execute_result"
    }
   ],
   "source": [
    "# Linear program solution\n",
    "sum(linear_program[y .== 1]) + sum(selectsorted(linear_program[y .== -1], stillneed))"
   ]
  },
  {
   "cell_type": "code",
   "execution_count": 36,
   "metadata": {},
   "outputs": [
    {
     "data": {
      "text/plain": [
       "0.45466491135441633"
      ]
     },
     "execution_count": 36,
     "metadata": {},
     "output_type": "execute_result"
    }
   ],
   "source": [
    "# Conservative program in case we cannot bound sin theta_perp.\n",
    "linear_program_lam_2 = rank_one_term + mult_parallel .* e_squared_program\n",
    "obj = lambda_2 + sum(linear_program_lam_2[y .== 1]) + sum(selectsorted(linear_program_lam_2[y .== -1], stillneed))"
   ]
  },
  {
   "cell_type": "code",
   "execution_count": 49,
   "metadata": {},
   "outputs": [
    {
     "ename": "LoadError",
     "evalue": "DomainError with -0.297213273627568:\nsqrt will only return a complex result if called with a complex argument. Try sqrt(Complex(x)).",
     "output_type": "error",
     "traceback": [
      "DomainError with -0.297213273627568:\nsqrt will only return a complex result if called with a complex argument. Try sqrt(Complex(x)).",
      "",
      "Stacktrace:",
      " [1] throw_complex_domainerror(f::Symbol, x::Float64)",
      "   @ Base.Math ./math.jl:33",
      " [2] sqrt(x::Float64)",
      "   @ Base.Math ./math.jl:591",
      " [3] top-level scope",
      "   @ In[49]:4"
     ]
    }
   ],
   "source": [
    "# (||B'B||_F + ||C'C||_F)^2 = (C11^2 + 2 C11 C22 + C22^2) + 2sqrt(C11^2 + 2 C11 C22 + C22^2) B11 + B11^2\n",
    "# ||B'B + C'C||_F^2 = (C11 + B11)^2 + 2 C11 C22 + C22^2\n",
    "selected = [findall(y .== 1); sortperm(linear_program_lam_2 .* (y .== -1), rev=true)[1:stillneed]]\n",
    "sqrt(obj^2 + 2 * sum(rank_one_term[selected]) * (mult_parallel - mult_parallel - mult_perp) * sum(e_squared_program[selected]))"
   ]
  },
  {
   "cell_type": "code",
   "execution_count": 47,
   "metadata": {},
   "outputs": [
    {
     "data": {
      "text/plain": [
       "(0.20672018161691927, 0.2202679971348655)"
      ]
     },
     "execution_count": 47,
     "metadata": {},
     "output_type": "execute_result"
    }
   ],
   "source": [
    "obj^2, sum(rank_one_term[selected])"
   ]
  },
  {
   "cell_type": "code",
   "execution_count": 43,
   "metadata": {},
   "outputs": [
    {
     "data": {
      "text/plain": [
       "1.070517487176781"
      ]
     },
     "execution_count": 43,
     "metadata": {},
     "output_type": "execute_result"
    }
   ],
   "source": [
    "(sqrt(mult_parallel^2 + mult_perp^2) - mult_parallel) * sum(e_squared_program[selected])"
   ]
  },
  {
   "cell_type": "code",
   "execution_count": null,
   "metadata": {},
   "outputs": [
    {
     "data": {
      "text/plain": [
       "1×2 Array{Int64,2}:\n",
       " 13  81"
      ]
     },
     "metadata": {},
     "output_type": "display_data"
    }
   ],
   "source": [
    "[sum((sort(rank_one_term, rev=true)[k] .> linear_program) .& (y .== -1)) sum(y .== -1)]"
   ]
  },
  {
   "cell_type": "code",
   "execution_count": null,
   "metadata": {},
   "outputs": [
    {
     "name": "stdout",
     "output_type": "stream",
     "text": [
      "rank_one_term iter 1\n",
      "rank_one_term iter "
     ]
    },
    {
     "name": "stdout",
     "output_type": "stream",
     "text": [
      "2\n"
     ]
    }
   ],
   "source": [
    "resid_var_sel = y .== -1\n",
    "for iter in countfrom()\n",
    "    @printf(\"rank_one_term iter %d\\n\", iter)\n",
    "    e_squared_program = mapslices(\n",
    "        (row) -> sum(row[y .== 1].^2) + sum(selectsorted(row.^2 .* (resid_var_sel .& (y .== -1)), stillneed)),\n",
    "        E,\n",
    "        dims=2)[:, 1]\n",
    "    linear_program = rank_one_term + mult_linearize * e_squared_program\n",
    "    num_selected = sum(resid_var_sel)\n",
    "    resid_var_sel .&= sort(rank_one_term, rev=true)[k] .<= linear_program\n",
    "    if sum(resid_var_sel) == num_selected\n",
    "        break\n",
    "    end\n",
    "end"
   ]
  },
  {
   "cell_type": "code",
   "execution_count": null,
   "metadata": {},
   "outputs": [
    {
     "data": {
      "text/plain": [
       "68"
      ]
     },
     "metadata": {},
     "output_type": "display_data"
    }
   ],
   "source": [
    "sum(resid_var_sel)"
   ]
  },
  {
   "cell_type": "code",
   "execution_count": null,
   "metadata": {},
   "outputs": [
    {
     "data": {
      "text/plain": [
       "1.6338898195663925"
      ]
     },
     "metadata": {},
     "output_type": "display_data"
    }
   ],
   "source": [
    "# Linear program solution\n",
    "sum(linear_program[y .== 1]) + sum(selectsorted(linear_program[y .== -1], stillneed))"
   ]
  }
 ],
 "metadata": {
  "kernelspec": {
   "display_name": "Julia 1.8.3",
   "language": "julia",
   "name": "julia-1.8"
  },
  "language_info": {
   "file_extension": ".jl",
   "mimetype": "application/julia",
   "name": "julia",
   "version": "1.8.3"
  }
 },
 "nbformat": 4,
 "nbformat_minor": 4
}
