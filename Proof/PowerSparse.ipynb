{
 "cells": [
  {
   "cell_type": "code",
   "execution_count": 93,
   "metadata": {},
   "outputs": [],
   "source": [
    "using LinearAlgebra, CSV, Random, Tables, Tulip, MathOptInterface, SparseArrays"
   ]
  },
  {
   "cell_type": "code",
   "execution_count": 30,
   "metadata": {},
   "outputs": [
    {
     "data": {
      "text/plain": [
       "7.327471962526033e-15"
      ]
     },
     "metadata": {},
     "output_type": "display_data"
    }
   ],
   "source": [
    "data = CSV.File(\"../NC-Data.csv\") |> Tables.matrix;\n",
    "# Matrix sqrt: via diagonalization and sqrt eigenvalues\n",
    "raw_data = sqrt(data)';\n",
    "n = size(data, 1);\n",
    "N = n * n;\n",
    "k = 7;\n",
    "# All close.\n",
    "maximum(abs.(raw_data * raw_data .- data))"
   ]
  },
  {
   "cell_type": "code",
   "execution_count": 31,
   "metadata": {},
   "outputs": [],
   "source": [
    "nodes = CSV.File(\"../NC-K7-Trace-Nodes.csv\") |> Tables.matrix;\n",
    "bounds = CSV.File(\"../NC-K7-Trace-Bounds.csv\") |> Tables.matrix;"
   ]
  },
  {
   "cell_type": "code",
   "execution_count": 40,
   "metadata": {},
   "outputs": [
    {
     "data": {
      "text/plain": [
       "3"
      ]
     },
     "metadata": {},
     "output_type": "display_data"
    }
   ],
   "source": [
    "# node_id = 50\n",
    "node_id = 300\n",
    "y = nodes[:, node_id]\n",
    "sum(nodes[:, node_id] .== 1)"
   ]
  },
  {
   "cell_type": "code",
   "execution_count": 33,
   "metadata": {},
   "outputs": [
    {
     "data": {
      "text/plain": [
       "3-element Array{Float64,1}:\n",
       " 3.608137513865839\n",
       " 6.26741838326191\n",
       " 7.0"
      ]
     },
     "metadata": {},
     "output_type": "display_data"
    }
   ],
   "source": [
    "bounds[:, node_id]"
   ]
  },
  {
   "cell_type": "code",
   "execution_count": 34,
   "metadata": {},
   "outputs": [
    {
     "data": {
      "text/plain": [
       "3-element Array{Int64,1}:\n",
       " 58\n",
       " 60\n",
       " 62"
      ]
     },
     "metadata": {},
     "output_type": "display_data"
    }
   ],
   "source": [
    "selected_data = findall(nodes[:, node_id] .== 1)"
   ]
  },
  {
   "cell_type": "code",
   "execution_count": 35,
   "metadata": {},
   "outputs": [
    {
     "data": {
      "text/plain": [
       "1.664966558927097"
      ]
     },
     "metadata": {},
     "output_type": "display_data"
    }
   ],
   "source": [
    "s = maximum(svd(raw_data[:, selected_data]).S)\n",
    "u = svd(raw_data[:, selected_data]).U[:, 1];\n",
    "v = svd(raw_data[:, selected_data]).V[:, 1];\n",
    "D = Matrix(1.0I, 101, 101)[:, selected_data];\n",
    "s"
   ]
  },
  {
   "cell_type": "code",
   "execution_count": 36,
   "metadata": {},
   "outputs": [
    {
     "data": {
      "text/plain": [
       "101-element Array{Float64,1}:\n",
       " 0.042608386423828616\n",
       " 0.12169366148453947\n",
       " 0.0010827657107647158\n",
       " 0.0\n",
       " 0.3576958952379637\n",
       " 0.5909313328874289\n",
       " 0.002813434428971572\n",
       " 0.045710787852979134\n",
       " 0.013475878738447642\n",
       " 0.04025071431940448\n",
       " ⋮\n",
       " 0.19651099861244614\n",
       " 0.035215018953541156\n",
       " 0.004623427695183872\n",
       " 0.026081129247667843\n",
       " 0.0008624637095038491\n",
       " 0.37524469637807856\n",
       " 0.11466762911354499\n",
       " 0.03909959370980694\n",
       " 0.0"
      ]
     },
     "metadata": {},
     "output_type": "display_data"
    }
   ],
   "source": [
    "rank_one_term = (raw_data * u) .^ 2\n",
    "rank_one_term[nodes[:, node_id] .== 0] .= 0\n",
    "rank_one_term"
   ]
  },
  {
   "cell_type": "code",
   "execution_count": 37,
   "metadata": {},
   "outputs": [
    {
     "data": {
      "text/plain": [
       "frobenius_rows_k (generic function with 1 method)"
      ]
     },
     "metadata": {},
     "output_type": "display_data"
    }
   ],
   "source": [
    "function frobenius_rows_k(M, y)\n",
    "    M = M .^ 2\n",
    "    row_quantities = zeros(n)\n",
    "    stillneed = k - sum(y .== 1)\n",
    "    for row_index in 1:n\n",
    "        if y[row_index] == 0\n",
    "            continue\n",
    "        end\n",
    "        row = copy(M[row_index, :])\n",
    "        row_sum = sum(row[y .== 1])\n",
    "        row[y .== 1] .= 0\n",
    "        if y[row_index] == -1\n",
    "            row_sum += row[row_index]\n",
    "            row[row_index] = 0\n",
    "            row_stillneed = stillneed -1\n",
    "        else\n",
    "            row_stillneed = stillneed\n",
    "        end\n",
    "        row_sum += sum(sort(row, rev=true)[1:row_stillneed])\n",
    "        row_quantities[row_index] = row_sum\n",
    "    end\n",
    "    row_quantities\n",
    "end"
   ]
  },
  {
   "cell_type": "code",
   "execution_count": 41,
   "metadata": {},
   "outputs": [
    {
     "data": {
      "text/plain": [
       "101-element Array{Float64,1}:\n",
       "  427.03738335285755\n",
       "  468.86353577814776\n",
       "  642.5059792688386\n",
       "    0.0\n",
       "  689.6115085232227\n",
       " 1073.5283830910835\n",
       "  267.83972592428563\n",
       "  447.5689092631501\n",
       "  308.0308179620631\n",
       "  352.63135124827835\n",
       "    ⋮\n",
       "  401.6730147819353\n",
       "  290.3973073470707\n",
       "  140.393722730808\n",
       "  147.37145422257612\n",
       "  123.39145560752425\n",
       "  588.9756265371327\n",
       "  270.70322612705627\n",
       "  212.8456812706541\n",
       "    0.0"
      ]
     },
     "metadata": {},
     "output_type": "display_data"
    }
   ],
   "source": [
    "numer = frobenius_rows_k(data^2, y)"
   ]
  },
  {
   "cell_type": "code",
   "execution_count": 123,
   "metadata": {},
   "outputs": [
    {
     "data": {
      "text/plain": [
       "101-element Array{MathOptInterface.VariableIndex,1}:\n",
       " MathOptInterface.VariableIndex(1)\n",
       " MathOptInterface.VariableIndex(2)\n",
       " MathOptInterface.VariableIndex(3)\n",
       " MathOptInterface.VariableIndex(4)\n",
       " MathOptInterface.VariableIndex(5)\n",
       " MathOptInterface.VariableIndex(6)\n",
       " MathOptInterface.VariableIndex(7)\n",
       " MathOptInterface.VariableIndex(8)\n",
       " MathOptInterface.VariableIndex(9)\n",
       " MathOptInterface.VariableIndex(10)\n",
       " ⋮\n",
       " MathOptInterface.VariableIndex(93)\n",
       " MathOptInterface.VariableIndex(94)\n",
       " MathOptInterface.VariableIndex(95)\n",
       " MathOptInterface.VariableIndex(96)\n",
       " MathOptInterface.VariableIndex(97)\n",
       " MathOptInterface.VariableIndex(98)\n",
       " MathOptInterface.VariableIndex(99)\n",
       " MathOptInterface.VariableIndex(100)\n",
       " MathOptInterface.VariableIndex(101)"
      ]
     },
     "metadata": {},
     "output_type": "display_data"
    }
   ],
   "source": [
    "optim = Tulip.Optimizer()\n",
    "d = MathOptInterface.add_variables(optim, n)"
   ]
  },
  {
   "cell_type": "code",
   "execution_count": 124,
   "metadata": {},
   "outputs": [],
   "source": [
    "MathOptInterface.set(\n",
    "    optim,\n",
    "    MathOptInterface.ObjectiveFunction{MathOptInterface.ScalarAffineFunction{Float64}}(),\n",
    "    MathOptInterface.ScalarAffineFunction(\n",
    "        MathOptInterface.ScalarAffineTerm.(numer, d), 0.0,\n",
    "    ),\n",
    ")\n",
    "MathOptInterface.set(optim, MathOptInterface.ObjectiveSense(), MathOptInterface.MAX_SENSE)"
   ]
  },
  {
   "cell_type": "code",
   "execution_count": 125,
   "metadata": {},
   "outputs": [
    {
     "data": {
      "text/plain": [
       "MathOptInterface.ScalarAffineFunction{Float64}(MathOptInterface.ScalarAffineTerm{Float64}[MathOptInterface.ScalarAffineTerm{Float64}(0.14285714285714285, MathOptInterface.VariableIndex(1)), MathOptInterface.ScalarAffineTerm{Float64}(0.14285714285714285, MathOptInterface.VariableIndex(2)), MathOptInterface.ScalarAffineTerm{Float64}(0.14285714285714285, MathOptInterface.VariableIndex(3)), MathOptInterface.ScalarAffineTerm{Float64}(0.14285714285714285, MathOptInterface.VariableIndex(4)), MathOptInterface.ScalarAffineTerm{Float64}(0.14285714285714285, MathOptInterface.VariableIndex(5)), MathOptInterface.ScalarAffineTerm{Float64}(0.14285714285714285, MathOptInterface.VariableIndex(6)), MathOptInterface.ScalarAffineTerm{Float64}(0.14285714285714285, MathOptInterface.VariableIndex(7)), MathOptInterface.ScalarAffineTerm{Float64}(0.14285714285714285, MathOptInterface.VariableIndex(8)), MathOptInterface.ScalarAffineTerm{Float64}(0.14285714285714285, MathOptInterface.VariableIndex(9)), MathOptInterface.ScalarAffineTerm{Float64}(0.14285714285714285, MathOptInterface.VariableIndex(10))  …  MathOptInterface.ScalarAffineTerm{Float64}(0.14285714285714285, MathOptInterface.VariableIndex(92)), MathOptInterface.ScalarAffineTerm{Float64}(0.14285714285714285, MathOptInterface.VariableIndex(93)), MathOptInterface.ScalarAffineTerm{Float64}(0.14285714285714285, MathOptInterface.VariableIndex(94)), MathOptInterface.ScalarAffineTerm{Float64}(0.14285714285714285, MathOptInterface.VariableIndex(95)), MathOptInterface.ScalarAffineTerm{Float64}(0.14285714285714285, MathOptInterface.VariableIndex(96)), MathOptInterface.ScalarAffineTerm{Float64}(0.14285714285714285, MathOptInterface.VariableIndex(97)), MathOptInterface.ScalarAffineTerm{Float64}(0.14285714285714285, MathOptInterface.VariableIndex(98)), MathOptInterface.ScalarAffineTerm{Float64}(0.14285714285714285, MathOptInterface.VariableIndex(99)), MathOptInterface.ScalarAffineTerm{Float64}(0.14285714285714285, MathOptInterface.VariableIndex(100)), MathOptInterface.ScalarAffineTerm{Float64}(0.14285714285714285, MathOptInterface.VariableIndex(101))], 0.0)"
      ]
     },
     "metadata": {},
     "output_type": "display_data"
    }
   ],
   "source": [
    "MathOptInterface.ScalarAffineFunction(\n",
    "    MathOptInterface.ScalarAffineTerm.(Float64(1)/k * ones(n), d), 0.0,\n",
    ")"
   ]
  },
  {
   "cell_type": "code",
   "execution_count": 126,
   "metadata": {},
   "outputs": [
    {
     "data": {
      "text/plain": [
       "101-element Array{Float64,1}:\n",
       " 0.0\n",
       " 0.0\n",
       " 0.0\n",
       " 0.0\n",
       " 1.0\n",
       " 0.0\n",
       " 0.0\n",
       " 0.0\n",
       " 0.0\n",
       " 0.0\n",
       " ⋮\n",
       " 0.0\n",
       " 0.0\n",
       " 0.0\n",
       " 0.0\n",
       " 0.0\n",
       " 0.0\n",
       " 0.0\n",
       " 0.0\n",
       " 0.0"
      ]
     },
     "metadata": {},
     "output_type": "display_data"
    }
   ],
   "source": [
    "Matrix(sparse([5], [1], [1.], n, 1))[:, 1]"
   ]
  },
  {
   "cell_type": "code",
   "execution_count": 127,
   "metadata": {},
   "outputs": [],
   "source": [
    "for d_elem in d\n",
    "    indicator = Matrix(sparse([d_elem.value], [1], [1.], n, 1))[:, 1]\n",
    "    MathOptInterface.add_constraint(\n",
    "        optim,\n",
    "        d_elem,\n",
    "        MathOptInterface.GreaterThan(0.),\n",
    "    )\n",
    "    MathOptInterface.add_constraint(\n",
    "        optim,\n",
    "        MathOptInterface.ScalarAffineFunction(\n",
    "            MathOptInterface.ScalarAffineTerm.(indicator .- Float64(1)/k * ones(n), d), 0.0,\n",
    "        ),\n",
    "        MathOptInterface.LessThan(0.),\n",
    "    )\n",
    "end"
   ]
  },
  {
   "cell_type": "code",
   "execution_count": 128,
   "metadata": {},
   "outputs": [
    {
     "data": {
      "text/plain": [
       "MathOptInterface.ConstraintIndex{MathOptInterface.ScalarAffineFunction{Float64},MathOptInterface.EqualTo{Float64}}(102)"
      ]
     },
     "metadata": {},
     "output_type": "display_data"
    }
   ],
   "source": [
    "MathOptInterface.add_constraint(\n",
    "    optim,\n",
    "    MathOptInterface.ScalarAffineFunction(\n",
    "        MathOptInterface.ScalarAffineTerm.(rank_one_term, d), 0.0,\n",
    "    ),\n",
    "    MathOptInterface.EqualTo(1.),\n",
    ")"
   ]
  },
  {
   "cell_type": "code",
   "execution_count": 129,
   "metadata": {},
   "outputs": [],
   "source": [
    "MathOptInterface.optimize!(optim)"
   ]
  },
  {
   "cell_type": "code",
   "execution_count": 130,
   "metadata": {},
   "outputs": [
    {
     "data": {
      "text/plain": [
       "OPTIMAL::TerminationStatusCode = 1"
      ]
     },
     "metadata": {},
     "output_type": "display_data"
    }
   ],
   "source": [
    "MathOptInterface.get(optim, MathOptInterface.TerminationStatus())"
   ]
  },
  {
   "cell_type": "code",
   "execution_count": 131,
   "metadata": {},
   "outputs": [
    {
     "data": {
      "text/plain": [
       "7778.219390564368"
      ]
     },
     "metadata": {},
     "output_type": "display_data"
    }
   ],
   "source": [
    "sqrt(MathOptInterface.get(optim, MathOptInterface.ObjectiveValue()))"
   ]
  },
  {
   "cell_type": "code",
   "execution_count": null,
   "metadata": {},
   "outputs": [],
   "source": []
  }
 ],
 "metadata": {
  "kernelspec": {
   "display_name": "Julia 1.4.1",
   "language": "julia",
   "name": "julia-1.4"
  },
  "language_info": {
   "file_extension": ".jl",
   "mimetype": "application/julia",
   "name": "julia",
   "version": "1.4.1"
  },
  "orig_nbformat": 4
 },
 "nbformat": 4,
 "nbformat_minor": 2
}
