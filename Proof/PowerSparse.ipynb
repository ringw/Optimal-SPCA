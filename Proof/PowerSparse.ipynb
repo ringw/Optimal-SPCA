{
 "cells": [
  {
   "cell_type": "code",
   "execution_count": 87,
   "metadata": {},
   "outputs": [],
   "source": [
    "using LinearAlgebra, CSV, Random, Tables, JLD, Base.Iterators, Printf, COSMO"
   ]
  },
  {
   "cell_type": "code",
   "execution_count": 4,
   "metadata": {},
   "outputs": [
    {
     "data": {
      "text/plain": [
       "refreshFile (generic function with 1 method)"
      ]
     },
     "execution_count": 4,
     "metadata": {},
     "output_type": "execute_result"
    }
   ],
   "source": [
    "include(\"../Algorithm/utilities.jl\")"
   ]
  },
  {
   "cell_type": "code",
   "execution_count": 5,
   "metadata": {},
   "outputs": [
    {
     "data": {
      "text/plain": [
       "6.661338147750939e-15"
      ]
     },
     "execution_count": 5,
     "metadata": {},
     "output_type": "execute_result"
    }
   ],
   "source": [
    "data = load(\"../Data/communities.jld\")[\"normCommunities\"]\n",
    "Sigma2 = data^2\n",
    "# Matrix sqrt: via diagonalization and sqrt eigenvalues\n",
    "raw_data = sqrt(data)';\n",
    "n = size(data, 1);\n",
    "N = n * n;\n",
    "norms = data[1:n+1:N]\n",
    "k = 7;\n",
    "# All close.\n",
    "maximum(abs.(raw_data * raw_data .- data))"
   ]
  },
  {
   "cell_type": "code",
   "execution_count": 6,
   "metadata": {},
   "outputs": [],
   "source": [
    "nodes = CSV.File(\"../Co-K5-Trace-Nodes.csv\", header=false) |> Tables.matrix;\n",
    "bounds = CSV.File(\"../Co-K5-Trace-Bounds.csv\", header=false) |> Tables.matrix;\n",
    "# nodes = CSV.File(\"../NC-K7-Trace-Nodes.csv\") |> Tables.matrix;\n",
    "# bounds = CSV.File(\"../NC-K7-Trace-Bounds.csv\") |> Tables.matrix;"
   ]
  },
  {
   "cell_type": "code",
   "execution_count": 7,
   "metadata": {},
   "outputs": [
    {
     "data": {
      "text/plain": [
       "4"
      ]
     },
     "execution_count": 7,
     "metadata": {},
     "output_type": "execute_result"
    }
   ],
   "source": [
    "# node_id = 50\n",
    "# node_id = 300\n",
    "node_id = 25\n",
    "y = nodes[:, node_id]\n",
    "selected_data = findall(y .== 1)\n",
    "i = sum(nodes[:, node_id] .== 1)\n",
    "stillneed = k - i"
   ]
  },
  {
   "cell_type": "code",
   "execution_count": 8,
   "metadata": {},
   "outputs": [
    {
     "data": {
      "text/plain": [
       "2.556130035491392"
      ]
     },
     "execution_count": 8,
     "metadata": {},
     "output_type": "execute_result"
    }
   ],
   "source": [
    "s = maximum(svd(raw_data[:, selected_data]).S)\n",
    "u = svd(raw_data[:, selected_data]).U[:, 1];\n",
    "v = svd(raw_data[:, selected_data]).V[:, 1];\n",
    "D = Matrix(1.0I, 101, 101)[:, selected_data];\n",
    "s^2"
   ]
  },
  {
   "cell_type": "code",
   "execution_count": 9,
   "metadata": {},
   "outputs": [
    {
     "data": {
      "text/plain": [
       "101-element Vector{Float64}:\n",
       " 0.0007729673812410654\n",
       " 0.019286993029416652\n",
       " 0.14001498734661805\n",
       " 0.062413143981748825\n",
       " 0.24497712730742385\n",
       " 0.003112796601762257\n",
       " 0.0995369970378409\n",
       " 0.05273121668867637\n",
       " 0.05229228709256075\n",
       " 0.04736071875256587\n",
       " 0.00019779963324352337\n",
       " 0.18315070769677022\n",
       " 0.0\n",
       " ⋮\n",
       " 0.002879719537412127\n",
       " 0.0001201647501583793\n",
       " 0.16980192495279062\n",
       " 0.14000549371287777\n",
       " 0.015619690193852296\n",
       " 0.008916094669294456\n",
       " 0.017112186583702844\n",
       " 0.002468834952860791\n",
       " 0.03202895696331845\n",
       " 0.11577049445416097\n",
       " 0.0031406834671852905\n",
       " 0.11376918610794398"
      ]
     },
     "execution_count": 9,
     "metadata": {},
     "output_type": "execute_result"
    }
   ],
   "source": [
    "variance = mapslices(norm, raw_data, dims=2)[:, 1] .^ 2\n",
    "rank_one_term = (raw_data * u) .^ 2\n",
    "rank_one_term[nodes[:, node_id] .== 0] .= 0\n",
    "rank_one_term"
   ]
  },
  {
   "cell_type": "code",
   "execution_count": 10,
   "metadata": {},
   "outputs": [
    {
     "data": {
      "text/plain": [
       "frobenius_rows_k (generic function with 1 method)"
      ]
     },
     "execution_count": 10,
     "metadata": {},
     "output_type": "execute_result"
    }
   ],
   "source": [
    "function row_sums_k(M, y)\n",
    "    M = abs.(M)\n",
    "    row_quantities = zeros(n)\n",
    "    stillneed = k - sum(y .== 1)\n",
    "    for row_index in 1:n\n",
    "        if y[row_index] == 0\n",
    "            continue\n",
    "        end\n",
    "        row = copy(M[row_index, :])\n",
    "        row_sum = sum(row[y .== 1])\n",
    "        row[y .== 1] .= 0\n",
    "        if y[row_index] == -1\n",
    "            row_sum += row[row_index]\n",
    "            row[row_index] = 0\n",
    "            row_stillneed = stillneed -1\n",
    "        else\n",
    "            row_stillneed = stillneed\n",
    "        end\n",
    "        row_sum += sum(sort(row, rev=true)[1:row_stillneed])\n",
    "        row_quantities[row_index] = row_sum\n",
    "    end\n",
    "    row_quantities\n",
    "end\n",
    "\n",
    "function frobenius_rows_k(M, y)\n",
    "    row_sums_k(M .^ 2, y)\n",
    "end"
   ]
  },
  {
   "cell_type": "code",
   "execution_count": 13,
   "metadata": {},
   "outputs": [
    {
     "data": {
      "text/plain": [
       "(5.874086160768671, 6.119885886490068)"
      ]
     },
     "execution_count": 13,
     "metadata": {},
     "output_type": "execute_result"
    }
   ],
   "source": [
    "lb_proj_nodes_extra = rank_one_term .>= sort(rank_one_term .* Array{Float64}(y .== -1))[end-stillneed+1]\n",
    "lb_proj_nodes_extra = lb_proj_nodes_extra .& (y .== -1)\n",
    "lb_proj_nodes = lb_proj_nodes_extra .| (y .== 1)\n",
    "lb_proj = sum(rank_one_term[lb_proj_nodes])\n",
    "# Too slow to compute!\n",
    "lb_diag = maximum(svd(raw_data[:, lb_proj_nodes]).S) ^ 2\n",
    "lb_proj, lb_diag"
   ]
  },
  {
   "cell_type": "code",
   "execution_count": 14,
   "metadata": {},
   "outputs": [
    {
     "data": {
      "text/plain": [
       "87"
      ]
     },
     "execution_count": 14,
     "metadata": {},
     "output_type": "execute_result"
    }
   ],
   "source": [
    "# How many variables can we exclude? Entries of frobenius_rows_k\n",
    "# as an upper bound:\n",
    "# The entry is a sum of k entries, including variance^2. When we\n",
    "# update D' Sigma D from D: n x k-1 to D: n x k, then we add\n",
    "# these squared entries to the sq Frob norm, add again (symmetric),\n",
    "# then subtract variance^2 which appears once (inclusion-exclusion).\n",
    "# This upper-bounds the differenc in squared UIN going from k-1 to\n",
    "# k when adding this variable.\n",
    "# RHS lower bound: Go from (lb_proj - lb_contribution)^2 to lb_proj.\n",
    "# When adding each variable to the system, we must increase the UIN\n",
    "# ||D' Sigma D|| by at least rank_one_contribution_lb, or else we\n",
    "# have a contradiction.\n",
    "rank_one_contribution_lb = minimum(selectsorted(variance[y .== -1], stillneed))\n",
    "retain_var = 2*frobenius_rows_k(data, y) .- variance.^2 .>= lb_proj^2 - (lb_proj - rank_one_contribution_lb).^2\n",
    "retain_var = retain_var .| (y .== 1)\n",
    "sum((retain_var .== 0) .& (y .== -1))"
   ]
  },
  {
   "cell_type": "code",
   "execution_count": 15,
   "metadata": {},
   "outputs": [
    {
     "data": {
      "text/plain": [
       "101-element Vector{Float64}:\n",
       " 0.0\n",
       " 0.0\n",
       " 0.0\n",
       " 0.0\n",
       " 0.0\n",
       " 0.0\n",
       " 0.0\n",
       " 0.0\n",
       " 0.0\n",
       " 0.0\n",
       " 0.0\n",
       " 0.0\n",
       " 0.0\n",
       " ⋮\n",
       " 0.0\n",
       " 0.0\n",
       " 0.0\n",
       " 0.0\n",
       " 0.0\n",
       " 0.0\n",
       " 0.0\n",
       " 0.0\n",
       " 0.0\n",
       " 0.0\n",
       " 0.0\n",
       " 0.0"
      ]
     },
     "execution_count": 15,
     "metadata": {},
     "output_type": "execute_result"
    }
   ],
   "source": [
    "# retain_var = y .!= 0\n",
    "numer = frobenius_rows_k(Sigma2 .* retain_var .* retain_var', y)\n",
    "denom = frobenius_rows_k((raw_data * u .* retain_var) * (raw_data * u .* retain_var)', y)"
   ]
  },
  {
   "cell_type": "code",
   "execution_count": 16,
   "metadata": {},
   "outputs": [
    {
     "ename": "LoadError",
     "evalue": "BoundsError: attempt to access 4-element Vector{Float64} at index [1:7]",
     "output_type": "error",
     "traceback": [
      "BoundsError: attempt to access 4-element Vector{Float64} at index [1:7]",
      "",
      "Stacktrace:",
      " [1] throw_boundserror(A::Vector{Float64}, I::Tuple{UnitRange{Int64}})",
      "   @ Base ./abstractarray.jl:703",
      " [2] checkbounds",
      "   @ ./abstractarray.jl:668 [inlined]",
      " [3] view",
      "   @ ./subarray.jl:177 [inlined]",
      " [4] maybeview",
      "   @ ./sort.jl:102 [inlined]",
      " [5] partialsort!",
      "   @ ./sort.jl:99 [inlined]",
      " [6] #partialsort!#2",
      "   @ ./sort.jl:157 [inlined]",
      " [7] selectsorted(x::Vector{Float64}, k::Int64)",
      "   @ Main ~/Documents/Optimal-SPCA/Algorithm/utilities.jl:143",
      " [8] top-level scope",
      "   @ In[16]:1"
     ]
    }
   ],
   "source": [
    "selectsorted((numer ./ denom)[numer .!= 0], k)"
   ]
  },
  {
   "cell_type": "code",
   "execution_count": 17,
   "metadata": {},
   "outputs": [
    {
     "data": {
      "text/plain": [
       "\"78;85;86;84;78;85;86\""
      ]
     },
     "execution_count": 17,
     "metadata": {},
     "output_type": "execute_result"
    }
   ],
   "source": [
    "join([selected_data; sortperm((numer ./ denom) .* (numer .!= 0) .* (y .== -1), rev=true)[1:stillneed]], \";\")"
   ]
  },
  {
   "cell_type": "code",
   "execution_count": 18,
   "metadata": {},
   "outputs": [
    {
     "data": {
      "text/plain": [
       "20.808293987088003"
      ]
     },
     "execution_count": 18,
     "metadata": {},
     "output_type": "execute_result"
    }
   ],
   "source": [
    "# UB: Need linear programming. This is a greedy attempt to solve\n",
    "sqrt(sum(numer[[78;85;86;84;78;85;86]]) / sum(denom[[78;85;86;84;78;85;86]]))"
   ]
  },
  {
   "cell_type": "code",
   "execution_count": 19,
   "metadata": {},
   "outputs": [
    {
     "data": {
      "text/plain": [
       "21.575057897666632"
      ]
     },
     "execution_count": 19,
     "metadata": {},
     "output_type": "execute_result"
    }
   ],
   "source": [
    "# LB\n",
    "norm(data * svd(raw_data[:, lb_proj_nodes]).U[:, 1])"
   ]
  },
  {
   "cell_type": "code",
   "execution_count": 69,
   "metadata": {},
   "outputs": [],
   "source": [
    "struct FlatMajorize{T} <: COSMO.AbstractConvexCone{T}\n",
    "    dim::Int64\n",
    "    k::Int64\n",
    "end\n",
    "\n",
    "function majorize_linalg(x, k, i)\n",
    "    x = copy(x)\n",
    "    n = size(x)[1]\n",
    "    C = zeros(0, n)\n",
    "    for index in 1:(i-1)\n",
    "        # Printf.@printf(\"index %d\\n\", index)\n",
    "        C = [C; zeros(1, index-1) 1 -1 zeros(1, n - index - 1)]\n",
    "    end\n",
    "    C = [C; (ones(1, i) * (k-i)/i) -ones(1, n-i)]\n",
    "    M = [I C'; C zeros(size(C,1), size(C,1))]\n",
    "    res = M \\ [x; zeros(size(C,1))]\n",
    "    res[1:n]\n",
    "end\n",
    "\n",
    "function COSMO.project!(\n",
    "    x::AbstractVector{T}, C::FlatMajorize{T}) where {T <: AbstractFloat}\n",
    "    x0 = x\n",
    "    n = size(x, 1)\n",
    "    x_order = sortperm(x, rev=true)\n",
    "    x = x[x_order]\n",
    "\n",
    "    # If the largest i entries account for more than i/k of the\n",
    "    # sum of entries, then we might update the vector so that\n",
    "    # the first i entries are identical to one another, and they\n",
    "    # now account for precisely i/k of the sum of entries.\n",
    "    n = size(x)[1]\n",
    "    x_sum = cumsum(x)\n",
    "    x_sum ./= x_sum[end]\n",
    "    if x_sum[1] <= 1.0 / k\n",
    "        return x\n",
    "    end\n",
    "    max_break = 1\n",
    "    k = C.k\n",
    "    while max_break < k && x_sum[max_break+1] >= Float64(max_break+1)/k\n",
    "        max_break += 1\n",
    "    end\n",
    "\n",
    "    function optimize_for_break(i)\n",
    "        result = majorize_linalg(x, C.k, i)\n",
    "        if any(diff(result) .> 0)\n",
    "            return Inf\n",
    "        end\n",
    "        norm(result - x)\n",
    "    end\n",
    "    ~, break_point = findmin(optimize_for_break, 1:max_break)\n",
    "    x = majorize_linalg(x, C.k, break_point)\n",
    "    # x_perm = zeros(n)\n",
    "    # x_perm[x_order] = x\n",
    "    # x_perm\n",
    "    x0[x_order] = x\n",
    "end"
   ]
  },
  {
   "cell_type": "code",
   "execution_count": 70,
   "metadata": {},
   "outputs": [
    {
     "ename": "LoadError",
     "evalue": "UndefVarError: k not defined",
     "output_type": "error",
     "traceback": [
      "UndefVarError: k not defined",
      "",
      "Stacktrace:",
      " [1] project!(x::SubArray{Float64, 1, Vector{Float64}, Tuple{UnitRange{Int64}}, true}, C::FlatMajorize{Float64})",
      "   @ Main ./In[69]:34",
      " [2] project!(x::COSMO.SplitVector{Float64}, C::COSMO.CompositeConvexSet{Float64})",
      "   @ COSMO ~/.julia/packages/COSMO/74ztU/src/convexset.jl:816",
      " [3] macro expansion",
      "   @ ./timing.jl:382 [inlined]",
      " [4] admm_z!(s::COSMO.SplitVector{Float64}, w::Vector{Float64}, set::COSMO.CompositeConvexSet{Float64}, n::Int64)",
      "   @ COSMO ~/.julia/packages/COSMO/74ztU/src/solver.jl:15",
      " [5] optimize!(ws::COSMO.Workspace{Float64})",
      "   @ COSMO ~/.julia/packages/COSMO/74ztU/src/solver.jl:152",
      " [6] top-level scope",
      "   @ In[70]:17"
     ]
    }
   ],
   "source": [
    "# Greedy program, testing the majorize cone\n",
    "model = COSMO.Model()\n",
    "\n",
    "assemble!(\n",
    "    model,\n",
    "    zeros(5, 5),\n",
    "    [-1 -2 -3 -4 -5],\n",
    "    [\n",
    "        # Majorize constraint (support of the solution)\n",
    "        COSMO.Constraint(Matrix(1.0I, 5, 5), zeros(5), FlatMajorize{Float64}(5, 3), 5),\n",
    "        # Domain of the values\n",
    "        COSMO.Constraint(Matrix(1.0I, 5, 5), zeros(5), COSMO.Box(zeros(5), ones(5))),\n",
    "        # L1 constraint\n",
    "        COSMO.Constraint(-ones(1, 5), [1.], COSMO.Nonnegatives),\n",
    "    ],\n",
    ")\n",
    "result = COSMO.optimize!(model)"
   ]
  },
  {
   "cell_type": "code",
   "execution_count": 61,
   "metadata": {},
   "outputs": [
    {
     "data": {
      "text/plain": [
       "5-element Vector{Float64}:\n",
       " -1.7433086309195142e-17\n",
       " -8.15970555012591e-17\n",
       "  2.3761374812192314e-16\n",
       " -8.205242041370298e-16\n",
       "  1.0"
      ]
     },
     "execution_count": 61,
     "metadata": {},
     "output_type": "execute_result"
    }
   ],
   "source": [
    "result.x"
   ]
  },
  {
   "cell_type": "code",
   "execution_count": 71,
   "metadata": {},
   "outputs": [
    {
     "data": {
      "text/plain": [
       ">>> COSMO - Results\n",
       "Status: "
      ]
     },
     "execution_count": 71,
     "metadata": {},
     "output_type": "execute_result"
    },
    {
     "name": "stdout",
     "output_type": "stream",
     "text": [
      "\u001b[32mSolved\u001b[39m\n",
      "Iterations: 159 (incl. 9 safeguarding iterations)\n",
      "Optimal Objective: -4\n",
      "Runtime: 1.5ms\n",
      "Setup Time: 0.08ms\n",
      "\n",
      "Avg Iter Time: 0.01ms"
     ]
    }
   ],
   "source": [
    "# Greedy program, testing the spread condition.\n",
    "model = COSMO.Model()\n",
    "\n",
    "assemble!(\n",
    "    model,\n",
    "    zeros(5, 5),\n",
    "    [-1 -2 -3 -4 -5],\n",
    "    [\n",
    "        # Domain of the values\n",
    "        COSMO.Constraint(Matrix(1.0I, 5, 5), zeros(5), COSMO.Box(zeros(5), ones(5))),\n",
    "        # L1 constraint\n",
    "        COSMO.Constraint(-ones(1, 5), [1.], COSMO.Nonnegatives),\n",
    "        # Meaningful support of the solution at least k = 3\n",
    "        COSMO.Constraint(\n",
    "            # L1 norm * 1/k minus the entry (identity) is nonnegative\n",
    "            ones(5, 5) * 1.0/3\n",
    "            - 1.0I,\n",
    "            zeros(5),\n",
    "            COSMO.Nonnegatives),\n",
    "    ],\n",
    ")\n",
    "result = COSMO.optimize!(model)"
   ]
  },
  {
   "cell_type": "code",
   "execution_count": 73,
   "metadata": {},
   "outputs": [
    {
     "data": {
      "text/plain": [
       "5-element Vector{Float64}:\n",
       "  2.7790854124507226e-17\n",
       " -2.017447160069223e-17\n",
       "  0.3333333333333328\n",
       "  0.3333333333333324\n",
       "  0.33333333333333276"
      ]
     },
     "execution_count": 73,
     "metadata": {},
     "output_type": "execute_result"
    }
   ],
   "source": [
    "result.x"
   ]
  },
  {
   "cell_type": "code",
   "execution_count": 84,
   "metadata": {},
   "outputs": [
    {
     "data": {
      "text/plain": [
       ">>> COSMO - Results\n",
       "Status: "
      ]
     },
     "execution_count": 84,
     "metadata": {},
     "output_type": "execute_result"
    },
    {
     "name": "stdout",
     "output_type": "stream",
     "text": [
      "\u001b[32mSolved\u001b[39m\n",
      "Iterations: 411 (incl. 11 safeguarding iterations)\n",
      "Optimal Objective: -476.2\n",
      "Runtime: 43.2ms\n",
      "Setup Time: 2.87ms\n",
      "\n",
      "Avg Iter Time: 0.1ms"
     ]
    }
   ],
   "source": [
    "model = COSMO.Model()\n",
    "\n",
    "numer = frobenius_rows_k(Sigma2 .* retain_var .* retain_var', y)\n",
    "denom = frobenius_rows_k((raw_data * u .* retain_var) * (raw_data * u .* retain_var)', y)\n",
    "# numer = frobenius_rows_k(Sigma2, y)\n",
    "# denom = frobenius_rows_k((raw_data * u) * (raw_data * u)', y)\n",
    "\n",
    "assemble!(\n",
    "    model,\n",
    "    zeros(n, n),\n",
    "    -numer,\n",
    "    [\n",
    "        # Domain of the values\n",
    "        COSMO.Constraint(Matrix(1.0I, n, n), zeros(n), COSMO.Nonnegatives),\n",
    "        # We may scale up the problem until the denom is 1.\n",
    "        COSMO.Constraint(denom', [-1.], COSMO.ZeroSet),\n",
    "        # However, at least k entries should have large magnitudes\n",
    "        COSMO.Constraint(\n",
    "            ones(n, n) * 1.0/k\n",
    "            - 1.0I,\n",
    "            zeros(n),\n",
    "            COSMO.Nonnegatives,\n",
    "        ),\n",
    "    ]\n",
    ")\n",
    "result = COSMO.optimize!(model)"
   ]
  },
  {
   "cell_type": "code",
   "execution_count": 85,
   "metadata": {},
   "outputs": [
    {
     "data": {
      "text/plain": [
       "21.8229012382063"
      ]
     },
     "execution_count": 85,
     "metadata": {},
     "output_type": "execute_result"
    }
   ],
   "source": [
    "sqrt(-result.obj_val)"
   ]
  },
  {
   "cell_type": "code",
   "execution_count": null,
   "metadata": {},
   "outputs": [],
   "source": []
  }
 ],
 "metadata": {
  "kernelspec": {
   "display_name": "Julia 1.8.3",
   "language": "julia",
   "name": "julia-1.8"
  },
  "language_info": {
   "file_extension": ".jl",
   "mimetype": "application/julia",
   "name": "julia",
   "version": "1.8.3"
  }
 },
 "nbformat": 4,
 "nbformat_minor": 4
}
