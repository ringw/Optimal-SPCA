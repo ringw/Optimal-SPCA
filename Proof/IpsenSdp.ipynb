{
 "cells": [
  {
   "cell_type": "code",
   "execution_count": 1,
   "id": "9513288e-9f6b-47d3-9862-d88e04833870",
   "metadata": {},
   "outputs": [],
   "source": [
    "using COSMO, LinearAlgebra, Random"
   ]
  },
  {
   "cell_type": "code",
   "execution_count": 2,
   "id": "308e6c6e-56a4-42a9-85a0-aeee3b330bbc",
   "metadata": {},
   "outputs": [
    {
     "data": {
      "text/plain": [
       "4×4 Matrix{Float64}:\n",
       " 1.0   0.1  0.2   0.05\n",
       " 0.2   1.0  0.5   0.01\n",
       " 0.3   0.2  1.0   0.05\n",
       " 0.01  0.5  0.05  1.0"
      ]
     },
     "execution_count": 2,
     "metadata": {},
     "output_type": "execute_result"
    }
   ],
   "source": [
    "# Non-negative. Generally an indefinite matrix, but solve for\n",
    "# PSD X as max(Tr AX), this PSD program is a linear program with\n",
    "# conic constraint.\n",
    "A = [1 0.1 0.2 0.05; 0.2 1 0.5 0.01; 0.3 0.2 1 0.05; 0.01 0.5 0.05 1]\n",
    "k = 2\n",
    "n = size(A, 2)\n",
    "N = n * n\n",
    "A"
   ]
  },
  {
   "cell_type": "code",
   "execution_count": 3,
   "id": "83557a9c",
   "metadata": {},
   "outputs": [
    {
     "data": {
      "text/plain": [
       "4×16 Matrix{Float64}:\n",
       " 1.0  0.0  0.0  0.0  0.0  0.0  0.0  0.0  …  0.0  0.0  0.0  0.0  0.0  0.0  0.0\n",
       " 0.0  0.0  0.0  0.0  1.0  0.0  0.0  0.0     0.0  0.0  0.0  0.0  0.0  0.0  0.0\n",
       " 0.0  0.0  0.0  0.0  0.0  0.0  0.0  0.0     0.0  0.0  0.0  0.0  0.0  0.0  0.0\n",
       " 0.0  0.0  0.0  0.0  0.0  0.0  0.0  0.0     0.0  0.0  0.0  1.0  0.0  0.0  0.0"
      ]
     },
     "execution_count": 3,
     "metadata": {},
     "output_type": "execute_result"
    }
   ],
   "source": [
    "Matrix(1.0I, N, N)[begin:n:end, :]"
   ]
  },
  {
   "cell_type": "code",
   "execution_count": 4,
   "id": "9f5be6d0",
   "metadata": {},
   "outputs": [
    {
     "data": {
      "text/plain": [
       "5×17 Matrix{Float64}:\n",
       " 0.0  0.0  0.0  0.0  0.0  0.0  0.0  0.0  …  0.0  0.0  0.0  0.0  0.0  0.0  1.0\n",
       " 1.0  0.0  0.0  0.0  0.0  0.0  0.0  0.0     0.0  0.0  0.0  0.0  0.0  0.0  0.0\n",
       " 0.0  0.0  0.0  0.0  1.0  0.0  0.0  0.0     0.0  0.0  0.0  0.0  0.0  0.0  0.0\n",
       " 0.0  0.0  0.0  0.0  0.0  0.0  0.0  0.0     0.0  0.0  0.0  0.0  0.0  0.0  0.0\n",
       " 0.0  0.0  0.0  0.0  0.0  0.0  0.0  0.0     0.0  0.0  1.0  0.0  0.0  0.0  0.0"
      ]
     },
     "execution_count": 4,
     "metadata": {},
     "output_type": "execute_result"
    }
   ],
   "source": [
    "[zeros(1, N) 1; Matrix(1.0I, N, N)[begin:n:end, :] zeros(n, 1)]"
   ]
  },
  {
   "cell_type": "code",
   "execution_count": 5,
   "id": "6dcf04d2",
   "metadata": {},
   "outputs": [],
   "source": [
    "model = COSMO.Model()\n",
    "psd_c = COSMO.Constraint(Matrix(1.0I, N, N), zeros(N), COSMO.PsdCone)\n",
    "box_c = COSMO.Constraint(\n",
    "    Matrix(1.0I, N, N), zeros(N), COSMO.Box(zeros(N), ones(N)))\n",
    "# Elements equal to 1 or 0. Sum of squares (||v||_2^2) equal to k.\n",
    "l2_c = COSMO.Constraint(\n",
    "    vec(Matrix(1.0I, n, n))', [-Float64(k)], COSMO.ZeroSet(1))\n",
    "# One row: The diag entry may be zero or nonzero.\n",
    "row_c = repeat(Matrix(-1.0I, n, n), inner=(1, n))\n",
    "for i = 1:n\n",
    "    row_c[i, 1 + (n+1)*(i-1)] = k-1\n",
    "end\n",
    "row_c = COSMO.Constraint(row_c, zeros(n), COSMO.ZeroSet(n))\n",
    "assemble!(model, zeros(N, N), -vec(A), [psd_c, box_c, l2_c, row_c])"
   ]
  },
  {
   "cell_type": "code",
   "execution_count": 6,
   "id": "7e7dd165",
   "metadata": {},
   "outputs": [
    {
     "data": {
      "text/plain": [
       ">>> COSMO - Results\n",
       "Status: "
      ]
     },
     "execution_count": 6,
     "metadata": {},
     "output_type": "execute_result"
    },
    {
     "name": "stdout",
     "output_type": "stream",
     "text": [
      "\u001b[32mSolved\u001b[39m\n",
      "Iterations: 25 (incl. 0 safeguarding iterations)\n",
      "Optimal Objective: -2.7\n",
      "Runtime: 3086.68ms\n",
      "Setup Time: 817.39ms\n",
      "\n",
      "Avg Iter Time: 56.61ms"
     ]
    }
   ],
   "source": [
    "result = COSMO.optimize!(model)"
   ]
  },
  {
   "cell_type": "code",
   "execution_count": 7,
   "id": "a38cb99e",
   "metadata": {},
   "outputs": [
    {
     "data": {
      "text/plain": [
       "4×4 Matrix{Float64}:\n",
       " -7.71537e-9  -2.84948e-9  -2.05334e-9   2.04365e-9\n",
       " -3.01474e-9   1.0          1.0         -3.69062e-9\n",
       " -7.21494e-9   1.0          1.0          2.50193e-9\n",
       "  2.51798e-9   1.4283e-8    1.81136e-9   8.50403e-10"
      ]
     },
     "execution_count": 7,
     "metadata": {},
     "output_type": "execute_result"
    }
   ],
   "source": [
    "reshape(result.x, n, n)"
   ]
  },
  {
   "cell_type": "code",
   "execution_count": 8,
   "id": "308e6c6e-56a4-42a9-85a0-aeee3b330bbc",
   "metadata": {},
   "outputs": [],
   "source": [
    "# Non-negative. Generally an indefinite matrix, but solve for\n",
    "# PSD X as max(Tr AX), this PSD program is a linear program with\n",
    "# conic constraint.\n",
    "n = 101\n",
    "A = abs.(randn(n, n))\n",
    "k = 3\n",
    "N = n * n;"
   ]
  },
  {
   "cell_type": "code",
   "execution_count": 38,
   "id": "6dcf04d2",
   "metadata": {},
   "outputs": [],
   "source": [
    "model = COSMO.Model()\n",
    "psd_c = COSMO.Constraint(Matrix(1.0I, N, N), zeros(N), COSMO.PsdCone)\n",
    "box_c = COSMO.Constraint(\n",
    "    Matrix(1.0I, N, N), zeros(N), COSMO.Box(zeros(N), ones(N)))\n",
    "# Elements equal to 1 or 0. Sum of squares (||v||_2^2) equal to k.\n",
    "l2_c = COSMO.Constraint(\n",
    "    vec(Matrix(1.0I, n, n))', [-Float64(k)], COSMO.ZeroSet(1))\n",
    "# One row: The diag entry may be zero or nonzero.\n",
    "row_c = repeat(Matrix(-1.0I, n, n), inner=(1, n))\n",
    "for i = 1:n\n",
    "    row_c[i, 1 + (n+1)*(i-1)] = k-1\n",
    "end\n",
    "row_c = COSMO.Constraint(row_c, zeros(n), COSMO.ZeroSet(n))\n",
    "assemble!(model, zeros(N, N), -vec(A), [psd_c, box_c, l2_c, row_c],\n",
    "    settings = COSMO.Settings(eps_abs=0.0001, eps_rel=0))"
   ]
  },
  {
   "cell_type": "code",
   "execution_count": 39,
   "id": "7e7dd165",
   "metadata": {},
   "outputs": [
    {
     "data": {
      "text/plain": [
       ">>> COSMO - Results\n",
       "Status: "
      ]
     },
     "execution_count": 39,
     "metadata": {},
     "output_type": "execute_result"
    },
    {
     "name": "stdout",
     "output_type": "stream",
     "text": [
      "\u001b[32mSolved\u001b[39m\n",
      "Iterations: 3600 (incl. 0 safeguarding iterations)\n",
      "Optimal Objective: -16.86\n",
      "Runtime: 17959.99ms\n",
      "Setup Time: 22.76ms\n",
      "\n",
      "Avg Iter Time: 4.98ms"
     ]
    }
   ],
   "source": [
    "result = COSMO.optimize!(model)"
   ]
  },
  {
   "cell_type": "code",
   "execution_count": 40,
   "id": "5cc3093a",
   "metadata": {},
   "outputs": [
    {
     "data": {
      "text/plain": [
       "3.373277475948733e-5"
      ]
     },
     "execution_count": 40,
     "metadata": {},
     "output_type": "execute_result"
    }
   ],
   "source": [
    "maximum(model.δx)"
   ]
  },
  {
   "cell_type": "code",
   "execution_count": 41,
   "id": "d82a8313",
   "metadata": {},
   "outputs": [
    {
     "data": {
      "text/plain": [
       "101-element Vector{Float64}:\n",
       " 0.0007637370747083512\n",
       " 0.0007677750300654116\n",
       " 0.0007792639417449263\n",
       " 0.0008003540823541552\n",
       " 0.0008087531192765188\n",
       " 0.0008396185079572151\n",
       " 0.0008459974779157325\n",
       " 0.0008478888128824716\n",
       " 0.0008525810032799002\n",
       " 0.0008650072370124195\n",
       " 0.0009699952902611318\n",
       " 0.0009869231437383366\n",
       " 0.0010038711665317059\n",
       " ⋮\n",
       " 0.06529316187854386\n",
       " 0.06529644325269746\n",
       " 0.11647811245240916\n",
       " 0.8252827743397054\n",
       " 0.8252854734338155\n",
       " 0.8884678811440803\n",
       " 0.8981210037418697\n",
       " 0.8981337746457158\n",
       " 0.9039173427288025\n",
       " 0.9039328127267489\n",
       " 0.9142094712019462\n",
       " 0.9422970949383201"
      ]
     },
     "execution_count": 41,
     "metadata": {},
     "output_type": "execute_result"
    }
   ],
   "source": [
    "sort(abs.(result.x))[end-100:end]"
   ]
  },
  {
   "cell_type": "code",
   "execution_count": null,
   "id": "f5ff9e1e",
   "metadata": {},
   "outputs": [],
   "source": []
  }
 ],
 "metadata": {
  "kernelspec": {
   "display_name": "Julia 1.8.3",
   "language": "julia",
   "name": "julia-1.8"
  },
  "language_info": {
   "file_extension": ".jl",
   "mimetype": "application/julia",
   "name": "julia",
   "version": "1.8.3"
  }
 },
 "nbformat": 4,
 "nbformat_minor": 5
}
