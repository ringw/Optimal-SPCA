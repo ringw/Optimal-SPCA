{
 "cells": [
  {
   "cell_type": "code",
   "execution_count": 185,
   "id": "9513288e-9f6b-47d3-9862-d88e04833870",
   "metadata": {},
   "outputs": [],
   "source": [
    "using COSMO, LinearAlgebra, Random"
   ]
  },
  {
   "cell_type": "code",
   "execution_count": 27,
   "id": "308e6c6e-56a4-42a9-85a0-aeee3b330bbc",
   "metadata": {},
   "outputs": [
    {
     "data": {
      "text/plain": [
       "4×4 Matrix{Float64}:\n",
       " 1.0   0.1  0.2   0.05\n",
       " 0.2   1.0  0.5   0.01\n",
       " 0.3   0.2  1.0   0.05\n",
       " 0.01  0.5  0.05  1.0"
      ]
     },
     "execution_count": 27,
     "metadata": {},
     "output_type": "execute_result"
    }
   ],
   "source": [
    "# Non-negative. Generally an indefinite matrix, but solve for\n",
    "# PSD X as max(Tr AX), this PSD program is a linear program with\n",
    "# conic constraint.\n",
    "A = [1 0.1 0.2 0.05; 0.2 1 0.5 0.01; 0.3 0.2 1 0.05; 0.01 0.5 0.05 1]\n",
    "k = 2\n",
    "n = size(A, 2)\n",
    "N = n * n\n",
    "A"
   ]
  },
  {
   "cell_type": "code",
   "execution_count": 55,
   "id": "83557a9c",
   "metadata": {},
   "outputs": [
    {
     "data": {
      "text/plain": [
       "4×16 Matrix{Float64}:\n",
       " 1.0  0.0  0.0  0.0  0.0  0.0  0.0  0.0  …  0.0  0.0  0.0  0.0  0.0  0.0  0.0\n",
       " 0.0  0.0  0.0  0.0  1.0  0.0  0.0  0.0     0.0  0.0  0.0  0.0  0.0  0.0  0.0\n",
       " 0.0  0.0  0.0  0.0  0.0  0.0  0.0  0.0     0.0  0.0  0.0  0.0  0.0  0.0  0.0\n",
       " 0.0  0.0  0.0  0.0  0.0  0.0  0.0  0.0     0.0  0.0  0.0  1.0  0.0  0.0  0.0"
      ]
     },
     "execution_count": 55,
     "metadata": {},
     "output_type": "execute_result"
    }
   ],
   "source": [
    "Matrix(1.0I, N, N)[begin:n:end, :]"
   ]
  },
  {
   "cell_type": "code",
   "execution_count": 64,
   "id": "9f5be6d0",
   "metadata": {},
   "outputs": [
    {
     "data": {
      "text/plain": [
       "5×17 Matrix{Float64}:\n",
       " 0.0  0.0  0.0  0.0  0.0  0.0  0.0  0.0  …  0.0  0.0  0.0  0.0  0.0  0.0  1.0\n",
       " 1.0  0.0  0.0  0.0  0.0  0.0  0.0  0.0     0.0  0.0  0.0  0.0  0.0  0.0  0.0\n",
       " 0.0  0.0  0.0  0.0  1.0  0.0  0.0  0.0     0.0  0.0  0.0  0.0  0.0  0.0  0.0\n",
       " 0.0  0.0  0.0  0.0  0.0  0.0  0.0  0.0     0.0  0.0  0.0  0.0  0.0  0.0  0.0\n",
       " 0.0  0.0  0.0  0.0  0.0  0.0  0.0  0.0     0.0  0.0  1.0  0.0  0.0  0.0  0.0"
      ]
     },
     "execution_count": 64,
     "metadata": {},
     "output_type": "execute_result"
    }
   ],
   "source": [
    "[zeros(1, N) 1; Matrix(1.0I, N, N)[begin:n:end, :] zeros(n, 1)]"
   ]
  },
  {
   "cell_type": "code",
   "execution_count": 182,
   "id": "6dcf04d2",
   "metadata": {},
   "outputs": [],
   "source": [
    "model = COSMO.Model()\n",
    "psd_c = COSMO.Constraint(Matrix(1.0I, N, N), zeros(N), COSMO.PsdCone)\n",
    "box_c = COSMO.Constraint(\n",
    "    Matrix(1.0I, N, N), zeros(N), COSMO.Box(zeros(N), ones(N)))\n",
    "# Elements equal to 1 or 0. Sum of squares (||v||_2^2) equal to k.\n",
    "l2_c = COSMO.Constraint(\n",
    "    vec(Matrix(1.0I, n, n))', [-Float64(k)], COSMO.ZeroSet(1))\n",
    "# One row: The diag entry may be zero or nonzero.\n",
    "row_c = repeat(Matrix(-1.0I, n, n), inner=(1, n))\n",
    "for i = 1:n\n",
    "    row_c[i, 1 + (n+1)*(i-1)] = k-1\n",
    "end\n",
    "row_c = COSMO.Constraint(row_c, zeros(n), COSMO.ZeroSet(n))\n",
    "assemble!(model, zeros(N, N), -vec(A), [psd_c, box_c, l2_c, row_c])"
   ]
  },
  {
   "cell_type": "code",
   "execution_count": 183,
   "id": "7e7dd165",
   "metadata": {},
   "outputs": [
    {
     "data": {
      "text/plain": [
       ">>> COSMO - Results\n",
       "Status: "
      ]
     },
     "execution_count": 183,
     "metadata": {},
     "output_type": "execute_result"
    },
    {
     "name": "stdout",
     "output_type": "stream",
     "text": [
      "\u001b[32mSolved\u001b[39m\n",
      "Iterations: 25 (incl. 0 safeguarding iterations)\n",
      "Optimal Objective: -2.7\n",
      "Runtime: 0.81ms\n",
      "Setup Time: 0.14ms\n",
      "\n",
      "Avg Iter Time: 0.02ms"
     ]
    }
   ],
   "source": [
    "result = COSMO.optimize!(model)"
   ]
  },
  {
   "cell_type": "code",
   "execution_count": 184,
   "id": "a38cb99e",
   "metadata": {},
   "outputs": [
    {
     "data": {
      "text/plain": [
       "4×4 Matrix{Float64}:\n",
       " -7.71537e-9  -2.84948e-9  -2.05334e-9   2.04365e-9\n",
       " -3.01474e-9   1.0          1.0         -3.69062e-9\n",
       " -7.21494e-9   1.0          1.0          2.50193e-9\n",
       "  2.51798e-9   1.4283e-8    1.81136e-9   8.50403e-10"
      ]
     },
     "execution_count": 184,
     "metadata": {},
     "output_type": "execute_result"
    }
   ],
   "source": [
    "reshape(result.x, n, n)"
   ]
  },
  {
   "cell_type": "code",
   "execution_count": 197,
   "id": "308e6c6e-56a4-42a9-85a0-aeee3b330bbc",
   "metadata": {},
   "outputs": [],
   "source": [
    "# Non-negative. Generally an indefinite matrix, but solve for\n",
    "# PSD X as max(Tr AX), this PSD program is a linear program with\n",
    "# conic constraint.\n",
    "n = 101\n",
    "A = abs.(randn(n, n))\n",
    "k = 3\n",
    "N = n * n;"
   ]
  },
  {
   "cell_type": "code",
   "execution_count": 201,
   "id": "6dcf04d2",
   "metadata": {},
   "outputs": [],
   "source": [
    "model = COSMO.Model()\n",
    "psd_c = COSMO.Constraint(Matrix(1.0I, N, N), zeros(N), COSMO.PsdCone)\n",
    "box_c = COSMO.Constraint(\n",
    "    Matrix(1.0I, N, N), zeros(N), COSMO.Box(zeros(N), ones(N)))\n",
    "# Elements equal to 1 or 0. Sum of squares (||v||_2^2) equal to k.\n",
    "l2_c = COSMO.Constraint(\n",
    "    vec(Matrix(1.0I, n, n))', [-Float64(k)], COSMO.ZeroSet(1))\n",
    "# One row: The diag entry may be zero or nonzero.\n",
    "row_c = repeat(Matrix(-1.0I, n, n), inner=(1, n))\n",
    "for i = 1:n\n",
    "    row_c[i, 1 + (n+1)*(i-1)] = k-1\n",
    "end\n",
    "row_c = COSMO.Constraint(row_c, zeros(n), COSMO.ZeroSet(n))\n",
    "assemble!(model, zeros(N, N), -vec(A), [psd_c, box_c, l2_c, row_c])"
   ]
  },
  {
   "cell_type": "code",
   "execution_count": 202,
   "id": "7e7dd165",
   "metadata": {},
   "outputs": [
    {
     "data": {
      "text/plain": [
       ">>> COSMO - Results\n",
       "Status: "
      ]
     },
     "execution_count": 202,
     "metadata": {},
     "output_type": "execute_result"
    },
    {
     "name": "stdout",
     "output_type": "stream",
     "text": [
      "\u001b[32mSolved\u001b[39m\n",
      "Iterations: 1500 (incl. 0 safeguarding iterations)\n",
      "Optimal Objective: -16.38\n",
      "Runtime: 7741.77ms\n",
      "Setup Time: 21.55ms\n",
      "\n",
      "Avg Iter Time: 5.14ms"
     ]
    }
   ],
   "source": [
    "result = COSMO.optimize!(model)"
   ]
  },
  {
   "cell_type": "code",
   "execution_count": 209,
   "id": "5cc3093a",
   "metadata": {},
   "outputs": [
    {
     "data": {
      "text/plain": [
       "2.3209046042693693e-5"
      ]
     },
     "execution_count": 209,
     "metadata": {},
     "output_type": "execute_result"
    }
   ],
   "source": [
    "maximum(model.δx)"
   ]
  }
 ],
 "metadata": {
  "kernelspec": {
   "display_name": "Julia 1.8.3",
   "language": "julia",
   "name": "julia-1.8"
  },
  "language_info": {
   "file_extension": ".jl",
   "mimetype": "application/julia",
   "name": "julia",
   "version": "1.8.3"
  }
 },
 "nbformat": 4,
 "nbformat_minor": 5
}
