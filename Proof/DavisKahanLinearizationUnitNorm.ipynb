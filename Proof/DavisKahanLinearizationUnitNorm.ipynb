{
 "cells": [
  {
   "cell_type": "code",
   "execution_count": 1,
   "metadata": {},
   "outputs": [],
   "source": [
    "using LinearAlgebra, CSV, Random, Tables, JLD, Base.Iterators, Printf, DataFrames"
   ]
  },
  {
   "cell_type": "code",
   "execution_count": 2,
   "metadata": {},
   "outputs": [
    {
     "data": {
      "text/plain": [
       "refreshFile (generic function with 1 method)"
      ]
     },
     "execution_count": 2,
     "metadata": {},
     "output_type": "execute_result"
    }
   ],
   "source": [
    "include(\"../Algorithm/utilities.jl\")"
   ]
  },
  {
   "cell_type": "code",
   "execution_count": 3,
   "metadata": {},
   "outputs": [
    {
     "data": {
      "text/plain": [
       "6.661338147750939e-15"
      ]
     },
     "execution_count": 3,
     "metadata": {},
     "output_type": "execute_result"
    }
   ],
   "source": [
    "data = load(\"../Data/communities.jld\")[\"normCommunities\"]\n",
    "# Matrix sqrt: via diagonalization and sqrt eigenvalues\n",
    "raw_data = sqrt(data)';\n",
    "n = size(data, 1);\n",
    "N = n * n;\n",
    "norms = data[1:n+1:N]\n",
    "k = 7;\n",
    "# All close.\n",
    "maximum(abs.(raw_data * raw_data .- data))"
   ]
  },
  {
   "cell_type": "code",
   "execution_count": 16,
   "metadata": {},
   "outputs": [],
   "source": [
    "nodes = CSV.File(\"../NC-K7-Trace-Nodes.csv\") |> Tables.matrix;\n",
    "bounds = CSV.File(\"../NC-K7-Trace-Bounds.csv\") |> Tables.matrix;"
   ]
  },
  {
   "cell_type": "code",
   "execution_count": 18,
   "metadata": {},
   "outputs": [
    {
     "data": {
      "text/plain": [
       "5"
      ]
     },
     "execution_count": 18,
     "metadata": {},
     "output_type": "execute_result"
    }
   ],
   "source": [
    "# node_id = 50\n",
    "# node_id = 300\n",
    "node_id = 41\n",
    "y = nodes[:, node_id]\n",
    "selected_data = findall(y .== 1)\n",
    "i = sum(nodes[:, node_id] .== 1)\n",
    "stillneed = k - i"
   ]
  },
  {
   "cell_type": "code",
   "execution_count": 20,
   "metadata": {},
   "outputs": [
    {
     "data": {
      "text/plain": [
       "3-element Vector{Float64}:\n",
       " 4.6440665883730805\n",
       " 6.620524735335411\n",
       " 7.0"
      ]
     },
     "execution_count": 20,
     "metadata": {},
     "output_type": "execute_result"
    }
   ],
   "source": [
    "bounds[:, node_id]"
   ]
  },
  {
   "cell_type": "code",
   "execution_count": 21,
   "metadata": {},
   "outputs": [
    {
     "data": {
      "text/plain": [
       "7.0"
      ]
     },
     "execution_count": 21,
     "metadata": {},
     "output_type": "execute_result"
    }
   ],
   "source": [
    "sum(norms[y .== 1]) + sum(selectsorted(norms .* (y .== -1), stillneed))"
   ]
  },
  {
   "cell_type": "code",
   "execution_count": 22,
   "metadata": {},
   "outputs": [
    {
     "data": {
      "text/plain": [
       "1.9885850360066886"
      ]
     },
     "execution_count": 22,
     "metadata": {},
     "output_type": "execute_result"
    }
   ],
   "source": [
    "s = maximum(svd(raw_data[:, selected_data]).S)\n",
    "u = svd(raw_data[:, selected_data]).U[:, 1];\n",
    "v = svd(raw_data[:, selected_data]).V[:, 1];\n",
    "D = Matrix(1.0I, 101, 101)[:, selected_data];\n",
    "s^2"
   ]
  },
  {
   "cell_type": "code",
   "execution_count": 23,
   "metadata": {},
   "outputs": [
    {
     "data": {
      "text/plain": [
       "1.9885850360066886"
      ]
     },
     "execution_count": 23,
     "metadata": {},
     "output_type": "execute_result"
    }
   ],
   "source": [
    "norm(raw_data[:, selected_data] * v)^2"
   ]
  },
  {
   "cell_type": "code",
   "execution_count": 24,
   "metadata": {},
   "outputs": [
    {
     "data": {
      "text/plain": [
       "1.9885850360066892"
      ]
     },
     "execution_count": 24,
     "metadata": {},
     "output_type": "execute_result"
    }
   ],
   "source": [
    "norm(u' * raw_data[:, selected_data])^2"
   ]
  },
  {
   "cell_type": "code",
   "execution_count": 25,
   "metadata": {},
   "outputs": [
    {
     "data": {
      "text/plain": [
       "1.9885850360066917"
      ]
     },
     "execution_count": 25,
     "metadata": {},
     "output_type": "execute_result"
    }
   ],
   "source": [
    "norm(data[:, selected_data][selected_data, :] * v)"
   ]
  },
  {
   "cell_type": "code",
   "execution_count": 26,
   "metadata": {},
   "outputs": [
    {
     "data": {
      "text/plain": [
       "101-element Vector{Float64}:\n",
       " 0.0002994451594882808\n",
       " 0.03066298611731982\n",
       " 0.08577110013652099\n",
       " 0.016049961181145968\n",
       " 0.28098579234613125\n",
       " 0.0017981504413838068\n",
       " 0.0924737433896238\n",
       " 0.04386307427228924\n",
       " 0.049012359018644036\n",
       " 0.05126719064815483\n",
       " 0.0004268326165033283\n",
       " 0.15506212547906217\n",
       " 0.0\n",
       " ⋮\n",
       " 0.001486141465211946\n",
       " 6.0664179699725966e-5\n",
       " 0.23179122454587167\n",
       " 0.1694991155659717\n",
       " 0.008684430324264608\n",
       " 0.008617640897232319\n",
       " 0.01895029707671571\n",
       " 0.002639305133772915\n",
       " 0.044335169463675404\n",
       " 0.1254640250809044\n",
       " 0.0010975082146965829\n",
       " 0.0580169663416154"
      ]
     },
     "execution_count": 26,
     "metadata": {},
     "output_type": "execute_result"
    }
   ],
   "source": [
    "rank_one_term = (raw_data * u) .^ 2\n",
    "rank_one_term[nodes[:, node_id] .== 0] .= 0\n",
    "rank_one_term"
   ]
  },
  {
   "cell_type": "code",
   "execution_count": 27,
   "metadata": {},
   "outputs": [
    {
     "data": {
      "text/plain": [
       "101-element Vector{Float64}:\n",
       " 0.9997005548405117\n",
       " 0.9693370138826802\n",
       " 0.914228899863479\n",
       " 0.983950038818854\n",
       " 0.7190142076538688\n",
       " 0.9982018495586162\n",
       " 0.9075262566103762\n",
       " 0.9561369257277108\n",
       " 0.950987640981356\n",
       " 0.9487328093518451\n",
       " 0.9995731673834967\n",
       " 0.8449378745209378\n",
       " 0.0\n",
       " ⋮\n",
       " 0.998513858534788\n",
       " 0.9999393358203003\n",
       " 0.7682087754541284\n",
       " 0.8305008844340283\n",
       " 0.9913155696757354\n",
       " 0.9913823591027677\n",
       " 0.9810497029232843\n",
       " 0.9973606948662271\n",
       " 0.9556648305363246\n",
       " 0.8745359749190956\n",
       " 0.9989024917853034\n",
       " 0.9419830336583846"
      ]
     },
     "execution_count": 27,
     "metadata": {},
     "output_type": "execute_result"
    }
   ],
   "source": [
    "# Upper bound on the contribution from adding one variable into ||E||^2.\n",
    "# The upper bound comes from ||E||_F^2\n",
    "# upper bounded by ||(I-uu')MD||_F^2. Also, we know that normCommunities\n",
    "# has column norm of 1 for every variable.\n",
    "# We should add another upper bound based on taking k columns from this\n",
    "# row into ||E||_F.\n",
    "residual_term = norms .- rank_one_term\n",
    "residual_term[y .== 0] .= 0\n",
    "residual_term"
   ]
  },
  {
   "cell_type": "code",
   "execution_count": 28,
   "metadata": {},
   "outputs": [
    {
     "data": {
      "text/plain": [
       "frobenius_rows_k (generic function with 1 method)"
      ]
     },
     "execution_count": 28,
     "metadata": {},
     "output_type": "execute_result"
    }
   ],
   "source": [
    "function frobenius_rows_k(M, y)\n",
    "    M = M .^ 2\n",
    "    row_quantities = zeros(n)\n",
    "    stillneed = k - sum(y .== 1)\n",
    "    for row_index in 1:n\n",
    "        if y[row_index] == 0\n",
    "            continue\n",
    "        end\n",
    "        row = copy(M[row_index, :])\n",
    "        row_sum = sum(row[y .== 1])\n",
    "        row[y .== 1] .= 0\n",
    "        if y[row_index] == -1\n",
    "            row_sum += row[row_index]\n",
    "            row[row_index] = 0\n",
    "            row_stillneed = stillneed -1\n",
    "        else\n",
    "            row_stillneed = stillneed\n",
    "        end\n",
    "        row_sum += sum(sort(row, rev=true)[1:row_stillneed])\n",
    "        row_quantities[row_index] = row_sum\n",
    "    end\n",
    "    row_quantities\n",
    "end"
   ]
  },
  {
   "cell_type": "code",
   "execution_count": 29,
   "metadata": {},
   "outputs": [],
   "source": [
    "# frobenius_rows_k(data - raw_data * u * u' * raw_data, y)"
   ]
  },
  {
   "cell_type": "code",
   "execution_count": 30,
   "metadata": {},
   "outputs": [
    {
     "data": {
      "text/plain": [
       "8"
      ]
     },
     "execution_count": 30,
     "metadata": {},
     "output_type": "execute_result"
    }
   ],
   "source": [
    "sum((y .== -1) .& (frobenius_rows_k(data - raw_data * u * u' * raw_data, y) .< residual_term))"
   ]
  },
  {
   "cell_type": "code",
   "execution_count": 31,
   "metadata": {},
   "outputs": [
    {
     "data": {
      "text/plain": [
       "(6.230223767217365, 6.511153616891437)"
      ]
     },
     "execution_count": 31,
     "metadata": {},
     "output_type": "execute_result"
    }
   ],
   "source": [
    "lb_proj_nodes_extra = rank_one_term .>= sort(rank_one_term .* Array{Float64}(y .== -1))[end-stillneed+1]\n",
    "lb_proj_nodes_extra = lb_proj_nodes_extra .& (y .== -1)\n",
    "lb_proj_nodes = lb_proj_nodes_extra .| (y .== 1)\n",
    "lb_proj = sum(rank_one_term[lb_proj_nodes])\n",
    "# Too slow to compute!\n",
    "lb_diag = maximum(svd(raw_data[:, lb_proj_nodes]).S) ^ 2\n",
    "lb_proj, lb_diag"
   ]
  },
  {
   "cell_type": "code",
   "execution_count": 32,
   "metadata": {},
   "outputs": [
    {
     "data": {
      "text/plain": [
       "3-element Vector{Float64}:\n",
       " 4.6440665883730805\n",
       " 6.620524735335411\n",
       " 7.0"
      ]
     },
     "execution_count": 32,
     "metadata": {},
     "output_type": "execute_result"
    }
   ],
   "source": [
    "bounds[:, node_id]"
   ]
  },
  {
   "cell_type": "code",
   "execution_count": 33,
   "metadata": {},
   "outputs": [
    {
     "data": {
      "text/plain": [
       "(0.37947526466458914, 0.4888463831085632)"
      ]
     },
     "execution_count": 33,
     "metadata": {},
     "output_type": "execute_result"
    }
   ],
   "source": [
    "lambda_1 = bounds[2, node_id]\n",
    "lambda_2 = bounds[3, node_id] - lb_diag\n",
    "lambda_2_lb = bounds[3, node_id] - lambda_1\n",
    "lambda_2_lb, lambda_2"
   ]
  },
  {
   "cell_type": "code",
   "execution_count": 34,
   "metadata": {},
   "outputs": [],
   "source": [
    "# lambda_2 = svd(raw_data[:, selected_data]).S[2] + sum(selectsorted(residual_term, stillneed))"
   ]
  },
  {
   "cell_type": "code",
   "execution_count": 35,
   "metadata": {},
   "outputs": [
    {
     "data": {
      "text/plain": [
       "(0.4888463831085632, 0)"
      ]
     },
     "execution_count": 35,
     "metadata": {},
     "output_type": "execute_result"
    }
   ],
   "source": [
    "# Initialization. Loop until convergence.\n",
    "# Bad idea - lambda_2 bounds ||E|| from below, not above.\n",
    "residual_ub = lambda_2\n",
    "# Contribution to Tr E < residual_ub\n",
    "resid_var_sel = residual_term .<= residual_ub\n",
    "resid_var_sel = BitArray(ones(size(y)))\n",
    "residual_ub, sum((y .== -1) .& .~resid_var_sel)"
   ]
  },
  {
   "cell_type": "code",
   "execution_count": 36,
   "metadata": {},
   "outputs": [
    {
     "data": {
      "text/plain": [
       "(3.2734747142193443, 3.1674211559981784)"
      ]
     },
     "execution_count": 36,
     "metadata": {},
     "output_type": "execute_result"
    }
   ],
   "source": [
    "# ||Sigma||_F >= sqrt(||A||_F + ||E||_F)???\n",
    "norm(data[1:k, 1:k]), sqrt(norm(raw_data[1:k, :] * u * u' * raw_data[:, 1:k])^2 + norm(data[1:k, 1:k] - (raw_data[1:k, :] * u * u' * raw_data[:, 1:k]))^2)"
   ]
  },
  {
   "cell_type": "code",
   "execution_count": 37,
   "metadata": {},
   "outputs": [
    {
     "data": {
      "text/plain": [
       "5.469445648769899"
      ]
     },
     "execution_count": 37,
     "metadata": {},
     "output_type": "execute_result"
    }
   ],
   "source": [
    "a_squared_program = mapslices(\n",
    "    (row) -> sum(row[y .== 1].^2) + sum(selectsorted(row.^2 .* (y .== -1), stillneed)),\n",
    "    data,\n",
    "    dims=2)[:, 1]\n",
    "# lambda_1^2 >= sum_i rank_one_term_i^2 >= sum_i rank_one_term_i^2 + sum_(i!=j) 2 rank_one_term_i rank_one_term_j\n",
    "e_squared_program = a_squared_program - rank_one_term.^2\n",
    "maximum(e_squared_program)"
   ]
  },
  {
   "cell_type": "code",
   "execution_count": 38,
   "metadata": {},
   "outputs": [
    {
     "data": {
      "text/plain": [
       "4.4609160327705375"
      ]
     },
     "execution_count": 38,
     "metadata": {},
     "output_type": "execute_result"
    }
   ],
   "source": [
    "# Contribution to ||E||^2 from the row sums (squared Frobenius norm)\n",
    "E = data - (raw_data * u * u' * raw_data)\n",
    "e_squared_program = mapslices(\n",
    "    (row) -> sum(row[y .== 1].^2) + sum(selectsorted(row.^2 .* (resid_var_sel .& (y .== -1)), stillneed)),\n",
    "    E,\n",
    "    dims=2)[:, 1]\n",
    "maximum(e_squared_program)"
   ]
  },
  {
   "cell_type": "code",
   "execution_count": 39,
   "metadata": {},
   "outputs": [
    {
     "data": {
      "text/plain": [
       "0.38238387256342726"
      ]
     },
     "execution_count": 39,
     "metadata": {},
     "output_type": "execute_result"
    }
   ],
   "source": [
    "# Upper bound on ||E||_F using ||A||_F\n",
    "sqrt(sum(a_squared_program[y .== 1]) + sum(selectsorted(a_squared_program .* (y .== -1), stillneed)) - lb_diag^2)"
   ]
  },
  {
   "cell_type": "code",
   "execution_count": 40,
   "metadata": {},
   "outputs": [
    {
     "data": {
      "text/plain": [
       "4.622779319886431"
      ]
     },
     "execution_count": 40,
     "metadata": {},
     "output_type": "execute_result"
    }
   ],
   "source": [
    "# Upper bound on ||E||_F\n",
    "lambda_2 = sqrt(sum(e_squared_program[y .== 1]) + sum(selectsorted(e_squared_program .* (y .== -1), stillneed)))"
   ]
  },
  {
   "cell_type": "code",
   "execution_count": 41,
   "metadata": {},
   "outputs": [
    {
     "data": {
      "text/plain": [
       "0.4888463831085632"
      ]
     },
     "execution_count": 41,
     "metadata": {},
     "output_type": "execute_result"
    }
   ],
   "source": [
    "# Upper bound performed poorly\n",
    "lambda_2 = bounds[3, node_id] - lb_diag"
   ]
  },
  {
   "cell_type": "code",
   "execution_count": 42,
   "metadata": {},
   "outputs": [
    {
     "data": {
      "text/plain": [
       "5.009906394681007"
      ]
     },
     "execution_count": 42,
     "metadata": {},
     "output_type": "execute_result"
    }
   ],
   "source": [
    "sum(residual_term[y .== 1]) + sum(selectsorted(residual_term[y .== -1], stillneed))"
   ]
  },
  {
   "cell_type": "code",
   "execution_count": 43,
   "metadata": {},
   "outputs": [
    {
     "data": {
      "text/plain": [
       "101-element Vector{Float64}:\n",
       " 0.7402556644415275\n",
       " 0.6092168011964461\n",
       " 0.4188537600563196\n",
       " 0.4464603644313368\n",
       " 0.5084851222819133\n",
       " 0.6139812621846495\n",
       " 0.5461652732115176\n",
       " 0.5727035809021997\n",
       " 0.5847931532364803\n",
       " 0.5345380867652912\n",
       " 0.7354799333590984\n",
       " 0.32922500559393647\n",
       " 0.06581892739181085\n",
       " ⋮\n",
       " 0.6111544845758357\n",
       " 0.4639871124942503\n",
       " 0.7206220817410615\n",
       " 0.46599589946560355\n",
       " 0.4503847328062839\n",
       " 0.45637789055229383\n",
       " 0.44689139917136106\n",
       " 0.4807723579061648\n",
       " 0.38724499424874453\n",
       " 0.3686715541035246\n",
       " 0.308404669455784\n",
       " 0.3995239730634894"
      ]
     },
     "execution_count": 43,
     "metadata": {},
     "output_type": "execute_result"
    }
   ],
   "source": [
    "# Multiplier for \n",
    "mult_parallel = 1. / lambda_1\n",
    "mult_perp = lambda_2 / (lb_proj - lambda_2)^2\n",
    "mult_linearize = mult_parallel + mult_perp\n",
    "linear_program = rank_one_term + mult_linearize * e_squared_program"
   ]
  },
  {
   "cell_type": "code",
   "execution_count": 44,
   "metadata": {},
   "outputs": [
    {
     "data": {
      "text/plain": [
       "6.318477149077138"
      ]
     },
     "execution_count": 44,
     "metadata": {},
     "output_type": "execute_result"
    }
   ],
   "source": [
    "# Linear program solution\n",
    "sum(linear_program[y .== 1]) + sum(selectsorted(linear_program[y .== -1], stillneed))"
   ]
  },
  {
   "cell_type": "code",
   "execution_count": 45,
   "metadata": {},
   "outputs": [
    {
     "data": {
      "text/plain": [
       "6.799433303364484"
      ]
     },
     "execution_count": 45,
     "metadata": {},
     "output_type": "execute_result"
    }
   ],
   "source": [
    "# Conservative program in case we cannot bound sin theta_perp.\n",
    "linear_program_lam_2 = rank_one_term + mult_parallel .* e_squared_program\n",
    "lambda_2 + sum(linear_program_lam_2[y .== 1]) + sum(selectsorted(linear_program_lam_2[y .== -1], stillneed))"
   ]
  },
  {
   "cell_type": "code",
   "execution_count": 55,
   "metadata": {},
   "outputs": [
    {
     "data": {
      "text/plain": [
       "5.8376507339192605"
      ]
     },
     "execution_count": 55,
     "metadata": {},
     "output_type": "execute_result"
    }
   ],
   "source": [
    "# C11 = a, C22 = b\n",
    "# tan theta = -sqrt(b/a)\n",
    "# max(a+b + c sin^2 theta, d cos^2 theta)\n",
    "# sin^2(arctan(sqrt(b/a))) = b/(a + b) :D\n",
    "linear_program = rank_one_term * sqrt(mult_perp / (mult_parallel + mult_perp)) * (sqrt(mult_parallel) + sqrt(mult_perp)) / (mult_parallel + mult_perp) + mult_linearize * e_squared_program\n",
    "sum(linear_program[y .== 1]) + sum(selectsorted(linear_program[y .== -1], stillneed))"
   ]
  },
  {
   "cell_type": "code",
   "execution_count": 116,
   "metadata": {},
   "outputs": [
    {
     "data": {
      "text/plain": [
       "1×2 Matrix{Int64}:\n",
       " 13  81"
      ]
     },
     "execution_count": 116,
     "metadata": {},
     "output_type": "execute_result"
    }
   ],
   "source": [
    "[sum((sort(rank_one_term, rev=true)[k] .> linear_program) .& (y .== -1)) sum(y .== -1)]"
   ]
  },
  {
   "cell_type": "code",
   "execution_count": 117,
   "metadata": {},
   "outputs": [
    {
     "name": "stdout",
     "output_type": "stream",
     "text": [
      "rank_one_term iter 1\n",
      "rank_one_term iter 2\n"
     ]
    }
   ],
   "source": [
    "resid_var_sel = y .== -1\n",
    "for iter in countfrom()\n",
    "    @printf(\"rank_one_term iter %d\\n\", iter)\n",
    "    e_squared_program = mapslices(\n",
    "        (row) -> sum(row[y .== 1].^2) + sum(selectsorted(row.^2 .* (resid_var_sel .& (y .== -1)), stillneed)),\n",
    "        E,\n",
    "        dims=2)[:, 1]\n",
    "    linear_program = rank_one_term + mult_linearize * e_squared_program\n",
    "    num_selected = sum(resid_var_sel)\n",
    "    resid_var_sel .&= sort(rank_one_term, rev=true)[k] .<= linear_program\n",
    "    if sum(resid_var_sel) == num_selected\n",
    "        break\n",
    "    end\n",
    "end"
   ]
  },
  {
   "cell_type": "code",
   "execution_count": 118,
   "metadata": {},
   "outputs": [
    {
     "data": {
      "text/plain": [
       "68"
      ]
     },
     "execution_count": 118,
     "metadata": {},
     "output_type": "execute_result"
    }
   ],
   "source": [
    "sum(resid_var_sel)"
   ]
  },
  {
   "cell_type": "code",
   "execution_count": 119,
   "metadata": {},
   "outputs": [
    {
     "data": {
      "text/plain": [
       "1.6338898195663933"
      ]
     },
     "execution_count": 119,
     "metadata": {},
     "output_type": "execute_result"
    }
   ],
   "source": [
    "# Linear program solution\n",
    "sum(linear_program[y .== 1]) + sum(selectsorted(linear_program[y .== -1], stillneed))"
   ]
  }
 ],
 "metadata": {
  "kernelspec": {
   "display_name": "Julia 1.8.3",
   "language": "julia",
   "name": "julia-1.8"
  },
  "language_info": {
   "file_extension": ".jl",
   "mimetype": "application/julia",
   "name": "julia",
   "version": "1.8.3"
  }
 },
 "nbformat": 4,
 "nbformat_minor": 4
}
