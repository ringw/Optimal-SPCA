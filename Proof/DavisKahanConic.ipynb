{
 "cells": [
  {
   "cell_type": "code",
   "execution_count": 4,
   "metadata": {},
   "outputs": [],
   "source": [
    "using LinearAlgebra, CSV, Random, Tables, COSMO"
   ]
  },
  {
   "cell_type": "code",
   "execution_count": 5,
   "metadata": {},
   "outputs": [
    {
     "data": {
      "text/plain": [
       "4.884981308350689e-15"
      ]
     },
     "execution_count": 5,
     "metadata": {},
     "output_type": "execute_result"
    }
   ],
   "source": [
    "data = CSV.File(\"../NC-Data.csv\") |> Tables.matrix;\n",
    "# Matrix sqrt: via diagonalization and sqrt eigenvalues\n",
    "raw_data = sqrt(data)';\n",
    "n = size(data, 1);\n",
    "N = n * n;\n",
    "k = 7;\n",
    "# All close.\n",
    "maximum(abs.(raw_data * raw_data .- data))"
   ]
  },
  {
   "cell_type": "code",
   "execution_count": 6,
   "metadata": {},
   "outputs": [],
   "source": [
    "nodes = CSV.File(\"../NC-K7-Trace-Nodes.csv\") |> Tables.matrix;\n",
    "bounds = CSV.File(\"../NC-K7-Trace-Bounds.csv\") |> Tables.matrix;"
   ]
  },
  {
   "cell_type": "code",
   "execution_count": 62,
   "metadata": {},
   "outputs": [
    {
     "data": {
      "text/plain": [
       "4"
      ]
     },
     "execution_count": 62,
     "metadata": {},
     "output_type": "execute_result"
    }
   ],
   "source": [
    "# node_id = 50\n",
    "# node_id = 300\n",
    "node_id = 229\n",
    "y = nodes[:, node_id]\n",
    "sum(nodes[:, node_id] .== 1)"
   ]
  },
  {
   "cell_type": "code",
   "execution_count": 63,
   "metadata": {},
   "outputs": [
    {
     "data": {
      "text/plain": [
       "3-element Array{Float64,1}:\n",
       " 4.5129968872085975\n",
       " 6.584373256021302\n",
       " 7.0"
      ]
     },
     "execution_count": 63,
     "metadata": {},
     "output_type": "execute_result"
    }
   ],
   "source": [
    "bounds[:, node_id]"
   ]
  },
  {
   "cell_type": "code",
   "execution_count": 64,
   "metadata": {},
   "outputs": [
    {
     "data": {
      "text/plain": [
       "4-element Array{Int64,1}:\n",
       " 20\n",
       " 84\n",
       " 85\n",
       " 86"
      ]
     },
     "execution_count": 64,
     "metadata": {},
     "output_type": "execute_result"
    }
   ],
   "source": [
    "selected_data = findall(nodes[:, node_id] .== 1)"
   ]
  },
  {
   "cell_type": "code",
   "execution_count": 65,
   "metadata": {},
   "outputs": [
    {
     "data": {
      "text/plain": [
       "1.9342690514902823"
      ]
     },
     "execution_count": 65,
     "metadata": {},
     "output_type": "execute_result"
    }
   ],
   "source": [
    "s = maximum(svd(raw_data[:, selected_data]).S)\n",
    "u = svd(raw_data[:, selected_data]).U[:, 1];\n",
    "v = svd(raw_data[:, selected_data]).V[:, 1];\n",
    "D = Matrix(1.0I, 101, 101)[:, selected_data];\n",
    "s"
   ]
  },
  {
   "cell_type": "code",
   "execution_count": 66,
   "metadata": {},
   "outputs": [
    {
     "data": {
      "text/plain": [
       "101-element Array{Float64,1}:\n",
       " 0.0011302640621757621\n",
       " 0.02770066314539759\n",
       " 0.10151772407545055\n",
       " 0.0\n",
       " 0.25610915747693164\n",
       " 0.00013428537660249162\n",
       " 0.09003700443881506\n",
       " 0.05574370907683892\n",
       " 0.05354760607565086\n",
       " 0.053561867714760604\n",
       " 2.3440104777510103e-5\n",
       " 0.15284319464378268\n",
       " 0.0\n",
       " ⋮\n",
       " 0.0027394360743202323\n",
       " 7.469439224815266e-5\n",
       " 0.18866496469341965\n",
       " 0.1484103392065695\n",
       " 0.016873719861435224\n",
       " 0.0073537692505327885\n",
       " 0.01652816329702802\n",
       " 0.002684390237879137\n",
       " 0.028361399876088253\n",
       " 0.1262101742004988\n",
       " 0.00255421792241594\n",
       " 0.0"
      ]
     },
     "execution_count": 66,
     "metadata": {},
     "output_type": "execute_result"
    }
   ],
   "source": [
    "rank_one_term = (raw_data * u) .^ 2\n",
    "rank_one_term[nodes[:, node_id] .== 0] .= 0\n",
    "rank_one_term"
   ]
  },
  {
   "cell_type": "code",
   "execution_count": 67,
   "metadata": {},
   "outputs": [
    {
     "data": {
      "text/plain": [
       "101-element Array{Float64,1}:\n",
       " 0.9988697359378242\n",
       " 0.9722993368546025\n",
       " 0.8984822759245494\n",
       " 1.0\n",
       " 0.7438908425230684\n",
       " 0.9998657146233975\n",
       " 0.909962995561185\n",
       " 0.9442562909231611\n",
       " 0.9464523939243491\n",
       " 0.9464381322852394\n",
       " 0.9999765598952225\n",
       " 0.8471568053562173\n",
       " 1.0\n",
       " ⋮\n",
       " 0.9972605639256797\n",
       " 0.9999253056077518\n",
       " 0.8113350353065804\n",
       " 0.8515896607934305\n",
       " 0.9831262801385647\n",
       " 0.9926462307494672\n",
       " 0.983471836702972\n",
       " 0.9973156097621209\n",
       " 0.9716386001239118\n",
       " 0.8737898257995012\n",
       " 0.997445782077584\n",
       " 1.0"
      ]
     },
     "execution_count": 67,
     "metadata": {},
     "output_type": "execute_result"
    }
   ],
   "source": [
    "# Upper bound on the contribution from adding one variable into ||E||^2.\n",
    "# The upper bound comes from ||E||_F^2\n",
    "# upper bounded by ||(I-uu')MD||_F^2. Also, we know that normCommunities\n",
    "# has column norm of 1 for every variable.\n",
    "# We should add another upper bound based on taking k columns from this\n",
    "# row into ||E||_F.\n",
    "residual_term = 1 .- rank_one_term"
   ]
  },
  {
   "cell_type": "code",
   "execution_count": 68,
   "metadata": {},
   "outputs": [
    {
     "data": {
      "text/plain": [
       "frobenius_rows_k (generic function with 1 method)"
      ]
     },
     "execution_count": 68,
     "metadata": {},
     "output_type": "execute_result"
    }
   ],
   "source": [
    "function frobenius_rows_k(M, y)\n",
    "    M = M .^ 2\n",
    "    row_quantities = zeros(n)\n",
    "    stillneed = k - sum(y .== 1)\n",
    "    for row_index in 1:n\n",
    "        if y[row_index] == 0\n",
    "            continue\n",
    "        end\n",
    "        row = copy(M[row_index, :])\n",
    "        row_sum = sum(row[y .== 1])\n",
    "        row[y .== 1] .= 0\n",
    "        if y[row_index] == -1\n",
    "            row_sum += row[row_index]\n",
    "            row[row_index] = 0\n",
    "            row_stillneed = stillneed -1\n",
    "        else\n",
    "            row_stillneed = stillneed\n",
    "        end\n",
    "        row_sum += sum(sort(row, rev=true)[1:row_stillneed])\n",
    "        row_quantities[row_index] = row_sum\n",
    "    end\n",
    "    row_quantities\n",
    "end"
   ]
  },
  {
   "cell_type": "code",
   "execution_count": 69,
   "metadata": {},
   "outputs": [
    {
     "data": {
      "text/plain": [
       "101-element Array{Float64,1}:\n",
       " 2.8791477009350745\n",
       " 2.368268229536578\n",
       " 1.8399238146309513\n",
       " 0.0\n",
       " 1.0799128608138524\n",
       " 2.6450376893478134\n",
       " 2.0739675409026956\n",
       " 2.2559632852536087\n",
       " 2.3531832913991217\n",
       " 2.13404028124117\n",
       " 2.871778198643323\n",
       " 0.9300107211590581\n",
       " 0.0\n",
       " ⋮\n",
       " 2.342129587899845\n",
       " 1.9628366529875065\n",
       " 2.02614301670143\n",
       " 1.5229829966217263\n",
       " 2.118548378912177\n",
       " 2.1845508923663695\n",
       " 2.0119418404296447\n",
       " 1.9848715159967312\n",
       " 1.621183029679441\n",
       " 1.2325725671930565\n",
       " 1.4463939058549293\n",
       " 0.0"
      ]
     },
     "execution_count": 69,
     "metadata": {},
     "output_type": "execute_result"
    }
   ],
   "source": [
    "frobenius_rows_k(data - raw_data * u * u' * raw_data, y)"
   ]
  },
  {
   "cell_type": "code",
   "execution_count": 70,
   "metadata": {},
   "outputs": [
    {
     "data": {
      "text/plain": [
       "9"
      ]
     },
     "execution_count": 70,
     "metadata": {},
     "output_type": "execute_result"
    }
   ],
   "source": [
    "sum((y .== -1) .& (frobenius_rows_k(data - raw_data * u * u' * raw_data, y) .< residual_term))"
   ]
  },
  {
   "cell_type": "code",
   "execution_count": 85,
   "metadata": {},
   "outputs": [
    {
     "data": {
      "text/plain": [
       "6.382260199468312"
      ]
     },
     "execution_count": 85,
     "metadata": {},
     "output_type": "execute_result"
    }
   ],
   "source": [
    "stillneed = k - sum(y .== 1)\n",
    "lb_proj_nodes = rank_one_term .>= sort(rank_one_term .* Array{Float64}(y .== -1))[end-stillneed+1]\n",
    "lb_proj_nodes = lb_proj_nodes .& (y .== -1)\n",
    "lb_proj_nodes = lb_proj_nodes .| (y .== 1)\n",
    "lb_proj = sum(rank_one_term[lb_proj_nodes])\n",
    "lb_diag = maximum(svd(raw_data[:, lb_proj_nodes]).S) ^ 2"
   ]
  },
  {
   "cell_type": "code",
   "execution_count": 72,
   "metadata": {},
   "outputs": [
    {
     "data": {
      "text/plain": [
       "3-element Array{Float64,1}:\n",
       " 4.5129968872085975\n",
       " 6.584373256021302\n",
       " 7.0"
      ]
     },
     "execution_count": 72,
     "metadata": {},
     "output_type": "execute_result"
    }
   ],
   "source": [
    "bounds[:, node_id]"
   ]
  },
  {
   "cell_type": "code",
   "execution_count": 73,
   "metadata": {},
   "outputs": [
    {
     "data": {
      "text/plain": [
       "0.6177398005316883"
      ]
     },
     "execution_count": 73,
     "metadata": {},
     "output_type": "execute_result"
    }
   ],
   "source": [
    "lambda_1 = bounds[2, node_id]\n",
    "lambda_2 = bounds[3, node_id] - lb_diag\n",
    "lambda_2_lb = bounds[3, node_id] - lambda_1\n",
    "lambda_2"
   ]
  },
  {
   "cell_type": "code",
   "execution_count": 74,
   "metadata": {},
   "outputs": [],
   "source": [
    "model = COSMO.Model()\n",
    "\n",
    "# Number of auxiliary helper variables\n",
    "# v[n+1] -> sqrt(x(1-x))\n",
    "aux = n+1\n",
    "\n",
    "ones_c = COSMO.Constraint(\n",
    "    [Vector{Float64}(y .== 1)' 0],\n",
    "    [-Float64(sum(y .== 1))],\n",
    "    COSMO.ZeroSet)\n",
    "\n",
    "zeros_c = COSMO.Constraint(\n",
    "    [Vector{Float64}(y .== 0)' 0],\n",
    "    [0.],\n",
    "    COSMO.ZeroSet)\n",
    "\n",
    "nonnegative_c = COSMO.Constraint(\n",
    "    Matrix{Float64}(I, aux, aux),\n",
    "    zeros(aux),\n",
    "    COSMO.Nonnegatives)\n",
    "\n",
    "box_c = COSMO.Constraint(\n",
    "    [I zeros(n, 1)],\n",
    "    zeros(n),\n",
    "    COSMO.Box(zeros(n), ones(n)))\n",
    "\n",
    "trace_c = COSMO.Constraint(\n",
    "    [ones(1, n) 0.],\n",
    "    [-Float64(k)],\n",
    "    COSMO.ZeroSet)\n",
    "\n",
    "x_e = residual_term' / lambda_1^2\n",
    "# sqrt(x(1-x)) >= x_3\n",
    "power_cone = [\n",
    "    x_e 0;\n",
    "    -x_e 0;\n",
    "    zeros(1, n) 1\n",
    "]\n",
    "power_cone = COSMO.Constraint(\n",
    "    power_cone,\n",
    "    [0.; 1; 0],\n",
    "    COSMO.PowerCone(0.5))\n",
    "\n",
    "if (false)\n",
    "    assemble!(\n",
    "        model,\n",
    "        zeros(aux, aux),\n",
    "        [-(x_e .* lambda_2) -sqrt(lambda_1 * lambda_2)],\n",
    "        [ones_c, zeros_c, nonnegative_c, box_c, trace_c, power_cone])\n",
    "else\n",
    "    assemble!(\n",
    "        model,\n",
    "        zeros(aux, aux),\n",
    "        [-(x_e .* lambda_1 + rank_one_term') -sqrt(lambda_1 * lambda_2)],\n",
    "        [ones_c, zeros_c, nonnegative_c, box_c, trace_c, power_cone])\n",
    "end"
   ]
  },
  {
   "cell_type": "code",
   "execution_count": 75,
   "metadata": {},
   "outputs": [
    {
     "data": {
      "text/plain": [
       ">>> COSMO - Results\n",
       "Status: "
      ]
     },
     "execution_count": 75,
     "metadata": {},
     "output_type": "execute_result"
    },
    {
     "name": "stdout",
     "output_type": "stream",
     "text": [
      "\u001b[32mSolved\u001b[39m\n",
      "Iterations: 127 (incl. 27 safeguarding iterations)\n",
      "Optimal Objective: -6.646\n",
      "Runtime: 134.88ms\n",
      "Setup Time: 0.25ms\n",
      "\n",
      "Avg Iter Time: 1.06ms"
     ]
    }
   ],
   "source": [
    "result = COSMO.optimize!(model)"
   ]
  },
  {
   "cell_type": "code",
   "execution_count": 53,
   "metadata": {},
   "outputs": [
    {
     "data": {
      "text/plain": [
       "102-element Array{Float64,1}:\n",
       "  5.862393108023638e-18\n",
       "  7.475917501669558e-16\n",
       "  8.298090657497154e-16\n",
       "  1.9129431112693426e-16\n",
       " -1.0957623803792581e-16\n",
       " -6.181672997169063e-16\n",
       " -1.6639866634306561e-16\n",
       "  6.062010593185355e-17\n",
       " -1.2729208001449343e-15\n",
       " -1.5486059870229226e-17\n",
       " -3.8514703043622913e-16\n",
       "  2.7578503070455356e-16\n",
       "  1.9129431112693426e-16\n",
       "  ⋮\n",
       " -2.4767984999566298e-17\n",
       "  1.0608597181916221e-16\n",
       "  8.602376074086254e-17\n",
       " -5.259807861667811e-16\n",
       " -7.515349368682203e-16\n",
       " -6.308449706801816e-16\n",
       " -4.51244848725479e-16\n",
       " -1.7545301833236387e-15\n",
       " -3.908748658355219e-16\n",
       " -4.8305561488238045e-16\n",
       "  1.9129431112693426e-16\n",
       "  0.13135371544821212"
      ]
     },
     "execution_count": 53,
     "metadata": {},
     "output_type": "execute_result"
    }
   ],
   "source": [
    "result.x"
   ]
  },
  {
   "cell_type": "code",
   "execution_count": 81,
   "metadata": {},
   "outputs": [
    {
     "data": {
      "text/plain": [
       "6.382259002781803"
      ]
     },
     "execution_count": 81,
     "metadata": {},
     "output_type": "execute_result"
    }
   ],
   "source": [
    "maximum(svd(raw_data .* result.x[1:n]).S .^ 2)"
   ]
  },
  {
   "cell_type": "code",
   "execution_count": 82,
   "metadata": {},
   "outputs": [
    {
     "data": {
      "text/plain": [
       "0.35429099638255307"
      ]
     },
     "execution_count": 82,
     "metadata": {},
     "output_type": "execute_result"
    }
   ],
   "source": [
    "maximum(svd((raw_data * (I - u * u')) .* result.x[1:n]).S .^ 2)"
   ]
  },
  {
   "cell_type": "code",
   "execution_count": 83,
   "metadata": {},
   "outputs": [
    {
     "data": {
      "text/plain": [
       "0.8496980351579518"
      ]
     },
     "execution_count": 83,
     "metadata": {},
     "output_type": "execute_result"
    }
   ],
   "source": [
    "sqrt(residual_term' * result.x[1:n])"
   ]
  },
  {
   "cell_type": "code",
   "execution_count": null,
   "metadata": {},
   "outputs": [],
   "source": []
  }
 ],
 "metadata": {
  "kernelspec": {
   "display_name": "Julia 1.4.1",
   "language": "julia",
   "name": "julia-1.4"
  },
  "language_info": {
   "file_extension": ".jl",
   "mimetype": "application/julia",
   "name": "julia",
   "version": "1.4.1"
  }
 },
 "nbformat": 4,
 "nbformat_minor": 4
}
