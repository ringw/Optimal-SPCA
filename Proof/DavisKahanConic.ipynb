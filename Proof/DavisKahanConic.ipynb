{
 "cells": [
  {
   "cell_type": "code",
   "execution_count": 1,
   "metadata": {},
   "outputs": [],
   "source": [
    "using LinearAlgebra, CSV, Random, Tables, COSMO"
   ]
  },
  {
   "cell_type": "code",
   "execution_count": 2,
   "metadata": {},
   "outputs": [
    {
     "data": {
      "text/plain": [
       "4.884981308350689e-15"
      ]
     },
     "metadata": {},
     "output_type": "display_data"
    }
   ],
   "source": [
    "data = CSV.File(\"../NC-Data.csv\") |> Tables.matrix;\n",
    "# Matrix sqrt: via diagonalization and sqrt eigenvalues\n",
    "raw_data = sqrt(data)';\n",
    "n = size(data, 1);\n",
    "N = n * n;\n",
    "k = 7;\n",
    "# All close.\n",
    "maximum(abs.(raw_data * raw_data .- data))"
   ]
  },
  {
   "cell_type": "code",
   "execution_count": 3,
   "metadata": {},
   "outputs": [],
   "source": [
    "nodes = CSV.File(\"../NC-K7-Trace-Nodes.csv\") |> Tables.matrix;\n",
    "bounds = CSV.File(\"../NC-K7-Trace-Bounds.csv\") |> Tables.matrix;"
   ]
  },
  {
   "cell_type": "code",
   "execution_count": 26,
   "metadata": {},
   "outputs": [
    {
     "data": {
      "text/plain": [
       "3"
      ]
     },
     "metadata": {},
     "output_type": "display_data"
    }
   ],
   "source": [
    "# node_id = 50\n",
    "node_id = 300\n",
    "y = nodes[:, node_id]\n",
    "sum(nodes[:, node_id] .== 1)"
   ]
  },
  {
   "cell_type": "code",
   "execution_count": 5,
   "metadata": {},
   "outputs": [
    {
     "data": {
      "text/plain": [
       "3-element Array{Float64,1}:\n",
       " 3.608137513865839\n",
       " 6.26741838326191\n",
       " 7.0"
      ]
     },
     "metadata": {},
     "output_type": "display_data"
    }
   ],
   "source": [
    "bounds[:, node_id]"
   ]
  },
  {
   "cell_type": "code",
   "execution_count": 6,
   "metadata": {},
   "outputs": [
    {
     "data": {
      "text/plain": [
       "3-element Array{Int64,1}:\n",
       " 58\n",
       " 60\n",
       " 62"
      ]
     },
     "metadata": {},
     "output_type": "display_data"
    }
   ],
   "source": [
    "selected_data = findall(nodes[:, node_id] .== 1)"
   ]
  },
  {
   "cell_type": "code",
   "execution_count": 7,
   "metadata": {},
   "outputs": [
    {
     "data": {
      "text/plain": [
       "1.6649665589270974"
      ]
     },
     "metadata": {},
     "output_type": "display_data"
    }
   ],
   "source": [
    "s = maximum(svd(raw_data[:, selected_data]).S)\n",
    "u = svd(raw_data[:, selected_data]).U[:, 1];\n",
    "v = svd(raw_data[:, selected_data]).V[:, 1];\n",
    "D = Matrix(1.0I, 101, 101)[:, selected_data];\n",
    "s"
   ]
  },
  {
   "cell_type": "code",
   "execution_count": 8,
   "metadata": {},
   "outputs": [
    {
     "data": {
      "text/plain": [
       "101-element Array{Float64,1}:\n",
       " 0.042608386423828526\n",
       " 0.12169366148453958\n",
       " 0.0010827657107646796\n",
       " 0.0\n",
       " 0.3576958952379641\n",
       " 0.590931332887428\n",
       " 0.0028134344289715506\n",
       " 0.045710787852978954\n",
       " 0.0134758787384476\n",
       " 0.0402507143194045\n",
       " ⋮\n",
       " 0.19651099861244686\n",
       " 0.03521501895354107\n",
       " 0.00462342769518394\n",
       " 0.026081129247667985\n",
       " 0.0008624637095038933\n",
       " 0.37524469637807883\n",
       " 0.11466762911354514\n",
       " 0.03909959370980699\n",
       " 0.0"
      ]
     },
     "metadata": {},
     "output_type": "display_data"
    }
   ],
   "source": [
    "rank_one_term = (raw_data * u) .^ 2\n",
    "rank_one_term[nodes[:, node_id] .== 0] .= 0\n",
    "rank_one_term"
   ]
  },
  {
   "cell_type": "code",
   "execution_count": 9,
   "metadata": {},
   "outputs": [
    {
     "data": {
      "text/plain": [
       "101-element Array{Float64,1}:\n",
       " 0.9573916135761715\n",
       " 0.8783063385154604\n",
       " 0.9989172342892353\n",
       " 1.0\n",
       " 0.6423041047620359\n",
       " 0.40906866711257195\n",
       " 0.9971865655710285\n",
       " 0.954289212147021\n",
       " 0.9865241212615524\n",
       " 0.9597492856805955\n",
       " ⋮\n",
       " 0.8034890013875531\n",
       " 0.9647849810464589\n",
       " 0.995376572304816\n",
       " 0.973918870752332\n",
       " 0.9991375362904961\n",
       " 0.6247553036219211\n",
       " 0.8853323708864549\n",
       " 0.960900406290193\n",
       " 1.0"
      ]
     },
     "metadata": {},
     "output_type": "display_data"
    }
   ],
   "source": [
    "# Upper bound on the contribution from adding one variable into ||E||^2.\n",
    "# The upper bound comes from ||E||_F^2\n",
    "# upper bounded by ||(I-uu')MD||_F^2. Also, we know that normCommunities\n",
    "# has column norm of 1 for every variable.\n",
    "# We should add another upper bound based on taking k columns from this\n",
    "# row into ||E||_F.\n",
    "residual_term = 1 .- rank_one_term"
   ]
  },
  {
   "cell_type": "code",
   "execution_count": 10,
   "metadata": {},
   "outputs": [
    {
     "data": {
      "text/plain": [
       "6.070332386128684"
      ]
     },
     "metadata": {},
     "output_type": "display_data"
    }
   ],
   "source": [
    "lb_proj_nodes = rank_one_term .>= sort(rank_one_term)[end-k+1]\n",
    "lb_proj = sum(rank_one_term[lb_proj_nodes])\n",
    "lb_diag = maximum(svd(raw_data[:, lb_proj_nodes]).S) ^ 2"
   ]
  },
  {
   "cell_type": "code",
   "execution_count": 11,
   "metadata": {},
   "outputs": [
    {
     "data": {
      "text/plain": [
       "3-element Array{Float64,1}:\n",
       " 3.608137513865839\n",
       " 6.26741838326191\n",
       " 7.0"
      ]
     },
     "metadata": {},
     "output_type": "display_data"
    }
   ],
   "source": [
    "bounds[:, node_id]"
   ]
  },
  {
   "cell_type": "code",
   "execution_count": 12,
   "metadata": {},
   "outputs": [
    {
     "data": {
      "text/plain": [
       "0.9296676138713158"
      ]
     },
     "metadata": {},
     "output_type": "display_data"
    }
   ],
   "source": [
    "lambda_1 = bounds[2, node_id]\n",
    "lambda_2 = bounds[3, node_id] - lb_diag\n",
    "lambda_2_lb = bounds[3, node_id] - lambda_1\n",
    "lambda_2"
   ]
  },
  {
   "cell_type": "code",
   "execution_count": 28,
   "metadata": {},
   "outputs": [],
   "source": [
    "model = COSMO.Model()\n",
    "\n",
    "# Number of auxiliary helper variables\n",
    "# v[n+1] -> sqrt(x(1-x))\n",
    "aux = n+1\n",
    "\n",
    "ones_c = COSMO.Constraint(\n",
    "    [Vector{Float64}(y .== 1)' 0],\n",
    "    [-Float64(sum(y .== 1))],\n",
    "    COSMO.ZeroSet)\n",
    "\n",
    "zeros_c = COSMO.Constraint(\n",
    "    [Vector{Float64}(y .== 0)' 0],\n",
    "    [0.],\n",
    "    COSMO.ZeroSet)\n",
    "\n",
    "nonnegative_c = COSMO.Constraint(\n",
    "    Matrix{Float64}(I, aux, aux),\n",
    "    zeros(aux),\n",
    "    COSMO.Nonnegatives)\n",
    "\n",
    "box_c = COSMO.Constraint(\n",
    "    [I zeros(n, 1)],\n",
    "    zeros(n),\n",
    "    COSMO.Box(zeros(n), ones(n)))\n",
    "\n",
    "trace_c = COSMO.Constraint(\n",
    "    [ones(1, n) 0.],\n",
    "    [-Float64(k)],\n",
    "    COSMO.ZeroSet)\n",
    "\n",
    "x_e = residual_term' / lambda_1^2\n",
    "# sqrt(x(1-x)) >= x_3\n",
    "power_cone = [\n",
    "    x_e 0;\n",
    "    -x_e 0;\n",
    "    zeros(1, n) 1\n",
    "]\n",
    "power_cone = COSMO.Constraint(\n",
    "    power_cone,\n",
    "    [0.; 1; 0],\n",
    "    COSMO.PowerCone(0.5))\n",
    "\n",
    "if (false)\n",
    "    assemble!(\n",
    "        model,\n",
    "        zeros(aux, aux),\n",
    "        [-(x_e .* lambda_2) -sqrt(lambda_1 * lambda_2)],\n",
    "        [ones_c, zeros_c, nonnegative_c, box_c, trace_c, power_cone])\n",
    "else\n",
    "    assemble!(\n",
    "        model,\n",
    "        zeros(aux, aux),\n",
    "        [-(x_e .* lambda_1 + rank_one_term') -sqrt(lambda_1 * lambda_2)],\n",
    "        [ones_c, zeros_c, nonnegative_c, box_c, trace_c, power_cone])\n",
    "end"
   ]
  },
  {
   "cell_type": "code",
   "execution_count": 29,
   "metadata": {},
   "outputs": [
    {
     "data": {
      "text/plain": [
       ">>> COSMO - Results\n",
       "Status: "
      ]
     },
     "metadata": {},
     "output_type": "display_data"
    },
    {
     "name": "stdout",
     "output_type": "stream",
     "text": [
      "\u001b[32mSolved\u001b[39m\n",
      "Iterations: 50 (incl. 0 safeguarding iterations)\n",
      "Optimal Objective: -6.519\n",
      "Runtime: 1.16ms\n",
      "Setup Time: 0.28ms\n",
      "\n",
      "Avg Iter Time: 0.02ms"
     ]
    }
   ],
   "source": [
    "result = COSMO.optimize!(model)"
   ]
  },
  {
   "cell_type": "code",
   "execution_count": 30,
   "metadata": {},
   "outputs": [
    {
     "data": {
      "text/plain": [
       "102-element Array{Float64,1}:\n",
       "  5.110740722057198e-12\n",
       "  8.333235538660357e-13\n",
       "  7.349870555992568e-12\n",
       " -3.384617551620242e-15\n",
       " -1.2405615912363124e-11\n",
       "  0.9999999999758519\n",
       "  7.2564407512562125e-12\n",
       "  4.936161535943614e-12\n",
       "  6.692023616728419e-12\n",
       "  5.235117941419649e-12\n",
       "  ⋮\n",
       "  5.508264952263753e-12\n",
       "  7.169769774529623e-12\n",
       "  5.998792767623775e-12\n",
       "  7.386520937691893e-12\n",
       " -1.3441839834005114e-11\n",
       "  1.2006195741140334e-12\n",
       "  5.283954887870088e-12\n",
       " -3.384617551620242e-15\n",
       "  0.15989526443099525"
      ]
     },
     "metadata": {},
     "output_type": "display_data"
    }
   ],
   "source": [
    "result.x"
   ]
  },
  {
   "cell_type": "code",
   "execution_count": 31,
   "metadata": {},
   "outputs": [
    {
     "data": {
      "text/plain": [
       "6.070332385850657"
      ]
     },
     "metadata": {},
     "output_type": "display_data"
    }
   ],
   "source": [
    "maximum(svd(raw_data .* result.x[1:n]).S .^ 2)"
   ]
  },
  {
   "cell_type": "code",
   "execution_count": 32,
   "metadata": {},
   "outputs": [
    {
     "data": {
      "text/plain": [
       "0.7302230035007676"
      ]
     },
     "metadata": {},
     "output_type": "display_data"
    }
   ],
   "source": [
    "maximum(svd((raw_data * (I - u * u')) .* result.x[1:n]).S .^ 2)"
   ]
  },
  {
   "cell_type": "code",
   "execution_count": 33,
   "metadata": {},
   "outputs": [
    {
     "data": {
      "text/plain": [
       "1.0155512884636682"
      ]
     },
     "metadata": {},
     "output_type": "display_data"
    }
   ],
   "source": [
    "sqrt(residual_term' * result.x[1:n])"
   ]
  },
  {
   "cell_type": "code",
   "execution_count": null,
   "metadata": {},
   "outputs": [],
   "source": []
  }
 ],
 "metadata": {
  "kernelspec": {
   "display_name": "Julia 1.4.1",
   "language": "julia",
   "name": "julia-1.4"
  },
  "language_info": {
   "file_extension": ".jl",
   "mimetype": "application/julia",
   "name": "julia",
   "version": "1.4.1"
  },
  "orig_nbformat": 4
 },
 "nbformat": 4,
 "nbformat_minor": 2
}
