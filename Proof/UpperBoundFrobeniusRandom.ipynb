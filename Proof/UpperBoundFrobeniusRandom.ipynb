{
 "cells": [
  {
   "cell_type": "code",
   "execution_count": 58,
   "metadata": {},
   "outputs": [],
   "source": [
    "using LinearAlgebra, Random, Combinatorics, StatsBase"
   ]
  },
  {
   "cell_type": "code",
   "execution_count": 59,
   "metadata": {},
   "outputs": [],
   "source": [
    "#Random.seed!(1)"
   ]
  },
  {
   "cell_type": "code",
   "execution_count": 60,
   "metadata": {},
   "outputs": [],
   "source": [
    "n = 15\n",
    "k = 8\n",
    "# Q is approximately low-rank.\n",
    "M = randn(5,n) .* [1.0; 0.1; 0.05; 0.01; 0.01]\n",
    "Q = Hermitian(M' * M);"
   ]
  },
  {
   "cell_type": "code",
   "execution_count": 61,
   "metadata": {},
   "outputs": [
    {
     "data": {
      "text/plain": [
       "1-element Array{Float64,1}:\n",
       " 1.0"
      ]
     },
     "metadata": {},
     "output_type": "display_data"
    }
   ],
   "source": [
    "i = 1\n",
    "v = zeros(n)\n",
    "weights = pweights(M[1,:].^2 / sum(M[1,:].^2))\n",
    "support = sample(1:n, weights, i)\n",
    "v[support] = eigen(Hermitian(Q[support,:][:,support])).vectors[:, end]"
   ]
  },
  {
   "cell_type": "code",
   "execution_count": 62,
   "metadata": {},
   "outputs": [
    {
     "data": {
      "text/plain": [
       "15-element Array{Float64,1}:\n",
       " -0.5387208660217729\n",
       "  0.15064962343984398\n",
       " -0.9149472934736609\n",
       " -0.16680151657159478\n",
       " -1.4410771113597918\n",
       " -0.18575134746790786\n",
       "  1.9134362782763399\n",
       "  1.0491356741230013\n",
       "  1.1607482147079071\n",
       " -0.9582695185148172\n",
       " -0.5469914608648216\n",
       " -0.7642876979963475\n",
       "  0.4410599483160326\n",
       " -1.1458511855637021\n",
       "  0.5974819367268513"
      ]
     },
     "metadata": {},
     "output_type": "display_data"
    }
   ],
   "source": [
    "r = Q*v / sqrt(norm((Q*v)[support]))"
   ]
  },
  {
   "cell_type": "code",
   "execution_count": 63,
   "metadata": {},
   "outputs": [
    {
     "data": {
      "text/plain": [
       "1-element Array{Float64,1}:\n",
       " 0.0"
      ]
     },
     "metadata": {},
     "output_type": "display_data"
    }
   ],
   "source": [
    "eigen(Hermitian(Q[:,support][support,:] - r[support]*r[support]')).values"
   ]
  },
  {
   "cell_type": "code",
   "execution_count": 64,
   "metadata": {},
   "outputs": [
    {
     "data": {
      "text/plain": [
       "Eigen{Float64,Float64,Array{Float64,2},Array{Float64,1}}\n",
       "values:\n",
       "1-element Array{Float64,1}:\n",
       " 3.661238391024011\n",
       "vectors:\n",
       "1×1 Array{Float64,2}:\n",
       " 1.0"
      ]
     },
     "metadata": {},
     "output_type": "display_data"
    }
   ],
   "source": [
    "eigen(Hermitian(Q[support,:][:, support]))"
   ]
  },
  {
   "cell_type": "code",
   "execution_count": 65,
   "metadata": {},
   "outputs": [
    {
     "data": {
      "text/plain": [
       "SPCA (generic function with 2 methods)"
      ]
     },
     "metadata": {},
     "output_type": "display_data"
    }
   ],
   "source": [
    "function SPCA(Q, n,k, support)\n",
    "    i = length(support)\n",
    "    choices = setdiff(1:n, support)\n",
    "    values = Dict(p => maximum(eigen(Hermitian(Q[[support;p],:][:,[support;p]])).values)\n",
    "                  for p = combinations(choices, k-i))\n",
    "    opt, opt_support = findmax(values)\n",
    "    opt_support = [support; opt_support]\n",
    "    opt, opt_support\n",
    "end"
   ]
  },
  {
   "cell_type": "code",
   "execution_count": 66,
   "metadata": {},
   "outputs": [
    {
     "data": {
      "text/plain": [
       "(11.857889664305187, [7, 3, 5, 8, 9, 10, 12, 14])"
      ]
     },
     "metadata": {},
     "output_type": "display_data"
    }
   ],
   "source": [
    "obj, opt_support = SPCA(Q, n, k, support)"
   ]
  },
  {
   "cell_type": "code",
   "execution_count": 67,
   "metadata": {},
   "outputs": [
    {
     "data": {
      "text/plain": [
       "finalSum (generic function with 1 method)"
      ]
     },
     "metadata": {},
     "output_type": "display_data"
    }
   ],
   "source": [
    "function zd(arr)\n",
    "    arr = copy(arr)\n",
    "    arr[diagind(arr)] .= 0\n",
    "    arr\n",
    "end\n",
    "function rowSums(arr)\n",
    "    result = fill(NaN, n)\n",
    "    for index = 1:size(arr,1)\n",
    "        if index in support\n",
    "            result[index] = 0\n",
    "            stillneed = k - length(support)\n",
    "        else\n",
    "            result[index] = arr[index, index]\n",
    "            stillneed = k - length(support) + 1\n",
    "        end\n",
    "        result[index] += sum(arr[index, support])\n",
    "        row = copy(Vector(arr[index, :]))\n",
    "        row[support] .= 0.\n",
    "        row[index] = 0.\n",
    "        result[index] += sum(sort(row, rev=true)[1:stillneed])\n",
    "    end\n",
    "    result[1:size(arr,1)]\n",
    "end\n",
    "# Note: Why doesn't finalSum work? We used a simple sort(rev=true)\n",
    "# (via priority queue) in the implementation, and we haven't\n",
    "# finished exploring this finalSum option.\n",
    "function finalSum(arr)\n",
    "    result = fill(NaN, n)\n",
    "    for index = 1:size(arr,1)\n",
    "        stillneed = k - length(support)\n",
    "        result[index] = sum(arr[index, support])\n",
    "        row = copy(Vector(arr[index, :]))\n",
    "        row[support] .= 0.\n",
    "        result[index] += sum(sort(row, rev=true)[1:stillneed])\n",
    "    end\n",
    "    result[1:size(arr,1)]\n",
    "end"
   ]
  },
  {
   "cell_type": "code",
   "execution_count": 68,
   "metadata": {},
   "outputs": [
    {
     "data": {
      "text/plain": [
       "12.70536101395267"
      ]
     },
     "metadata": {},
     "output_type": "display_data"
    }
   ],
   "source": [
    "# Frobenius upper bound\n",
    "sqrt.(sum(sort(rowSums(Q.^2), rev=true)[1:n]))"
   ]
  },
  {
   "cell_type": "code",
   "execution_count": 69,
   "metadata": {},
   "outputs": [
    {
     "data": {
      "text/plain": [
       "12.085589050384218"
      ]
     },
     "metadata": {},
     "output_type": "display_data"
    }
   ],
   "source": [
    "sqrt(finalSum(rowSums(Q.^2)')[1])"
   ]
  },
  {
   "cell_type": "code",
   "execution_count": 70,
   "metadata": {},
   "outputs": [
    {
     "data": {
      "text/plain": [
       "17.886329660846936"
      ]
     },
     "metadata": {},
     "output_type": "display_data"
    }
   ],
   "source": [
    "gersh_ub = maximum(rowSums(abs.(Q)))"
   ]
  },
  {
   "cell_type": "code",
   "execution_count": 71,
   "metadata": {},
   "outputs": [
    {
     "data": {
      "text/plain": [
       "1-element Array{Float64,1}:\n",
       " 11.838483357289906"
      ]
     },
     "metadata": {},
     "output_type": "display_data"
    }
   ],
   "source": [
    "# Lower bound from trace of the rank-one system\n",
    "finalSum(r' .^ 2)"
   ]
  },
  {
   "cell_type": "code",
   "execution_count": 72,
   "metadata": {},
   "outputs": [
    {
     "data": {
      "text/plain": [
       "0.5841356853085562"
      ]
     },
     "metadata": {},
     "output_type": "display_data"
    }
   ],
   "source": [
    "smallest_contribution = copy(r .^ 2)\n",
    "smallest_contribution[support] .= 0\n",
    "smallest_contribution = sort(smallest_contribution, rev=true)[k-length(support)]"
   ]
  },
  {
   "cell_type": "code",
   "execution_count": 73,
   "metadata": {},
   "outputs": [
    {
     "data": {
      "text/plain": [
       "7.866258691819837"
      ]
     },
     "metadata": {},
     "output_type": "display_data"
    }
   ],
   "source": [
    "# Lower threshold for eliminating variables\n",
    "threshold_sq = finalSum(r'.^2)[1] ^ 2 - (\n",
    "    sqrt(finalSum(rowSums(Q.^2)')[1])\n",
    "    - smallest_contribution\n",
    ")^2"
   ]
  },
  {
   "cell_type": "code",
   "execution_count": 74,
   "metadata": {},
   "outputs": [
    {
     "data": {
      "text/plain": [
       "15-element Array{Float64,1}:\n",
       "  7.142382647483415\n",
       "  0.5446539129708388\n",
       " 20.376347771200013\n",
       "  0.6695832707130943\n",
       " 47.915245763786686\n",
       "  0.8261453880481558\n",
       " 73.28235296250915\n",
       " 26.229665139398374\n",
       " 32.02788306193116\n",
       " 22.3472929261179\n",
       "  7.5382152001611615\n",
       " 14.335500408516515\n",
       "  4.8499994076319535\n",
       " 31.046866751807244\n",
       "  8.788041828818185"
      ]
     },
     "metadata": {},
     "output_type": "display_data"
    }
   ],
   "source": [
    "frobenius_cutout = rowSums(Q.^2)*2 - diag(Q.^2)"
   ]
  },
  {
   "cell_type": "code",
   "execution_count": 75,
   "metadata": {},
   "outputs": [
    {
     "data": {
      "text/plain": [
       "0.5446539129708388"
      ]
     },
     "metadata": {},
     "output_type": "display_data"
    }
   ],
   "source": [
    "minimum(frobenius_cutout)"
   ]
  },
  {
   "cell_type": "code",
   "execution_count": 76,
   "metadata": {},
   "outputs": [
    {
     "data": {
      "text/plain": [
       "0-element Array{Int64,1}"
      ]
     },
     "metadata": {},
     "output_type": "display_data"
    }
   ],
   "source": [
    "# Should be empty. Variables that are in the support should satisfy the inequality.\n",
    "intersect(setdiff(opt_support, support), findall(frobenius_cutout .< threshold_sq))"
   ]
  },
  {
   "cell_type": "code",
   "execution_count": 77,
   "metadata": {},
   "outputs": [
    {
     "data": {
      "text/plain": [
       "13.489346678998075"
      ]
     },
     "metadata": {},
     "output_type": "display_data"
    }
   ],
   "source": [
    "# Lower threshold for eliminating variables\n",
    "threshold_sq = finalSum(r'.^2)[1] ^ 2 - (\n",
    "    finalSum(r'.^2)[1]\n",
    "    - smallest_contribution\n",
    ")^2"
   ]
  },
  {
   "cell_type": "code",
   "execution_count": 78,
   "metadata": {},
   "outputs": [
    {
     "data": {
      "text/plain": [
       "0-element Array{Int64,1}"
      ]
     },
     "metadata": {},
     "output_type": "display_data"
    }
   ],
   "source": [
    "# Should be empty. Variables that are in the support should satisfy the inequality.\n",
    "# However, some variables might be \"forced on\" and are not considered an issue.\n",
    "intersect(\n",
    "    setdiff(opt_support, support),\n",
    "    findall(frobenius_cutout .< threshold_sq))"
   ]
  },
  {
   "cell_type": "code",
   "execution_count": 79,
   "metadata": {},
   "outputs": [
    {
     "data": {
      "text/plain": [
       "8-element Array{Int64,1}:\n",
       "  7\n",
       "  3\n",
       "  5\n",
       "  8\n",
       "  9\n",
       " 10\n",
       " 12\n",
       " 14"
      ]
     },
     "metadata": {},
     "output_type": "display_data"
    }
   ],
   "source": [
    "opt_support"
   ]
  },
  {
   "cell_type": "code",
   "execution_count": 80,
   "metadata": {},
   "outputs": [
    {
     "data": {
      "text/plain": [
       "15-element Array{Float64,1}:\n",
       "  7.142382647483415\n",
       "  0.5446539129708388\n",
       " 20.376347771200013\n",
       "  0.6695832707130943\n",
       " 47.915245763786686\n",
       "  0.8261453880481558\n",
       " 73.28235296250915\n",
       " 26.229665139398374\n",
       " 32.02788306193116\n",
       " 22.3472929261179\n",
       "  7.5382152001611615\n",
       " 14.335500408516515\n",
       "  4.8499994076319535\n",
       " 31.046866751807244\n",
       "  8.788041828818185"
      ]
     },
     "metadata": {},
     "output_type": "display_data"
    }
   ],
   "source": [
    "frobenius_cutout"
   ]
  },
  {
   "cell_type": "code",
   "execution_count": 88,
   "metadata": {},
   "outputs": [],
   "source": [
    "n = 15\n",
    "k = 8\n",
    "i = 1\n",
    "for sd = 1000:10000\n",
    "    Random.seed!(sd)\n",
    "    # Q is approximately low-rank.\n",
    "    M = randn(5,n) .* [1.0; 0.1; 0.05; 0.01; 0.01]\n",
    "    Q = Hermitian(M' * M);\n",
    "    v = zeros(n)\n",
    "    weights = pweights(M[1,:].^2 / sum(M[1,:].^2))\n",
    "    support = sample(1:n, weights, i)\n",
    "    v[support] = eigen(Hermitian(Q[support,:][:,support])).vectors[:, end]\n",
    "    obj, opt_support = SPCA(Q, n,k, support)\n",
    "\n",
    "    r = Q*v / sqrt(norm((Q*v)[support]))\n",
    "    smallest_contribution = copy(r .^ 2)\n",
    "    smallest_contribution[support] .= 0\n",
    "    smallest_contribution = sort(smallest_contribution, rev=true)[k-length(support)]\n",
    "\n",
    "    # Lower and upper bound\n",
    "    # @assert finalSum(r'.^2)[1] < obj \"@$sd obj ($obj)\"\n",
    "    f_sorted = sqrt.(sum(sort(rowSums(Q.^2), rev=true)[1:n]))\n",
    "    f_constrained = finalSum(rowSums(Q.^2)')[1]\n",
    "    @assert obj <= sqrt.(sum(sort(rowSums(Q.^2), rev=true)[1:n])) \"@$sd obj ($obj) f_s ($f_sorted)\"\n",
    "    @assert obj <= finalSum(rowSums(Q.^2)')[1] \"@$sd obj ($obj) f_c ($f_constrained)\"\n",
    "\n",
    "    # Lower threshold for eliminating variables\n",
    "    threshold_sq = finalSum(r'.^2)[1] ^ 2 - (\n",
    "        # finalSum(r'.^2)[1]\n",
    "        sqrt(finalSum(rowSums(Q.^2)')[1])\n",
    "        - smallest_contribution\n",
    "    )^2\n",
    "    # if threshold_sq > 0\n",
    "    #     print(\"threshold @$sd\\n\")\n",
    "    # end\n",
    "    # Upper threshold for each variable's squared contribution\n",
    "    frobenius_cutout = rowSums(Q.^2)*2 - diag(Q.^2)\n",
    "    bad_var = intersect(\n",
    "        setdiff(opt_support, support),\n",
    "        findall(frobenius_cutout .< threshold_sq))\n",
    "    @assert length(bad_var) == 0 \"@$sd vars $bad_var\"\n",
    "end"
   ]
  },
  {
   "cell_type": "code",
   "execution_count": 82,
   "metadata": {},
   "outputs": [],
   "source": []
  }
 ],
 "metadata": {
  "kernelspec": {
   "display_name": "Julia 1.4.1",
   "language": "julia",
   "name": "julia-1.4"
  },
  "language_info": {
   "file_extension": ".jl",
   "mimetype": "application/julia",
   "name": "julia",
   "version": "1.4.1"
  },
  "orig_nbformat": 4
 },
 "nbformat": 4,
 "nbformat_minor": 2
}
