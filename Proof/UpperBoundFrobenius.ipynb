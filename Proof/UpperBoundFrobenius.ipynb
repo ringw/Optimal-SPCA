{
 "cells": [
  {
   "cell_type": "code",
   "execution_count": 11,
   "metadata": {},
   "outputs": [],
   "source": [
    "using LinearAlgebra, CSV, Random, Tables, JuMP, COSMO, SparseArrays"
   ]
  },
  {
   "cell_type": "code",
   "execution_count": 2,
   "metadata": {},
   "outputs": [
    {
     "data": {
      "text/plain": [
       "3-element Array{Int64,1}:\n",
       " 58\n",
       " 60\n",
       " 62"
      ]
     },
     "metadata": {},
     "output_type": "display_data"
    }
   ],
   "source": [
    "data = CSV.File(\"../NC-Data.csv\") |> Tables.matrix;\n",
    "# Matrix sqrt: via diagonalization and sqrt eigenvalues\n",
    "raw_data = sqrt(data)';\n",
    "n = size(data, 1);\n",
    "N = n * n;\n",
    "k = 7;\n",
    "# All close.\n",
    "maximum(abs.(raw_data * raw_data .- data))\n",
    "nodes = CSV.File(\"../NC-K7-Trace-Nodes.csv\") |> Tables.matrix;\n",
    "bounds = CSV.File(\"../NC-K7-Trace-Bounds.csv\") |> Tables.matrix;\n",
    "# node_id = 50\n",
    "node_id = 300\n",
    "sum(nodes[:, node_id] .== 1)\n",
    "bounds[:, node_id]\n",
    "selected_data = findall(nodes[:, node_id] .== 1)"
   ]
  },
  {
   "cell_type": "code",
   "execution_count": 3,
   "metadata": {},
   "outputs": [],
   "source": [
    "data_sq = data .* data;"
   ]
  },
  {
   "cell_type": "code",
   "execution_count": 4,
   "metadata": {},
   "outputs": [
    {
     "name": "stdout",
     "output_type": "stream",
     "text": [
      "----------------------------------------------------------------------------\n",
      "\tSCS v2.1.4 - Splitting Conic Solver\n",
      "\t(c) Brendan O'Donoghue, Stanford University, 2012\n",
      "----------------------------------------------------------------------------\n",
      "Lin-sys: sparse-direct, nnz in A = 20604\n",
      "eps = 1.00e-05, alpha = 1.50, max_iters = 5000, normalize = 1, scale = 1.00\n",
      "acceleration_lookback = 10, rho_x = 1.00e-03\n",
      "Variables n = 5151, constraints m = 10404\n",
      "Cones:\tprimal zero / dual free vars: 102\n",
      "\tlinear vars: 5151\n",
      "\tsd vars: 5151, sd blks: 1\n",
      "Setup time: 1.18e-02s\n",
      "SCS using variable warm-starting\n",
      "----------------------------------------------------------------------------\n",
      " Iter | pri res | dua res | rel gap | pri obj | dua obj | kap/tau | time (s)\n",
      "----------------------------------------------------------------------------\n",
      "     0| 3.00e-01  6.21e-01  7.16e-01 -4.07e+02 -6.70e+01  0.00e+00  6.04e-03 \n",
      "   100| 9.85e-08  1.84e-07  8.13e-09 -8.15e+01 -8.15e+01  7.92e-16  1.08e+00 \n",
      "----------------------------------------------------------------------------\n",
      "Status: Solved\n",
      "Timing: Solve time: 1.08e+00s\n",
      "\tLin-sys: nnz in L factor: 41310, avg solve time: 3.30e-04s\n",
      "\tCones: avg projection time: 7.79e-03s\n",
      "\tAcceleration: avg step time: 2.08e-03s\n",
      "----------------------------------------------------------------------------\n",
      "Error metrics:\n",
      "dist(s, K) = 1.3000e-09, dist(y, K*) = 1.9046e-09, s'y/|s||y| = 5.9612e-11\n",
      "primal res: |Ax + s - b|_2 / (1 + |b|_2) = 9.8546e-08\n",
      "dual res:   |A'y + c|_2 / (1 + |c|_2) = 1.8370e-07\n",
      "rel gap:    |c'x + b'y| / (1 + |c'x| + |b'y|) = 8.1327e-09\n",
      "----------------------------------------------------------------------------\n",
      "c'x = -81.4855, -b'y = -81.4855\n",
      "============================================================================\n"
     ]
    }
   ],
   "source": [
    "model = Model(SCS.Optimizer)\n",
    "@variable(model, S[1:n, 1:n] >= 0, PSD)\n",
    "@objective(model, Max, LinearAlgebra.tr(data_sq * S))\n",
    "@constraint(model, [i = 1:n], sum(S[i, :]) .== k)\n",
    "@constraint(model, LinearAlgebra.tr(S) == k)\n",
    "optimize!(model)"
   ]
  },
  {
   "cell_type": "code",
   "execution_count": 63,
   "metadata": {},
   "outputs": [],
   "source": [
    "model = COSMO.Model();\n",
    "P = spzeros(N, N)\n",
    "q = vec(-data_sq)\n",
    "\n",
    "row_c = repeat(Matrix(-1.0I, n, n), inner=(1, n))\n",
    "for i = 1:n\n",
    "    row_c[i, 1 + (n+1)*(i-1)] = k-1\n",
    "end\n",
    "row_c = COSMO.Constraint(row_c, zeros(n), COSMO.ZeroSet)\n",
    "\n",
    "assemble!(\n",
    "    model,\n",
    "    P,\n",
    "    q,\n",
    "    [\n",
    "        # PSD\n",
    "        COSMO.Constraint(sparse(1.0I, N, N), zeros(N), COSMO.PsdCone),\n",
    "        # [0, 1] constraint\n",
    "        COSMO.Constraint(sparse(1.0I, N, N), zeros(N), COSMO.Box(zeros(N), ones(N))),\n",
    "        # Trace == k\n",
    "        COSMO.Constraint(vec(Matrix(1.0I, n, n))', -Float64(k), COSMO.ZeroSet),\n",
    "        row_c,\n",
    "    ])"
   ]
  },
  {
   "cell_type": "code",
   "execution_count": 64,
   "metadata": {},
   "outputs": [
    {
     "data": {
      "text/plain": [
       ">>> COSMO - Results\n",
       "Status: "
      ]
     },
     "metadata": {},
     "output_type": "display_data"
    },
    {
     "name": "stdout",
     "output_type": "stream",
     "text": [
      "\u001b[32mSolved\u001b[39m\n",
      "Iterations: 150 (incl. 0 safeguarding iterations)\n",
      "Optimal Objective: -42.54\n",
      "Runtime: 877.13ms\n",
      "Setup Time: 15.08ms\n",
      "\n",
      "Avg Iter Time: 5.74ms"
     ]
    }
   ],
   "source": [
    "result = COSMO.optimize!(model)"
   ]
  },
  {
   "cell_type": "code",
   "execution_count": 67,
   "metadata": {},
   "outputs": [
    {
     "data": {
      "text/plain": [
       "6.52237090658127"
      ]
     },
     "metadata": {},
     "output_type": "display_data"
    }
   ],
   "source": [
    "sqrt(-result.obj_val)"
   ]
  },
  {
   "cell_type": "code",
   "execution_count": 68,
   "metadata": {},
   "outputs": [
    {
     "data": {
      "text/plain": [
       "3×3 Array{Float64,2}:\n",
       "  1.0        -0.0461484   0.231178\n",
       " -0.0461484   1.0        -0.0671091\n",
       "  0.231178   -0.0671091   1.0"
      ]
     },
     "metadata": {},
     "output_type": "display_data"
    }
   ],
   "source": [
    "data[1:3,1:3]"
   ]
  },
  {
   "cell_type": "code",
   "execution_count": 77,
   "metadata": {},
   "outputs": [
    {
     "ename": "ArgumentError",
     "evalue": "ArgumentError: invalid index: UnitRange{Int64}[1:3] of type Array{UnitRange{Int64},1}",
     "output_type": "error",
     "traceback": [
      "ArgumentError: invalid index: UnitRange{Int64}[1:3] of type Array{UnitRange{Int64},1}\n",
      "\n",
      "Stacktrace:\n",
      " [1] to_index(::Array{UnitRange{Int64},1}) at ./indices.jl:294\n",
      " [2] to_index(::Array{Float64,2}, ::Array{UnitRange{Int64},1}) at ./indices.jl:274\n",
      " [3] to_indices at ./indices.jl:325 [inlined]\n",
      " [4] to_indices at ./indices.jl:321 [inlined]\n",
      " [5] getindex(::Array{Float64,2}, ::Array{UnitRange{Int64},1}, ::Array{UnitRange{Int64},1}) at ./abstractarray.jl:980\n",
      " [6] top-level scope at /home/ringwalt/Optimal-SPCA/Proof/UpperBoundFrobenius.ipynb:1"
     ]
    }
   ],
   "source": [
    "data[[1:3], [1:3]]"
   ]
  },
  {
   "cell_type": "code",
   "execution_count": 78,
   "metadata": {},
   "outputs": [
    {
     "data": {
      "text/plain": [
       "1:102:10201"
      ]
     },
     "metadata": {},
     "output_type": "display_data"
    }
   ],
   "source": [
    "diagind(data)"
   ]
  },
  {
   "cell_type": "code",
   "execution_count": 66,
   "metadata": {},
   "outputs": [
    {
     "data": {
      "text/plain": [
       "(:x, :y, :s, :obj_val, :iter, :safeguarding_iter, :status, :info, :times)"
      ]
     },
     "metadata": {},
     "output_type": "display_data"
    }
   ],
   "source": [
    "fieldnames(COSMO.Result)"
   ]
  },
  {
   "cell_type": "code",
   "execution_count": 59,
   "metadata": {},
   "outputs": [
    {
     "data": {
      "text/plain": [
       "6.522269543648131"
      ]
     },
     "metadata": {},
     "output_type": "display_data"
    }
   ],
   "source": [
    "sqrt(42.54)"
   ]
  },
  {
   "cell_type": "code",
   "execution_count": null,
   "metadata": {},
   "outputs": [],
   "source": []
  }
 ],
 "metadata": {
  "kernelspec": {
   "display_name": "Julia 1.4.1",
   "language": "julia",
   "name": "julia-1.4"
  },
  "language_info": {
   "file_extension": ".jl",
   "mimetype": "application/julia",
   "name": "julia",
   "version": "1.4.1"
  },
  "orig_nbformat": 4
 },
 "nbformat": 4,
 "nbformat_minor": 2
}
