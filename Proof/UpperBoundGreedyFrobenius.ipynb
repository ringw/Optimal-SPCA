{
 "cells": [
  {
   "cell_type": "code",
   "execution_count": 2,
   "metadata": {},
   "outputs": [],
   "source": [
    "using LinearAlgebra, CSV, Random, Tables, SparseArrays"
   ]
  },
  {
   "cell_type": "code",
   "execution_count": 34,
   "metadata": {},
   "outputs": [
    {
     "data": {
      "text/plain": [
       "MersenneTwister(UInt32[0x00000002], Random.DSFMT.DSFMT_state(Int32[-641910338, 1073498426, 723285883, 1072698796, -1488430546, 1073569104, -731969899, 1072832439, 428204485, 1073526484  …  -1507702375, 1073598657, -1605363939, 1073095897, -2041507079, 747155801, 735731947, -1871817892, 382, 0]), [0.0, 0.0, 0.0, 0.0, 0.0, 0.0, 0.0, 0.0, 0.0, 0.0  …  0.0, 0.0, 0.0, 0.0, 0.0, 0.0, 0.0, 0.0, 0.0, 0.0], UInt128[0x00000000000000000000000000000000, 0x00000000000000000000000000000000, 0x00000000000000000000000000000000, 0x00000000000000000000000000000000, 0x00000000000000000000000000000000, 0x00000000000000000000000000000000, 0x00000000000000000000000000000000, 0x00000000000000000000000000000000, 0x00000000000000000000000000000000, 0x00000000000000000000000000000000  …  0x00000000000000000000000000000000, 0x00000000000000000000000000000000, 0x00000000000000000000000000000000, 0x00000000000000000000000000000000, 0x00000000000000000000000000000000, 0x00000000000000000000000000000000, 0x00000000000000000000000000000000, 0x00000000000000000000000000000000, 0x00000000000000000000000000000000, 0x00000000000000000000000000000000], 1002, 0)"
      ]
     },
     "execution_count": 34,
     "metadata": {},
     "output_type": "execute_result"
    }
   ],
   "source": [
    "Random.seed!(2)"
   ]
  },
  {
   "cell_type": "code",
   "execution_count": 35,
   "metadata": {},
   "outputs": [
    {
     "data": {
      "text/plain": [
       "8×8 Array{Float64,2}:\n",
       " 1.0       0.910652  0.667126  0.77049   …  0.811279  0.807666  0.583884\n",
       " 0.910652  1.0       0.738337  0.59302      0.632016  0.835459  0.337023\n",
       " 0.667126  0.738337  1.0       0.464419     0.503066  0.700058  0.493336\n",
       " 0.77049   0.59302   0.464419  1.0          0.972725  0.606557  0.761338\n",
       " 0.656254  0.777817  0.873803  0.427802     0.389157  0.83711   0.447903\n",
       " 0.811279  0.632016  0.503066  0.972725  …  1.0       0.606443  0.697792\n",
       " 0.807666  0.835459  0.700058  0.606557     0.606443  1.0       0.566714\n",
       " 0.583884  0.337023  0.493336  0.761338     0.697792  0.566714  1.0"
      ]
     },
     "execution_count": 35,
     "metadata": {},
     "output_type": "execute_result"
    }
   ],
   "source": [
    "n = 8\n",
    "k = 3\n",
    "raw_data = rand(n, n)\n",
    "raw_data = raw_data ./ mapslices(norm, raw_data, dims = 1)\n",
    "data = raw_data' * raw_data\n",
    "raw_data = sqrt(data)\n",
    "data"
   ]
  },
  {
   "cell_type": "code",
   "execution_count": 36,
   "metadata": {},
   "outputs": [
    {
     "data": {
      "text/plain": [
       "2.784004248367566"
      ]
     },
     "execution_count": 36,
     "metadata": {},
     "output_type": "execute_result"
    }
   ],
   "source": [
    "gersh = maximum(-sum(mapslices(sort, -data, dims=2)[begin:end, 1:k], dims=2))"
   ]
  },
  {
   "cell_type": "code",
   "execution_count": 37,
   "metadata": {},
   "outputs": [
    {
     "data": {
      "text/plain": [
       "2.7697464105389313"
      ]
     },
     "execution_count": 37,
     "metadata": {},
     "output_type": "execute_result"
    }
   ],
   "source": [
    "frob = sqrt(-sum(sort(sum(mapslices(sort, -data .^ 2, dims=2)[begin:end, 1:k], dims=2), dims=1)[1:3]))"
   ]
  },
  {
   "cell_type": "code",
   "execution_count": 38,
   "metadata": {},
   "outputs": [
    {
     "data": {
      "text/plain": [
       "0.5"
      ]
     },
     "execution_count": 38,
     "metadata": {},
     "output_type": "execute_result"
    }
   ],
   "source": [
    "data[1, 2] = 0.5\n",
    "data[2, 1] = 0.5"
   ]
  },
  {
   "cell_type": "code",
   "execution_count": 39,
   "metadata": {},
   "outputs": [
    {
     "data": {
      "text/plain": [
       "2.784004248367566"
      ]
     },
     "execution_count": 39,
     "metadata": {},
     "output_type": "execute_result"
    }
   ],
   "source": [
    "gersh = maximum(-sum(mapslices(sort, -data, dims=2)[begin:end, 1:k], dims=2))"
   ]
  },
  {
   "cell_type": "code",
   "execution_count": 40,
   "metadata": {},
   "outputs": [
    {
     "data": {
      "text/plain": [
       "2.7583513822149555"
      ]
     },
     "execution_count": 40,
     "metadata": {},
     "output_type": "execute_result"
    }
   ],
   "source": [
    "frob = sqrt(-sum(sort(sum(mapslices(sort, -data .^ 2, dims=2)[begin:end, 1:k], dims=2), dims=1)[1:3]))"
   ]
  },
  {
   "cell_type": "code",
   "execution_count": null,
   "metadata": {},
   "outputs": [],
   "source": []
  }
 ],
 "metadata": {
  "kernelspec": {
   "display_name": "Julia 1.4.1",
   "language": "julia",
   "name": "julia-1.4"
  },
  "language_info": {
   "file_extension": ".jl",
   "mimetype": "application/julia",
   "name": "julia",
   "version": "1.4.1"
  }
 },
 "nbformat": 4,
 "nbformat_minor": 4
}
