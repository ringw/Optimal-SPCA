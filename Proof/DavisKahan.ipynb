{
 "cells": [
  {
   "cell_type": "code",
   "execution_count": 34,
   "metadata": {},
   "outputs": [],
   "source": [
    "using LinearAlgebra, CSV, Random, Tables"
   ]
  },
  {
   "cell_type": "code",
   "execution_count": 3,
   "metadata": {},
   "outputs": [
    {
     "data": {
      "text/plain": [
       "3×3 Array{Int64,2}:\n",
       " 1  0  0\n",
       " 0  2  0\n",
       " 0  0  3"
      ]
     },
     "metadata": {},
     "output_type": "display_data"
    }
   ],
   "source": [
    "diagm(1:3)"
   ]
  },
  {
   "cell_type": "code",
   "execution_count": 4,
   "metadata": {},
   "outputs": [
    {
     "data": {
      "text/plain": [
       "4.884981308350689e-15"
      ]
     },
     "metadata": {},
     "output_type": "display_data"
    }
   ],
   "source": [
    "data = CSV.File(\"../NC-Data.csv\") |> Tables.matrix;\n",
    "# Matrix sqrt: via diagonalization and sqrt eigenvalues\n",
    "raw_data = sqrt(data)';\n",
    "n = size(data, 1);\n",
    "N = n * n;\n",
    "# All close.\n",
    "maximum(abs.(raw_data * raw_data .- data))"
   ]
  },
  {
   "cell_type": "code",
   "execution_count": 23,
   "metadata": {},
   "outputs": [
    {
     "data": {
      "text/plain": [
       "7"
      ]
     },
     "metadata": {},
     "output_type": "display_data"
    }
   ],
   "source": [
    "selected_data = [3; 83; 85];\n",
    "y = -ones(n)\n",
    "y[selected_data] .= 1\n",
    "opt_inds = [79; 80; 81; 84];\n",
    "k = 7"
   ]
  },
  {
   "cell_type": "code",
   "execution_count": 24,
   "metadata": {},
   "outputs": [
    {
     "data": {
      "text/plain": [
       "3-element Array{Float64,1}:\n",
       " 1.0\n",
       " 1.0\n",
       " 1.0"
      ]
     },
     "metadata": {},
     "output_type": "display_data"
    }
   ],
   "source": [
    "y[selected_data]"
   ]
  },
  {
   "cell_type": "code",
   "execution_count": 6,
   "metadata": {},
   "outputs": [
    {
     "data": {
      "text/plain": [
       "1.4499823628525759"
      ]
     },
     "metadata": {},
     "output_type": "display_data"
    }
   ],
   "source": [
    "s = maximum(svd(raw_data[:, selected_data]).S)\n",
    "u = svd(raw_data[:, selected_data]).U[:, 1];\n",
    "v = svd(raw_data[:, selected_data]).V[:, 1];\n",
    "D = Matrix(1.0I, 101, 101)[:, selected_data];\n",
    "s"
   ]
  },
  {
   "cell_type": "code",
   "execution_count": 7,
   "metadata": {},
   "outputs": [
    {
     "data": {
      "text/plain": [
       "3-element Array{Float64,1}:\n",
       " 2.102448852583539\n",
       " 0.8291308235464361\n",
       " 0.06842032387002067"
      ]
     },
     "metadata": {},
     "output_type": "display_data"
    }
   ],
   "source": [
    "svd(raw_data[:, selected_data]).S .^ 2"
   ]
  },
  {
   "cell_type": "code",
   "execution_count": 8,
   "metadata": {},
   "outputs": [
    {
     "data": {
      "text/plain": [
       "25.582479205536032"
      ]
     },
     "metadata": {},
     "output_type": "display_data"
    }
   ],
   "source": [
    "maximum(eigvals(data))"
   ]
  },
  {
   "cell_type": "code",
   "execution_count": 9,
   "metadata": {},
   "outputs": [
    {
     "data": {
      "text/plain": [
       "19.502666782823834"
      ]
     },
     "metadata": {},
     "output_type": "display_data"
    }
   ],
   "source": [
    "maximum(eigvals(data - raw_data' * u * u' * raw_data))"
   ]
  },
  {
   "cell_type": "code",
   "execution_count": 13,
   "metadata": {},
   "outputs": [
    {
     "data": {
      "text/plain": [
       "19.5026667828238"
      ]
     },
     "metadata": {},
     "output_type": "display_data"
    }
   ],
   "source": [
    "maximum(eigvals(raw_data * (I - raw_data * D * v * v' * D' * raw_data' / s^2) * raw_data))"
   ]
  },
  {
   "cell_type": "code",
   "execution_count": 14,
   "metadata": {},
   "outputs": [
    {
     "data": {
      "text/plain": [
       "19.502666782823788"
      ]
     },
     "metadata": {},
     "output_type": "display_data"
    }
   ],
   "source": [
    "maximum(eigvals((I - raw_data * D * v * v' * D' * raw_data' / s^2) * data))"
   ]
  },
  {
   "cell_type": "code",
   "execution_count": 15,
   "metadata": {},
   "outputs": [
    {
     "data": {
      "text/plain": [
       "YuanSubset (generic function with 1 method)"
      ]
     },
     "metadata": {},
     "output_type": "display_data"
    }
   ],
   "source": [
    "K = 7\n",
    "localSearchSteps = 2\n",
    "Sigma = data\n",
    "function YuanSubset(y)\n",
    "    beta = Hk(startingEig, K, y)\n",
    "\n",
    "        for i = 1:localSearchSteps\n",
    "            beta = Hk(sparseTimes(Sigma,beta), K, y)\n",
    "        end\n",
    "        bestObj = (transpose(beta)*sparseTimes(Sigma,beta))[1]\n",
    "\n",
    "    return bestObj, beta\n",
    "end"
   ]
  },
  {
   "cell_type": "code",
   "execution_count": 69,
   "metadata": {},
   "outputs": [
    {
     "data": {
      "text/plain": [
       "2.102448852583539"
      ]
     },
     "metadata": {},
     "output_type": "display_data"
    }
   ],
   "source": [
    "function NaiveEig(y)\n",
    "    selected = findall(y .== 1)\n",
    "    i = K - size(selected)[1]\n",
    "    permissible = findall(y .== -1)\n",
    "    return maximum([\n",
    "        maximum(svd(raw_data[\n",
    "            [selected; permissible[randperm(size(permissible)[1])[1:i]]],\n",
    "            :]).S) ^ 2\n",
    "        for x in 1:1000\n",
    "    ])\n",
    "end\n",
    "min(s^2, NaiveEig(y))"
   ]
  },
  {
   "cell_type": "code",
   "execution_count": 72,
   "metadata": {},
   "outputs": [
    {
     "data": {
      "text/plain": [
       "101×1 Array{Float64,2}:\n",
       " 0.07840949118222473\n",
       " 0.083231804551119\n",
       " 0.09716119881323693\n",
       " 0.1071646153518997\n",
       " 0.23200393802442631\n",
       " 0.25748323108433635\n",
       " 0.2826088084450322\n",
       " 0.2994137798860217\n",
       " 0.30672839486145065\n",
       " 0.4130785461893913\n",
       " ⋮\n",
       " 0.9974140694696207\n",
       " 0.9974810282462534\n",
       " 0.9975074122838447\n",
       " 0.9990195804099145\n",
       " 0.9994710806101498\n",
       " 0.9994990973643176\n",
       " 0.9996455377887329\n",
       " 0.9997988552808758\n",
       " 0.9999954454602588"
      ]
     },
     "metadata": {},
     "output_type": "display_data"
    }
   ],
   "source": [
    "# raw_data variables have unit norm.\n",
    "dk_column_square_norms = mapslices(norm, raw_data, dims=2) .- (raw_data * u) .^ 2\n",
    "sort(dk_column_square_norms, dims=1)"
   ]
  },
  {
   "cell_type": "code",
   "execution_count": 74,
   "metadata": {},
   "outputs": [
    {
     "data": {
      "text/plain": [
       "0.24619147736084804"
      ]
     },
     "metadata": {},
     "output_type": "display_data"
    }
   ],
   "source": [
    "2 * sum(sort(dk_column_square_norms, dims=1)[1:3]) / min(s^2, NaiveEig(y))"
   ]
  },
  {
   "cell_type": "code",
   "execution_count": null,
   "metadata": {},
   "outputs": [],
   "source": []
  }
 ],
 "metadata": {
  "kernelspec": {
   "display_name": "Julia 1.4.1",
   "language": "julia",
   "name": "julia-1.4"
  },
  "language_info": {
   "file_extension": ".jl",
   "mimetype": "application/julia",
   "name": "julia",
   "version": "1.4.1"
  },
  "orig_nbformat": 4
 },
 "nbformat": 4,
 "nbformat_minor": 2
}
