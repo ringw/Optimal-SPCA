{
 "cells": [
  {
   "cell_type": "code",
   "execution_count": 1,
   "metadata": {},
   "outputs": [],
   "source": [
    "using LinearAlgebra, CSV, Tables"
   ]
  },
  {
   "cell_type": "code",
   "execution_count": 12,
   "metadata": {},
   "outputs": [
    {
     "data": {
      "text/plain": [
       "3×3 Array{Int64,2}:\n",
       " 1  0  0\n",
       " 0  2  0\n",
       " 0  0  3"
      ]
     },
     "metadata": {},
     "output_type": "display_data"
    }
   ],
   "source": [
    "diagm(1:3)"
   ]
  },
  {
   "cell_type": "code",
   "execution_count": 19,
   "metadata": {},
   "outputs": [
    {
     "data": {
      "text/plain": [
       "4.884981308350689e-15"
      ]
     },
     "metadata": {},
     "output_type": "display_data"
    }
   ],
   "source": [
    "data = CSV.File(\"../NC-Data.csv\") |> Tables.matrix;\n",
    "# Matrix sqrt: via diagonalization and sqrt eigenvalues\n",
    "raw_data = sqrt(data)';\n",
    "n = size(data, 1);\n",
    "N = n * n;\n",
    "# All close.\n",
    "maximum(abs.(raw_data * raw_data .- data))"
   ]
  },
  {
   "cell_type": "code",
   "execution_count": 4,
   "metadata": {},
   "outputs": [
    {
     "data": {
      "text/plain": [
       "7"
      ]
     },
     "metadata": {},
     "output_type": "display_data"
    }
   ],
   "source": [
    "selected_data = [3; 83; 85];\n",
    "opt_inds = [79; 80; 81; 84];\n",
    "k = 7"
   ]
  },
  {
   "cell_type": "code",
   "execution_count": 34,
   "metadata": {},
   "outputs": [
    {
     "data": {
      "text/plain": [
       "1.4499823628525759"
      ]
     },
     "metadata": {},
     "output_type": "display_data"
    }
   ],
   "source": [
    "s = maximum(svd(raw_data[:, selected_data]).S)\n",
    "u = svd(raw_data[:, selected_data]).U[:, 1];\n",
    "v = svd(raw_data[:, selected_data]).V[:, 1];\n",
    "D = Matrix(1.0I, 101, 101)[:, selected_data];\n",
    "s"
   ]
  },
  {
   "cell_type": "code",
   "execution_count": 25,
   "metadata": {},
   "outputs": [
    {
     "data": {
      "text/plain": [
       "3-element Array{Float64,1}:\n",
       " 2.102448852583539\n",
       " 0.8291308235464361\n",
       " 0.06842032387002067"
      ]
     },
     "metadata": {},
     "output_type": "display_data"
    }
   ],
   "source": [
    "svd(raw_data[:, selected_data]).S .^ 2"
   ]
  },
  {
   "cell_type": "code",
   "execution_count": 26,
   "metadata": {},
   "outputs": [
    {
     "data": {
      "text/plain": [
       "25.582479205536032"
      ]
     },
     "metadata": {},
     "output_type": "display_data"
    }
   ],
   "source": [
    "maximum(eigvals(data))"
   ]
  },
  {
   "cell_type": "code",
   "execution_count": 28,
   "metadata": {},
   "outputs": [
    {
     "data": {
      "text/plain": [
       "19.502666782823834"
      ]
     },
     "metadata": {},
     "output_type": "display_data"
    }
   ],
   "source": [
    "maximum(eigvals(data - raw_data' * u * u' * raw_data))"
   ]
  },
  {
   "cell_type": "code",
   "execution_count": 38,
   "metadata": {},
   "outputs": [
    {
     "data": {
      "text/plain": [
       "101-element Array{Float64,1}:\n",
       " -1.6703904757439067e-16\n",
       "  0.0006295386766785218\n",
       "  0.0008072406973032147\n",
       "  0.0011094562996774356\n",
       "  0.0013002649211967985\n",
       "  0.0017708921303124247\n",
       "  0.0020325222834940778\n",
       "  0.0027270540894054657\n",
       "  0.003795475645012561\n",
       "  0.0041128626790023996\n",
       "  ⋮\n",
       "  1.8187821036058793\n",
       "  2.7964453404400422\n",
       "  2.9928365348369406\n",
       "  3.3818398348729577\n",
       "  4.416358704734597\n",
       "  6.097704924714852\n",
       "  7.936466991262928\n",
       "  9.361963079175172\n",
       " 19.5026667828238"
      ]
     },
     "metadata": {},
     "output_type": "display_data"
    }
   ],
   "source": [
    "eigvals(raw_data * (I - raw_data * D * v * v' * D' * raw_data' / s^2) * raw_data)"
   ]
  },
  {
   "cell_type": "code",
   "execution_count": null,
   "metadata": {},
   "outputs": [
    {
     "data": {
      "text/plain": [
       "101-element Array{Float64,1}:\n",
       " -2.2162246791624813e-15\n",
       "  0.0006295386766789598\n",
       "  0.0008072406973028526\n",
       "  0.0011094562996780684\n",
       "  0.0013002649211963262\n",
       "  0.0017708921303125737\n",
       "  0.0020325222834935114\n",
       "  0.002727054089405773\n",
       "  0.003795475645012731\n",
       "  0.004112862679002526\n",
       "  ⋮\n",
       "  1.8187821036058733\n",
       "  2.7964453404400427\n",
       "  2.992836534836933\n",
       "  3.3818398348729537\n",
       "  4.416358704734595\n",
       "  6.097704924714907\n",
       "  7.936466991262927\n",
       "  9.361963079175153\n",
       " 19.502666782823788"
      ]
     },
     "metadata": {},
     "output_type": "display_data"
    }
   ],
   "source": [
    "eigvals((I - raw_data * D * v * v' * D' * raw_data' / s^2) * data)"
   ]
  },
  {
   "cell_type": "code",
   "execution_count": null,
   "metadata": {},
   "outputs": [],
   "source": []
  }
 ],
 "metadata": {
  "kernelspec": {
   "display_name": "Julia 1.4.1",
   "language": "julia",
   "name": "julia-1.4"
  },
  "language_info": {
   "file_extension": ".jl",
   "mimetype": "application/julia",
   "name": "julia",
   "version": "1.4.1"
  },
  "orig_nbformat": 4
 },
 "nbformat": 4,
 "nbformat_minor": 2
}
