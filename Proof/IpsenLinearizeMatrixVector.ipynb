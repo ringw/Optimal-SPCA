{
 "cells": [
  {
   "attachments": {},
   "cell_type": "markdown",
   "id": "0d91bec1",
   "metadata": {},
   "source": [
    "## Ipsen perturbation bound - inducing sparsity in the original matrix\n",
    "\n",
    "In the Ipsen SDP relaxation derivation, we start with the matrix to be perturbed (rank-one given by its factor rank_one_vector), then multiply it on the left and right by a diagonal matrix (inducing sparsity). This is relaxed to a Hadamard product with a PSD matrix S (sparsity-inducing), whose elements are in [0, 1].\n",
    "\n",
    "COSMO might use an interior point method, but the gradient update and repeated solving acts as a sort of hopping around from simplex to simplex. It is still possible that at a certain simplex, the gradient does not allow us to move downhill to any other simplex. However, from a different starting condition, we might follow the gradient in a more favorable way."
   ]
  },
  {
   "cell_type": "code",
   "execution_count": 1,
   "id": "9513288e-9f6b-47d3-9862-d88e04833870",
   "metadata": {},
   "outputs": [],
   "source": [
    "using COSMO, LinearAlgebra, Random, CSV, Tables, Plots"
   ]
  },
  {
   "cell_type": "code",
   "execution_count": 2,
   "id": "3d10f14f",
   "metadata": {},
   "outputs": [
    {
     "data": {
      "text/plain": [
       "4.884981308350689e-15"
      ]
     },
     "metadata": {},
     "output_type": "display_data"
    }
   ],
   "source": [
    "data = CSV.File(\"../NC-Data.csv\") |> Tables.matrix;\n",
    "raw_data = sqrt(data)';\n",
    "n = size(data, 1);\n",
    "N = n * n;\n",
    "# All close.\n",
    "maximum(abs.(raw_data' * raw_data .- data))"
   ]
  },
  {
   "cell_type": "code",
   "execution_count": 3,
   "id": "3d10f14f",
   "metadata": {},
   "outputs": [
    {
     "data": {
      "text/plain": [
       "3-element Array{Float64,1}:\n",
       " 4.135540722357922\n",
       " 5.870713667686698\n",
       " 7.0"
      ]
     },
     "metadata": {},
     "output_type": "display_data"
    }
   ],
   "source": [
    "nodes = CSV.File(\"../NC-K7-Trace-Nodes.csv\") |> Tables.matrix;\n",
    "bounds = CSV.File(\"../NC-K7-Trace-Bounds.csv\") |> Tables.matrix;\n",
    "selected_node = sortperm(-(sum(nodes .== 1, dims = 1) .== 3)[1, :])[1]\n",
    "bounds[:, selected_node]"
   ]
  },
  {
   "cell_type": "code",
   "execution_count": 4,
   "id": "895d0a62",
   "metadata": {},
   "outputs": [
    {
     "data": {
      "text/plain": [
       "7"
      ]
     },
     "metadata": {},
     "output_type": "display_data"
    }
   ],
   "source": [
    "selected_data = [3; 83; 85];\n",
    "# opt_inds obtained earlier through brute force.\n",
    "opt_inds = [79; 80; 81; 84];\n",
    "k = 7"
   ]
  },
  {
   "cell_type": "code",
   "execution_count": 5,
   "id": "36cbd32a",
   "metadata": {},
   "outputs": [
    {
     "data": {
      "text/plain": [
       "4.921536411066106"
      ]
     },
     "metadata": {},
     "output_type": "display_data"
    }
   ],
   "source": [
    "# Optimal PCA.\n",
    "maximum(eigen(data[[selected_data; opt_inds], :][:, [selected_data; opt_inds]]).values)"
   ]
  },
  {
   "cell_type": "code",
   "execution_count": 6,
   "id": "bdb9b8e0",
   "metadata": {},
   "outputs": [],
   "source": [
    "U = svd(raw_data[:, selected_data]).U[:, 1];\n",
    "rank_one_vector = raw_data' * U;"
   ]
  },
  {
   "cell_type": "code",
   "execution_count": 7,
   "id": "d5f7077a",
   "metadata": {},
   "outputs": [],
   "source": [
    "residual_data = raw_data .- (U * U' * raw_data);"
   ]
  },
  {
   "cell_type": "code",
   "execution_count": 8,
   "id": "5dccb16c",
   "metadata": {},
   "outputs": [
    {
     "data": {
      "text/plain": [
       "1×101 Array{Float64,2}:\n",
       " 1.0  1.0  1.0  1.0  1.0  1.0  1.0  1.0  …  1.0  1.0  1.0  1.0  1.0  1.0  1.0"
      ]
     },
     "metadata": {},
     "output_type": "display_data"
    }
   ],
   "source": [
    "mapslices(norm, raw_data, dims=1)"
   ]
  },
  {
   "cell_type": "code",
   "execution_count": 9,
   "id": "a94d8114",
   "metadata": {},
   "outputs": [
    {
     "data": {
      "text/plain": [
       "1×101 Array{Float64,2}:\n",
       " 0.998223  0.986038  0.846852  0.949473  …  0.958106  0.996008  0.92525"
      ]
     },
     "metadata": {},
     "output_type": "display_data"
    }
   ],
   "source": [
    "mapslices(norm, residual_data, dims=1)"
   ]
  },
  {
   "cell_type": "code",
   "execution_count": 10,
   "id": "7fe3b903",
   "metadata": {},
   "outputs": [
    {
     "data": {
      "text/plain": [
       "7-element Array{Int64,1}:\n",
       " 84\n",
       " 83\n",
       " 85\n",
       " 86\n",
       " 80\n",
       " 81\n",
       "  3"
      ]
     },
     "metadata": {},
     "output_type": "display_data"
    }
   ],
   "source": [
    "# Chosen manually. Try using Hk helper function next.\n",
    "greedy_z = [sortperm(abs.(rank_one_vector), rev=true)[1:6]; 3]"
   ]
  },
  {
   "cell_type": "code",
   "execution_count": 29,
   "id": "cd9e9a5b",
   "metadata": {},
   "outputs": [
    {
     "data": {
      "text/plain": [
       "1.0"
      ]
     },
     "metadata": {},
     "output_type": "display_data"
    }
   ],
   "source": [
    "z = 0. * zeros(n)\n",
    "z[greedy_z] .= 1.\n",
    "S = z * z';\n",
    "S[3, 81]"
   ]
  },
  {
   "cell_type": "code",
   "execution_count": 41,
   "id": "cd9e9a5b",
   "metadata": {},
   "outputs": [
    {
     "data": {
      "text/plain": [
       "1.0"
      ]
     },
     "metadata": {},
     "output_type": "display_data"
    }
   ],
   "source": [
    "# BRUTE-FORCE OPTIMUM initialization. Not suitable for actually evaluating.\n",
    "z = 0. * zeros(n)\n",
    "z[[selected_data; opt_inds]] .= 1.\n",
    "S = z * z';\n",
    "S[3, 81]"
   ]
  },
  {
   "cell_type": "code",
   "execution_count": 139,
   "id": "cd9e9a5b",
   "metadata": {},
   "outputs": [
    {
     "data": {
      "text/plain": [
       "1.0"
      ]
     },
     "metadata": {},
     "output_type": "display_data"
    }
   ],
   "source": [
    "# Random initialization.\n",
    "using StatsBase\n",
    "z = 0. * zeros(n)\n",
    "z[selected_data] .= 1.\n",
    "while sum(z) < k\n",
    "    z[sample(1:n)] = 1.\n",
    "end\n",
    "S = z * z';\n",
    "S[3, 81]"
   ]
  },
  {
   "cell_type": "code",
   "execution_count": 12,
   "id": "6f2e5276",
   "metadata": {},
   "outputs": [],
   "source": [
    "raw_data_residual = raw_data - U * rank_one_vector';\n",
    "data_residual = raw_data_residual' * raw_data_residual;"
   ]
  },
  {
   "cell_type": "code",
   "execution_count": 13,
   "id": "7287cbba",
   "metadata": {},
   "outputs": [
    {
     "data": {
      "text/plain": [
       "-1.325653942281207e-14"
      ]
     },
     "metadata": {},
     "output_type": "display_data"
    }
   ],
   "source": [
    "# data - data_residual >>= 0 (PSD test)\n",
    "minimum(eigen(data - data_residual).values)"
   ]
  },
  {
   "cell_type": "code",
   "execution_count": 112,
   "id": "db17dbe9",
   "metadata": {},
   "outputs": [
    {
     "data": {
      "text/plain": [
       "LinearObjective (generic function with 1 method)"
      ]
     },
     "metadata": {},
     "output_type": "display_data"
    }
   ],
   "source": [
    "function SGradient(S)\n",
    "    # Hadamard product and matrix-vector multiplication.\n",
    "    vec = (S .* data_residual) * rank_one_vector;\n",
    "    numer = norm(vec);\n",
    "    denom = sqrt(sum(S .* rank_one_vector .* rank_one_vector'));\n",
    "    (S .* rank_one_vector' .* vec ./ (numer * denom)) - (rank_one_vector .* rank_one_vector' * numer / 2 / denom^3)\n",
    "end\n",
    "function LinearObjective(S, S2)\n",
    "    S2 = reshape(S2, n, n)\n",
    "    linear_part = sum(Diagonal(rank_one_vector .^ 2) .* S2)\n",
    "\n",
    "    vec = (S .* data_residual) * rank_one_vector;\n",
    "    numer = norm(vec)\n",
    "    # S already has a box constraint. Use max for safety.\n",
    "    denom = sqrt(sum(max.(0, S) .* rank_one_vector .* rank_one_vector'))\n",
    "    base_value = numer / denom\n",
    "    grad = SGradient(S2)\n",
    "    linear_part + base_value + sum(grad .* (S2 - S))\n",
    "end"
   ]
  },
  {
   "cell_type": "code",
   "execution_count": 15,
   "id": "a866a2e5",
   "metadata": {},
   "outputs": [
    {
     "data": {
      "text/plain": [
       "0.12086201071950316"
      ]
     },
     "metadata": {},
     "output_type": "display_data"
    }
   ],
   "source": [
    "maximum(abs.(SGradient(S)))"
   ]
  },
  {
   "cell_type": "code",
   "execution_count": 16,
   "id": "95a78fdf",
   "metadata": {},
   "outputs": [
    {
     "data": {
      "text/plain": [
       "10-element Array{Int64,1}:\n",
       " 8386\n",
       " 8285\n",
       " 8487\n",
       " 8588\n",
       " 7982\n",
       " 8083\n",
       " 8464\n",
       " 8363\n",
       " 8565\n",
       " 8666"
      ]
     },
     "metadata": {},
     "output_type": "display_data"
    }
   ],
   "source": [
    "sortperm(-abs.(vec(SGradient(S))))[1:10]"
   ]
  },
  {
   "cell_type": "code",
   "execution_count": 17,
   "id": "26dc36a7",
   "metadata": {},
   "outputs": [
    {
     "data": {
      "text/plain": [
       "(83, 3)"
      ]
     },
     "metadata": {},
     "output_type": "display_data"
    }
   ],
   "source": [
    "divrem(8386, 101)"
   ]
  },
  {
   "cell_type": "code",
   "execution_count": 32,
   "id": "8a51c0eb",
   "metadata": {},
   "outputs": [
    {
     "data": {
      "text/plain": [
       "-0.005253719461733871"
      ]
     },
     "metadata": {},
     "output_type": "display_data"
    }
   ],
   "source": [
    "SGradient(S)[83, 3]"
   ]
  },
  {
   "cell_type": "code",
   "execution_count": 140,
   "id": "5b419a54",
   "metadata": {},
   "outputs": [],
   "source": [
    "model = COSMO.Model()\n",
    "\n",
    "psd_c = COSMO.Constraint(Matrix(1.0I, N, N), zeros(N), COSMO.PsdCone)\n",
    "box_c = COSMO.Constraint(Matrix(1.0I, N, N), zeros(N), COSMO.Box(zeros(N), ones(N)))\n",
    "\n",
    "# Tr S = k\n",
    "trace_c = COSMO.Constraint(\n",
    "    vec(Matrix(1.0I, n, n))',\n",
    "    [-1. * k],\n",
    "    COSMO.ZeroSet)\n",
    "\n",
    "# One row: The diag entry may be zero or nonzero.\n",
    "row_c = repeat(Matrix(-1.0I, n, n), inner=(1, n))\n",
    "for i = 1:n\n",
    "    row_c[i, 1 + (n+1)*(i-1)] = k-1\n",
    "end\n",
    "row_c = COSMO.Constraint(row_c, zeros(n), COSMO.ZeroSet)\n",
    "\n",
    "rank_one_variance = rank_one_vector .^ 2\n",
    "\n",
    "selected_c = zeros(n, n)\n",
    "selected_c[selected_data[1], selected_data[1]] = 1.\n",
    "selected_c[selected_data[2], selected_data[2]] = 1.\n",
    "selected_c[selected_data[3], selected_data[3]] = 1.\n",
    "selected_c = COSMO.Constraint(vec(selected_c)', -3., COSMO.ZeroSet)\n",
    "\n",
    "assemble!(\n",
    "    model,\n",
    "    zeros(N, N),\n",
    "    -vec(SGradient(S) + Diagonal(rank_one_vector .^ 2)),\n",
    "    [psd_c, box_c, trace_c, row_c, selected_c],\n",
    "    settings = COSMO.Settings(time_limit = 30, max_iter = 2500),\n",
    "    x0 = vec(S))"
   ]
  },
  {
   "cell_type": "code",
   "execution_count": 141,
   "id": "5e9afbce",
   "metadata": {},
   "outputs": [
    {
     "data": {
      "text/plain": [
       "6.37270881378282"
      ]
     },
     "metadata": {},
     "output_type": "display_data"
    }
   ],
   "source": [
    "result = COSMO.optimize!(model)\n",
    "LinearObjective(S, result.x)"
   ]
  },
  {
   "cell_type": "code",
   "execution_count": 142,
   "id": "6a31ee6b",
   "metadata": {},
   "outputs": [],
   "source": [
    "S = reshape(result.x, n, n);"
   ]
  },
  {
   "cell_type": "code",
   "execution_count": 143,
   "id": "a6077ef0",
   "metadata": {},
   "outputs": [],
   "source": [
    "update!(model, q = -vec(SGradient(S) + Diagonal(rank_one_vector .^ 2)))"
   ]
  },
  {
   "cell_type": "code",
   "execution_count": 144,
   "id": "5e9afbce",
   "metadata": {},
   "outputs": [
    {
     "data": {
      "text/plain": [
       "5.211448281925725"
      ]
     },
     "metadata": {},
     "output_type": "display_data"
    }
   ],
   "source": [
    "result = COSMO.optimize!(model)\n",
    "LinearObjective(S, result.x)"
   ]
  },
  {
   "cell_type": "code",
   "execution_count": 145,
   "id": "6a31ee6b",
   "metadata": {},
   "outputs": [],
   "source": [
    "S = reshape(result.x, n, n);"
   ]
  },
  {
   "cell_type": "code",
   "execution_count": 146,
   "id": "a6077ef0",
   "metadata": {},
   "outputs": [],
   "source": [
    "update!(model, q = -vec(SGradient(reshape(result.x, n, n)) + Diagonal(rank_one_vector .^ 2)))"
   ]
  },
  {
   "cell_type": "code",
   "execution_count": 147,
   "id": "5e9afbce",
   "metadata": {},
   "outputs": [
    {
     "data": {
      "text/plain": [
       "5.211448812866272"
      ]
     },
     "metadata": {},
     "output_type": "display_data"
    }
   ],
   "source": [
    "result = COSMO.optimize!(model)\n",
    "LinearObjective(S, result.x)"
   ]
  },
  {
   "cell_type": "code",
   "execution_count": 258,
   "id": "cd9e9a5b",
   "metadata": {},
   "outputs": [
    {
     "data": {
      "text/plain": [
       "1.0"
      ]
     },
     "metadata": {},
     "output_type": "display_data"
    }
   ],
   "source": [
    "z = 0. * zeros(n)\n",
    "z[greedy_z] .= 1.\n",
    "S = z * z';\n",
    "S[3, 81]"
   ]
  },
  {
   "cell_type": "code",
   "execution_count": 105,
   "id": "cd9e9a5b",
   "metadata": {},
   "outputs": [
    {
     "data": {
      "text/plain": [
       "0.0"
      ]
     },
     "metadata": {},
     "output_type": "display_data"
    }
   ],
   "source": [
    "# Random initialization.\n",
    "using StatsBase\n",
    "z = 0. * zeros(n)\n",
    "z[selected_data] .= 1.\n",
    "while sum(z) < k\n",
    "    z[sample(1:n)] = 1.\n",
    "end\n",
    "S = z * z';\n",
    "S[3, 81]"
   ]
  },
  {
   "cell_type": "code",
   "execution_count": 106,
   "id": "21342804",
   "metadata": {},
   "outputs": [],
   "source": [
    "assemble!(\n",
    "    model,\n",
    "    zeros(N, N),\n",
    "    -vec(SGradient(S) + Diagonal(rank_one_vector .^ 2)),\n",
    "    [psd_c, box_c, trace_c, row_c, selected_c],\n",
    "    settings = COSMO.Settings(time_limit = 30, max_iter = 10000),\n",
    "    x0 = vec(S))"
   ]
  },
  {
   "cell_type": "code",
   "execution_count": 107,
   "id": "59ad53a1",
   "metadata": {},
   "outputs": [
    {
     "name": "stdout",
     "output_type": "stream",
     "text": [
      "1.604039849684365\n"
     ]
    },
    {
     "name": "stdout",
     "output_type": "stream",
     "text": [
      "1.8175160354587083\n"
     ]
    },
    {
     "name": "stdout",
     "output_type": "stream",
     "text": [
      "2.3175221683233014\n"
     ]
    },
    {
     "name": "stdout",
     "output_type": "stream",
     "text": [
      "2.5229779675464377\n"
     ]
    },
    {
     "name": "stdout",
     "output_type": "stream",
     "text": [
      "2.369189301158896\n"
     ]
    }
   ],
   "source": [
    "function RunLoop(S)\n",
    "    for i = 1:5\n",
    "        update!(model, q = -vec(SGradient(S) + Diagonal(rank_one_vector .^ 2)))\n",
    "        result = COSMO.optimize!(model)\n",
    "        print(LinearObjective(S, result.x))\n",
    "        print(\"\\n\")\n",
    "        S = reshape(result.x, n, n);\n",
    "    end\n",
    "end\n",
    "RunLoop(S)"
   ]
  },
  {
   "cell_type": "code",
   "execution_count": null,
   "id": "9411977f",
   "metadata": {},
   "outputs": [],
   "source": []
  }
 ],
 "metadata": {
  "kernelspec": {
   "display_name": "Julia 1.8.3",
   "language": "julia",
   "name": "julia-1.8"
  },
  "language_info": {
   "file_extension": ".jl",
   "mimetype": "application/julia",
   "name": "julia",
   "version": "1.4.1"
  },
  "vscode": {
   "interpreter": {
    "hash": "20051f6c8086d1042bd99e48871d8b32f1b2c40a561f00314a833f0cd45ad111"
   }
  }
 },
 "nbformat": 4,
 "nbformat_minor": 5
}
