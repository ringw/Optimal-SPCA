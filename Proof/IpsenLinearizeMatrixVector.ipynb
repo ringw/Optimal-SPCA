{
 "cells": [
  {
   "attachments": {},
   "cell_type": "markdown",
   "id": "0d91bec1",
   "metadata": {},
   "source": [
    "## Ipsen perturbation bound - inducing sparsity in the original matrix\n",
    "\n",
    "In the Ipsen SDP relaxation derivation, we start with the matrix to be perturbed (rank-one given by its factor rank_one_vector), then multiply it on the left and right by a diagonal matrix (inducing sparsity). This is relaxed to a Hadamard product with a PSD matrix S (sparsity-inducing), whose elements are in [0, 1].\n",
    "\n",
    "We are sparsifying and reducing the magnitude of rank_one_vector, so we need to unit norm again. Don't apply box constraints to the S matrix. Instead, we will see that when S is applied once in the numerator and once in the denominator (linearized numerator), then the entries of S are constrained by a polytope which is defined by v, but not by a box constraint."
   ]
  },
  {
   "cell_type": "code",
   "execution_count": 1,
   "id": "9513288e-9f6b-47d3-9862-d88e04833870",
   "metadata": {},
   "outputs": [],
   "source": [
    "using COSMO, LinearAlgebra, Random, CSV, Tables, Plots"
   ]
  },
  {
   "cell_type": "code",
   "execution_count": 2,
   "id": "3d10f14f",
   "metadata": {},
   "outputs": [
    {
     "data": {
      "text/plain": [
       "4.884981308350689e-15"
      ]
     },
     "metadata": {},
     "output_type": "display_data"
    }
   ],
   "source": [
    "data = CSV.File(\"../NC-Data.csv\") |> Tables.matrix;\n",
    "raw_data = sqrt(data)';\n",
    "n = size(data, 1);\n",
    "N = n * n;\n",
    "# All close.\n",
    "maximum(abs.(raw_data' * raw_data .- data))"
   ]
  },
  {
   "cell_type": "code",
   "execution_count": 3,
   "id": "895d0a62",
   "metadata": {},
   "outputs": [
    {
     "data": {
      "text/plain": [
       "7"
      ]
     },
     "metadata": {},
     "output_type": "display_data"
    }
   ],
   "source": [
    "selected_data = [3; 83; 85];\n",
    "opt_inds = [79; 80; 81; 84];\n",
    "k = 7"
   ]
  },
  {
   "cell_type": "code",
   "execution_count": 4,
   "id": "bdb9b8e0",
   "metadata": {},
   "outputs": [],
   "source": [
    "U = svd(raw_data[:, selected_data]).U[:, 1];\n",
    "rank_one_vector = raw_data' * U;"
   ]
  },
  {
   "cell_type": "code",
   "execution_count": 5,
   "id": "d5f7077a",
   "metadata": {},
   "outputs": [],
   "source": [
    "residual_data = raw_data .- (U * U' * raw_data);"
   ]
  },
  {
   "cell_type": "code",
   "execution_count": 6,
   "id": "5dccb16c",
   "metadata": {},
   "outputs": [
    {
     "data": {
      "text/plain": [
       "1×101 Array{Float64,2}:\n",
       " 1.0  1.0  1.0  1.0  1.0  1.0  1.0  1.0  …  1.0  1.0  1.0  1.0  1.0  1.0  1.0"
      ]
     },
     "metadata": {},
     "output_type": "display_data"
    }
   ],
   "source": [
    "mapslices(norm, raw_data, dims=1)"
   ]
  },
  {
   "cell_type": "code",
   "execution_count": 7,
   "id": "a94d8114",
   "metadata": {},
   "outputs": [
    {
     "data": {
      "text/plain": [
       "1×101 Array{Float64,2}:\n",
       " 0.998223  0.986038  0.846852  0.949473  …  0.958106  0.996008  0.92525"
      ]
     },
     "metadata": {},
     "output_type": "display_data"
    }
   ],
   "source": [
    "mapslices(norm, residual_data, dims=1)"
   ]
  },
  {
   "cell_type": "code",
   "execution_count": 44,
   "id": "5b419a54",
   "metadata": {},
   "outputs": [],
   "source": [
    "model = COSMO.Model()\n",
    "\n",
    "# Number of auxiliary helper variables\n",
    "aux = n+1\n",
    "psd_c = COSMO.Constraint([Matrix(1.0I, N, N) zeros(N, aux)], zeros(N), COSMO.PsdCone)\n",
    "nn_c = COSMO.Constraint([Matrix(1.0I, N, N) zeros(N, aux)], zeros(N), COSMO.Nonnegatives)\n",
    "nn_scalar_c = COSMO.Constraint([zeros(1, N + aux - 1) 1.], [0.], COSMO.Nonnegatives)\n",
    "\n",
    "# Tr Svv' = 1\n",
    "trace_c = COSMO.Constraint(\n",
    "    [vec(rank_one_vector * rank_one_vector')' zeros(1, aux)],\n",
    "    [-1.],\n",
    "    COSMO.ZeroSet)\n",
    "\n",
    "# One row: The diag entry may be zero or nonzero.\n",
    "row_c = repeat(Matrix(-1.0I, n, n), inner=(1, n))\n",
    "for i = 1:n\n",
    "    row_c[i, 1 + (n+1)*(i-1)] = k-1\n",
    "end\n",
    "row_c = COSMO.Constraint([row_c zeros(n, aux)], zeros(n), COSMO.ZeroSet)\n",
    "\n",
    "# Power cone: To scale the diagonals to unit box, we should take the sqrt/harmonic mean.\n",
    "harmonic_c = []\n",
    "for i = 1:n\n",
    "    # x1 gets square rooted, so extract S_ii.\n",
    "    x1 = zeros(1, N+aux)\n",
    "    x1[1 + (n+1)*(i-1)] = 1.\n",
    "    x2 = zeros(1, N+aux)\n",
    "    x2[end] = 1.\n",
    "    x3 = zeros(1, N+aux)\n",
    "    x3[N + i] = 1.\n",
    "    push!(harmonic_c, COSMO.Constraint(\n",
    "        [x1; x2; x3],\n",
    "        zeros(3),\n",
    "        COSMO.PowerCone(0.5)))\n",
    "end\n",
    "# Aux variables are contained in the unit box. Constraints on the small-n variables (after power cone).\n",
    "box_c = COSMO.Constraint(\n",
    "    [zeros(n, N) Matrix(1.0I, n, n) zeros(n, 1)],\n",
    "    zeros(n),\n",
    "    COSMO.Box(zeros(n), ones(n)))\n",
    "\n",
    "rank_one_variance = rank_one_vector .^ 2\n",
    "\n",
    "assemble!(\n",
    "    model,\n",
    "    zeros(N+aux, N+aux),\n",
    "    [-vec((residual_data' * residual_data) .* (rank_one_vector * rank_one_vector')); -rank_one_variance; 0],\n",
    "    Vector{COSMO.Constraint{Float64}}(vcat([psd_c, nn_c, nn_scalar_c, row_c, box_c], harmonic_c)),\n",
    "    settings = COSMO.Settings(time_limit = 30, max_iter = 2500))"
   ]
  },
  {
   "cell_type": "code",
   "execution_count": 45,
   "id": "5e9afbce",
   "metadata": {},
   "outputs": [
    {
     "data": {
      "text/plain": [
       ">>> COSMO - Results\n",
       "Status: "
      ]
     },
     "metadata": {},
     "output_type": "display_data"
    },
    {
     "name": "stdout",
     "output_type": "stream",
     "text": [
      "\u001b[31mDual_infeasible\u001b[39m\n",
      "Iterations: 327 (incl. 0 safeguarding iterations)\n",
      "Optimal Objective: -Inf\n",
      "Runtime: 2069.16ms\n",
      "Setup Time: 14.54ms\n",
      "\n",
      "Avg Iter Time: 6.28ms"
     ]
    }
   ],
   "source": [
    "result = COSMO.optimize!(model)"
   ]
  },
  {
   "cell_type": "code",
   "execution_count": 46,
   "id": "e1059398",
   "metadata": {},
   "outputs": [
    {
     "data": {
      "text/plain": [
       "58.18477213943461"
      ]
     },
     "metadata": {},
     "output_type": "display_data"
    }
   ],
   "source": [
    "result.x[end]"
   ]
  },
  {
   "cell_type": "code",
   "execution_count": 28,
   "id": "42aec9d6",
   "metadata": {},
   "outputs": [
    {
     "data": {
      "text/plain": [
       "1.9141421386314336e7"
      ]
     },
     "metadata": {},
     "output_type": "display_data"
    }
   ],
   "source": [
    "maximum(abs.(Diagonal(reshape(result.x[1:N], n, n))))"
   ]
  },
  {
   "cell_type": "code",
   "execution_count": 29,
   "id": "42aec9d6",
   "metadata": {},
   "outputs": [
    {
     "data": {
      "text/plain": [
       "0.0"
      ]
     },
     "metadata": {},
     "output_type": "display_data"
    }
   ],
   "source": [
    "minimum(abs.(Diagonal(reshape(result.x[1:N], n, n))))"
   ]
  },
  {
   "cell_type": "code",
   "execution_count": 78,
   "id": "baa04555",
   "metadata": {},
   "outputs": [
    {
     "data": {
      "text/plain": [
       "352.6323961866911"
      ]
     },
     "metadata": {},
     "output_type": "display_data"
    }
   ],
   "source": [
    "# Is the bound tight? Unit-norming of the vector in matrix-vector multiplication.\n",
    "# We need more bounds which bring this closer to 1.\n",
    "mat = reshape(result.x[1:N], n, n)\n",
    "sum(Diagonal(mat)) ^ 2 / sum(Diagonal(mat) .* (rank_one_vector .^ 2))"
   ]
  },
  {
   "cell_type": "code",
   "execution_count": 79,
   "id": "4a9f2f27",
   "metadata": {},
   "outputs": [
    {
     "data": {
      "text/plain": [
       "34.23481095623675"
      ]
     },
     "metadata": {},
     "output_type": "display_data"
    }
   ],
   "source": [
    "maximum(Diagonal(mat))"
   ]
  },
  {
   "cell_type": "code",
   "execution_count": 80,
   "id": "ec323a73",
   "metadata": {},
   "outputs": [
    {
     "data": {
      "text/plain": [
       "-0.02730715791107616"
      ]
     },
     "metadata": {},
     "output_type": "display_data"
    }
   ],
   "source": [
    "minimum(Diagonal(mat))"
   ]
  },
  {
   "cell_type": "code",
   "execution_count": 81,
   "id": "52f466bf",
   "metadata": {},
   "outputs": [
    {
     "data": {
      "text/plain": [
       "-2.0616702855364446"
      ]
     },
     "metadata": {},
     "output_type": "display_data"
    }
   ],
   "source": [
    "sum(min.(Diagonal(mat), 0.))"
   ]
  },
  {
   "cell_type": "code",
   "execution_count": 82,
   "id": "5b31c6a4",
   "metadata": {},
   "outputs": [
    {
     "data": {
      "text/plain": [
       "10303-element Array{Float64,1}:\n",
       "   -0.026822949943890888\n",
       "   -0.0006575253644767372\n",
       "    0.0013928698980422444\n",
       "   -0.0013717854613016912\n",
       "   -0.0021952180034445893\n",
       "   -0.00035470860912303583\n",
       "    0.001768639458249956\n",
       "    0.000691304207184118\n",
       "    0.000728233263617193\n",
       "    0.0005720995127573214\n",
       "    ⋮\n",
       "    0.9998397902564627\n",
       "    1.000109816054214\n",
       "    0.9999959778464803\n",
       "    0.999710834479926\n",
       "    1.0000200361974105\n",
       "    1.000018684535188\n",
       "    1.0001235042086072\n",
       "    1.0000257072747845\n",
       " 3133.1107845776696"
      ]
     },
     "metadata": {},
     "output_type": "display_data"
    }
   ],
   "source": [
    "result.x"
   ]
  },
  {
   "cell_type": "code",
   "execution_count": 84,
   "id": "1b21e7ff",
   "metadata": {},
   "outputs": [
    {
     "data": {
      "text/plain": [
       "1.0002749568428562"
      ]
     },
     "metadata": {},
     "output_type": "display_data"
    }
   ],
   "source": [
    "result.x[N + 1]"
   ]
  },
  {
   "cell_type": "code",
   "execution_count": null,
   "id": "1b66f10b",
   "metadata": {},
   "outputs": [],
   "source": []
  }
 ],
 "metadata": {
  "kernelspec": {
   "display_name": "Julia 1.4.1",
   "language": "julia",
   "name": "julia-1.4"
  },
  "language_info": {
   "file_extension": ".jl",
   "mimetype": "application/julia",
   "name": "julia",
   "version": "1.4.1"
  }
 },
 "nbformat": 4,
 "nbformat_minor": 5
}
