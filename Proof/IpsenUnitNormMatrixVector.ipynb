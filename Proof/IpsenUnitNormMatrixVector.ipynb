{
 "cells": [
  {
   "attachments": {},
   "cell_type": "markdown",
   "id": "0d91bec1",
   "metadata": {},
   "source": [
    "## Ipsen perturbation bound - inducing sparsity in the original matrix\n",
    "\n",
    "In the Ipsen SDP relaxation derivation, we start with the matrix to be perturbed (rank-one given by its factor rank_one_vector), then multiply it on the left and right by a diagonal matrix (inducing sparsity). This is relaxed to a Hadamard product with a PSD matrix S (sparsity-inducing), whose elements are in [0, 1].\n",
    "\n",
    "We are sparsifying and reducing the magnitude of rank_one_vector, so we need to unit norm again. We would like S to be multiplied by some unknown scalar c, so that the L2 norm in the denominator goes to one. This is still the same problem after squaring the expression, then we square root the relation that we would want to have, and we see that we can use the power cone P_3^(1/2) (that is, if the inequality is effective at bounding ||S||)."
   ]
  },
  {
   "cell_type": "code",
   "execution_count": 102,
   "id": "9513288e-9f6b-47d3-9862-d88e04833870",
   "metadata": {},
   "outputs": [],
   "source": [
    "using COSMO, LinearAlgebra, Random, CSV, Tables, Plots"
   ]
  },
  {
   "cell_type": "code",
   "execution_count": 38,
   "id": "3d10f14f",
   "metadata": {},
   "outputs": [
    {
     "data": {
      "text/plain": [
       "4.884981308350689e-15"
      ]
     },
     "metadata": {},
     "output_type": "display_data"
    }
   ],
   "source": [
    "data = CSV.File(\"../NC-Data.csv\") |> Tables.matrix;\n",
    "raw_data = sqrt(data)';\n",
    "n = size(data, 1);\n",
    "N = n * n;\n",
    "# All close.\n",
    "maximum(abs.(raw_data' * raw_data .- data))"
   ]
  },
  {
   "cell_type": "code",
   "execution_count": 46,
   "id": "895d0a62",
   "metadata": {},
   "outputs": [
    {
     "data": {
      "text/plain": [
       "7"
      ]
     },
     "metadata": {},
     "output_type": "display_data"
    }
   ],
   "source": [
    "selected_data = [3; 83; 85];\n",
    "opt_inds = [79; 80; 81; 84];\n",
    "k = 7"
   ]
  },
  {
   "cell_type": "code",
   "execution_count": 36,
   "id": "bdb9b8e0",
   "metadata": {},
   "outputs": [],
   "source": [
    "U = svd(raw_data[:, selected_data]).U[:, 1];\n",
    "rank_one_vector = raw_data' * U;"
   ]
  },
  {
   "cell_type": "code",
   "execution_count": 84,
   "id": "d5f7077a",
   "metadata": {},
   "outputs": [],
   "source": [
    "residual_data = raw_data .- (U * U' * raw_data);"
   ]
  },
  {
   "cell_type": "code",
   "execution_count": 85,
   "id": "5dccb16c",
   "metadata": {},
   "outputs": [
    {
     "data": {
      "text/plain": [
       "1×101 Array{Float64,2}:\n",
       " 1.0  1.0  1.0  1.0  1.0  1.0  1.0  1.0  …  1.0  1.0  1.0  1.0  1.0  1.0  1.0"
      ]
     },
     "metadata": {},
     "output_type": "display_data"
    }
   ],
   "source": [
    "mapslices(norm, raw_data, dims=1)"
   ]
  },
  {
   "cell_type": "code",
   "execution_count": 86,
   "id": "a94d8114",
   "metadata": {},
   "outputs": [
    {
     "data": {
      "text/plain": [
       "1×101 Array{Float64,2}:\n",
       " 0.998223  0.986038  0.846852  0.949473  …  0.958106  0.996008  0.92525"
      ]
     },
     "metadata": {},
     "output_type": "display_data"
    }
   ],
   "source": [
    "mapslices(norm, residual_data, dims=1)"
   ]
  },
  {
   "cell_type": "code",
   "execution_count": 94,
   "id": "5b419a54",
   "metadata": {},
   "outputs": [],
   "source": [
    "model = COSMO.Model()\n",
    "psd_c = COSMO.Constraint(Matrix(1.0I, N, N), zeros(N), COSMO.PsdCone)\n",
    "nn_c = COSMO.Constraint(Matrix(1.0I, N, N), zeros(N), COSMO.Nonnegatives)\n",
    "power_c = COSMO.Constraint(\n",
    "    # Three arguments:\n",
    "    # x_1 = Tr Svv^T = sum_i sum_j S_{ij} v_i v_j\n",
    "    # x_2 = k^2\n",
    "    # x_3 = Tr S (vectorize the identity matrix)\n",
    "    # Constraint: x1 * x2 >= x3^2\n",
    "    [vec(rank_one_vector * rank_one_vector')';\n",
    "     zeros(1, N);\n",
    "     vec(Matrix(1.0I, n, n))'],\n",
    "    [0.; k^2; 0],\n",
    "    COSMO.PowerCone(0.5))\n",
    "# One row: The diag entry may be zero or nonzero.\n",
    "row_c = repeat(Matrix(-1.0I, n, n), inner=(1, n))\n",
    "for i = 1:n\n",
    "    row_c[i, 1 + (n+1)*(i-1)] = k-1\n",
    "end\n",
    "row_c = COSMO.Constraint(row_c, zeros(n), COSMO.ZeroSet(n))\n",
    "assemble!(\n",
    "    model,\n",
    "    zeros(N, N),\n",
    "    -vec((residual_data' * residual_data) .* (rank_one_vector * rank_one_vector')),\n",
    "    [psd_c, nn_c, power_c, row_c])"
   ]
  },
  {
   "cell_type": "code",
   "execution_count": 95,
   "id": "5e9afbce",
   "metadata": {},
   "outputs": [
    {
     "data": {
      "text/plain": [
       ">>> COSMO - Results\n",
       "Status: "
      ]
     },
     "metadata": {},
     "output_type": "display_data"
    },
    {
     "name": "stdout",
     "output_type": "stream",
     "text": [
      "\u001b[32mSolved\u001b[39m\n",
      "Iterations: 1700 (incl. 0 safeguarding iterations)\n",
      "Optimal Objective: -221.4\n",
      "Runtime: 9427.66ms\n",
      "Setup Time: 14.63ms\n",
      "\n",
      "Avg Iter Time: 5.53ms"
     ]
    }
   ],
   "source": [
    "result = COSMO.optimize!(model)"
   ]
  },
  {
   "cell_type": "code",
   "execution_count": 99,
   "id": "42aec9d6",
   "metadata": {},
   "outputs": [
    {
     "data": {
      "text/plain": [
       "32.82766971202997"
      ]
     },
     "metadata": {},
     "output_type": "display_data"
    }
   ],
   "source": [
    "maximum(abs.(Diagonal(reshape(result.x, n, n))))"
   ]
  },
  {
   "cell_type": "code",
   "execution_count": 103,
   "id": "3868244e",
   "metadata": {},
   "outputs": [],
   "source": [
    "heatmap(reshape(result.x, n, n))"
   ]
  },
  {
   "cell_type": "code",
   "execution_count": null,
   "id": "240ac723",
   "metadata": {},
   "outputs": [],
   "source": []
  }
 ],
 "metadata": {
  "kernelspec": {
   "display_name": "Julia 1.4.1",
   "language": "julia",
   "name": "julia-1.4"
  },
  "language_info": {
   "file_extension": ".jl",
   "mimetype": "application/julia",
   "name": "julia",
   "version": "1.4.1"
  }
 },
 "nbformat": 4,
 "nbformat_minor": 5
}
