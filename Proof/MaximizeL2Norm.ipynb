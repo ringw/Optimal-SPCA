{
 "cells": [
  {
   "cell_type": "code",
   "execution_count": 1,
   "id": "9513288e-9f6b-47d3-9862-d88e04833870",
   "metadata": {},
   "outputs": [],
   "source": [
    "using COSMO, LinearAlgebra, Random"
   ]
  },
  {
   "cell_type": "code",
   "execution_count": 21,
   "id": "6dcf04d2",
   "metadata": {},
   "outputs": [],
   "source": [
    "model = COSMO.Model()\n",
    "N = 10\n",
    "box_c = COSMO.Constraint(\n",
    "    Matrix(1.0I, N, N)[1:N-1, begin:end], zeros(N-1), COSMO.Box(zeros(N-1), ones(N-1)))\n",
    "sqrt_c = COSMO.Constraint(\n",
    "    [ones(1, N - 1) 0;\n",
    "     zeros(1, N);\n",
    "     zeros(1, N - 1) 1],\n",
    "    Vector{Float64}([0; 1; 0]),\n",
    "    COSMO.PowerCone(0.5))\n",
    "assemble!(model, zeros(N, N), -Array(1:N), [box_c, sqrt_c])"
   ]
  },
  {
   "cell_type": "code",
   "execution_count": 22,
   "id": "05449c7f",
   "metadata": {},
   "outputs": [
    {
     "data": {
      "text/plain": [
       "5-element Vector{Int64}:\n",
       " 1\n",
       " 2\n",
       " 3\n",
       " 4\n",
       " 5"
      ]
     },
     "execution_count": 22,
     "metadata": {},
     "output_type": "execute_result"
    }
   ],
   "source": [
    "Array(1:5)"
   ]
  },
  {
   "cell_type": "code",
   "execution_count": 23,
   "id": "7e7dd165",
   "metadata": {},
   "outputs": [
    {
     "data": {
      "text/plain": [
       ">>> COSMO - Results\n",
       "Status: "
      ]
     },
     "execution_count": 23,
     "metadata": {},
     "output_type": "execute_result"
    },
    {
     "name": "stdout",
     "output_type": "stream",
     "text": [
      "\u001b[32mSolved\u001b[39m\n",
      "Iterations: 55 (incl. 5 safeguarding iterations)\n",
      "Optimal Objective: -75\n",
      "Runtime: 1.11ms\n",
      "Setup Time: 0.58ms\n",
      "\n",
      "Avg Iter Time: 0.01ms"
     ]
    }
   ],
   "source": [
    "result = COSMO.optimize!(model)"
   ]
  },
  {
   "cell_type": "code",
   "execution_count": 24,
   "id": "a38cb99e",
   "metadata": {},
   "outputs": [
    {
     "data": {
      "text/plain": [
       "10-element Vector{Float64}:\n",
       " 1.0000000103065\n",
       " 1.0000000103065134\n",
       " 1.0000000103065978\n",
       " 1.0000000103065996\n",
       " 1.0000000103068134\n",
       " 1.0000000103068134\n",
       " 1.0000000103065305\n",
       " 1.0000000103064721\n",
       " 1.0000000103064661\n",
       " 2.999999918339855"
      ]
     },
     "execution_count": 24,
     "metadata": {},
     "output_type": "execute_result"
    }
   ],
   "source": [
    "result.x"
   ]
  },
  {
   "cell_type": "code",
   "execution_count": null,
   "id": "cf861120",
   "metadata": {},
   "outputs": [],
   "source": []
  }
 ],
 "metadata": {
  "kernelspec": {
   "display_name": "Julia 1.8.3",
   "language": "julia",
   "name": "julia-1.8"
  },
  "language_info": {
   "file_extension": ".jl",
   "mimetype": "application/julia",
   "name": "julia",
   "version": "1.8.3"
  }
 },
 "nbformat": 4,
 "nbformat_minor": 5
}
