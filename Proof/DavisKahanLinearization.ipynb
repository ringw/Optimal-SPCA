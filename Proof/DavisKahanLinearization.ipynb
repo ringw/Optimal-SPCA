{
 "cells": [
  {
   "cell_type": "code",
   "execution_count": 140,
   "metadata": {},
   "outputs": [],
   "source": [
    "using LinearAlgebra, CSV, Random, Tables"
   ]
  },
  {
   "cell_type": "code",
   "execution_count": 141,
   "metadata": {},
   "outputs": [
    {
     "data": {
      "text/plain": [
       "4.884981308350689e-15"
      ]
     },
     "metadata": {},
     "output_type": "display_data"
    }
   ],
   "source": [
    "data = CSV.File(\"../NC-Data.csv\") |> Tables.matrix;\n",
    "# Matrix sqrt: via diagonalization and sqrt eigenvalues\n",
    "raw_data = sqrt(data)';\n",
    "n = size(data, 1);\n",
    "N = n * n;\n",
    "k = 7;\n",
    "# All close.\n",
    "maximum(abs.(raw_data * raw_data .- data))"
   ]
  },
  {
   "cell_type": "code",
   "execution_count": 142,
   "metadata": {},
   "outputs": [],
   "source": [
    "nodes = CSV.File(\"../NC-K7-Trace-Nodes.csv\") |> Tables.matrix;\n",
    "bounds = CSV.File(\"../NC-K7-Trace-Bounds.csv\") |> Tables.matrix;"
   ]
  },
  {
   "cell_type": "code",
   "execution_count": 143,
   "metadata": {},
   "outputs": [
    {
     "data": {
      "text/plain": [
       "4"
      ]
     },
     "metadata": {},
     "output_type": "display_data"
    }
   ],
   "source": [
    "# node_id = 50\n",
    "# node_id = 300\n",
    "node_id = 229\n",
    "y = nodes[:, node_id]\n",
    "sum(nodes[:, node_id] .== 1)"
   ]
  },
  {
   "cell_type": "code",
   "execution_count": 144,
   "metadata": {},
   "outputs": [
    {
     "data": {
      "text/plain": [
       "3-element Array{Float64,1}:\n",
       " 4.5129968872085975\n",
       " 6.584373256021302\n",
       " 7.0"
      ]
     },
     "metadata": {},
     "output_type": "display_data"
    }
   ],
   "source": [
    "bounds[:, node_id]"
   ]
  },
  {
   "cell_type": "code",
   "execution_count": 145,
   "metadata": {},
   "outputs": [
    {
     "data": {
      "text/plain": [
       "4-element Array{Int64,1}:\n",
       " 20\n",
       " 84\n",
       " 85\n",
       " 86"
      ]
     },
     "metadata": {},
     "output_type": "display_data"
    }
   ],
   "source": [
    "selected_data = findall(nodes[:, node_id] .== 1)"
   ]
  },
  {
   "cell_type": "code",
   "execution_count": 146,
   "metadata": {},
   "outputs": [
    {
     "data": {
      "text/plain": [
       "1.9342690514902823"
      ]
     },
     "metadata": {},
     "output_type": "display_data"
    }
   ],
   "source": [
    "s = maximum(svd(raw_data[:, selected_data]).S)\n",
    "u = svd(raw_data[:, selected_data]).U[:, 1];\n",
    "v = svd(raw_data[:, selected_data]).V[:, 1];\n",
    "D = Matrix(1.0I, 101, 101)[:, selected_data];\n",
    "s"
   ]
  },
  {
   "cell_type": "code",
   "execution_count": 147,
   "metadata": {},
   "outputs": [
    {
     "data": {
      "text/plain": [
       "101-element Array{Float64,1}:\n",
       " 0.0011302640621757621\n",
       " 0.02770066314539759\n",
       " 0.10151772407545055\n",
       " 0.0\n",
       " 0.25610915747693164\n",
       " 0.00013428537660249162\n",
       " 0.09003700443881506\n",
       " 0.05574370907683892\n",
       " 0.05354760607565086\n",
       " 0.053561867714760604\n",
       " ⋮\n",
       " 0.1484103392065695\n",
       " 0.016873719861435224\n",
       " 0.0073537692505327885\n",
       " 0.01652816329702802\n",
       " 0.002684390237879137\n",
       " 0.028361399876088253\n",
       " 0.1262101742004988\n",
       " 0.00255421792241594\n",
       " 0.0"
      ]
     },
     "metadata": {},
     "output_type": "display_data"
    }
   ],
   "source": [
    "rank_one_term = (raw_data * u) .^ 2\n",
    "rank_one_term[nodes[:, node_id] .== 0] .= 0\n",
    "rank_one_term"
   ]
  },
  {
   "cell_type": "code",
   "execution_count": 148,
   "metadata": {},
   "outputs": [
    {
     "data": {
      "text/plain": [
       "101-element Array{Float64,1}:\n",
       " 0.9988697359378242\n",
       " 0.9722993368546025\n",
       " 0.8984822759245494\n",
       " 1.0\n",
       " 0.7438908425230684\n",
       " 0.9998657146233975\n",
       " 0.909962995561185\n",
       " 0.9442562909231611\n",
       " 0.9464523939243491\n",
       " 0.9464381322852394\n",
       " ⋮\n",
       " 0.8515896607934305\n",
       " 0.9831262801385647\n",
       " 0.9926462307494672\n",
       " 0.983471836702972\n",
       " 0.9973156097621209\n",
       " 0.9716386001239118\n",
       " 0.8737898257995012\n",
       " 0.997445782077584\n",
       " 1.0"
      ]
     },
     "metadata": {},
     "output_type": "display_data"
    }
   ],
   "source": [
    "# Upper bound on the contribution from adding one variable into ||E||^2.\n",
    "# The upper bound comes from ||E||_F^2\n",
    "# upper bounded by ||(I-uu')MD||_F^2. Also, we know that normCommunities\n",
    "# has column norm of 1 for every variable.\n",
    "# We should add another upper bound based on taking k columns from this\n",
    "# row into ||E||_F.\n",
    "residual_term = 1 .- rank_one_term"
   ]
  },
  {
   "cell_type": "code",
   "execution_count": 149,
   "metadata": {},
   "outputs": [
    {
     "data": {
      "text/plain": [
       "frobenius_rows_k (generic function with 1 method)"
      ]
     },
     "metadata": {},
     "output_type": "display_data"
    }
   ],
   "source": [
    "function frobenius_rows_k(M, y)\n",
    "    M = M .^ 2\n",
    "    row_quantities = zeros(n)\n",
    "    stillneed = k - sum(y .== 1)\n",
    "    for row_index in 1:n\n",
    "        if y[row_index] == 0\n",
    "            continue\n",
    "        end\n",
    "        row = copy(M[row_index, :])\n",
    "        row_sum = sum(row[y .== 1])\n",
    "        row[y .== 1] .= 0\n",
    "        if y[row_index] == -1\n",
    "            row_sum += row[row_index]\n",
    "            row[row_index] = 0\n",
    "            row_stillneed = stillneed -1\n",
    "        else\n",
    "            row_stillneed = stillneed\n",
    "        end\n",
    "        row_sum += sum(sort(row, rev=true)[1:row_stillneed])\n",
    "        row_quantities[row_index] = row_sum\n",
    "    end\n",
    "    row_quantities\n",
    "end"
   ]
  },
  {
   "cell_type": "code",
   "execution_count": 150,
   "metadata": {},
   "outputs": [],
   "source": [
    "# frobenius_rows_k(data - raw_data * u * u' * raw_data, y)"
   ]
  },
  {
   "cell_type": "code",
   "execution_count": 151,
   "metadata": {},
   "outputs": [
    {
     "data": {
      "text/plain": [
       "9"
      ]
     },
     "metadata": {},
     "output_type": "display_data"
    }
   ],
   "source": [
    "sum((y .== -1) .& (frobenius_rows_k(data - raw_data * u * u' * raw_data, y) .< residual_term))"
   ]
  },
  {
   "cell_type": "code",
   "execution_count": 152,
   "metadata": {},
   "outputs": [
    {
     "data": {
      "text/plain": [
       "5.568112215978401"
      ]
     },
     "metadata": {},
     "output_type": "display_data"
    }
   ],
   "source": [
    "stillneed = k - sum(y .== 1)\n",
    "lb_proj_nodes_extra = rank_one_term .>= sort(rank_one_term .* Array{Float64}(y .== -1))[end-stillneed+1]\n",
    "lb_proj_nodes_extra = lb_proj_nodes .& (y .== -1)\n",
    "lb_proj_nodes = lb_proj_nodes_extra .| (y .== 1)\n",
    "lb_proj = sum(rank_one_term[lb_proj_nodes])\n",
    "lb_diag = maximum(svd(raw_data[:, lb_proj_nodes]).S) ^ 2"
   ]
  },
  {
   "cell_type": "code",
   "execution_count": 153,
   "metadata": {},
   "outputs": [
    {
     "data": {
      "text/plain": [
       "3-element Array{Float64,1}:\n",
       " 4.5129968872085975\n",
       " 6.584373256021302\n",
       " 7.0"
      ]
     },
     "metadata": {},
     "output_type": "display_data"
    }
   ],
   "source": [
    "bounds[:, node_id]"
   ]
  },
  {
   "cell_type": "code",
   "execution_count": 162,
   "metadata": {},
   "outputs": [
    {
     "data": {
      "text/plain": [
       "1.4318877840215993"
      ]
     },
     "metadata": {},
     "output_type": "display_data"
    }
   ],
   "source": [
    "lambda_1 = bounds[2, node_id]\n",
    "lambda_2 = bounds[3, node_id] - lb_diag\n",
    "lambda_2_lb = bounds[3, node_id] - lambda_1\n",
    "lambda_2"
   ]
  },
  {
   "cell_type": "code",
   "execution_count": 160,
   "metadata": {},
   "outputs": [],
   "source": [
    "# lambda_2 = svd(raw_data[:, selected_data]).S[2] + sum(sort(residual_term, rev=true)[1:stillneed])"
   ]
  },
  {
   "cell_type": "code",
   "execution_count": 163,
   "metadata": {},
   "outputs": [
    {
     "data": {
      "text/plain": [
       "101-element Array{Float64,1}:\n",
       " 0.34254326433823606\n",
       " 0.3600319189825617\n",
       " 0.40861835840416716\n",
       " 0.34179932376819144\n",
       " 0.5103705444086666\n",
       " 0.3418877104938792\n",
       " 0.4010617409757059\n",
       " 0.37848987077823604\n",
       " 0.3770443942977793\n",
       " 0.3770537813182856\n",
       " ⋮\n",
       " 0.4394831093937476\n",
       " 0.35290561759153416\n",
       " 0.3466395796617448\n",
       " 0.352678172027165\n",
       " 0.34356619123803356\n",
       " 0.3604668163455135\n",
       " 0.4248709457742941\n",
       " 0.34348051173196903\n",
       " 0.34179932376819144"
      ]
     },
     "metadata": {},
     "output_type": "display_data"
    }
   ],
   "source": [
    "# Multiplier for \n",
    "mult_parallel = 1. / lambda_1\n",
    "mult_perp = lambda_2 / (lb_proj - lambda_2)^2\n",
    "mult_linearize = mult_parallel + mult_perp\n",
    "linear_program = rank_one_term + mult_linearize * residual_term"
   ]
  },
  {
   "cell_type": "code",
   "execution_count": 164,
   "metadata": {},
   "outputs": [
    {
     "data": {
      "text/plain": [
       "6.524788207252006"
      ]
     },
     "metadata": {},
     "output_type": "display_data"
    }
   ],
   "source": [
    "# Linear program solution\n",
    "sum(linear_program[y .== 1]) + sum(sort(linear_program[y .== -1], rev=true)[1:stillneed])"
   ]
  },
  {
   "cell_type": "code",
   "execution_count": 165,
   "metadata": {},
   "outputs": [
    {
     "data": {
      "text/plain": [
       "1×2 Array{Int64,2}:\n",
       " 71  75"
      ]
     },
     "metadata": {},
     "output_type": "display_data"
    }
   ],
   "source": [
    "[sum((sort(rank_one_term, rev=true)[k] .> linear_program) .& (y .== -1)) sum(y .== -1)]"
   ]
  },
  {
   "cell_type": "code",
   "execution_count": 159,
   "metadata": {},
   "outputs": [],
   "source": []
  }
 ],
 "metadata": {
  "kernelspec": {
   "display_name": "Julia 1.4.1",
   "language": "julia",
   "name": "julia-1.4"
  },
  "language_info": {
   "file_extension": ".jl",
   "mimetype": "application/julia",
   "name": "julia",
   "version": "1.4.1"
  }
 },
 "nbformat": 4,
 "nbformat_minor": 4
}
