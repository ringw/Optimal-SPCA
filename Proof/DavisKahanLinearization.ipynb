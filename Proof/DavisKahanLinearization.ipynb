{
 "cells": [
  {
   "cell_type": "code",
   "execution_count": 2,
   "metadata": {},
   "outputs": [],
   "source": [
    "using LinearAlgebra, CSV, Random, Tables, JLD, Base.Iterators, Printf"
   ]
  },
  {
   "cell_type": "code",
   "execution_count": 3,
   "metadata": {},
   "outputs": [
    {
     "data": {
      "text/plain": [
       "refreshFile (generic function with 1 method)"
      ]
     },
     "execution_count": 3,
     "metadata": {},
     "output_type": "execute_result"
    }
   ],
   "source": [
    "include(\"../Algorithm/utilities.jl\")"
   ]
  },
  {
   "cell_type": "code",
   "execution_count": 4,
   "metadata": {},
   "outputs": [
    {
     "data": {
      "text/plain": [
       "7.494005416219807e-16"
      ]
     },
     "execution_count": 4,
     "metadata": {},
     "output_type": "execute_result"
    }
   ],
   "source": [
    "data = load(\"../Data/communities.jld\")[\"communities\"]\n",
    "# Matrix sqrt: via diagonalization and sqrt eigenvalues\n",
    "raw_data = sqrt(data)';\n",
    "n = size(data, 1);\n",
    "N = n * n;\n",
    "norms = data[1:n+1:N]\n",
    "k = 5;\n",
    "# All close.\n",
    "maximum(abs.(raw_data * raw_data .- data))"
   ]
  },
  {
   "cell_type": "code",
   "execution_count": 5,
   "metadata": {},
   "outputs": [],
   "source": [
    "nodes = CSV.File(\"../Co-K5-Trace-Nodes.csv\", header=false) |> Tables.matrix;\n",
    "bounds = CSV.File(\"../Co-K5-Trace-Bounds.csv\", header=false) |> Tables.matrix;"
   ]
  },
  {
   "cell_type": "code",
   "execution_count": 6,
   "metadata": {},
   "outputs": [
    {
     "data": {
      "text/plain": [
       "2"
      ]
     },
     "execution_count": 6,
     "metadata": {},
     "output_type": "execute_result"
    }
   ],
   "source": [
    "# node_id = 50\n",
    "# node_id = 300\n",
    "node_id = 40\n",
    "y = nodes[:, node_id]\n",
    "selected_data = findall(y .== 1)\n",
    "i = sum(nodes[:, node_id] .== 1)\n",
    "stillneed = k - i"
   ]
  },
  {
   "cell_type": "code",
   "execution_count": 7,
   "metadata": {},
   "outputs": [
    {
     "data": {
      "text/plain": [
       "3-element Vector{Float64}:\n",
       " 0.19840666121229678\n",
       " 0.3629025164807017\n",
       " 0.4316969652057027"
      ]
     },
     "execution_count": 7,
     "metadata": {},
     "output_type": "execute_result"
    }
   ],
   "source": [
    "bounds[:, node_id]"
   ]
  },
  {
   "cell_type": "code",
   "execution_count": 8,
   "metadata": {},
   "outputs": [
    {
     "data": {
      "text/plain": [
       "0.4316969652057027"
      ]
     },
     "execution_count": 8,
     "metadata": {},
     "output_type": "execute_result"
    }
   ],
   "source": [
    "sum(norms[y .== 1]) + sum(selectsorted(norms .* (y .== -1), stillneed))"
   ]
  },
  {
   "cell_type": "code",
   "execution_count": 9,
   "metadata": {},
   "outputs": [
    {
     "data": {
      "text/plain": [
       "0.14185918642419365"
      ]
     },
     "execution_count": 9,
     "metadata": {},
     "output_type": "execute_result"
    }
   ],
   "source": [
    "s = maximum(svd(raw_data[:, selected_data]).S)\n",
    "u = svd(raw_data[:, selected_data]).U[:, 1];\n",
    "v = svd(raw_data[:, selected_data]).V[:, 1];\n",
    "D = Matrix(1.0I, 101, 101)[:, selected_data];\n",
    "s^2"
   ]
  },
  {
   "cell_type": "code",
   "execution_count": 10,
   "metadata": {},
   "outputs": [
    {
     "data": {
      "text/plain": [
       "0.14185918642419362"
      ]
     },
     "execution_count": 10,
     "metadata": {},
     "output_type": "execute_result"
    }
   ],
   "source": [
    "norm(raw_data[:, selected_data] * v)^2"
   ]
  },
  {
   "cell_type": "code",
   "execution_count": 11,
   "metadata": {},
   "outputs": [
    {
     "data": {
      "text/plain": [
       "0.14185918642419373"
      ]
     },
     "execution_count": 11,
     "metadata": {},
     "output_type": "execute_result"
    }
   ],
   "source": [
    "norm(u' * raw_data[:, selected_data])^2"
   ]
  },
  {
   "cell_type": "code",
   "execution_count": 12,
   "metadata": {},
   "outputs": [
    {
     "data": {
      "text/plain": [
       "0.1418591864241938"
      ]
     },
     "execution_count": 12,
     "metadata": {},
     "output_type": "execute_result"
    }
   ],
   "source": [
    "norm(data[:, selected_data][selected_data, :] * v)"
   ]
  },
  {
   "cell_type": "code",
   "execution_count": 13,
   "metadata": {},
   "outputs": [
    {
     "data": {
      "text/plain": [
       "101-element Vector{Float64}:\n",
       " 7.926078166037313e-6\n",
       " 0.0004210751967121292\n",
       " 0.010091876290498321\n",
       " 0.0\n",
       " 0.011482437882389973\n",
       " 0.00013178020948110262\n",
       " 0.0023632781250717753\n",
       " 0.0009055802857870328\n",
       " 0.0012990605554894894\n",
       " 0.0016750788941365191\n",
       " 6.978641405514641e-6\n",
       " 0.038350149020200563\n",
       " 0.0\n",
       " ⋮\n",
       " 3.042644920930742e-5\n",
       " 5.898083857838683e-7\n",
       " 0.009444173176467858\n",
       " 0.006324633814033148\n",
       " 0.00029115092252889356\n",
       " 0.0005201627269077607\n",
       " 0.0008469155188951948\n",
       " 3.4017703642097506e-5\n",
       " 0.001632714485715438\n",
       " 0.005953773016861566\n",
       " 0.0001847886202275514\n",
       " 0.006647989769474606"
      ]
     },
     "execution_count": 13,
     "metadata": {},
     "output_type": "execute_result"
    }
   ],
   "source": [
    "rank_one_term = (raw_data * u) .^ 2\n",
    "rank_one_term[nodes[:, node_id] .== 0] .= 0\n",
    "rank_one_term"
   ]
  },
  {
   "cell_type": "code",
   "execution_count": 14,
   "metadata": {},
   "outputs": [
    {
     "data": {
      "text/plain": [
       "101-element Vector{Float64}:\n",
       " 0.016097164406534425\n",
       " 0.026382093189530394\n",
       " 0.05414100146972663\n",
       " 0.0\n",
       " 0.03214735697131309\n",
       " 0.05392057454670921\n",
       " 0.021722436645934658\n",
       " 0.01970490065528001\n",
       " 0.026424705247690236\n",
       " 0.030432363176178798\n",
       " 0.01644266190089374\n",
       " 0.1595062684006523\n",
       " 0.0\n",
       " ⋮\n",
       " 0.010497707475897677\n",
       " 0.010079594849954536\n",
       " 0.04397882892064134\n",
       " 0.03542551701477037\n",
       " 0.03259738143319357\n",
       " 0.03968867072276389\n",
       " 0.038444722591623\n",
       " 0.011947288809978045\n",
       " 0.03961357916191083\n",
       " 0.04651232744206663\n",
       " 0.05757289255173794\n",
       " 0.04763397466371457"
      ]
     },
     "execution_count": 14,
     "metadata": {},
     "output_type": "execute_result"
    }
   ],
   "source": [
    "# Upper bound on the contribution from adding one variable into ||E||^2.\n",
    "# The upper bound comes from ||E||_F^2\n",
    "# upper bounded by ||(I-uu')MD||_F^2. Also, we know that normCommunities\n",
    "# has column norm of 1 for every variable.\n",
    "# We should add another upper bound based on taking k columns from this\n",
    "# row into ||E||_F.\n",
    "residual_term = norms .- rank_one_term\n",
    "residual_term[y .== 0] .= 0\n",
    "residual_term"
   ]
  },
  {
   "cell_type": "code",
   "execution_count": 15,
   "metadata": {},
   "outputs": [
    {
     "data": {
      "text/plain": [
       "frobenius_rows_k (generic function with 1 method)"
      ]
     },
     "execution_count": 15,
     "metadata": {},
     "output_type": "execute_result"
    }
   ],
   "source": [
    "function frobenius_rows_k(M, y)\n",
    "    M = M .^ 2\n",
    "    row_quantities = zeros(n)\n",
    "    stillneed = k - sum(y .== 1)\n",
    "    for row_index in 1:n\n",
    "        if y[row_index] == 0\n",
    "            continue\n",
    "        end\n",
    "        row = copy(M[row_index, :])\n",
    "        row_sum = sum(row[y .== 1])\n",
    "        row[y .== 1] .= 0\n",
    "        if y[row_index] == -1\n",
    "            row_sum += row[row_index]\n",
    "            row[row_index] = 0\n",
    "            row_stillneed = stillneed -1\n",
    "        else\n",
    "            row_stillneed = stillneed\n",
    "        end\n",
    "        row_sum += sum(sort(row, rev=true)[1:row_stillneed])\n",
    "        row_quantities[row_index] = row_sum\n",
    "    end\n",
    "    row_quantities\n",
    "end"
   ]
  },
  {
   "cell_type": "code",
   "execution_count": 16,
   "metadata": {},
   "outputs": [],
   "source": [
    "# frobenius_rows_k(data - raw_data * u * u' * raw_data, y)"
   ]
  },
  {
   "cell_type": "code",
   "execution_count": 17,
   "metadata": {},
   "outputs": [
    {
     "data": {
      "text/plain": [
       "81"
      ]
     },
     "execution_count": 17,
     "metadata": {},
     "output_type": "execute_result"
    }
   ],
   "source": [
    "sum((y .== -1) .& (frobenius_rows_k(data - raw_data * u * u' * raw_data, y) .< residual_term))"
   ]
  },
  {
   "cell_type": "code",
   "execution_count": 18,
   "metadata": {},
   "outputs": [
    {
     "data": {
      "text/plain": [
       "(0.2202679971348655, 0.2732082054995252)"
      ]
     },
     "execution_count": 18,
     "metadata": {},
     "output_type": "execute_result"
    }
   ],
   "source": [
    "lb_proj_nodes_extra = rank_one_term .>= sort(rank_one_term .* Array{Float64}(y .== -1))[end-stillneed+1]\n",
    "lb_proj_nodes_extra = lb_proj_nodes_extra .& (y .== -1)\n",
    "lb_proj_nodes = lb_proj_nodes_extra .| (y .== 1)\n",
    "lb_proj = sum(rank_one_term[lb_proj_nodes])\n",
    "# Too slow to compute!\n",
    "lb_diag = maximum(svd(raw_data[:, lb_proj_nodes]).S) ^ 2\n",
    "lb_proj, lb_diag"
   ]
  },
  {
   "cell_type": "code",
   "execution_count": 19,
   "metadata": {},
   "outputs": [
    {
     "data": {
      "text/plain": [
       "3-element Vector{Float64}:\n",
       " 0.19840666121229678\n",
       " 0.3629025164807017\n",
       " 0.4316969652057027"
      ]
     },
     "execution_count": 19,
     "metadata": {},
     "output_type": "execute_result"
    }
   ],
   "source": [
    "bounds[:, node_id]"
   ]
  },
  {
   "cell_type": "code",
   "execution_count": 20,
   "metadata": {},
   "outputs": [
    {
     "data": {
      "text/plain": [
       "(0.06879444872500101, 0.15848875970617754)"
      ]
     },
     "execution_count": 20,
     "metadata": {},
     "output_type": "execute_result"
    }
   ],
   "source": [
    "lambda_1 = bounds[2, node_id]\n",
    "lambda_2 = bounds[3, node_id] - lb_diag\n",
    "lambda_2_lb = bounds[3, node_id] - lambda_1\n",
    "lambda_2_lb, lambda_2"
   ]
  },
  {
   "cell_type": "code",
   "execution_count": 21,
   "metadata": {},
   "outputs": [],
   "source": [
    "# lambda_2 = svd(raw_data[:, selected_data]).S[2] + sum(selectsorted(residual_term, stillneed))"
   ]
  },
  {
   "cell_type": "code",
   "execution_count": 22,
   "metadata": {},
   "outputs": [
    {
     "data": {
      "text/plain": [
       "(0.15848875970617754, 0)"
      ]
     },
     "execution_count": 22,
     "metadata": {},
     "output_type": "execute_result"
    }
   ],
   "source": [
    "# Initialization. Loop until convergence.\n",
    "# Bad idea - lambda_2 bounds ||E|| from below, not above.\n",
    "residual_ub = lambda_2\n",
    "# Contribution to Tr E < residual_ub\n",
    "resid_var_sel = residual_term .<= residual_ub\n",
    "resid_var_sel = BitArray(ones(size(y)))\n",
    "residual_ub, sum((y .== -1) .& .~resid_var_sel)"
   ]
  },
  {
   "cell_type": "code",
   "execution_count": 23,
   "metadata": {},
   "outputs": [
    {
     "data": {
      "text/plain": [
       "(0.1282440427818185, 0.11760011772186946)"
      ]
     },
     "execution_count": 23,
     "metadata": {},
     "output_type": "execute_result"
    }
   ],
   "source": [
    "# ||Sigma||_F >= sqrt(||A||_F + ||E||_F)???\n",
    "norm(data[1:k, 1:k]), sqrt(norm(raw_data[1:k, :] * u * u' * raw_data[:, 1:k])^2 + norm(data[1:k, 1:k] - (raw_data[1:k, :] * u * u' * raw_data[:, 1:k]))^2)"
   ]
  },
  {
   "cell_type": "code",
   "execution_count": 24,
   "metadata": {},
   "outputs": [
    {
     "data": {
      "text/plain": [
       "0.04451876283731441"
      ]
     },
     "execution_count": 24,
     "metadata": {},
     "output_type": "execute_result"
    }
   ],
   "source": [
    "a_squared_program = mapslices(\n",
    "    (row) -> sum(row[y .== 1].^2) + sum(selectsorted(row.^2 .* (y .== -1), stillneed)),\n",
    "    data,\n",
    "    dims=2)[:, 1]\n",
    "# lambda_1^2 >= sum_i rank_one_term_i^2 >= sum_i rank_one_term_i^2 + sum_(i!=j) 2 rank_one_term_i rank_one_term_j\n",
    "e_squared_program = a_squared_program - rank_one_term.^2\n",
    "maximum(e_squared_program)"
   ]
  },
  {
   "cell_type": "code",
   "execution_count": 25,
   "metadata": {},
   "outputs": [
    {
     "data": {
      "text/plain": [
       "0.026386179743713503"
      ]
     },
     "execution_count": 25,
     "metadata": {},
     "output_type": "execute_result"
    }
   ],
   "source": [
    "# Contribution to ||E||^2 from the row sums (squared Frobenius norm)\n",
    "E = data - (raw_data * u * u' * raw_data)\n",
    "e_squared_program = mapslices(\n",
    "    (row) -> sum(row[y .== 1].^2) + sum(selectsorted(row.^2 .* (resid_var_sel .& (y .== -1)), stillneed)),\n",
    "    E,\n",
    "    dims=2)[:, 1]\n",
    "maximum(e_squared_program)"
   ]
  },
  {
   "cell_type": "code",
   "execution_count": 26,
   "metadata": {},
   "outputs": [
    {
     "data": {
      "text/plain": [
       "0.12443300672604672"
      ]
     },
     "execution_count": 26,
     "metadata": {},
     "output_type": "execute_result"
    }
   ],
   "source": [
    "# Upper bound on ||E||_F using ||A||_F\n",
    "sqrt(sum(a_squared_program[y .== 1]) + sum(selectsorted(a_squared_program .* (y .== -1), stillneed)) - lb_diag^2)"
   ]
  },
  {
   "cell_type": "code",
   "execution_count": 27,
   "metadata": {},
   "outputs": [
    {
     "data": {
      "text/plain": [
       "0.18117842668099743"
      ]
     },
     "execution_count": 27,
     "metadata": {},
     "output_type": "execute_result"
    }
   ],
   "source": [
    "# Upper bound on ||E||_F\n",
    "lambda_2 = sqrt(sum(e_squared_program[y .== 1]) + sum(selectsorted(e_squared_program .* (y .== -1), stillneed)))"
   ]
  },
  {
   "cell_type": "code",
   "execution_count": 28,
   "metadata": {},
   "outputs": [
    {
     "data": {
      "text/plain": [
       "0.15848875970617754"
      ]
     },
     "execution_count": 28,
     "metadata": {},
     "output_type": "execute_result"
    }
   ],
   "source": [
    "# Upper bound performed poorly\n",
    "lambda_2 = bounds[3, node_id] - lb_diag"
   ]
  },
  {
   "cell_type": "code",
   "execution_count": 29,
   "metadata": {},
   "outputs": [
    {
     "data": {
      "text/plain": [
       "0.24795709056878376"
      ]
     },
     "execution_count": 29,
     "metadata": {},
     "output_type": "execute_result"
    }
   ],
   "source": [
    "sum(residual_term[y .== 1]) + sum(selectsorted(residual_term[y .== -1], stillneed))"
   ]
  },
  {
   "cell_type": "code",
   "execution_count": 30,
   "metadata": {},
   "outputs": [
    {
     "data": {
      "text/plain": [
       "101-element Vector{Float64}:\n",
       " 0.024601676904719726\n",
       " 0.05799532039097986\n",
       " 0.18262281400917188\n",
       " 0.14606029764996195\n",
       " 0.0880375464012855\n",
       " 0.23925642932289726\n",
       " 0.04348631750007593\n",
       " 0.03823110015959428\n",
       " 0.054801606237631605\n",
       " 0.07411834186327425\n",
       " 0.028331367049840104\n",
       " 1.206754422470488\n",
       " 0.014195255911639011\n",
       " ⋮\n",
       " 0.011018768210548377\n",
       " 0.008226682834820325\n",
       " 0.1926588984214859\n",
       " 0.10085579242512233\n",
       " 0.0871036705508794\n",
       " 0.10924901820611166\n",
       " 0.10349046799096258\n",
       " 0.012162377026588875\n",
       " 0.10449036260751617\n",
       " 0.12937540070461656\n",
       " 0.18853743075691767\n",
       " 0.15193791934247905"
      ]
     },
     "execution_count": 30,
     "metadata": {},
     "output_type": "execute_result"
    }
   ],
   "source": [
    "# Multiplier for \n",
    "mult_parallel = 1. / lambda_1\n",
    "mult_perp = lambda_2 / (lb_proj - lambda_2)^2\n",
    "mult_linearize = mult_parallel + mult_perp\n",
    "linear_program = rank_one_term + mult_linearize * e_squared_program"
   ]
  },
  {
   "cell_type": "code",
   "execution_count": 31,
   "metadata": {},
   "outputs": [
    {
     "data": {
      "text/plain": [
       "1.6338898195663933"
      ]
     },
     "execution_count": 31,
     "metadata": {},
     "output_type": "execute_result"
    }
   ],
   "source": [
    "# Linear program solution\n",
    "sum(linear_program[y .== 1]) + sum(selectsorted(linear_program[y .== -1], stillneed))"
   ]
  },
  {
   "cell_type": "code",
   "execution_count": 36,
   "metadata": {},
   "outputs": [
    {
     "data": {
      "text/plain": [
       "0.45466491135441633"
      ]
     },
     "execution_count": 36,
     "metadata": {},
     "output_type": "execute_result"
    }
   ],
   "source": [
    "# Conservative program in case we cannot bound sin theta_perp.\n",
    "linear_program_lam_2 = rank_one_term + mult_parallel .* e_squared_program\n",
    "obj = lambda_2 + sum(linear_program_lam_2[y .== 1]) + sum(selectsorted(linear_program_lam_2[y .== -1], stillneed))"
   ]
  },
  {
   "cell_type": "code",
   "execution_count": 49,
   "metadata": {},
   "outputs": [
    {
     "ename": "LoadError",
     "evalue": "DomainError with -0.297213273627568:\nsqrt will only return a complex result if called with a complex argument. Try sqrt(Complex(x)).",
     "output_type": "error",
     "traceback": [
      "DomainError with -0.297213273627568:\nsqrt will only return a complex result if called with a complex argument. Try sqrt(Complex(x)).",
      "",
      "Stacktrace:",
      " [1] throw_complex_domainerror(f::Symbol, x::Float64)",
      "   @ Base.Math ./math.jl:33",
      " [2] sqrt(x::Float64)",
      "   @ Base.Math ./math.jl:591",
      " [3] top-level scope",
      "   @ In[49]:4"
     ]
    }
   ],
   "source": [
    "# (||B'B||_F + ||C'C||_F)^2 = (C11^2 + 2 C11 C22 + C22^2) + 2sqrt(C11^2 + 2 C11 C22 + C22^2) B11 + B11^2\n",
    "# ||B'B + C'C||_F^2 = (C11 + B11)^2 + 2 C11 C22 + C22^2\n",
    "selected = [findall(y .== 1); sortperm(linear_program_lam_2 .* (y .== -1), rev=true)[1:stillneed]]\n",
    "sqrt(obj^2 + 2 * sum(rank_one_term[selected]) * (mult_parallel - mult_parallel - mult_perp) * sum(e_squared_program[selected]))"
   ]
  },
  {
   "cell_type": "code",
   "execution_count": 47,
   "metadata": {},
   "outputs": [
    {
     "data": {
      "text/plain": [
       "(0.20672018161691927, 0.2202679971348655)"
      ]
     },
     "execution_count": 47,
     "metadata": {},
     "output_type": "execute_result"
    }
   ],
   "source": [
    "obj^2, sum(rank_one_term[selected])"
   ]
  },
  {
   "cell_type": "code",
   "execution_count": 43,
   "metadata": {},
   "outputs": [
    {
     "data": {
      "text/plain": [
       "1.070517487176781"
      ]
     },
     "execution_count": 43,
     "metadata": {},
     "output_type": "execute_result"
    }
   ],
   "source": [
    "(sqrt(mult_parallel^2 + mult_perp^2) - mult_parallel) * sum(e_squared_program[selected])"
   ]
  },
  {
   "cell_type": "code",
   "execution_count": null,
   "metadata": {},
   "outputs": [
    {
     "data": {
      "text/plain": [
       "1×2 Array{Int64,2}:\n",
       " 13  81"
      ]
     },
     "metadata": {},
     "output_type": "display_data"
    }
   ],
   "source": [
    "[sum((sort(rank_one_term, rev=true)[k] .> linear_program) .& (y .== -1)) sum(y .== -1)]"
   ]
  },
  {
   "cell_type": "code",
   "execution_count": null,
   "metadata": {},
   "outputs": [
    {
     "name": "stdout",
     "output_type": "stream",
     "text": [
      "rank_one_term iter 1\n",
      "rank_one_term iter "
     ]
    },
    {
     "name": "stdout",
     "output_type": "stream",
     "text": [
      "2\n"
     ]
    }
   ],
   "source": [
    "resid_var_sel = y .== -1\n",
    "for iter in countfrom()\n",
    "    @printf(\"rank_one_term iter %d\\n\", iter)\n",
    "    e_squared_program = mapslices(\n",
    "        (row) -> sum(row[y .== 1].^2) + sum(selectsorted(row.^2 .* (resid_var_sel .& (y .== -1)), stillneed)),\n",
    "        E,\n",
    "        dims=2)[:, 1]\n",
    "    linear_program = rank_one_term + mult_linearize * e_squared_program\n",
    "    num_selected = sum(resid_var_sel)\n",
    "    resid_var_sel .&= sort(rank_one_term, rev=true)[k] .<= linear_program\n",
    "    if sum(resid_var_sel) == num_selected\n",
    "        break\n",
    "    end\n",
    "end"
   ]
  },
  {
   "cell_type": "code",
   "execution_count": null,
   "metadata": {},
   "outputs": [
    {
     "data": {
      "text/plain": [
       "68"
      ]
     },
     "metadata": {},
     "output_type": "display_data"
    }
   ],
   "source": [
    "sum(resid_var_sel)"
   ]
  },
  {
   "cell_type": "code",
   "execution_count": null,
   "metadata": {},
   "outputs": [
    {
     "data": {
      "text/plain": [
       "1.6338898195663925"
      ]
     },
     "metadata": {},
     "output_type": "display_data"
    }
   ],
   "source": [
    "# Linear program solution\n",
    "sum(linear_program[y .== 1]) + sum(selectsorted(linear_program[y .== -1], stillneed))"
   ]
  }
 ],
 "metadata": {
  "kernelspec": {
   "display_name": "Julia 1.8.3",
   "language": "julia",
   "name": "julia-1.8"
  },
  "language_info": {
   "file_extension": ".jl",
   "mimetype": "application/julia",
   "name": "julia",
   "version": "1.8.3"
  }
 },
 "nbformat": 4,
 "nbformat_minor": 4
}
