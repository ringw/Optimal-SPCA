{
 "cells": [
  {
   "cell_type": "code",
   "execution_count": 3,
   "metadata": {},
   "outputs": [],
   "source": [
    "using LinearAlgebra, CSV, Random, Tables, JLD"
   ]
  },
  {
   "cell_type": "code",
   "execution_count": 22,
   "metadata": {},
   "outputs": [
    {
     "data": {
      "text/plain": [
       "refreshFile (generic function with 1 method)"
      ]
     },
     "metadata": {},
     "output_type": "display_data"
    }
   ],
   "source": [
    "include(\"../Algorithm/utilities.jl\")"
   ]
  },
  {
   "cell_type": "code",
   "execution_count": 18,
   "metadata": {},
   "outputs": [
    {
     "data": {
      "text/plain": [
       "6.140921104957897e-16"
      ]
     },
     "metadata": {},
     "output_type": "display_data"
    }
   ],
   "source": [
    "data = load(\"../Data/communities.jld\")[\"communities\"]\n",
    "# Matrix sqrt: via diagonalization and sqrt eigenvalues\n",
    "raw_data = sqrt(data)';\n",
    "n = size(data, 1);\n",
    "N = n * n;\n",
    "norms = data[1:n+1:N]\n",
    "k = 5;\n",
    "# All close.\n",
    "maximum(abs.(raw_data * raw_data .- data))"
   ]
  },
  {
   "cell_type": "code",
   "execution_count": 25,
   "metadata": {},
   "outputs": [],
   "source": [
    "nodes = CSV.File(\"../Co-K5-Trace-Nodes.csv\", header=false) |> Tables.matrix;\n",
    "bounds = CSV.File(\"../Co-K5-Trace-Bounds.csv\", header=false) |> Tables.matrix;"
   ]
  },
  {
   "cell_type": "code",
   "execution_count": 60,
   "metadata": {},
   "outputs": [
    {
     "data": {
      "text/plain": [
       "2"
      ]
     },
     "metadata": {},
     "output_type": "display_data"
    }
   ],
   "source": [
    "# node_id = 50\n",
    "# node_id = 300\n",
    "node_id = 40\n",
    "y = nodes[:, node_id]\n",
    "selected_data = findall(y .== 1)\n",
    "i = sum(nodes[:, node_id] .== 1)\n",
    "stillneed = k - i"
   ]
  },
  {
   "cell_type": "code",
   "execution_count": 54,
   "metadata": {},
   "outputs": [
    {
     "data": {
      "text/plain": [
       "3-element Array{Float64,1}:\n",
       " 0.19840666121229678\n",
       " 0.3629025164807017\n",
       " 0.4316969652057027"
      ]
     },
     "metadata": {},
     "output_type": "display_data"
    }
   ],
   "source": [
    "bounds[:, node_id]"
   ]
  },
  {
   "cell_type": "code",
   "execution_count": 58,
   "metadata": {},
   "outputs": [
    {
     "data": {
      "text/plain": [
       "0.4316969652057027"
      ]
     },
     "metadata": {},
     "output_type": "display_data"
    }
   ],
   "source": [
    "sum(norms[y .== 1]) + sum(selectsorted(norms .* (y .== -1), stillneed))"
   ]
  },
  {
   "cell_type": "code",
   "execution_count": 62,
   "metadata": {},
   "outputs": [
    {
     "data": {
      "text/plain": [
       "0.14185918642419382"
      ]
     },
     "metadata": {},
     "output_type": "display_data"
    }
   ],
   "source": [
    "s = maximum(svd(raw_data[:, selected_data]).S)\n",
    "u = svd(raw_data[:, selected_data]).U[:, 1];\n",
    "v = svd(raw_data[:, selected_data]).V[:, 1];\n",
    "D = Matrix(1.0I, 101, 101)[:, selected_data];\n",
    "s^2"
   ]
  },
  {
   "cell_type": "code",
   "execution_count": 127,
   "metadata": {},
   "outputs": [
    {
     "data": {
      "text/plain": [
       "0.14185918642419373"
      ]
     },
     "metadata": {},
     "output_type": "display_data"
    }
   ],
   "source": [
    "norm(raw_data[:, selected_data] * v)^2"
   ]
  },
  {
   "cell_type": "code",
   "execution_count": 128,
   "metadata": {},
   "outputs": [
    {
     "data": {
      "text/plain": [
       "0.1418591864241937"
      ]
     },
     "metadata": {},
     "output_type": "display_data"
    }
   ],
   "source": [
    "norm(u' * raw_data[:, selected_data])^2"
   ]
  },
  {
   "cell_type": "code",
   "execution_count": 131,
   "metadata": {},
   "outputs": [
    {
     "data": {
      "text/plain": [
       "0.14185918642419382"
      ]
     },
     "metadata": {},
     "output_type": "display_data"
    }
   ],
   "source": [
    "norm(data[:, selected_data][selected_data, :] * v)"
   ]
  },
  {
   "cell_type": "code",
   "execution_count": 134,
   "metadata": {},
   "outputs": [
    {
     "data": {
      "text/plain": [
       "101-element Array{Float64,1}:\n",
       " 7.926078166037157e-6\n",
       " 0.00042107519671213234\n",
       " 0.010091876290498288\n",
       " 0.0\n",
       " 0.011482437882389994\n",
       " 0.00013178020948110015\n",
       " 0.0023632781250717723\n",
       " 0.0009055802857870314\n",
       " 0.0012990605554894848\n",
       " 0.0016750788941365209\n",
       " ⋮\n",
       " 0.0063246338140331565\n",
       " 0.00029115092252889475\n",
       " 0.0005201627269077583\n",
       " 0.0008469155188951991\n",
       " 3.40177036420949e-5\n",
       " 0.0016327144857154394\n",
       " 0.005953773016861563\n",
       " 0.00018478862022754878\n",
       " 0.0066479897694745995"
      ]
     },
     "metadata": {},
     "output_type": "display_data"
    }
   ],
   "source": [
    "rank_one_term = (raw_data * u) .^ 2\n",
    "rank_one_term[nodes[:, node_id] .== 0] .= 0\n",
    "rank_one_term"
   ]
  },
  {
   "cell_type": "code",
   "execution_count": 135,
   "metadata": {},
   "outputs": [
    {
     "data": {
      "text/plain": [
       "101-element Array{Float64,1}:\n",
       " 0.016097164406534425\n",
       " 0.02638209318953039\n",
       " 0.054141001469726655\n",
       " 0.0\n",
       " 0.03214735697131307\n",
       " 0.05392057454670922\n",
       " 0.02172243664593466\n",
       " 0.01970490065528001\n",
       " 0.02642470524769024\n",
       " 0.030432363176178794\n",
       " ⋮\n",
       " 0.03542551701477036\n",
       " 0.032597381433193566\n",
       " 0.03968867072276389\n",
       " 0.038444722591622994\n",
       " 0.011947288809978047\n",
       " 0.03961357916191083\n",
       " 0.04651232744206663\n",
       " 0.05757289255173794\n",
       " 0.04763397466371458"
      ]
     },
     "metadata": {},
     "output_type": "display_data"
    }
   ],
   "source": [
    "# Upper bound on the contribution from adding one variable into ||E||^2.\n",
    "# The upper bound comes from ||E||_F^2\n",
    "# upper bounded by ||(I-uu')MD||_F^2. Also, we know that normCommunities\n",
    "# has column norm of 1 for every variable.\n",
    "# We should add another upper bound based on taking k columns from this\n",
    "# row into ||E||_F.\n",
    "residual_term = norms .- rank_one_term\n",
    "residual_term[y .== 0] .= 0\n",
    "residual_term"
   ]
  },
  {
   "cell_type": "code",
   "execution_count": 149,
   "metadata": {},
   "outputs": [
    {
     "data": {
      "text/plain": [
       "frobenius_rows_k (generic function with 1 method)"
      ]
     },
     "metadata": {},
     "output_type": "display_data"
    }
   ],
   "source": [
    "function frobenius_rows_k(M, y)\n",
    "    M = M .^ 2\n",
    "    row_quantities = zeros(n)\n",
    "    stillneed = k - sum(y .== 1)\n",
    "    for row_index in 1:n\n",
    "        if y[row_index] == 0\n",
    "            continue\n",
    "        end\n",
    "        row = copy(M[row_index, :])\n",
    "        row_sum = sum(row[y .== 1])\n",
    "        row[y .== 1] .= 0\n",
    "        if y[row_index] == -1\n",
    "            row_sum += row[row_index]\n",
    "            row[row_index] = 0\n",
    "            row_stillneed = stillneed -1\n",
    "        else\n",
    "            row_stillneed = stillneed\n",
    "        end\n",
    "        row_sum += sum(sort(row, rev=true)[1:row_stillneed])\n",
    "        row_quantities[row_index] = row_sum\n",
    "    end\n",
    "    row_quantities\n",
    "end"
   ]
  },
  {
   "cell_type": "code",
   "execution_count": 150,
   "metadata": {},
   "outputs": [],
   "source": [
    "# frobenius_rows_k(data - raw_data * u * u' * raw_data, y)"
   ]
  },
  {
   "cell_type": "code",
   "execution_count": 151,
   "metadata": {},
   "outputs": [
    {
     "data": {
      "text/plain": [
       "9"
      ]
     },
     "metadata": {},
     "output_type": "display_data"
    }
   ],
   "source": [
    "sum((y .== -1) .& (frobenius_rows_k(data - raw_data * u * u' * raw_data, y) .< residual_term))"
   ]
  },
  {
   "cell_type": "code",
   "execution_count": 71,
   "metadata": {},
   "outputs": [
    {
     "data": {
      "text/plain": [
       "0.2732082054995253"
      ]
     },
     "metadata": {},
     "output_type": "display_data"
    }
   ],
   "source": [
    "lb_proj_nodes_extra = rank_one_term .>= sort(rank_one_term .* Array{Float64}(y .== -1))[end-stillneed+1]\n",
    "lb_proj_nodes_extra = lb_proj_nodes_extra .& (y .== -1)\n",
    "lb_proj_nodes = lb_proj_nodes_extra .| (y .== 1)\n",
    "lb_proj = sum(rank_one_term[lb_proj_nodes])\n",
    "lb_diag = maximum(svd(raw_data[:, lb_proj_nodes]).S) ^ 2"
   ]
  },
  {
   "cell_type": "code",
   "execution_count": 76,
   "metadata": {},
   "outputs": [
    {
     "data": {
      "text/plain": [
       "0.2202679971348654"
      ]
     },
     "metadata": {},
     "output_type": "display_data"
    }
   ],
   "source": [
    "lb_proj"
   ]
  },
  {
   "cell_type": "code",
   "execution_count": 72,
   "metadata": {},
   "outputs": [
    {
     "data": {
      "text/plain": [
       "3-element Array{Float64,1}:\n",
       " 0.19840666121229678\n",
       " 0.3629025164807017\n",
       " 0.4316969652057027"
      ]
     },
     "metadata": {},
     "output_type": "display_data"
    }
   ],
   "source": [
    "bounds[:, node_id]"
   ]
  },
  {
   "cell_type": "code",
   "execution_count": 102,
   "metadata": {},
   "outputs": [
    {
     "data": {
      "text/plain": [
       "(0.06879444872500101, 0.15848875970617743)"
      ]
     },
     "metadata": {},
     "output_type": "display_data"
    }
   ],
   "source": [
    "lambda_1 = bounds[2, node_id]\n",
    "lambda_2 = bounds[3, node_id] - lb_diag\n",
    "lambda_2_lb = bounds[3, node_id] - lambda_1\n",
    "lambda_2_lb, lambda_2"
   ]
  },
  {
   "cell_type": "code",
   "execution_count": 101,
   "metadata": {},
   "outputs": [],
   "source": [
    "# lambda_2 = svd(raw_data[:, selected_data]).S[2] + sum(selectsorted(residual_term, stillneed))"
   ]
  },
  {
   "cell_type": "code",
   "execution_count": 97,
   "metadata": {},
   "outputs": [
    {
     "data": {
      "text/plain": [
       "(0.15848875970617743, 1)"
      ]
     },
     "metadata": {},
     "output_type": "display_data"
    }
   ],
   "source": [
    "# Initialization. Loop until convergence.\n",
    "residual_ub = lambda_2\n",
    "# Contribution to Tr E < residual_ub\n",
    "resid_var_sel = residual_term .<= residual_ub\n",
    "residual_ub, sum((y .== -1) .& .~resid_var_sel)"
   ]
  },
  {
   "cell_type": "code",
   "execution_count": 144,
   "metadata": {},
   "outputs": [
    {
     "data": {
      "text/plain": [
       "101-element Array{Float64,1}:\n",
       " 0.0005554029068767853\n",
       " 0.001300204404267114\n",
       " 0.0038962818242294452\n",
       " 0.003298492957263369\n",
       " 0.0017288509633006\n",
       " 0.0054001736522469816\n",
       " 0.0009286853302516914\n",
       " 0.000842925602719248\n",
       " 0.0012082528446651646\n",
       " 0.0016359927820874252\n",
       " ⋮\n",
       " 0.0021348057339160486\n",
       " 0.0019604950092779456\n",
       " 0.0024554336107746088\n",
       " 0.0023180086607039376\n",
       " 0.0002738958392771004\n",
       " 0.002322843602191724\n",
       " 0.002787241818975897\n",
       " 0.0036718053033598704\n",
       " 0.0032810956650680912"
      ]
     },
     "metadata": {},
     "output_type": "display_data"
    }
   ],
   "source": [
    "# Contribution to ||E||^2 from the row sums (squared Frobenius norm)\n",
    "E = data - (raw_data * u * u' * raw_data)\n",
    "e_squared_program = mapslices(\n",
    "    (row) -> sum(row[y .== 1].^2) + sum(selectsorted(row.^2 .* (resid_var_sel .& (y .== -1)), stillneed)),\n",
    "    E,\n",
    "    dims=2)[:, 1]"
   ]
  },
  {
   "cell_type": "code",
   "execution_count": 151,
   "metadata": {},
   "outputs": [
    {
     "data": {
      "text/plain": [
       "0.10793675401189105"
      ]
     },
     "metadata": {},
     "output_type": "display_data"
    }
   ],
   "source": [
    "# Upper bound on ||E||_F\n",
    "lambda_2 = sqrt(sum(e_squared_program[y .== 1]) + sum(selectsorted(e_squared_program .* (y .== -1), stillneed)))"
   ]
  },
  {
   "cell_type": "code",
   "execution_count": 146,
   "metadata": {},
   "outputs": [
    {
     "data": {
      "text/plain": [
       "0.24795709056878384"
      ]
     },
     "metadata": {},
     "output_type": "display_data"
    }
   ],
   "source": [
    "sum(residual_term[y .== 1]) + sum(selectsorted(residual_term[y .== -1], stillneed))"
   ]
  },
  {
   "cell_type": "code",
   "execution_count": 152,
   "metadata": {},
   "outputs": [
    {
     "data": {
      "text/plain": [
       "101-element Array{Float64,1}:\n",
       " 0.006289277913004189\n",
       " 0.01512578995294894\n",
       " 0.054157034543441396\n",
       " 0.037304440673198415\n",
       " 0.031034948386082922\n",
       " 0.061205264447674636\n",
       " 0.012866282756370652\n",
       " 0.01043868177970345\n",
       " 0.014963845396937299\n",
       " 0.020177406008939646\n",
       " ⋮\n",
       " 0.030468306358281173\n",
       " 0.02246344921489454\n",
       " 0.028289989325571935\n",
       " 0.02706252903802565\n",
       " 0.003131653872441306\n",
       " 0.027903008972859585\n",
       " 0.03747619808340141\n",
       " 0.041711220502127375\n",
       " 0.04375567505680993"
      ]
     },
     "metadata": {},
     "output_type": "display_data"
    }
   ],
   "source": [
    "# Multiplier for \n",
    "mult_parallel = 1. / lambda_1\n",
    "mult_perp = lambda_2 / (lb_proj - lambda_2)^2\n",
    "mult_linearize = mult_parallel + mult_perp\n",
    "linear_program = rank_one_term + mult_linearize * e_squared_program"
   ]
  },
  {
   "cell_type": "code",
   "execution_count": 153,
   "metadata": {},
   "outputs": [
    {
     "data": {
      "text/plain": [
       "0.28282067871658134"
      ]
     },
     "metadata": {},
     "output_type": "display_data"
    }
   ],
   "source": [
    "# Linear program solution\n",
    "sum(linear_program[y .== 1]) + sum(selectsorted(linear_program[y .== -1], stillneed))"
   ]
  },
  {
   "cell_type": "code",
   "execution_count": 155,
   "metadata": {},
   "outputs": [
    {
     "data": {
      "text/plain": [
       "0.33598481500982685"
      ]
     },
     "metadata": {},
     "output_type": "display_data"
    }
   ],
   "source": [
    "# Conservative program in case we cannot bound sin theta_perp.\n",
    "linear_program_lam_2 = rank_one_term + mult_parallel .* e_squared_program\n",
    "lambda_2 + sum(linear_program_lam_2[y .== 1]) + sum(selectsorted(linear_program_lam_2[y .== -1], stillneed))"
   ]
  },
  {
   "cell_type": "code",
   "execution_count": 150,
   "metadata": {},
   "outputs": [
    {
     "data": {
      "text/plain": [
       "1×2 Array{Int64,2}:\n",
       " 13  81"
      ]
     },
     "metadata": {},
     "output_type": "display_data"
    }
   ],
   "source": [
    "[sum((sort(rank_one_term, rev=true)[k] .> linear_program) .& (y .== -1)) sum(y .== -1)]"
   ]
  },
  {
   "cell_type": "code",
   "execution_count": null,
   "metadata": {},
   "outputs": [],
   "source": []
  }
 ],
 "metadata": {
  "kernelspec": {
   "display_name": "Julia 1.4.1",
   "language": "julia",
   "name": "julia-1.4"
  },
  "language_info": {
   "file_extension": ".jl",
   "mimetype": "application/julia",
   "name": "julia",
   "version": "1.4.1"
  }
 },
 "nbformat": 4,
 "nbformat_minor": 4
}
