{
 "cells": [
  {
   "cell_type": "code",
   "execution_count": 1,
   "metadata": {},
   "outputs": [],
   "source": [
    "using LinearAlgebra, CSV, Random, Tables"
   ]
  },
  {
   "cell_type": "code",
   "execution_count": 48,
   "metadata": {},
   "outputs": [
    {
     "data": {
      "text/plain": [
       "4.884981308350689e-15"
      ]
     },
     "metadata": {},
     "output_type": "display_data"
    }
   ],
   "source": [
    "data = CSV.File(\"../NC-Data.csv\") |> Tables.matrix;\n",
    "# Matrix sqrt: via diagonalization and sqrt eigenvalues\n",
    "raw_data = sqrt(data)';\n",
    "n = size(data, 1);\n",
    "N = n * n;\n",
    "k = 7;\n",
    "# All close.\n",
    "maximum(abs.(raw_data * raw_data .- data))"
   ]
  },
  {
   "cell_type": "code",
   "execution_count": 2,
   "metadata": {},
   "outputs": [],
   "source": [
    "nodes = CSV.File(\"../NC-K7-Trace-Nodes.csv\") |> Tables.matrix;\n",
    "bounds = CSV.File(\"../NC-K7-Trace-Bounds.csv\") |> Tables.matrix;"
   ]
  },
  {
   "cell_type": "code",
   "execution_count": 36,
   "metadata": {},
   "outputs": [
    {
     "data": {
      "text/plain": [
       "3"
      ]
     },
     "metadata": {},
     "output_type": "display_data"
    }
   ],
   "source": [
    "# node_id = 50\n",
    "node_id = 300\n",
    "sum(nodes[:, node_id] .== 1)"
   ]
  },
  {
   "cell_type": "code",
   "execution_count": 37,
   "metadata": {},
   "outputs": [
    {
     "data": {
      "text/plain": [
       "3-element Array{Float64,1}:\n",
       " 3.608137513865839\n",
       " 6.26741838326191\n",
       " 7.0"
      ]
     },
     "metadata": {},
     "output_type": "display_data"
    }
   ],
   "source": [
    "bounds[:, node_id]"
   ]
  },
  {
   "cell_type": "code",
   "execution_count": 38,
   "metadata": {},
   "outputs": [
    {
     "data": {
      "text/plain": [
       "3-element Array{Int64,1}:\n",
       " 58\n",
       " 60\n",
       " 62"
      ]
     },
     "metadata": {},
     "output_type": "display_data"
    }
   ],
   "source": [
    "selected_data = findall(nodes[:, node_id] .== 1)"
   ]
  },
  {
   "cell_type": "code",
   "execution_count": 39,
   "metadata": {},
   "outputs": [
    {
     "data": {
      "text/plain": [
       "1.6649665589270974"
      ]
     },
     "metadata": {},
     "output_type": "display_data"
    }
   ],
   "source": [
    "s = maximum(svd(raw_data[:, selected_data]).S)\n",
    "u = svd(raw_data[:, selected_data]).U[:, 1];\n",
    "v = svd(raw_data[:, selected_data]).V[:, 1];\n",
    "D = Matrix(1.0I, 101, 101)[:, selected_data];\n",
    "s"
   ]
  },
  {
   "cell_type": "code",
   "execution_count": 40,
   "metadata": {},
   "outputs": [
    {
     "data": {
      "text/plain": [
       "101-element Array{Float64,1}:\n",
       " 0.042608386423828526\n",
       " 0.12169366148453958\n",
       " 0.0010827657107646796\n",
       " 0.21199488509712636\n",
       " 0.3576958952379641\n",
       " 0.590931332887428\n",
       " 0.0028134344289715506\n",
       " 0.045710787852978954\n",
       " 0.0134758787384476\n",
       " 0.0402507143194045\n",
       " ⋮\n",
       " 0.19651099861244686\n",
       " 0.03521501895354107\n",
       " 0.00462342769518394\n",
       " 0.026081129247667985\n",
       " 0.0008624637095038933\n",
       " 0.37524469637807883\n",
       " 0.11466762911354514\n",
       " 0.03909959370980699\n",
       " 0.07896128909275592"
      ]
     },
     "metadata": {},
     "output_type": "display_data"
    }
   ],
   "source": [
    "rank_one_term = (raw_data * u) .^ 2"
   ]
  },
  {
   "cell_type": "code",
   "execution_count": 41,
   "metadata": {},
   "outputs": [
    {
     "data": {
      "text/plain": [
       "2.8755558971277493"
      ]
     },
     "metadata": {},
     "output_type": "display_data"
    }
   ],
   "source": [
    "lambda_1 = bounds[2, node_id]\n",
    "lambda_2 = bounds[3, node_id] - bounds[1, node_id]\n",
    "lambda_1 - lambda_2"
   ]
  },
  {
   "cell_type": "code",
   "execution_count": 55,
   "metadata": {},
   "outputs": [
    {
     "data": {
      "text/plain": [
       "101×1 Array{Float64,2}:\n",
       " 0.9573916135761725\n",
       " 0.8783063385154616\n",
       " 0.9989172342892357\n",
       " 0.7880051149028751\n",
       " 0.6423041047620378\n",
       " 0.4090686671125715\n",
       " 0.9971865655710256\n",
       " 0.9542892121470192\n",
       " 0.9865241212615488\n",
       " 0.9597492856805928\n",
       " ⋮\n",
       " 0.8034890013875533\n",
       " 0.964784981046457\n",
       " 0.9953765723048089\n",
       " 0.973918870752333\n",
       " 0.9991375362904977\n",
       " 0.6247553036219169\n",
       " 0.8853323708864563\n",
       " 0.9609004062901878\n",
       " 0.921038710907241"
      ]
     },
     "metadata": {},
     "output_type": "display_data"
    }
   ],
   "source": [
    "rank_n1_term = (lambda_1 - lambda_2) * (\n",
    "    # 2 *\n",
    "    mapslices(norm, sqrt(raw_data * (I - u * u') * raw_data); dims=2) .^ 2\n",
    "    / (lambda_1 - lambda_2)\n",
    ")"
   ]
  },
  {
   "cell_type": "code",
   "execution_count": 57,
   "metadata": {},
   "outputs": [
    {
     "data": {
      "text/plain": [
       "101×1 Array{Float64,2}:\n",
       " 1.000000000000001\n",
       " 1.000000000000001\n",
       " 1.0000000000000004\n",
       " 1.0000000000000013\n",
       " 1.0000000000000018\n",
       " 0.9999999999999996\n",
       " 0.9999999999999971\n",
       " 0.9999999999999982\n",
       " 0.9999999999999963\n",
       " 0.9999999999999973\n",
       " ⋮\n",
       " 1.0000000000000002\n",
       " 0.9999999999999981\n",
       " 0.9999999999999929\n",
       " 1.0000000000000009\n",
       " 1.0000000000000016\n",
       " 0.9999999999999958\n",
       " 1.0000000000000016\n",
       " 0.9999999999999948\n",
       " 0.9999999999999969"
      ]
     },
     "metadata": {},
     "output_type": "display_data"
    }
   ],
   "source": [
    "rank_one_term + rank_n1_term"
   ]
  },
  {
   "cell_type": "code",
   "execution_count": null,
   "metadata": {},
   "outputs": [],
   "source": []
  }
 ],
 "metadata": {
  "kernelspec": {
   "display_name": "Julia 1.4.1",
   "language": "julia",
   "name": "julia-1.4"
  },
  "language_info": {
   "file_extension": ".jl",
   "mimetype": "application/julia",
   "name": "julia",
   "version": "1.4.1"
  },
  "orig_nbformat": 4
 },
 "nbformat": 4,
 "nbformat_minor": 2
}
