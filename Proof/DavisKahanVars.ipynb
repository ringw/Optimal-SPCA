{
 "cells": [
  {
   "cell_type": "code",
   "execution_count": 1,
   "metadata": {},
   "outputs": [],
   "source": [
    "using LinearAlgebra, CSV, Random, Tables"
   ]
  },
  {
   "cell_type": "code",
   "execution_count": 2,
   "metadata": {},
   "outputs": [
    {
     "data": {
      "text/plain": [
       "4.884981308350689e-15"
      ]
     },
     "metadata": {},
     "output_type": "display_data"
    }
   ],
   "source": [
    "data = CSV.File(\"../NC-Data.csv\") |> Tables.matrix;\n",
    "# Matrix sqrt: via diagonalization and sqrt eigenvalues\n",
    "raw_data = sqrt(data)';\n",
    "n = size(data, 1);\n",
    "N = n * n;\n",
    "k = 7;\n",
    "# All close.\n",
    "maximum(abs.(raw_data * raw_data .- data))"
   ]
  },
  {
   "cell_type": "code",
   "execution_count": 3,
   "metadata": {},
   "outputs": [],
   "source": [
    "nodes = CSV.File(\"../NC-K7-Trace-Nodes.csv\") |> Tables.matrix;\n",
    "bounds = CSV.File(\"../NC-K7-Trace-Bounds.csv\") |> Tables.matrix;"
   ]
  },
  {
   "cell_type": "code",
   "execution_count": 4,
   "metadata": {},
   "outputs": [
    {
     "data": {
      "text/plain": [
       "3"
      ]
     },
     "metadata": {},
     "output_type": "display_data"
    }
   ],
   "source": [
    "# node_id = 50\n",
    "node_id = 300\n",
    "sum(nodes[:, node_id] .== 1)"
   ]
  },
  {
   "cell_type": "code",
   "execution_count": 5,
   "metadata": {},
   "outputs": [
    {
     "data": {
      "text/plain": [
       "3-element Array{Float64,1}:\n",
       " 3.608137513865839\n",
       " 6.26741838326191\n",
       " 7.0"
      ]
     },
     "metadata": {},
     "output_type": "display_data"
    }
   ],
   "source": [
    "bounds[:, node_id]"
   ]
  },
  {
   "cell_type": "code",
   "execution_count": 6,
   "metadata": {},
   "outputs": [
    {
     "data": {
      "text/plain": [
       "3-element Array{Int64,1}:\n",
       " 58\n",
       " 60\n",
       " 62"
      ]
     },
     "metadata": {},
     "output_type": "display_data"
    }
   ],
   "source": [
    "selected_data = findall(nodes[:, node_id] .== 1)"
   ]
  },
  {
   "cell_type": "code",
   "execution_count": 7,
   "metadata": {},
   "outputs": [
    {
     "data": {
      "text/plain": [
       "1.6649665589270974"
      ]
     },
     "metadata": {},
     "output_type": "display_data"
    }
   ],
   "source": [
    "s = maximum(svd(raw_data[:, selected_data]).S)\n",
    "u = svd(raw_data[:, selected_data]).U[:, 1];\n",
    "v = svd(raw_data[:, selected_data]).V[:, 1];\n",
    "D = Matrix(1.0I, 101, 101)[:, selected_data];\n",
    "s"
   ]
  },
  {
   "cell_type": "code",
   "execution_count": 26,
   "metadata": {},
   "outputs": [
    {
     "data": {
      "text/plain": [
       "101-element Array{Float64,1}:\n",
       " 0.042608386423828526\n",
       " 0.12169366148453958\n",
       " 0.0010827657107646796\n",
       " 0.0\n",
       " 0.3576958952379641\n",
       " 0.590931332887428\n",
       " 0.0028134344289715506\n",
       " 0.045710787852978954\n",
       " 0.0134758787384476\n",
       " 0.0402507143194045\n",
       " ⋮\n",
       " 0.19651099861244686\n",
       " 0.03521501895354107\n",
       " 0.00462342769518394\n",
       " 0.026081129247667985\n",
       " 0.0008624637095038933\n",
       " 0.37524469637807883\n",
       " 0.11466762911354514\n",
       " 0.03909959370980699\n",
       " 0.0"
      ]
     },
     "metadata": {},
     "output_type": "display_data"
    }
   ],
   "source": [
    "rank_one_term = (raw_data * u) .^ 2\n",
    "rank_one_term[nodes[:, node_id] .== 0] .= 0\n",
    "rank_one_term"
   ]
  },
  {
   "cell_type": "code",
   "execution_count": 35,
   "metadata": {},
   "outputs": [
    {
     "data": {
      "text/plain": [
       "6.070332386128684"
      ]
     },
     "metadata": {},
     "output_type": "display_data"
    }
   ],
   "source": [
    "lb_proj_nodes = rank_one_term .>= sort(rank_one_term)[end-k+1]\n",
    "lb_proj = sum(rank_one_term[lb_proj_nodes])\n",
    "lb_diag = maximum(svd(raw_data[:, lb_proj_nodes]).S) ^ 2"
   ]
  },
  {
   "cell_type": "code",
   "execution_count": 9,
   "metadata": {},
   "outputs": [
    {
     "data": {
      "text/plain": [
       "3-element Array{Float64,1}:\n",
       " 3.608137513865839\n",
       " 6.26741838326191\n",
       " 7.0"
      ]
     },
     "metadata": {},
     "output_type": "display_data"
    }
   ],
   "source": [
    "bounds[:, node_id]"
   ]
  },
  {
   "cell_type": "code",
   "execution_count": 50,
   "metadata": {},
   "outputs": [
    {
     "data": {
      "text/plain": [
       "5.337750769390595"
      ]
     },
     "metadata": {},
     "output_type": "display_data"
    }
   ],
   "source": [
    "lambda_1 = bounds[2, node_id]\n",
    "lambda_2 = bounds[3, node_id] - lb_diag\n",
    "lambda_2_lb = bounds[3, node_id] - lambda_1\n",
    "lambda_1 - lambda_2"
   ]
  },
  {
   "cell_type": "code",
   "execution_count": 37,
   "metadata": {},
   "outputs": [
    {
     "data": {
      "text/plain": [
       "101-element Array{Float64,1}:\n",
       " 0.7174494688409567\n",
       " 0.6581845998146797\n",
       " 0.7485679099275601\n",
       " 0.0\n",
       " 0.4813294082184126\n",
       " 0.30654759638339163\n",
       " 0.7472709825939462\n",
       " 0.7151245933919612\n",
       " 0.7392807674114611\n",
       " 0.7192162595408451\n",
       " ⋮\n",
       " 0.6021180351807897\n",
       " 0.7229899054703189\n",
       " 0.7459146110851107\n",
       " 0.7298346534553724\n",
       " 0.7487329996897313\n",
       " 0.46817869969095205\n",
       " 0.6634497631200071\n",
       " 0.7200788855114664\n",
       " 0.0"
      ]
     },
     "metadata": {},
     "output_type": "display_data"
    }
   ],
   "source": [
    "rank_n1_term = (lambda_1 - lambda_2) * (\n",
    "    4 *\n",
    "    mapslices(norm, sqrt(raw_data * (I - u * u') * raw_data); dims=2) .^ 2\n",
    "    / max(sum(sort(rank_one_term)[1:k]), lambda_1 - lambda_2)^2\n",
    ")[:, 1]\n",
    "rank_n1_term[nodes[:, node_id] .== 0] .= 0\n",
    "rank_n1_term"
   ]
  },
  {
   "cell_type": "code",
   "execution_count": 51,
   "metadata": {},
   "outputs": [
    {
     "data": {
      "text/plain": [
       "101-element Array{Float64,1}:\n",
       " 0.13868291670869157\n",
       " 0.12722702294630495\n",
       " 0.14469810852462475\n",
       " 0.0\n",
       " 0.09304093058600542\n",
       " 0.05925562234392246\n",
       " 0.14444741258965477\n",
       " 0.1382335184970349\n",
       " 0.14290290472566924\n",
       " 0.13902443718938848\n",
       " ⋮\n",
       " 0.11638936113044836\n",
       " 0.1397538826024163\n",
       " 0.14418522610105122\n",
       " 0.14107697176190329\n",
       " 0.14473002036055324\n",
       " 0.09049889983041727\n",
       " 0.12824477853167043\n",
       " 0.13919118271061337\n",
       " 0.0"
      ]
     },
     "metadata": {},
     "output_type": "display_data"
    }
   ],
   "source": [
    "rank_n1_term = (lambda_1 - lambda_2) * (\n",
    "    mapslices(norm, sqrt(raw_data * (I - u * u') * raw_data); dims=2) .^ 2\n",
    "    / lb_diag^2\n",
    ")[:, 1]\n",
    "rank_n1_term[nodes[:, node_id] .== 0] .= 0\n",
    "rank_n1_term"
   ]
  },
  {
   "cell_type": "code",
   "execution_count": 52,
   "metadata": {},
   "outputs": [
    {
     "data": {
      "text/plain": [
       "6.118050927535401"
      ]
     },
     "metadata": {},
     "output_type": "display_data"
    }
   ],
   "source": [
    "sum(sort(rank_one_term + rank_n1_term)[end-k+1:end])"
   ]
  },
  {
   "cell_type": "code",
   "execution_count": 53,
   "metadata": {},
   "outputs": [
    {
     "data": {
      "text/plain": [
       "101-element Array{Float64,1}:\n",
       " 0.1812913031325201\n",
       " 0.24892068443084453\n",
       " 0.14578087423538943\n",
       " 0.0\n",
       " 0.4507368258239695\n",
       " 0.6501869552313505\n",
       " 0.14726084701862632\n",
       " 0.18394430635001385\n",
       " 0.15637878346411685\n",
       " 0.17927515150879297\n",
       " ⋮\n",
       " 0.3129003597428952\n",
       " 0.17496890155595737\n",
       " 0.14880865379623517\n",
       " 0.16715810100957126\n",
       " 0.14559248407005712\n",
       " 0.4657435962084961\n",
       " 0.24291240764521557\n",
       " 0.17829077642042035\n",
       " 0.0"
      ]
     },
     "metadata": {},
     "output_type": "display_data"
    }
   ],
   "source": [
    "rank_one_term + rank_n1_term"
   ]
  },
  {
   "cell_type": "code",
   "execution_count": 54,
   "metadata": {},
   "outputs": [
    {
     "data": {
      "text/plain": [
       "0.14872713356712808"
      ]
     },
     "metadata": {},
     "output_type": "display_data"
    }
   ],
   "source": [
    "sort(rank_one_term + rank_n1_term)[Int32(floor(n * 0.5))]"
   ]
  },
  {
   "cell_type": "code",
   "execution_count": 55,
   "metadata": {},
   "outputs": [
    {
     "data": {
      "text/plain": [
       "0.9723464593696755"
      ]
     },
     "metadata": {},
     "output_type": "display_data"
    }
   ],
   "source": [
    "maximum(rank_one_term + rank_n1_term)"
   ]
  },
  {
   "cell_type": "code",
   "execution_count": 56,
   "metadata": {},
   "outputs": [
    {
     "data": {
      "text/plain": [
       "60"
      ]
     },
     "metadata": {},
     "output_type": "display_data"
    }
   ],
   "source": [
    "# We have a k-subset where the difference, due to removing\n",
    "# vs retaining one variable, is at least its entry in\n",
    "# rank_one_term (this is a projection of the variables\n",
    "# which might not even diagonalize/maximize the contribution\n",
    "# of any of the variables to the system).\n",
    "sum(((rank_one_term .+ rank_n1_term)\n",
    "    .< sort(rank_one_term)[end-k+1])\n",
    "    .& (rank_one_term .> 0))"
   ]
  },
  {
   "cell_type": "code",
   "execution_count": null,
   "metadata": {},
   "outputs": [],
   "source": []
  }
 ],
 "metadata": {
  "kernelspec": {
   "display_name": "Julia 1.4.1",
   "language": "julia",
   "name": "julia-1.4"
  },
  "language_info": {
   "file_extension": ".jl",
   "mimetype": "application/julia",
   "name": "julia",
   "version": "1.4.1"
  },
  "orig_nbformat": 4
 },
 "nbformat": 4,
 "nbformat_minor": 2
}
